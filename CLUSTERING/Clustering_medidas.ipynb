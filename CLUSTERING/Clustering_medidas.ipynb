{
  "nbformat": 4,
  "nbformat_minor": 0,
  "metadata": {
    "colab": {
      "name": "Clustering_medidas.ipynb",
      "provenance": [],
      "authorship_tag": "ABX9TyOBuvHcl+zMczIhpNWW8Fdk",
      "include_colab_link": true
    },
    "kernelspec": {
      "name": "python3",
      "display_name": "Python 3"
    },
    "language_info": {
      "name": "python"
    }
  },
  "cells": [
    {
      "cell_type": "markdown",
      "metadata": {
        "id": "view-in-github",
        "colab_type": "text"
      },
      "source": [
        "<a href=\"https://colab.research.google.com/github/raulbenitez/postgrau_IML_exploratory/blob/master/CLUSTERING/Clustering_medidas.ipynb\" target=\"_parent\"><img src=\"https://colab.research.google.com/assets/colab-badge.svg\" alt=\"Open In Colab\"/></a>"
      ]
    },
    {
      "cell_type": "markdown",
      "metadata": {
        "id": "CfuZrlfKLiQt"
      },
      "source": [
        "Validación resultado clustering"
      ]
    },
    {
      "cell_type": "code",
      "metadata": {
        "colab": {
          "base_uri": "https://localhost:8080/",
          "height": 390
        },
        "id": "0HWdl1HwLh6B",
        "outputId": "b7775db0-90f4-4741-b102-c6e4231514c5"
      },
      "source": [
        "import numpy as np\n",
        "import matplotlib.pyplot as plt\n",
        "\n",
        "from sklearn.cluster import KMeans\n",
        "from sklearn.datasets import make_blobs\n",
        "\n",
        "n_samples = 1000\n",
        "centros = [(0, 0),(10,10)]\n",
        "X, y = make_blobs(n_samples=n_samples, centers = centros)\n",
        "\n",
        "y_pred = KMeans(n_clusters=2).fit_predict(X)\n",
        "\n",
        "plt.figure(figsize=(6, 6))\n",
        "plt.scatter(X[:, 0], X[:, 1], c=y_pred)\n",
        "plt.title(\"k-means simple blobs\")\n",
        "plt.show()"
      ],
      "execution_count": 11,
      "outputs": [
        {
          "output_type": "display_data",
          "data": {
            "image/png": "[encoded data removed]",
            "text/plain": [
              "<Figure size 432x432 with 1 Axes>"
            ]
          },
          "metadata": {
            "tags": [],
            "needs_background": "light"
          }
        }
      ]
    },
    {
      "cell_type": "markdown",
      "metadata": {
        "id": "AHt2A6gvNZqn"
      },
      "source": [
        "Observamos la etiqueta de grupo real con la que hemos generado los puntos (ground truth): "
      ]
    },
    {
      "cell_type": "code",
      "metadata": {
        "colab": {
          "base_uri": "https://localhost:8080/"
        },
        "id": "5n9NMi9lLpIU",
        "outputId": "7c30432a-fac1-4037-f1d7-b02ad38000bd"
      },
      "source": [
        "y[0:10]\n"
      ],
      "execution_count": 4,
      "outputs": [
        {
          "output_type": "execute_result",
          "data": {
            "text/plain": [
              "array([0, 1, 1, 1, 1, 1, 0, 1, 0, 0])"
            ]
          },
          "metadata": {
            "tags": []
          },
          "execution_count": 4
        }
      ]
    },
    {
      "cell_type": "markdown",
      "metadata": {
        "id": "P8CsSg--Ni0V"
      },
      "source": [
        "Y la etiqueta de cluster que ha asignado k-means a cada observación:"
      ]
    },
    {
      "cell_type": "code",
      "metadata": {
        "colab": {
          "base_uri": "https://localhost:8080/"
        },
        "id": "N5pLunddL6px",
        "outputId": "e61b1a20-e1d9-4be0-d5b1-4acd3dfb3caf"
      },
      "source": [
        "y_pred[0:10]"
      ],
      "execution_count": 5,
      "outputs": [
        {
          "output_type": "execute_result",
          "data": {
            "text/plain": [
              "array([1, 0, 0, 0, 0, 0, 1, 0, 1, 1], dtype=int32)"
            ]
          },
          "metadata": {
            "tags": []
          },
          "execution_count": 5
        }
      ]
    },
    {
      "cell_type": "markdown",
      "metadata": {
        "id": "3l-o8zx2NxtK"
      },
      "source": [
        "El Adjusted Rand Index ex una medida de similaridad que permite cuantificar la correspondencia entre etiquetas reales y etiquetas del agrupamiento:\n",
        "\n",
        "https://scikit-learn.org/stable/modules/generated/sklearn.metrics.adjusted_rand_score.html#sklearn.metrics.adjusted_rand_score\n",
        "\n"
      ]
    },
    {
      "cell_type": "code",
      "metadata": {
        "colab": {
          "base_uri": "https://localhost:8080/"
        },
        "id": "beiGAZAMODcO",
        "outputId": "9f5b83d2-9e40-4931-ddf3-14ef7474823e"
      },
      "source": [
        "from sklearn.metrics.cluster import adjusted_rand_score\n",
        "ARI1 = adjusted_rand_score([0, 0, 1, 1], [0, 0, 1, 1]) # coincidencia perfecta\n",
        "ARI2 = adjusted_rand_score([0, 0, 1, 1], [1, 1, 0, 0]) # coincidencia perfecta con asignación inversa\n",
        "ARI3 = adjusted_rand_score([0, 0, 1, 1], [1, 1, 1, 0]) # un error de asignación en el clustering\n",
        "ARI4 = adjusted_rand_score([0, 0, 1, 1], [0, 1, 0, 1]) # desastre total\n",
        "\n",
        "print('ARI1 = {}'.format(ARI1))\n",
        "print('ARI2 = {}'.format(ARI2))\n",
        "print('ARI3 = {}'.format(ARI3))\n",
        "print('ARI4 = {}'.format(ARI4))"
      ],
      "execution_count": 17,
      "outputs": [
        {
          "output_type": "stream",
          "text": [
            "ARI1 = 1.0\n",
            "ARI2 = 1.0\n",
            "ARI3 = 0.0\n",
            "ARI4 = -0.49999999999999994\n"
          ],
          "name": "stdout"
        }
      ]
    },
    {
      "cell_type": "markdown",
      "metadata": {
        "id": "woY6TqqwMZ8d"
      },
      "source": [
        "Obtener el decrecimiento del Adjusted Rand Score a medida que las nubes de puntos generadas se acercan "
      ]
    },
    {
      "cell_type": "code",
      "metadata": {
        "id": "RroUqbI-L9GH"
      },
      "source": [
        ""
      ],
      "execution_count": null,
      "outputs": []
    }
  ]
}