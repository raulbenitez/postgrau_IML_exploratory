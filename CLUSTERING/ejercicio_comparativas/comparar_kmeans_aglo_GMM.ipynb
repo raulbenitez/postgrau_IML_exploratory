{
  "nbformat": 4,
  "nbformat_minor": 0,
  "metadata": {
    "colab": {
      "name": "comparar_kmeans_aglo_GMM.ipynb",
      "provenance": [],
      "authorship_tag": "ABX9TyNNZ7qyeIgBrJbZMZgQPwtj",
      "include_colab_link": true
    },
    "kernelspec": {
      "name": "python3",
      "display_name": "Python 3"
    }
  },
  "cells": [
    {
      "cell_type": "markdown",
      "metadata": {
        "id": "view-in-github",
        "colab_type": "text"
      },
      "source": [
        "<a href=\"https://colab.research.google.com/github/raulbenitez/postgrau_IML_exploratory/blob/master/CLUSTERING/ejercicio_comparativas/comparar_kmeans_aglo_GMM.ipynb\" target=\"_parent\"><img src=\"https://colab.research.google.com/assets/colab-badge.svg\" alt=\"Open In Colab\"/></a>"
      ]
    },
    {
      "cell_type": "code",
      "metadata": {
        "id": "kjn6WwxhgTFe",
        "colab_type": "code",
        "colab": {}
      },
      "source": [
        ""
      ],
      "execution_count": 0,
      "outputs": []
    },
    {
      "cell_type": "markdown",
      "metadata": {
        "id": "-GJT2Dm4gT8X",
        "colab_type": "text"
      },
      "source": [
        "# Ejercicio: \n",
        "Comparar k-means, agrupamiento jerárquico y GMM con los datos anisotrópicos del en el que hay diferentes tipos de blobs. \n",
        "\n",
        "Código para generar los datos anisotrópicos:"
      ]
    },
    {
      "cell_type": "code",
      "metadata": {
        "id": "lKkFKMPvgZ6Z",
        "colab_type": "code",
        "colab": {}
      },
      "source": [
        "import numpy as np\n",
        "import matplotlib.pyplot as plt\n",
        "from sklearn.datasets import make_blobs\n",
        "n_samples = 1500\n",
        "random_state = 170\n",
        "centers = [(0, 0), (5, 5),(10,10)]\n",
        "X, y = make_blobs(n_samples=n_samples, centers=centers,random_state=random_state)\n",
        "# Anisotropicly distributed data:\n",
        "transformation = [[0.60834549, -0.63667341], [-0.40887718, 0.85253229]]\n",
        "X_aniso = np.dot(X, transformation)"
      ],
      "execution_count": 0,
      "outputs": []
    },
    {
      "cell_type": "markdown",
      "metadata": {
        "id": "d-Tv8hKWgm5v",
        "colab_type": "text"
      },
      "source": [
        "Código para comparar clustering algorithms"
      ]
    },
    {
      "cell_type": "code",
      "metadata": {
        "id": "J7oGuEEBgUNZ",
        "colab_type": "code",
        "colab": {}
      },
      "source": [
        "import numpy as np\n",
        "import matplotlib.pyplot as plt\n",
        "from sklearn.cluster import KMeans\n",
        "from sklearn.datasets import make_blobs\n",
        "from sklearn import mixture\n",
        "\n",
        "# Generate data:\n",
        "n_samples = 1500\n",
        "centers = [(0, 0), (3, 3)]\n",
        "X, y = make_blobs(n_samples=n_samples, centers=centers, n_features=2,random_state=0)\n",
        "\n",
        "# Kmeans clustering:\n",
        "# Incorrect number of clusters\n",
        "clust_kmeans = KMeans(n_clusters=2, random_state=random_state).fit_predict(X)\n",
        "\n",
        "# Agglomerative clustering:\n",
        "clust_agg = AgglomerativeClustering(n_clusters=2).fit_predict(X) \n",
        "\n",
        "\n",
        "# GMM clustering:\n",
        "clust_gmm = mixture.GaussianMixture(n_components=2,covariance_type='full').fit_predict(X)\n",
        "\n",
        "plt.figure(figsize=(14,7))\n",
        "\n",
        "ax0 = plt.subplot(1,3,1)\n",
        "plt.scatter(X[:, 0], X[:, 1], c=clust_kmeans)\n",
        "plt.title(\"Kmeans clustering\")\n",
        "\n",
        "ax1 = plt.subplot(1,3,2)\n",
        "plt.scatter(X[:, 0], X[:, 1], c=clust_gmm)\n",
        "plt.title(\"GMM clustering\")\n",
        "\n",
        "ax2 = plt.subplot(1,3,3)\n",
        "plt.scatter(X[:, 0], X[:, 1], c=clust_agg)\n",
        "plt.title(\"Agglomerative clustering\")\n",
        "plt.show()"
      ],
      "execution_count": 0,
      "outputs": []
    },
    {
      "cell_type": "markdown",
      "metadata": {
        "id": "DILnE-Znn9tA",
        "colab_type": "text"
      },
      "source": [
        "Datos mezclados y cruzados:"
      ]
    },
    {
      "cell_type": "code",
      "metadata": {
        "id": "1zxV1iWAgZ01",
        "colab_type": "code",
        "colab": {
          "base_uri": "https://localhost:8080/",
          "height": 483
        },
        "outputId": "53fa69d3-bc25-40fa-b5fb-01a01782421c"
      },
      "source": [
        "import numpy as np\n",
        "import matplotlib.pyplot as plt\n",
        "from sklearn.datasets import make_blobs\n",
        "n_samples = 1500\n",
        "random_state = 170\n",
        "centers = [(0, 0), (-5, 5),(5,-5)]\n",
        "X, y = make_blobs(n_samples=n_samples, centers=centers,random_state=random_state)\n",
        "\n",
        "Xa = X[y==0]\n",
        "# Anisotropicly distributed data:\n",
        "transformation1 = [[0.60834549, 0.63667341], [-0.40887718, 0.85253229]]\n",
        "Xa_aniso = np.dot(Xa, transformation1)\n",
        "\n",
        "Xb = X[y==1]\n",
        "# Anisotropicly distributed data:\n",
        "transformation2 = [[-0.60834549, 0.70667341], [-0.40887718, 0.85253229]]\n",
        "Xb_aniso = np.dot(Xb, transformation2)\n",
        "\n",
        "Xc = X[y==2]\n",
        "# Anisotropicly distributed data:\n",
        "transformation3 = [[-0.60834549, -0.70667341], [-0.40887718, -0.85253229]]\n",
        "Xc_aniso = np.dot(Xc, transformation3)\n",
        "\n",
        "\n",
        "fig = plt.figure(figsize=(8, 8))\n",
        "plt.scatter(Xa_aniso[:, 0], Xa_aniso[:, 1], c='r')\n",
        "plt.scatter(Xb_aniso[:, 0], Xb_aniso[:, 1], c='g')\n",
        "plt.scatter(Xc_aniso[:, 0], Xc_aniso[:, 1], c='b')\n",
        "plt.show()\n",
        "\n"
      ],
      "execution_count": 21,
      "outputs": [
        {
          "output_type": "display_data",
          "data": {
            "image/png": "[encoded data removed]",
            "text/plain": [
              "<Figure size 576x576 with 1 Axes>"
            ]
          },
          "metadata": {
            "tags": [],
            "needs_background": "light"
          }
        }
      ]
    },
    {
      "cell_type": "markdown",
      "metadata": {
        "id": "PG2_kbrnrLAS",
        "colab_type": "text"
      },
      "source": [
        "Acumular los datos de los tres clusters en una única matriz de datos: "
      ]
    },
    {
      "cell_type": "code",
      "metadata": {
        "id": "WBA2XsOPmsJp",
        "colab_type": "code",
        "colab": {}
      },
      "source": [
        "XT = np.append(Xa_aniso,np.append(Xb_aniso,Xc_aniso,axis=0),axis=0)"
      ],
      "execution_count": 0,
      "outputs": []
    },
    {
      "cell_type": "code",
      "metadata": {
        "id": "knSARxg7p2wh",
        "colab_type": "code",
        "colab": {
          "base_uri": "https://localhost:8080/",
          "height": 35
        },
        "outputId": "ff8cfa06-cfd2-469d-fca2-8912e607b439"
      },
      "source": [
        "XT.shape"
      ],
      "execution_count": 47,
      "outputs": [
        {
          "output_type": "execute_result",
          "data": {
            "text/plain": [
              "(1500, 2)"
            ]
          },
          "metadata": {
            "tags": []
          },
          "execution_count": 47
        }
      ]
    },
    {
      "cell_type": "code",
      "metadata": {
        "id": "Tg8kEupZqoiS",
        "colab_type": "code",
        "colab": {}
      },
      "source": [
        ""
      ],
      "execution_count": 0,
      "outputs": []
    }
  ]
}