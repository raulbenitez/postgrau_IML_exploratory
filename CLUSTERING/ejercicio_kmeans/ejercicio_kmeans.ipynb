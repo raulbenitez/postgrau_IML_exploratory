{
  "nbformat": 4,
  "nbformat_minor": 0,
  "metadata": {
    "colab": {
      "name": "ejercicio_kmeans.ipynb",
      "provenance": [],
      "authorship_tag": "ABX9TyOJa4kGT6MDBI6OWEpUC2Ws",
      "include_colab_link": true
    },
    "kernelspec": {
      "name": "python3",
      "display_name": "Python 3"
    }
  },
  "cells": [
    {
      "cell_type": "markdown",
      "metadata": {
        "id": "view-in-github",
        "colab_type": "text"
      },
      "source": [
        "<a href=\"https://colab.research.google.com/github/raulbenitez/postgrau_IML_exploratory/blob/master/CLUSTERING/ejercicio_kmeans/ejercicio_kmeans.ipynb\" target=\"_parent\"><img src=\"https://colab.research.google.com/assets/colab-badge.svg\" alt=\"Open In Colab\"/></a>"
      ]
    },
    {
      "cell_type": "markdown",
      "metadata": {
        "id": "5ForR9HZ2nhY",
        "colab_type": "text"
      },
      "source": [
        "# Ejercicio: Aplicar k-means a los datos mpg (cars, variables numéricas):\n",
        "Cargar datos\n",
        "Eliminar variables no-numéricas\n",
        "Representar pairplot y decidir cuángos clústers vamos a buscar\n",
        "Aplicar k-means\n",
        "Representar el resultado como un pairplot con grupos (clústeres)"
      ]
    },
    {
      "cell_type": "code",
      "metadata": {
        "id": "bIyFZD6H2o9N",
        "colab_type": "code",
        "colab": {}
      },
      "source": [
        "import pandas as pd \n",
        "import seaborn as sns \n",
        "mpg = sns.load_dataset(\"mpg\")\n",
        "mpg_num = mpg.select_dtypes(include='number') # keep only numeric variables \n",
        "mpg_num_nonans = mpg_num.dropna() # remove observations with NaNs\n",
        "\n",
        "print('datos originales = {}'.format(mpg.shape))\n",
        "print('datos numericos = {}'.format(mpg_num.shape))\n",
        "print('datos numericos sin NaNs = {}'.format(mpg_num_nonans.shape))"
      ],
      "execution_count": 0,
      "outputs": []
    }
  ]
}