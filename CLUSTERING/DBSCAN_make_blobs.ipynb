{
  "nbformat": 4,
  "nbformat_minor": 0,
  "metadata": {
    "colab": {
      "name": "DBSCAN_make_blobs.ipynb",
      "provenance": [],
      "authorship_tag": "ABX9TyMeGrv5+m4DBaUOt5zItNgP",
      "include_colab_link": true
    },
    "kernelspec": {
      "name": "python3",
      "display_name": "Python 3"
    },
    "language_info": {
      "name": "python"
    }
  },
  "cells": [
    {
      "cell_type": "markdown",
      "metadata": {
        "id": "view-in-github",
        "colab_type": "text"
      },
      "source": [
        "<a href=\"https://colab.research.google.com/github/raulbenitez/postgrau_IML_exploratory/blob/master/CLUSTERING/DBSCAN_make_blobs.ipynb\" target=\"_parent\"><img src=\"https://colab.research.google.com/assets/colab-badge.svg\" alt=\"Open In Colab\"/></a>"
      ]
    },
    {
      "cell_type": "code",
      "execution_count": null,
      "metadata": {
        "id": "bxjUlHRrIArn"
      },
      "outputs": [],
      "source": [
        ""
      ]
    },
    {
      "cell_type": "markdown",
      "source": [
        "# 1. Generar datos: \n",
        "Generar datos make_blobs (tres blobs con varianzas diferentes, simulando clusters con mayor y menor densidad)\n",
        "https://scikit-learn.org/stable/modules/generated/sklearn.datasets.make_blobs.html?highlight=make_blobs#sklearn.datasets.make_blobs\n"
      ],
      "metadata": {
        "id": "NW6tRifkIBVe"
      }
    },
    {
      "cell_type": "code",
      "source": [
        ""
      ],
      "metadata": {
        "id": "hmGZPDiSIQpz"
      },
      "execution_count": null,
      "outputs": []
    },
    {
      "cell_type": "markdown",
      "source": [
        "# 2. Aplicar DBSCAN para agrupar los datos en tres clústeres:\n",
        "https://scikit-learn.org/stable/modules/clustering.html#dbscan\n",
        "\n"
      ],
      "metadata": {
        "id": "UUARfaJBIQzS"
      }
    },
    {
      "cell_type": "code",
      "source": [
        ""
      ],
      "metadata": {
        "id": "VPZOOPfdIXtP"
      },
      "execution_count": null,
      "outputs": []
    }
  ]
}