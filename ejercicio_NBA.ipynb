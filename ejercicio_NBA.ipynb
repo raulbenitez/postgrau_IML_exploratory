{
  "nbformat": 4,
  "nbformat_minor": 0,
  "metadata": {
    "colab": {
      "name": "ejercicio_NBA.ipynb",
      "provenance": [],
      "authorship_tag": "ABX9TyOhRMBuKHKNarzaPlxX37PW",
      "include_colab_link": true
    },
    "kernelspec": {
      "name": "python3",
      "display_name": "Python 3"
    },
    "language_info": {
      "name": "python"
    }
  },
  "cells": [
    {
      "cell_type": "markdown",
      "metadata": {
        "id": "view-in-github",
        "colab_type": "text"
      },
      "source": [
        "<a href=\"https://colab.research.google.com/github/raulbenitez/postgrau_IML_exploratory/blob/master/ejercicio_NBA.ipynb\" target=\"_parent\"><img src=\"https://colab.research.google.com/assets/colab-badge.svg\" alt=\"Open In Colab\"/></a>"
      ]
    },
    {
      "cell_type": "markdown",
      "source": [
        "NBA MVPs dataset\n",
        "\n",
        "https://www.kaggle.com/datasets/vivovinco/19912021-nba-stats?resource=download\n"
      ],
      "metadata": {
        "id": "1oZ7mqZ_Cm91"
      }
    },
    {
      "cell_type": "code",
      "execution_count": 4,
      "metadata": {
        "colab": {
          "base_uri": "https://localhost:8080/",
          "height": 235
        },
        "id": "2Tks5cTRCf6o",
        "outputId": "b3282f83-28ef-4093-b292-94f310b4bb0b"
      },
      "outputs": [
        {
          "output_type": "execute_result",
          "data": {
            "text/plain": [
              "  Rank           Player  Age   Tm  First  Pts Won  Pts Max  Share   G    MP  \\\n",
              "0    1   Michael Jordan   27  CHI     77      891      960  0.928  82  37.0   \n",
              "1    2    Magic Johnson   31  LAL     10      497      960  0.518  79  37.1   \n",
              "2    3   David Robinson   25  SAS      6      476      960  0.496  82  37.7   \n",
              "3    4  Charles Barkley   27  PHI      2      222      960  0.231  67  37.3   \n",
              "4    5      Karl Malone   27  UTA      0      142      960  0.148  82  40.3   \n",
              "\n",
              "   ...   TRB   AST  STL  BLK    FG%    3P%    FT%    WS  WS/48  Year  \n",
              "0  ...   6.0   5.5  2.7  1.0  0.539  0.312  0.851  20.3  0.321  1991  \n",
              "1  ...   7.0  12.5  1.3  0.2  0.477  0.320  0.906  15.4  0.251  1991  \n",
              "2  ...  13.0   2.5  1.5  3.9  0.552  0.143  0.762  17.0  0.264  1991  \n",
              "3  ...  10.1   4.2  1.6  0.5  0.570  0.284  0.722  13.4  0.258  1991  \n",
              "4  ...  11.8   3.3  1.1  1.0  0.527  0.286  0.770  15.5  0.225  1991  \n",
              "\n",
              "[5 rows x 21 columns]"
            ],
            "text/html": [
              "\n",
              "  <div id=\"df-bdbcc9e3-0a21-4335-aa6c-1f764c831680\">\n",
              "    <div class=\"colab-df-container\">\n",
              "      <div>\n",
              "<style scoped>\n",
              "    .dataframe tbody tr th:only-of-type {\n",
              "        vertical-align: middle;\n",
              "    }\n",
              "\n",
              "    .dataframe tbody tr th {\n",
              "        vertical-align: top;\n",
              "    }\n",
              "\n",
              "    .dataframe thead th {\n",
              "        text-align: right;\n",
              "    }\n",
              "</style>\n",
              "<table border=\"1\" class=\"dataframe\">\n",
              "  <thead>\n",
              "    <tr style=\"text-align: right;\">\n",
              "      <th></th>\n",
              "      <th>Rank</th>\n",
              "      <th>Player</th>\n",
              "      <th>Age</th>\n",
              "      <th>Tm</th>\n",
              "      <th>First</th>\n",
              "      <th>Pts Won</th>\n",
              "      <th>Pts Max</th>\n",
              "      <th>Share</th>\n",
              "      <th>G</th>\n",
              "      <th>MP</th>\n",
              "      <th>...</th>\n",
              "      <th>TRB</th>\n",
              "      <th>AST</th>\n",
              "      <th>STL</th>\n",
              "      <th>BLK</th>\n",
              "      <th>FG%</th>\n",
              "      <th>3P%</th>\n",
              "      <th>FT%</th>\n",
              "      <th>WS</th>\n",
              "      <th>WS/48</th>\n",
              "      <th>Year</th>\n",
              "    </tr>\n",
              "  </thead>\n",
              "  <tbody>\n",
              "    <tr>\n",
              "      <th>0</th>\n",
              "      <td>1</td>\n",
              "      <td>Michael Jordan</td>\n",
              "      <td>27</td>\n",
              "      <td>CHI</td>\n",
              "      <td>77</td>\n",
              "      <td>891</td>\n",
              "      <td>960</td>\n",
              "      <td>0.928</td>\n",
              "      <td>82</td>\n",
              "      <td>37.0</td>\n",
              "      <td>...</td>\n",
              "      <td>6.0</td>\n",
              "      <td>5.5</td>\n",
              "      <td>2.7</td>\n",
              "      <td>1.0</td>\n",
              "      <td>0.539</td>\n",
              "      <td>0.312</td>\n",
              "      <td>0.851</td>\n",
              "      <td>20.3</td>\n",
              "      <td>0.321</td>\n",
              "      <td>1991</td>\n",
              "    </tr>\n",
              "    <tr>\n",
              "      <th>1</th>\n",
              "      <td>2</td>\n",
              "      <td>Magic Johnson</td>\n",
              "      <td>31</td>\n",
              "      <td>LAL</td>\n",
              "      <td>10</td>\n",
              "      <td>497</td>\n",
              "      <td>960</td>\n",
              "      <td>0.518</td>\n",
              "      <td>79</td>\n",
              "      <td>37.1</td>\n",
              "      <td>...</td>\n",
              "      <td>7.0</td>\n",
              "      <td>12.5</td>\n",
              "      <td>1.3</td>\n",
              "      <td>0.2</td>\n",
              "      <td>0.477</td>\n",
              "      <td>0.320</td>\n",
              "      <td>0.906</td>\n",
              "      <td>15.4</td>\n",
              "      <td>0.251</td>\n",
              "      <td>1991</td>\n",
              "    </tr>\n",
              "    <tr>\n",
              "      <th>2</th>\n",
              "      <td>3</td>\n",
              "      <td>David Robinson</td>\n",
              "      <td>25</td>\n",
              "      <td>SAS</td>\n",
              "      <td>6</td>\n",
              "      <td>476</td>\n",
              "      <td>960</td>\n",
              "      <td>0.496</td>\n",
              "      <td>82</td>\n",
              "      <td>37.7</td>\n",
              "      <td>...</td>\n",
              "      <td>13.0</td>\n",
              "      <td>2.5</td>\n",
              "      <td>1.5</td>\n",
              "      <td>3.9</td>\n",
              "      <td>0.552</td>\n",
              "      <td>0.143</td>\n",
              "      <td>0.762</td>\n",
              "      <td>17.0</td>\n",
              "      <td>0.264</td>\n",
              "      <td>1991</td>\n",
              "    </tr>\n",
              "    <tr>\n",
              "      <th>3</th>\n",
              "      <td>4</td>\n",
              "      <td>Charles Barkley</td>\n",
              "      <td>27</td>\n",
              "      <td>PHI</td>\n",
              "      <td>2</td>\n",
              "      <td>222</td>\n",
              "      <td>960</td>\n",
              "      <td>0.231</td>\n",
              "      <td>67</td>\n",
              "      <td>37.3</td>\n",
              "      <td>...</td>\n",
              "      <td>10.1</td>\n",
              "      <td>4.2</td>\n",
              "      <td>1.6</td>\n",
              "      <td>0.5</td>\n",
              "      <td>0.570</td>\n",
              "      <td>0.284</td>\n",
              "      <td>0.722</td>\n",
              "      <td>13.4</td>\n",
              "      <td>0.258</td>\n",
              "      <td>1991</td>\n",
              "    </tr>\n",
              "    <tr>\n",
              "      <th>4</th>\n",
              "      <td>5</td>\n",
              "      <td>Karl Malone</td>\n",
              "      <td>27</td>\n",
              "      <td>UTA</td>\n",
              "      <td>0</td>\n",
              "      <td>142</td>\n",
              "      <td>960</td>\n",
              "      <td>0.148</td>\n",
              "      <td>82</td>\n",
              "      <td>40.3</td>\n",
              "      <td>...</td>\n",
              "      <td>11.8</td>\n",
              "      <td>3.3</td>\n",
              "      <td>1.1</td>\n",
              "      <td>1.0</td>\n",
              "      <td>0.527</td>\n",
              "      <td>0.286</td>\n",
              "      <td>0.770</td>\n",
              "      <td>15.5</td>\n",
              "      <td>0.225</td>\n",
              "      <td>1991</td>\n",
              "    </tr>\n",
              "  </tbody>\n",
              "</table>\n",
              "<p>5 rows × 21 columns</p>\n",
              "</div>\n",
              "      <button class=\"colab-df-convert\" onclick=\"convertToInteractive('df-bdbcc9e3-0a21-4335-aa6c-1f764c831680')\"\n",
              "              title=\"Convert this dataframe to an interactive table.\"\n",
              "              style=\"display:none;\">\n",
              "        \n",
              "  <svg xmlns=\"http://www.w3.org/2000/svg\" height=\"24px\"viewBox=\"0 0 24 24\"\n",
              "       width=\"24px\">\n",
              "    <path d=\"M0 0h24v24H0V0z\" fill=\"none\"/>\n",
              "    <path d=\"M18.56 5.44l.94 2.06.94-2.06 2.06-.94-2.06-.94-.94-2.06-.94 2.06-2.06.94zm-11 1L8.5 8.5l.94-2.06 2.06-.94-2.06-.94L8.5 2.5l-.94 2.06-2.06.94zm10 10l.94 2.06.94-2.06 2.06-.94-2.06-.94-.94-2.06-.94 2.06-2.06.94z\"/><path d=\"M17.41 7.96l-1.37-1.37c-.4-.4-.92-.59-1.43-.59-.52 0-1.04.2-1.43.59L10.3 9.45l-7.72 7.72c-.78.78-.78 2.05 0 2.83L4 21.41c.39.39.9.59 1.41.59.51 0 1.02-.2 1.41-.59l7.78-7.78 2.81-2.81c.8-.78.8-2.07 0-2.86zM5.41 20L4 18.59l7.72-7.72 1.47 1.35L5.41 20z\"/>\n",
              "  </svg>\n",
              "      </button>\n",
              "      \n",
              "  <style>\n",
              "    .colab-df-container {\n",
              "      display:flex;\n",
              "      flex-wrap:wrap;\n",
              "      gap: 12px;\n",
              "    }\n",
              "\n",
              "    .colab-df-convert {\n",
              "      background-color: #E8F0FE;\n",
              "      border: none;\n",
              "      border-radius: 50%;\n",
              "      cursor: pointer;\n",
              "      display: none;\n",
              "      fill: #1967D2;\n",
              "      height: 32px;\n",
              "      padding: 0 0 0 0;\n",
              "      width: 32px;\n",
              "    }\n",
              "\n",
              "    .colab-df-convert:hover {\n",
              "      background-color: #E2EBFA;\n",
              "      box-shadow: 0px 1px 2px rgba(60, 64, 67, 0.3), 0px 1px 3px 1px rgba(60, 64, 67, 0.15);\n",
              "      fill: #174EA6;\n",
              "    }\n",
              "\n",
              "    [theme=dark] .colab-df-convert {\n",
              "      background-color: #3B4455;\n",
              "      fill: #D2E3FC;\n",
              "    }\n",
              "\n",
              "    [theme=dark] .colab-df-convert:hover {\n",
              "      background-color: #434B5C;\n",
              "      box-shadow: 0px 1px 3px 1px rgba(0, 0, 0, 0.15);\n",
              "      filter: drop-shadow(0px 1px 2px rgba(0, 0, 0, 0.3));\n",
              "      fill: #FFFFFF;\n",
              "    }\n",
              "  </style>\n",
              "\n",
              "      <script>\n",
              "        const buttonEl =\n",
              "          document.querySelector('#df-bdbcc9e3-0a21-4335-aa6c-1f764c831680 button.colab-df-convert');\n",
              "        buttonEl.style.display =\n",
              "          google.colab.kernel.accessAllowed ? 'block' : 'none';\n",
              "\n",
              "        async function convertToInteractive(key) {\n",
              "          const element = document.querySelector('#df-bdbcc9e3-0a21-4335-aa6c-1f764c831680');\n",
              "          const dataTable =\n",
              "            await google.colab.kernel.invokeFunction('convertToInteractive',\n",
              "                                                     [key], {});\n",
              "          if (!dataTable) return;\n",
              "\n",
              "          const docLinkHtml = 'Like what you see? Visit the ' +\n",
              "            '<a target=\"_blank\" href=https://colab.research.google.com/notebooks/data_table.ipynb>data table notebook</a>'\n",
              "            + ' to learn more about interactive tables.';\n",
              "          element.innerHTML = '';\n",
              "          dataTable['output_type'] = 'display_data';\n",
              "          await google.colab.output.renderOutput(dataTable, element);\n",
              "          const docLink = document.createElement('div');\n",
              "          docLink.innerHTML = docLinkHtml;\n",
              "          element.appendChild(docLink);\n",
              "        }\n",
              "      </script>\n",
              "    </div>\n",
              "  </div>\n",
              "  "
            ]
          },
          "metadata": {},
          "execution_count": 4
        }
      ],
      "source": [
        "import pandas as pd\n",
        "import numpy as np\n",
        "df = pd.read_csv('/content/mvps.csv',encoding='latin-1',sep=';')\n",
        "df.head()"
      ]
    },
    {
      "cell_type": "code",
      "source": [
        "df.shape"
      ],
      "metadata": {
        "colab": {
          "base_uri": "https://localhost:8080/"
        },
        "id": "JgLrDQIMC82d",
        "outputId": "214c825c-e8c0-4962-bcf1-f8ab5e3062f4"
      },
      "execution_count": 5,
      "outputs": [
        {
          "output_type": "execute_result",
          "data": {
            "text/plain": [
              "(474, 21)"
            ]
          },
          "metadata": {},
          "execution_count": 5
        }
      ]
    },
    {
      "cell_type": "code",
      "source": [
        "df['Tm'].unique()"
      ],
      "metadata": {
        "colab": {
          "base_uri": "https://localhost:8080/"
        },
        "id": "v-pL9FphC9xc",
        "outputId": "8e69b914-ac49-4f92-cd6b-5d74a867951c"
      },
      "execution_count": 6,
      "outputs": [
        {
          "output_type": "execute_result",
          "data": {
            "text/plain": [
              "array(['CHI', 'LAL', 'SAS', 'PHI', 'UTA', 'POR', 'PHO', 'ATL', 'BOS',\n",
              "       'NYK', 'DET', 'WSB', 'HOU', 'GSW', 'CLE', 'LAC', 'IND', 'ORL',\n",
              "       'SEA', 'TOT', 'DAL', 'MIA', 'SAC', 'CHH', 'MIN', 'WAS', 'TOR',\n",
              "       'MIL', 'NJN', 'NOH', 'DEN', 'OKC', 'MEM', 'CHA', 'NOP'],\n",
              "      dtype=object)"
            ]
          },
          "metadata": {},
          "execution_count": 6
        }
      ]
    },
    {
      "cell_type": "markdown",
      "source": [
        "Jugador que más puntos ha ganado"
      ],
      "metadata": {
        "id": "HEnTKtsVEera"
      }
    },
    {
      "cell_type": "code",
      "source": [
        "df.loc[df['Pts Won']==df['Pts Won'].max()]"
      ],
      "metadata": {
        "colab": {
          "base_uri": "https://localhost:8080/",
          "height": 110
        },
        "id": "DIizD-ODDyqs",
        "outputId": "88bf2688-c135-4014-f7fb-7973f7aaecdf"
      },
      "execution_count": 7,
      "outputs": [
        {
          "output_type": "execute_result",
          "data": {
            "text/plain": [
              "    Rank         Player  Age   Tm  First  Pts Won  Pts Max  Share   G    MP  \\\n",
              "401    1  Stephen Curry   27  GSW    131     1310     1310    1.0  79  34.2   \n",
              "\n",
              "     ...  TRB  AST  STL  BLK    FG%    3P%    FT%    WS  WS/48  Year  \n",
              "401  ...  5.4  6.7  2.1  0.2  0.504  0.454  0.908  17.9  0.318  2016  \n",
              "\n",
              "[1 rows x 21 columns]"
            ],
            "text/html": [
              "\n",
              "  <div id=\"df-cda9c14f-6472-48b8-9f19-2bfb0e19d7d8\">\n",
              "    <div class=\"colab-df-container\">\n",
              "      <div>\n",
              "<style scoped>\n",
              "    .dataframe tbody tr th:only-of-type {\n",
              "        vertical-align: middle;\n",
              "    }\n",
              "\n",
              "    .dataframe tbody tr th {\n",
              "        vertical-align: top;\n",
              "    }\n",
              "\n",
              "    .dataframe thead th {\n",
              "        text-align: right;\n",
              "    }\n",
              "</style>\n",
              "<table border=\"1\" class=\"dataframe\">\n",
              "  <thead>\n",
              "    <tr style=\"text-align: right;\">\n",
              "      <th></th>\n",
              "      <th>Rank</th>\n",
              "      <th>Player</th>\n",
              "      <th>Age</th>\n",
              "      <th>Tm</th>\n",
              "      <th>First</th>\n",
              "      <th>Pts Won</th>\n",
              "      <th>Pts Max</th>\n",
              "      <th>Share</th>\n",
              "      <th>G</th>\n",
              "      <th>MP</th>\n",
              "      <th>...</th>\n",
              "      <th>TRB</th>\n",
              "      <th>AST</th>\n",
              "      <th>STL</th>\n",
              "      <th>BLK</th>\n",
              "      <th>FG%</th>\n",
              "      <th>3P%</th>\n",
              "      <th>FT%</th>\n",
              "      <th>WS</th>\n",
              "      <th>WS/48</th>\n",
              "      <th>Year</th>\n",
              "    </tr>\n",
              "  </thead>\n",
              "  <tbody>\n",
              "    <tr>\n",
              "      <th>401</th>\n",
              "      <td>1</td>\n",
              "      <td>Stephen Curry</td>\n",
              "      <td>27</td>\n",
              "      <td>GSW</td>\n",
              "      <td>131</td>\n",
              "      <td>1310</td>\n",
              "      <td>1310</td>\n",
              "      <td>1.0</td>\n",
              "      <td>79</td>\n",
              "      <td>34.2</td>\n",
              "      <td>...</td>\n",
              "      <td>5.4</td>\n",
              "      <td>6.7</td>\n",
              "      <td>2.1</td>\n",
              "      <td>0.2</td>\n",
              "      <td>0.504</td>\n",
              "      <td>0.454</td>\n",
              "      <td>0.908</td>\n",
              "      <td>17.9</td>\n",
              "      <td>0.318</td>\n",
              "      <td>2016</td>\n",
              "    </tr>\n",
              "  </tbody>\n",
              "</table>\n",
              "<p>1 rows × 21 columns</p>\n",
              "</div>\n",
              "      <button class=\"colab-df-convert\" onclick=\"convertToInteractive('df-cda9c14f-6472-48b8-9f19-2bfb0e19d7d8')\"\n",
              "              title=\"Convert this dataframe to an interactive table.\"\n",
              "              style=\"display:none;\">\n",
              "        \n",
              "  <svg xmlns=\"http://www.w3.org/2000/svg\" height=\"24px\"viewBox=\"0 0 24 24\"\n",
              "       width=\"24px\">\n",
              "    <path d=\"M0 0h24v24H0V0z\" fill=\"none\"/>\n",
              "    <path d=\"M18.56 5.44l.94 2.06.94-2.06 2.06-.94-2.06-.94-.94-2.06-.94 2.06-2.06.94zm-11 1L8.5 8.5l.94-2.06 2.06-.94-2.06-.94L8.5 2.5l-.94 2.06-2.06.94zm10 10l.94 2.06.94-2.06 2.06-.94-2.06-.94-.94-2.06-.94 2.06-2.06.94z\"/><path d=\"M17.41 7.96l-1.37-1.37c-.4-.4-.92-.59-1.43-.59-.52 0-1.04.2-1.43.59L10.3 9.45l-7.72 7.72c-.78.78-.78 2.05 0 2.83L4 21.41c.39.39.9.59 1.41.59.51 0 1.02-.2 1.41-.59l7.78-7.78 2.81-2.81c.8-.78.8-2.07 0-2.86zM5.41 20L4 18.59l7.72-7.72 1.47 1.35L5.41 20z\"/>\n",
              "  </svg>\n",
              "      </button>\n",
              "      \n",
              "  <style>\n",
              "    .colab-df-container {\n",
              "      display:flex;\n",
              "      flex-wrap:wrap;\n",
              "      gap: 12px;\n",
              "    }\n",
              "\n",
              "    .colab-df-convert {\n",
              "      background-color: #E8F0FE;\n",
              "      border: none;\n",
              "      border-radius: 50%;\n",
              "      cursor: pointer;\n",
              "      display: none;\n",
              "      fill: #1967D2;\n",
              "      height: 32px;\n",
              "      padding: 0 0 0 0;\n",
              "      width: 32px;\n",
              "    }\n",
              "\n",
              "    .colab-df-convert:hover {\n",
              "      background-color: #E2EBFA;\n",
              "      box-shadow: 0px 1px 2px rgba(60, 64, 67, 0.3), 0px 1px 3px 1px rgba(60, 64, 67, 0.15);\n",
              "      fill: #174EA6;\n",
              "    }\n",
              "\n",
              "    [theme=dark] .colab-df-convert {\n",
              "      background-color: #3B4455;\n",
              "      fill: #D2E3FC;\n",
              "    }\n",
              "\n",
              "    [theme=dark] .colab-df-convert:hover {\n",
              "      background-color: #434B5C;\n",
              "      box-shadow: 0px 1px 3px 1px rgba(0, 0, 0, 0.15);\n",
              "      filter: drop-shadow(0px 1px 2px rgba(0, 0, 0, 0.3));\n",
              "      fill: #FFFFFF;\n",
              "    }\n",
              "  </style>\n",
              "\n",
              "      <script>\n",
              "        const buttonEl =\n",
              "          document.querySelector('#df-cda9c14f-6472-48b8-9f19-2bfb0e19d7d8 button.colab-df-convert');\n",
              "        buttonEl.style.display =\n",
              "          google.colab.kernel.accessAllowed ? 'block' : 'none';\n",
              "\n",
              "        async function convertToInteractive(key) {\n",
              "          const element = document.querySelector('#df-cda9c14f-6472-48b8-9f19-2bfb0e19d7d8');\n",
              "          const dataTable =\n",
              "            await google.colab.kernel.invokeFunction('convertToInteractive',\n",
              "                                                     [key], {});\n",
              "          if (!dataTable) return;\n",
              "\n",
              "          const docLinkHtml = 'Like what you see? Visit the ' +\n",
              "            '<a target=\"_blank\" href=https://colab.research.google.com/notebooks/data_table.ipynb>data table notebook</a>'\n",
              "            + ' to learn more about interactive tables.';\n",
              "          element.innerHTML = '';\n",
              "          dataTable['output_type'] = 'display_data';\n",
              "          await google.colab.output.renderOutput(dataTable, element);\n",
              "          const docLink = document.createElement('div');\n",
              "          docLink.innerHTML = docLinkHtml;\n",
              "          element.appendChild(docLink);\n",
              "        }\n",
              "      </script>\n",
              "    </div>\n",
              "  </div>\n",
              "  "
            ]
          },
          "metadata": {},
          "execution_count": 7
        }
      ]
    },
    {
      "cell_type": "markdown",
      "source": [
        "Distribución de puntos ganados según la edad del jugador"
      ],
      "metadata": {
        "id": "IIcuWxeZEoQp"
      }
    },
    {
      "cell_type": "code",
      "source": [
        "import matplotlib.pyplot as plt\n",
        "import seaborn as sns\n",
        "\n",
        "fig = plt.figure(figsize=(20,20))\n",
        "sns.jointplot(x=\"Age\",y=\"Pts Won\",hue='Tm', data=df)\n",
        "plt.show()"
      ],
      "metadata": {
        "colab": {
          "base_uri": "https://localhost:8080/",
          "height": 662
        },
        "id": "vjZ0is0ZEhmh",
        "outputId": "7acce4d4-7561-46bd-cb32-9c40412fa9ec"
      },
      "execution_count": 19,
      "outputs": [
        {
          "output_type": "display_data",
          "data": {
            "text/plain": [
              "<Figure size 1440x1440 with 0 Axes>"
            ]
          },
          "metadata": {}
        },
        {
          "output_type": "display_data",
          "data": {
            "text/plain": [
              "<Figure size 432x432 with 3 Axes>"
            ],
            "image/png": "[encoded data removed]"
          },
          "metadata": {
            "needs_background": "light"
          }
        }
      ]
    },
    {
      "cell_type": "code",
      "source": [
        "fig = plt.figure(figsize=(12,12))\n",
        "sns.barplot(x=\"Age\",y=\"Pts Won\", data=df)\n",
        "plt.show()"
      ],
      "metadata": {
        "colab": {
          "base_uri": "https://localhost:8080/",
          "height": 714
        },
        "id": "yJakRkI4FDtC",
        "outputId": "da0950bd-9971-434f-8013-bbf64142932b"
      },
      "execution_count": 16,
      "outputs": [
        {
          "output_type": "display_data",
          "data": {
            "text/plain": [
              "<Figure size 864x864 with 1 Axes>"
            ],
            "image/png": "[encoded data removed]"
          },
          "metadata": {
            "needs_background": "light"
          }
        }
      ]
    },
    {
      "cell_type": "code",
      "source": [
        ""
      ],
      "metadata": {
        "id": "sYdY5hiOFUtb"
      },
      "execution_count": null,
      "outputs": []
    }
  ]
}