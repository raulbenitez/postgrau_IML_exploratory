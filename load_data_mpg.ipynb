{
  "nbformat": 4,
  "nbformat_minor": 0,
  "metadata": {
    "colab": {
      "name": "load_data_mpg.ipynb",
      "provenance": [],
      "authorship_tag": "ABX9TyOl6LlWfmDNVni0FOUYN9cB",
      "include_colab_link": true
    },
    "kernelspec": {
      "name": "python3",
      "display_name": "Python 3"
    }
  },
  "cells": [
    {
      "cell_type": "markdown",
      "metadata": {
        "id": "view-in-github",
        "colab_type": "text"
      },
      "source": [
        "<a href=\"https://colab.research.google.com/github/raulbenitez/postgrau_IML_exploratory/blob/master/load_data_mpg.ipynb\" target=\"_parent\"><img src=\"https://colab.research.google.com/assets/colab-badge.svg\" alt=\"Open In Colab\"/></a>"
      ]
    },
    {
      "cell_type": "code",
      "metadata": {
        "id": "ZuPIjiKA7A9e",
        "colab_type": "code",
        "colab": {}
      },
      "source": [
        "import seaborn as sns; \n",
        "mpg = sns.load_dataset(\"mpg\")\n",
        "mpg.shape"
      ],
      "execution_count": 0,
      "outputs": []
    }
  ]
}