{
  "nbformat": 4,
  "nbformat_minor": 0,
  "metadata": {
    "colab": {
      "name": "listar_directorios_gdrive.ipynb",
      "provenance": [],
      "authorship_tag": "ABX9TyOFqdJUbQw2yLypbFxDWGTl",
      "include_colab_link": true
    },
    "kernelspec": {
      "name": "python3",
      "display_name": "Python 3"
    },
    "language_info": {
      "name": "python"
    }
  },
  "cells": [
    {
      "cell_type": "markdown",
      "metadata": {
        "id": "view-in-github",
        "colab_type": "text"
      },
      "source": [
        "<a href=\"https://colab.research.google.com/github/raulbenitez/postgrau_IML_exploratory/blob/master/listar_directorios_gdrive.ipynb\" target=\"_parent\"><img src=\"https://colab.research.google.com/assets/colab-badge.svg\" alt=\"Open In Colab\"/></a>"
      ]
    },
    {
      "cell_type": "code",
      "metadata": {
        "colab": {
          "base_uri": "https://localhost:8080/"
        },
        "id": "sRvropqVcWXd",
        "outputId": "3e349e68-75a6-4669-d0ea-6195c2a9cead"
      },
      "source": [
        "from google.colab import drive \n",
        "drive.mount('/content/gdrive')"
      ],
      "execution_count": 1,
      "outputs": [
        {
          "output_type": "stream",
          "text": [
            "Mounted at /content/gdrive\n"
          ],
          "name": "stdout"
        }
      ]
    },
    {
      "cell_type": "code",
      "metadata": {
        "colab": {
          "base_uri": "https://localhost:8080/"
        },
        "id": "hkotb-WFcYfj",
        "outputId": "33752c3a-ddb8-4d72-fc40-4038c83cd330"
      },
      "source": [
        "import os\n",
        "\n",
        "root_folder = '/content/gdrive/My Drive/'\n",
        "\n",
        "for kdirs in os.listdir(root_folder):\n",
        "    if os.path.isdir(os.path.join(root_folder, kdirs)):\n",
        "        print(kdirs)"
      ],
      "execution_count": 4,
      "outputs": [
        {
          "output_type": "stream",
          "text": [
            "Meet Recordings\n",
            "Colab Notebooks\n",
            "PROYECTO NACIONAL 2021\n",
            "EXPLORATORY_PLOTS\n",
            "seminars_slides\n",
            "video EEBE\n",
            "Informes de les reunions\n",
            "DL INTERPRETABILITY \n",
            "TESI CARME NOLLA\n",
            "UNET SEGMENT HSJD\n",
            "CV Revisors_UPC_nogood\n",
            "HODKIN-HUXLEY_Python\n",
            "ROP_project\n",
            "PIB_EEBE\n",
            "sample data-20210224\n",
            "Hal Leonard Blues Piano \n",
            "TESIS_ANDREA_ACEVEDO\n",
            "ESTUDIS CLÀUDIA\n",
            "TFG_TFMs\n",
            "CONTROL_ML\n"
          ],
          "name": "stdout"
        }
      ]
    },
    {
      "cell_type": "code",
      "metadata": {
        "id": "ENApV5yYczfX"
      },
      "source": [
        ""
      ],
      "execution_count": null,
      "outputs": []
    }
  ]
}