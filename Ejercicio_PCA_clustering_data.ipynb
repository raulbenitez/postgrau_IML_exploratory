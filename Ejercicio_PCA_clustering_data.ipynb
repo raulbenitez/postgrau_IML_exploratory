{
  "nbformat": 4,
  "nbformat_minor": 0,
  "metadata": {
    "colab": {
      "name": "Ejercicio_PCA_clustering_data.ipynb",
      "provenance": [],
      "authorship_tag": "ABX9TyNJvbvt4kgwcB2KpndhrX+9",
      "include_colab_link": true
    },
    "kernelspec": {
      "name": "python3",
      "display_name": "Python 3"
    },
    "language_info": {
      "name": "python"
    }
  },
  "cells": [
    {
      "cell_type": "markdown",
      "metadata": {
        "id": "view-in-github",
        "colab_type": "text"
      },
      "source": [
        "<a href=\"https://colab.research.google.com/github/raulbenitez/postgrau_IML_exploratory/blob/master/Ejercicio_PCA_clustering_data.ipynb\" target=\"_parent\"><img src=\"https://colab.research.google.com/assets/colab-badge.svg\" alt=\"Open In Colab\"/></a>"
      ]
    },
    {
      "cell_type": "code",
      "metadata": {
        "colab": {
          "base_uri": "https://localhost:8080/",
          "height": 333
        },
        "id": "rizf9Moq7MBu",
        "outputId": "879df34d-03fc-4ba4-834e-0059b63ddf29"
      },
      "source": [
        "import pandas as pd\n",
        "\n",
        "df = pd.read_csv('https://raw.githubusercontent.com/plotly/datasets/master/1962_2006_walmart_store_openings.csv')\n",
        "df.head()"
      ],
      "execution_count": 2,
      "outputs": [
        {
          "output_type": "execute_result",
          "data": {
            "text/html": [
              "<div>\n",
              "<style scoped>\n",
              "    .dataframe tbody tr th:only-of-type {\n",
              "        vertical-align: middle;\n",
              "    }\n",
              "\n",
              "    .dataframe tbody tr th {\n",
              "        vertical-align: top;\n",
              "    }\n",
              "\n",
              "    .dataframe thead th {\n",
              "        text-align: right;\n",
              "    }\n",
              "</style>\n",
              "<table border=\"1\" class=\"dataframe\">\n",
              "  <thead>\n",
              "    <tr style=\"text-align: right;\">\n",
              "      <th></th>\n",
              "      <th>storenum</th>\n",
              "      <th>OPENDATE</th>\n",
              "      <th>date_super</th>\n",
              "      <th>conversion</th>\n",
              "      <th>st</th>\n",
              "      <th>county</th>\n",
              "      <th>STREETADDR</th>\n",
              "      <th>STRCITY</th>\n",
              "      <th>STRSTATE</th>\n",
              "      <th>ZIPCODE</th>\n",
              "      <th>type_store</th>\n",
              "      <th>LAT</th>\n",
              "      <th>LON</th>\n",
              "      <th>MONTH</th>\n",
              "      <th>DAY</th>\n",
              "      <th>YEAR</th>\n",
              "    </tr>\n",
              "  </thead>\n",
              "  <tbody>\n",
              "    <tr>\n",
              "      <th>0</th>\n",
              "      <td>1</td>\n",
              "      <td>7/1/62</td>\n",
              "      <td>3/1/97</td>\n",
              "      <td>1.0</td>\n",
              "      <td>5</td>\n",
              "      <td>7</td>\n",
              "      <td>2110 WEST WALNUT</td>\n",
              "      <td>Rogers</td>\n",
              "      <td>AR</td>\n",
              "      <td>72756</td>\n",
              "      <td>Supercenter</td>\n",
              "      <td>36.342235</td>\n",
              "      <td>-94.07141</td>\n",
              "      <td>7</td>\n",
              "      <td>1</td>\n",
              "      <td>1962</td>\n",
              "    </tr>\n",
              "    <tr>\n",
              "      <th>1</th>\n",
              "      <td>2</td>\n",
              "      <td>8/1/64</td>\n",
              "      <td>3/1/96</td>\n",
              "      <td>1.0</td>\n",
              "      <td>5</td>\n",
              "      <td>9</td>\n",
              "      <td>1417 HWY 62/65 N</td>\n",
              "      <td>Harrison</td>\n",
              "      <td>AR</td>\n",
              "      <td>72601</td>\n",
              "      <td>Supercenter</td>\n",
              "      <td>36.236984</td>\n",
              "      <td>-93.09345</td>\n",
              "      <td>8</td>\n",
              "      <td>1</td>\n",
              "      <td>1964</td>\n",
              "    </tr>\n",
              "    <tr>\n",
              "      <th>2</th>\n",
              "      <td>4</td>\n",
              "      <td>8/1/65</td>\n",
              "      <td>3/1/02</td>\n",
              "      <td>1.0</td>\n",
              "      <td>5</td>\n",
              "      <td>7</td>\n",
              "      <td>2901 HWY 412 EAST</td>\n",
              "      <td>Siloam Springs</td>\n",
              "      <td>AR</td>\n",
              "      <td>72761</td>\n",
              "      <td>Supercenter</td>\n",
              "      <td>36.179905</td>\n",
              "      <td>-94.50208</td>\n",
              "      <td>8</td>\n",
              "      <td>1</td>\n",
              "      <td>1965</td>\n",
              "    </tr>\n",
              "    <tr>\n",
              "      <th>3</th>\n",
              "      <td>8</td>\n",
              "      <td>10/1/67</td>\n",
              "      <td>3/1/93</td>\n",
              "      <td>1.0</td>\n",
              "      <td>5</td>\n",
              "      <td>29</td>\n",
              "      <td>1621 NORTH BUSINESS 9</td>\n",
              "      <td>Morrilton</td>\n",
              "      <td>AR</td>\n",
              "      <td>72110</td>\n",
              "      <td>Supercenter</td>\n",
              "      <td>35.156491</td>\n",
              "      <td>-92.75858</td>\n",
              "      <td>10</td>\n",
              "      <td>1</td>\n",
              "      <td>1967</td>\n",
              "    </tr>\n",
              "    <tr>\n",
              "      <th>4</th>\n",
              "      <td>7</td>\n",
              "      <td>10/1/67</td>\n",
              "      <td>NaN</td>\n",
              "      <td>NaN</td>\n",
              "      <td>5</td>\n",
              "      <td>119</td>\n",
              "      <td>3801 CAMP ROBINSON RD.</td>\n",
              "      <td>North Little Rock</td>\n",
              "      <td>AR</td>\n",
              "      <td>72118</td>\n",
              "      <td>Wal-Mart</td>\n",
              "      <td>34.813269</td>\n",
              "      <td>-92.30229</td>\n",
              "      <td>10</td>\n",
              "      <td>1</td>\n",
              "      <td>1967</td>\n",
              "    </tr>\n",
              "  </tbody>\n",
              "</table>\n",
              "</div>"
            ],
            "text/plain": [
              "   storenum OPENDATE date_super  conversion  ...       LON  MONTH DAY  YEAR\n",
              "0         1   7/1/62     3/1/97         1.0  ... -94.07141      7   1  1962\n",
              "1         2   8/1/64     3/1/96         1.0  ... -93.09345      8   1  1964\n",
              "2         4   8/1/65     3/1/02         1.0  ... -94.50208      8   1  1965\n",
              "3         8  10/1/67     3/1/93         1.0  ... -92.75858     10   1  1967\n",
              "4         7  10/1/67        NaN         NaN  ... -92.30229     10   1  1967\n",
              "\n",
              "[5 rows x 16 columns]"
            ]
          },
          "metadata": {
            "tags": []
          },
          "execution_count": 2
        }
      ]
    },
    {
      "cell_type": "code",
      "metadata": {
        "colab": {
          "base_uri": "https://localhost:8080/"
        },
        "id": "7yjKVe9h7Q0Z",
        "outputId": "6d59bf29-b794-4c78-d1e8-46a7b2ee4c51"
      },
      "source": [
        "import seaborn as sns\n",
        "sns.pairplot(df)"
      ],
      "execution_count": null,
      "outputs": [
        {
          "output_type": "execute_result",
          "data": {
            "text/plain": [
              "<seaborn.axisgrid.PairGrid at 0x7fc1245bae90>"
            ]
          },
          "metadata": {
            "tags": []
          },
          "execution_count": 4
        }
      ]
    },
    {
      "cell_type": "code",
      "metadata": {
        "id": "C-pvWHVo7btz"
      },
      "source": [
        ""
      ],
      "execution_count": null,
      "outputs": []
    }
  ]
}