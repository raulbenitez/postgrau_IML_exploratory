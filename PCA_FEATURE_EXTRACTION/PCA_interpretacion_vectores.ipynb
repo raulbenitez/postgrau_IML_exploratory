{
  "nbformat": 4,
  "nbformat_minor": 0,
  "metadata": {
    "colab": {
      "name": "PCA_interpretacion_vectores.ipynb",
      "provenance": [],
      "authorship_tag": "ABX9TyOYbC+XQQenMexRIPvjvP1j",
      "include_colab_link": true
    },
    "kernelspec": {
      "name": "python3",
      "display_name": "Python 3"
    }
  },
  "cells": [
    {
      "cell_type": "markdown",
      "metadata": {
        "id": "view-in-github",
        "colab_type": "text"
      },
      "source": [
        "<a href=\"https://colab.research.google.com/github/raulbenitez/postgrau_IML_exploratory/blob/master/PCA_interpretacion_vectores.ipynb\" target=\"_parent\"><img src=\"https://colab.research.google.com/assets/colab-badge.svg\" alt=\"Open In Colab\"/></a>"
      ]
    },
    {
      "cell_type": "code",
      "metadata": {
        "id": "pfkkeb4abryE",
        "colab_type": "code",
        "colab": {
          "base_uri": "https://localhost:8080/",
          "height": 497
        },
        "outputId": "30de723d-2f82-4aee-bb3d-bfeab7bafee8"
      },
      "source": [
        "import numpy as np\n",
        "import matplotlib.pylab as plt\n",
        "D = np.array([[1.6,14],[3.2,32],[6,70],[0.5,1.5],[0.5,15]])\n",
        "\n",
        "fig = plt.figure(figsize=(8,8))\n",
        "plt.scatter(D[:,0],D[:,1])\n",
        "plt.axis('equal')\n",
        "plt.xlabel('x1')\n",
        "plt.ylabel('x2')\n",
        "plt.axis('equal')\n",
        "plt.show()"
      ],
      "execution_count": 1,
      "outputs": [
        {
          "output_type": "display_data",
          "data": {
            "image/png": "[encoded data removed]",
            "text/plain": [
              "<Figure size 576x576 with 1 Axes>"
            ]
          },
          "metadata": {
            "tags": [],
            "needs_background": "light"
          }
        }
      ]
    },
    {
      "cell_type": "markdown",
      "metadata": {
        "id": "4ZJMVdpFdaSw",
        "colab_type": "text"
      },
      "source": [
        "Con los datos sin escalar:"
      ]
    },
    {
      "cell_type": "code",
      "metadata": {
        "id": "e44yVOBlbvoF",
        "colab_type": "code",
        "colab": {
          "base_uri": "https://localhost:8080/",
          "height": 34
        },
        "outputId": "df42ad07-5477-4539-ca9f-5beec3744ae8"
      },
      "source": [
        "from sklearn import decomposition\n",
        "pca = decomposition.PCA(n_components=2).fit(D)\n",
        "100*pca.explained_variance_ratio_"
      ],
      "execution_count": 9,
      "outputs": [
        {
          "output_type": "execute_result",
          "data": {
            "text/plain": [
              "array([9.99623896e+01, 3.76104405e-02])"
            ]
          },
          "metadata": {
            "tags": []
          },
          "execution_count": 9
        }
      ]
    },
    {
      "cell_type": "code",
      "metadata": {
        "id": "jxXel5yEcAgD",
        "colab_type": "code",
        "colab": {
          "base_uri": "https://localhost:8080/",
          "height": 51
        },
        "outputId": "1f21ae44-751c-4ed4-f482-8a0e08f11747"
      },
      "source": [
        "vec = pca.components_ # vectores propios\n",
        "vec"
      ],
      "execution_count": 10,
      "outputs": [
        {
          "output_type": "execute_result",
          "data": {
            "text/plain": [
              "array([[ 0.0844787 ,  0.99642528],\n",
              "       [-0.99642528,  0.0844787 ]])"
            ]
          },
          "metadata": {
            "tags": []
          },
          "execution_count": 10
        }
      ]
    },
    {
      "cell_type": "code",
      "metadata": {
        "id": "ZdXiv4uEcIT4",
        "colab_type": "code",
        "colab": {
          "base_uri": "https://localhost:8080/",
          "height": 497
        },
        "outputId": "9802e9ff-22d6-4080-cd8d-8bd909311e75"
      },
      "source": [
        "import pandas as pd \n",
        "import seaborn as sns\n",
        "import matplotlib.pyplot as plt\n",
        "\n",
        "dfpcas = pd.DataFrame(D[:,0:2],columns=['x1', 'x2'])\n",
        "\n",
        "fig = plt.figure(figsize=(8,8))\n",
        "sns.scatterplot(x=\"x1\", y=\"x2\",data=dfpcas)\n",
        "plt.arrow(0,0,10*vec[0][0],10*vec[0][1],shape='full',fc='r', ec='r', length_includes_head = True, width=0.03)\n",
        "plt.arrow(0,0,10*vec[1][0],10*vec[1][1],shape='full',fc='g', ec='g', length_includes_head = True, width=0.03)\n",
        "plt.axis('equal')\n",
        "plt.show()"
      ],
      "execution_count": 11,
      "outputs": [
        {
          "output_type": "display_data",
          "data": {
            "image/png": "[encoded data removed]",
            "text/plain": [
              "<Figure size 576x576 with 1 Axes>"
            ]
          },
          "metadata": {
            "tags": [],
            "needs_background": "light"
          }
        }
      ]
    },
    {
      "cell_type": "markdown",
      "metadata": {
        "id": "Rqizl-JIdgKI",
        "colab_type": "text"
      },
      "source": [
        "Con los datos escalados:"
      ]
    },
    {
      "cell_type": "code",
      "metadata": {
        "id": "T5tBlbqlcQ_c",
        "colab_type": "code",
        "colab": {
          "base_uri": "https://localhost:8080/",
          "height": 51
        },
        "outputId": "ce85efdb-b3c5-4889-eae7-d4a3de6c848f"
      },
      "source": [
        "DS = (D-D.mean(axis=0))/D.std(axis=0) # estandarizar los datos\n",
        "pca = decomposition.PCA(n_components=2).fit(DS)\n",
        "100*pca.explained_variance_ratio_\n",
        "vec = pca.components_ # vectores propios\n",
        "vec"
      ],
      "execution_count": 12,
      "outputs": [
        {
          "output_type": "execute_result",
          "data": {
            "text/plain": [
              "array([[ 0.70710678,  0.70710678],\n",
              "       [-0.70710678,  0.70710678]])"
            ]
          },
          "metadata": {
            "tags": []
          },
          "execution_count": 12
        }
      ]
    },
    {
      "cell_type": "code",
      "metadata": {
        "id": "LeqC5ycddo1c",
        "colab_type": "code",
        "colab": {
          "base_uri": "https://localhost:8080/",
          "height": 497
        },
        "outputId": "30e0047d-8a2d-480c-f22c-f01bc8062eb5"
      },
      "source": [
        "import pandas as pd \n",
        "import seaborn as sns\n",
        "import matplotlib.pyplot as plt\n",
        "\n",
        "dfpca1 = pd.DataFrame(DS[:,0:2],columns=['x1', 'x2'])\n",
        "\n",
        "fig = plt.figure(figsize=(8,8))\n",
        "sns.scatterplot(x=\"x1\", y=\"x2\",data=dfpca1)\n",
        "plt.arrow(0,0,vec[0][0],vec[0][1],shape='full',fc='r', ec='r', length_includes_head = True, width=0.03)\n",
        "plt.arrow(0,0,vec[1][0],vec[1][1],shape='full',fc='g', ec='g', length_includes_head = True, width=0.03)\n",
        "plt.axis('equal')\n",
        "plt.show()"
      ],
      "execution_count": 15,
      "outputs": [
        {
          "output_type": "display_data",
          "data": {
            "image/png": "[encoded data removed]",
            "text/plain": [
              "<Figure size 576x576 with 1 Axes>"
            ]
          },
          "metadata": {
            "tags": [],
            "needs_background": "light"
          }
        }
      ]
    }
  ]
}
