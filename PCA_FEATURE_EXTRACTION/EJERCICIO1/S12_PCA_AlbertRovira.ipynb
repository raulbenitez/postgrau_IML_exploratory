{
  "nbformat": 4,
  "nbformat_minor": 0,
  "metadata": {
    "colab": {
      "name": "S12_PCA_AlbertRovira.ipynb",
      "provenance": [],
      "collapsed_sections": [],
      "authorship_tag": "ABX9TyPXoFFtM9qMdETNel3LeIGl",
      "include_colab_link": true
    },
    "kernelspec": {
      "name": "python3",
      "display_name": "Python 3"
    },
    "language_info": {
      "name": "python"
    }
  },
  "cells": [
    {
      "cell_type": "markdown",
      "metadata": {
        "id": "view-in-github",
        "colab_type": "text"
      },
      "source": [
        "<a href=\"https://colab.research.google.com/github/raulbenitez/postgrau_IML_exploratory/blob/master/PCA_FEATURE_EXTRACTION/EJERCICIO1/S12_PCA_AlbertRovira.ipynb\" target=\"_parent\"><img src=\"https://colab.research.google.com/assets/colab-badge.svg\" alt=\"Open In Colab\"/></a>"
      ]
    },
    {
      "cell_type": "markdown",
      "metadata": {
        "id": "SkXJ7p-MUKKI"
      },
      "source": [
        "Importar librerías y crear dataset:"
      ]
    },
    {
      "cell_type": "code",
      "metadata": {
        "id": "Ibde5E3RR_8A"
      },
      "source": [
        "import pandas as pd \n",
        "import seaborn as sns\n",
        "carcrashes = sns.load_dataset(\"car_crashes\")"
      ],
      "execution_count": 18,
      "outputs": []
    },
    {
      "cell_type": "markdown",
      "metadata": {
        "id": "c-Hy8SHuUQUQ"
      },
      "source": [
        "Dejar solo datos numéricos i borrar NanS"
      ]
    },
    {
      "cell_type": "code",
      "metadata": {
        "id": "U0sdnHX5SZw9"
      },
      "source": [
        "carcrashes_num = carcrashes.select_dtypes(include='number') # mantener solo variables numéricas \n",
        "carcrashes_num_nonans = carcrashes_num.dropna() # borrar NaNs"
      ],
      "execution_count": 6,
      "outputs": []
    },
    {
      "cell_type": "markdown",
      "metadata": {
        "id": "k_yuCEw6UiOh"
      },
      "source": [
        "Printar como quedan los datos:"
      ]
    },
    {
      "cell_type": "code",
      "metadata": {
        "colab": {
          "base_uri": "https://localhost:8080/"
        },
        "id": "Ei42v3MgSvQ4",
        "outputId": "736ad726-598d-4983-be2e-30f51e9526cd"
      },
      "source": [
        "print('datos originales = {}'.format(carcrashes.shape))\n",
        "print('datos numericos = {}'.format(carcrashes_num.shape))\n",
        "print('datos numericos sin NaNs = {}'.format(carcrashes_num_nonans.shape))"
      ],
      "execution_count": 8,
      "outputs": [
        {
          "output_type": "stream",
          "text": [
            "datos originales = (51, 8)\n",
            "datos numericos = (51, 7)\n",
            "datos numericos sin NaNs = (51, 7)\n"
          ],
          "name": "stdout"
        }
      ]
    },
    {
      "cell_type": "markdown",
      "metadata": {
        "id": "JFAxcyeJUp3F"
      },
      "source": [
        "Separar entre X e Y:"
      ]
    },
    {
      "cell_type": "code",
      "metadata": {
        "id": "PDIJ8_kJS7KR"
      },
      "source": [
        "X = carcrashes_num_nonans\n",
        "y = carcrashes['abbrev'] # use origin as class label (not needed in PCA)"
      ],
      "execution_count": 9,
      "outputs": []
    },
    {
      "cell_type": "markdown",
      "metadata": {
        "id": "-XwgW7SqU1CJ"
      },
      "source": [
        "Escalar datos:"
      ]
    },
    {
      "cell_type": "code",
      "metadata": {
        "id": "6l3CvwGFTMyS"
      },
      "source": [
        "# scale data:\n",
        "from sklearn.preprocessing import StandardScaler\n",
        "XS = StandardScaler().fit_transform(X)"
      ],
      "execution_count": 10,
      "outputs": []
    },
    {
      "cell_type": "markdown",
      "metadata": {
        "id": "4_AvsDV4VQp0"
      },
      "source": [
        "Descomponer:"
      ]
    },
    {
      "cell_type": "code",
      "metadata": {
        "id": "_c_w13ADTSef"
      },
      "source": [
        "# PCA decomopositon:\n",
        "from sklearn import decomposition\n",
        "n_variables = carcrashes_num.shape[1]\n",
        "pca = decomposition.PCA(n_components=n_variables).fit(XS)"
      ],
      "execution_count": 11,
      "outputs": []
    },
    {
      "cell_type": "markdown",
      "metadata": {
        "id": "jE9nDOQhVdYk"
      },
      "source": [
        "Printar la varianza acomulada:"
      ]
    },
    {
      "cell_type": "code",
      "metadata": {
        "colab": {
          "base_uri": "https://localhost:8080/"
        },
        "id": "bKcL2u9QTWZF",
        "outputId": "684411d5-abed-4e1c-eec0-852b7464679d"
      },
      "source": [
        "# varianza explicada acumulada:\n",
        "print('varianza explicada acumulada ={}'.format(100*pca.explained_variance_ratio_.cumsum()))"
      ],
      "execution_count": 12,
      "outputs": [
        {
          "output_type": "stream",
          "text": [
            "varianza explicada acumulada =[ 57.34216805  79.88521013  87.75095283  92.75851001  96.76951006\n",
            "  99.60750945 100.        ]\n"
          ],
          "name": "stdout"
        }
      ]
    },
    {
      "cell_type": "markdown",
      "metadata": {
        "id": "Lf2Fqj6nVn2v"
      },
      "source": [
        "Proyectar los datos:"
      ]
    },
    {
      "cell_type": "code",
      "metadata": {
        "id": "y3n2_EbsTbrb"
      },
      "source": [
        "# project data into PCA space:\n",
        "Xproj = pca.transform(XS)"
      ],
      "execution_count": 13,
      "outputs": []
    },
    {
      "cell_type": "markdown",
      "metadata": {
        "id": "1hIsuPwhWnf9"
      },
      "source": [
        "Reducir dimensionalidad de los datos quedandonos solamente con tres componentes PCA:"
      ]
    },
    {
      "cell_type": "code",
      "metadata": {
        "colab": {
          "base_uri": "https://localhost:8080/"
        },
        "id": "wNpgC_CUTfK9",
        "outputId": "3c8d1a1c-503e-4f1b-c12c-b07fd4f443a3"
      },
      "source": [
        "ndim_reducida = 4 # establecer dimensionalidad reducida a partir de la varianza explicada por cada componente\n",
        "XPCA = Xproj[:,0:ndim_reducida]\n",
        "print('Dimensionalidad datos en espacio PCA reducido = {}'.format(XPCA.shape))"
      ],
      "execution_count": 25,
      "outputs": [
        {
          "output_type": "stream",
          "text": [
            "Dimensionalidad datos en espacio PCA reducido = (51, 4)\n"
          ],
          "name": "stdout"
        }
      ]
    },
    {
      "cell_type": "markdown",
      "metadata": {
        "id": "ZRYJuzq2W0zq"
      },
      "source": [
        "Representar los datos en múltiples gráficos bidimensionales:"
      ]
    },
    {
      "cell_type": "code",
      "metadata": {
        "colab": {
          "base_uri": "https://localhost:8080/",
          "height": 726
        },
        "id": "e3g9KVe6Tq_n",
        "outputId": "b95d0d2b-8356-4142-9b86-f44c169f8a92"
      },
      "source": [
        "import matplotlib.pyplot as plt\n",
        "d = pd.DataFrame(XPCA,columns=['PCA1', 'PCA2','PCA3', 'PCA4'])\n",
        "sns.pairplot(d)\n",
        "plt.show()"
      ],
      "execution_count": 26,
      "outputs": [
        {
          "output_type": "display_data",
          "data": {
            "image/png": "[encoded data removed]",
            "text/plain": [
              "<Figure size 720x720 with 20 Axes>"
            ]
          },
          "metadata": {
            "tags": [],
            "needs_background": "light"
          }
        }
      ]
    }
  ]
}