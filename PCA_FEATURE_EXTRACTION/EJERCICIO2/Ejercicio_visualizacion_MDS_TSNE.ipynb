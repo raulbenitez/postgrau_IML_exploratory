{
  "nbformat": 4,
  "nbformat_minor": 0,
  "metadata": {
    "colab": {
      "name": "Ejercicio_visualizacion_MDS_TSNE.ipynb",
      "provenance": [],
      "authorship_tag": "ABX9TyPLPEYCaVe+niR0tiurbLLc",
      "include_colab_link": true
    },
    "kernelspec": {
      "name": "python3",
      "display_name": "Python 3"
    },
    "language_info": {
      "name": "python"
    }
  },
  "cells": [
    {
      "cell_type": "markdown",
      "metadata": {
        "id": "view-in-github",
        "colab_type": "text"
      },
      "source": [
        "<a href=\"https://colab.research.google.com/github/raulbenitez/postgrau_IML_exploratory/blob/master/PCA_FEATURE_EXTRACTION/EJERCICIO2/Ejercicio_visualizacion_MDS_TSNE.ipynb\" target=\"_parent\"><img src=\"https://colab.research.google.com/assets/colab-badge.svg\" alt=\"Open In Colab\"/></a>"
      ]
    },
    {
      "cell_type": "markdown",
      "metadata": {
        "id": "7Kplv9tej0td"
      },
      "source": [
        "Generar blobs multidimensionales "
      ]
    },
    {
      "cell_type": "code",
      "metadata": {
        "id": "cSrqtCx7jwME"
      },
      "source": [
        "from sklearn.datasets import make_blobs\n",
        "X, y = make_blobs(n_samples=1000, centers=3, n_features=5,random_state=0)"
      ],
      "execution_count": 15,
      "outputs": []
    },
    {
      "cell_type": "markdown",
      "metadata": {
        "id": "XNbjTeFDj9xm"
      },
      "source": [
        "Ejercicio: Visualizar los datos 8-dimensionales mediante una proyección en 2d utilizando MDS y t-SNE:"
      ]
    },
    {
      "cell_type": "code",
      "metadata": {
        "id": "c-kApFWaj8Xo"
      },
      "source": [
        "from sklearn import manifold\n",
        "from sklearn.metrics import euclidean_distances\n",
        "\n",
        "# MDS:\n",
        "mds = manifold.MDS(n_components=2, max_iter=3000, eps=1e-9, random_state=21,\n",
        "                   dissimilarity=\"precomputed\", n_jobs=1)\n",
        "similarities = euclidean_distances(X)\n",
        "pos_mds = mds.fit(similarities).embedding_\n",
        "\n",
        "# T-SNE:\n",
        "\n",
        "# Apply t-SNE algorithm:\n",
        "tsne = manifold.TSNE(n_components=2, init='random', random_state=21, perplexity=30)\n",
        "pos_tsne = tsne.fit_transform(X)\n"
      ],
      "execution_count": null,
      "outputs": []
    },
    {
      "cell_type": "code",
      "metadata": {
        "colab": {
          "base_uri": "https://localhost:8080/"
        },
        "id": "PPXmCPbrmDqM",
        "outputId": "017c54ac-e283-481c-bcfd-8efe8bc6e334"
      },
      "source": [
        "pos_mds.shape"
      ],
      "execution_count": 13,
      "outputs": [
        {
          "output_type": "execute_result",
          "data": {
            "text/plain": [
              "(100, 2)"
            ]
          },
          "metadata": {
            "tags": []
          },
          "execution_count": 13
        }
      ]
    },
    {
      "cell_type": "code",
      "metadata": {
        "colab": {
          "base_uri": "https://localhost:8080/",
          "height": 294
        },
        "id": "PZC5L0K8mL9J",
        "outputId": "4e33ec03-54a2-4a3b-c867-1c761a047245"
      },
      "source": [
        "import pylab as py\n",
        "\n",
        "# Represent data in the 2D MDS projection:\n",
        "fig1 = py.figure()\n",
        "py.scatter(pos_mds[:,0],pos_mds[:,1],marker='o',c='r')\n",
        "py.scatter(pos_tsne[:,0],pos_tsne[:,1],marker='s',c='g')\n",
        "fig1.suptitle('2D projection of multidmensiona data')\n",
        "py.show()"
      ],
      "execution_count": 14,
      "outputs": [
        {
          "output_type": "display_data",
          "data": {
            "image/png": "[encoded data removed]",
            "text/plain": [
              "<Figure size 432x288 with 1 Axes>"
            ]
          },
          "metadata": {
            "tags": [],
            "needs_background": "light"
          }
        }
      ]
    },
    {
      "cell_type": "code",
      "metadata": {
        "id": "PaXYVTFIndll"
      },
      "source": [
        ""
      ],
      "execution_count": null,
      "outputs": []
    }
  ]
}