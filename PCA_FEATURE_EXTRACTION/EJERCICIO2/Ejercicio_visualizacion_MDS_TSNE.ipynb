{
  "nbformat": 4,
  "nbformat_minor": 0,
  "metadata": {
    "colab": {
      "name": "Ejercicio_visualizacion_MDS_TSNE.ipynb",
      "provenance": [],
      "authorship_tag": "ABX9TyMiqq4OgCNgWFbqzlhYi/kr",
      "include_colab_link": true
    },
    "kernelspec": {
      "name": "python3",
      "display_name": "Python 3"
    },
    "language_info": {
      "name": "python"
    }
  },
  "cells": [
    {
      "cell_type": "markdown",
      "metadata": {
        "id": "view-in-github",
        "colab_type": "text"
      },
      "source": [
        "<a href=\"https://colab.research.google.com/github/raulbenitez/postgrau_IML_exploratory/blob/master/PCA_FEATURE_EXTRACTION/EJERCICIO2/Ejercicio_visualizacion_MDS_TSNE.ipynb\" target=\"_parent\"><img src=\"https://colab.research.google.com/assets/colab-badge.svg\" alt=\"Open In Colab\"/></a>"
      ]
    },
    {
      "cell_type": "markdown",
      "metadata": {
        "id": "7Kplv9tej0td"
      },
      "source": [
        "Generar 4 blobs en 6 dimensiones"
      ]
    },
    {
      "cell_type": "code",
      "metadata": {
        "id": "cSrqtCx7jwME"
      },
      "source": [
        "from sklearn.datasets import make_blobs\n",
        "X, y = make_blobs(n_samples=10000, centers=4, n_features=8,random_state=0)"
      ],
      "execution_count": 2,
      "outputs": []
    },
    {
      "cell_type": "markdown",
      "metadata": {
        "id": "XNbjTeFDj9xm"
      },
      "source": [
        "Ejercicio: Visualizar los datos 8-dimensionales mediante una proyección en 2d utilizando MDS y t-SNE:"
      ]
    },
    {
      "cell_type": "code",
      "metadata": {
        "id": "c-kApFWaj8Xo"
      },
      "source": [
        ""
      ],
      "execution_count": null,
      "outputs": []
    }
  ]
}