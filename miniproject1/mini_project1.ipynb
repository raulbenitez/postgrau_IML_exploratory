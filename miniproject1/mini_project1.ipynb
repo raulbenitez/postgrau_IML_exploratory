{
  "nbformat": 4,
  "nbformat_minor": 0,
  "metadata": {
    "colab": {
      "name": "mini-project1.ipynb",
      "provenance": [],
      "authorship_tag": "ABX9TyMGX9d/Q7uKtRFV4iR/kIJF",
      "include_colab_link": true
    },
    "kernelspec": {
      "name": "python3",
      "display_name": "Python 3"
    }
  },
  "cells": [
    {
      "cell_type": "markdown",
      "metadata": {
        "id": "view-in-github",
        "colab_type": "text"
      },
      "source": [
        "<a href=\"https://colab.research.google.com/github/raulbenitez/postgrau_IML_exploratory/blob/master/mini_project1.ipynb\" target=\"_parent\"><img src=\"https://colab.research.google.com/assets/colab-badge.svg\" alt=\"Open In Colab\"/></a>"
      ]
    },
    {
      "cell_type": "markdown",
      "metadata": {
        "id": "zj6UKt2iyjxe",
        "colab_type": "text"
      },
      "source": [
        "# Mini-proyecto 1: Elaboración de un informe de análisis exploratorio de datos:\n",
        "\n",
        "\n",
        "El objetivo de este mini-proyecto es que elaboréis de forma autónoma un pequeño informe de exploración de datos y lo presentéis de forma breve al resto de compañeros (5min). El informe debe ser elaborado en forma de jupyter notebook con google colaboratory y debe incluir los puntos siguientes:\n",
        "\n",
        "1.  Dimensiones de los datos (número de observaciones, número de variables)\n",
        "2.  Tipos de variables (numéricas, texto, etc)\n",
        "3. Resumen estadístico básico de las variables numéricas con comentarios sobre valores medios, dispersion, rango  y presencia de datos incompletos. \n",
        "4. Obtención de parámetros indicativos mediante filtrado de valores en alguna de las variables\n",
        "5. Representación gráfica de los datos mediante diagramas de barras e histogramas de las variables\n",
        "6. Análisis de las correlaciones existentes entre variables numéricas e interpretación\n",
        "\n",
        "Cada uno de vosotros debe realizar el proyecto utilizando uno de los siguientes datasets:\n",
        "\n",
        "- Hotels bookings: Datos sobre reservas en hoteles, con datos de duración de la reserva, cancelaciones, etc. \n",
        "https://www.kaggle.com/jessemostipak/hotel-booking-demand\n",
        "\n",
        "- Iris flowers dataset: Medidas de pétalos y sépalos de flores para clasificarlas según diferentes tipos de especies botánicas\n",
        "https://www.kaggle.com/uciml/iris\n",
        "\n",
        "- Wine properties and quality: Datos sobre características químicas de vinos y un indicador de calidad:\n",
        "https://www.kaggle.com/uciml/red-wine-quality-cortez-et-al-2009\n",
        "\n",
        "- Netflix movies: Datos sobre películas de netflix con fecha 2019, incluye datos del casting y valoración de los usuarios\n",
        "https://www.kaggle.com/shivamb/netflix-shows\n",
        "\n",
        "- US COVID-19 dataset: Datos sobre contaje de casos en condados de Estados Unidos:\n",
        "https://www.kaggle.com/fireballbyedimyrnmom/us-counties-covid-19-dataset\n",
        "\n",
        "- US crash accidents: Datos sonbre accidentes de tráfico en Estados Unidos\n",
        "https://www.kaggle.com/sobhanmoosavi/us-accidents\n",
        "\n",
        "- Suicide Rates: Datos sobre suicidios\n",
        "https://www.kaggle.com/kralmachine/data-visualization-of-suicide-rates\n",
        "\n",
        "- Barcelona data: Estadísticas sobre población, economñía, negocios, etc.\n",
        "https://www.kaggle.com/xvivancos/barcelona-data-sets\n",
        "\n",
        "\n",
        "\n",
        "\n",
        "\n"
      ]
    },
    {
      "cell_type": "code",
      "metadata": {
        "id": "Z8G1I4E5yiu-",
        "colab_type": "code",
        "colab": {}
      },
      "source": [
        ""
      ],
      "execution_count": 0,
      "outputs": []
    }
  ]
}
