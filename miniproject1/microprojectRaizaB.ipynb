{
  "nbformat": 4,
  "nbformat_minor": 0,
  "metadata": {
    "colab": {
      "name": "microprojectRaizaB.ipynb",
      "provenance": [],
      "mount_file_id": "1vq0abcroeP8RQZXd20c-XNOCrf8MiHMu",
      "authorship_tag": "ABX9TyNfpk3tZdjUviS35Smotxbx",
      "include_colab_link": true
    },
    "kernelspec": {
      "name": "python3",
      "display_name": "Python 3"
    }
  },
  "cells": [
    {
      "cell_type": "markdown",
      "metadata": {
        "id": "view-in-github",
        "colab_type": "text"
      },
      "source": [
        "<a href=\"https://colab.research.google.com/github/raulbenitez/postgrau_IML_exploratory/blob/master/miniproject1/microprojectRaizaB.ipynb\" target=\"_parent\"><img src=\"https://colab.research.google.com/assets/colab-badge.svg\" alt=\"Open In Colab\"/></a>"
      ]
    },
    {
      "cell_type": "code",
      "metadata": {
        "id": "9vLOlbomL0IX",
        "colab_type": "code",
        "outputId": "b4b53fa0-ec03-4172-9317-fb5d8bf293f6",
        "colab": {
          "base_uri": "https://localhost:8080/",
          "height": 510
        }
      },
      "source": [
        "import pandas as pd\n",
        "df3 = pd.read_csv('/content/drive/My Drive/netflix_titles.csv')\n",
        "df3.head()"
      ],
      "execution_count": 0,
      "outputs": [
        {
          "output_type": "execute_result",
          "data": {
            "text/html": [
              "<div>\n",
              "<style scoped>\n",
              "    .dataframe tbody tr th:only-of-type {\n",
              "        vertical-align: middle;\n",
              "    }\n",
              "\n",
              "    .dataframe tbody tr th {\n",
              "        vertical-align: top;\n",
              "    }\n",
              "\n",
              "    .dataframe thead th {\n",
              "        text-align: right;\n",
              "    }\n",
              "</style>\n",
              "<table border=\"1\" class=\"dataframe\">\n",
              "  <thead>\n",
              "    <tr style=\"text-align: right;\">\n",
              "      <th></th>\n",
              "      <th>show_id</th>\n",
              "      <th>type</th>\n",
              "      <th>title</th>\n",
              "      <th>director</th>\n",
              "      <th>cast</th>\n",
              "      <th>country</th>\n",
              "      <th>date_added</th>\n",
              "      <th>release_year</th>\n",
              "      <th>rating</th>\n",
              "      <th>duration</th>\n",
              "      <th>listed_in</th>\n",
              "      <th>description</th>\n",
              "    </tr>\n",
              "  </thead>\n",
              "  <tbody>\n",
              "    <tr>\n",
              "      <th>0</th>\n",
              "      <td>81145628</td>\n",
              "      <td>Movie</td>\n",
              "      <td>Norm of the North: King Sized Adventure</td>\n",
              "      <td>Richard Finn, Tim Maltby</td>\n",
              "      <td>Alan Marriott, Andrew Toth, Brian Dobson, Cole...</td>\n",
              "      <td>United States, India, South Korea, China</td>\n",
              "      <td>September 9, 2019</td>\n",
              "      <td>2019</td>\n",
              "      <td>TV-PG</td>\n",
              "      <td>90 min</td>\n",
              "      <td>Children &amp; Family Movies, Comedies</td>\n",
              "      <td>Before planning an awesome wedding for his gra...</td>\n",
              "    </tr>\n",
              "    <tr>\n",
              "      <th>1</th>\n",
              "      <td>80117401</td>\n",
              "      <td>Movie</td>\n",
              "      <td>Jandino: Whatever it Takes</td>\n",
              "      <td>NaN</td>\n",
              "      <td>Jandino Asporaat</td>\n",
              "      <td>United Kingdom</td>\n",
              "      <td>September 9, 2016</td>\n",
              "      <td>2016</td>\n",
              "      <td>TV-MA</td>\n",
              "      <td>94 min</td>\n",
              "      <td>Stand-Up Comedy</td>\n",
              "      <td>Jandino Asporaat riffs on the challenges of ra...</td>\n",
              "    </tr>\n",
              "    <tr>\n",
              "      <th>2</th>\n",
              "      <td>70234439</td>\n",
              "      <td>TV Show</td>\n",
              "      <td>Transformers Prime</td>\n",
              "      <td>NaN</td>\n",
              "      <td>Peter Cullen, Sumalee Montano, Frank Welker, J...</td>\n",
              "      <td>United States</td>\n",
              "      <td>September 8, 2018</td>\n",
              "      <td>2013</td>\n",
              "      <td>TV-Y7-FV</td>\n",
              "      <td>1 Season</td>\n",
              "      <td>Kids' TV</td>\n",
              "      <td>With the help of three human allies, the Autob...</td>\n",
              "    </tr>\n",
              "    <tr>\n",
              "      <th>3</th>\n",
              "      <td>80058654</td>\n",
              "      <td>TV Show</td>\n",
              "      <td>Transformers: Robots in Disguise</td>\n",
              "      <td>NaN</td>\n",
              "      <td>Will Friedle, Darren Criss, Constance Zimmer, ...</td>\n",
              "      <td>United States</td>\n",
              "      <td>September 8, 2018</td>\n",
              "      <td>2016</td>\n",
              "      <td>TV-Y7</td>\n",
              "      <td>1 Season</td>\n",
              "      <td>Kids' TV</td>\n",
              "      <td>When a prison ship crash unleashes hundreds of...</td>\n",
              "    </tr>\n",
              "    <tr>\n",
              "      <th>4</th>\n",
              "      <td>80125979</td>\n",
              "      <td>Movie</td>\n",
              "      <td>#realityhigh</td>\n",
              "      <td>Fernando Lebrija</td>\n",
              "      <td>Nesta Cooper, Kate Walsh, John Michael Higgins...</td>\n",
              "      <td>United States</td>\n",
              "      <td>September 8, 2017</td>\n",
              "      <td>2017</td>\n",
              "      <td>TV-14</td>\n",
              "      <td>99 min</td>\n",
              "      <td>Comedies</td>\n",
              "      <td>When nerdy high schooler Dani finally attracts...</td>\n",
              "    </tr>\n",
              "  </tbody>\n",
              "</table>\n",
              "</div>"
            ],
            "text/plain": [
              "    show_id  ...                                        description\n",
              "0  81145628  ...  Before planning an awesome wedding for his gra...\n",
              "1  80117401  ...  Jandino Asporaat riffs on the challenges of ra...\n",
              "2  70234439  ...  With the help of three human allies, the Autob...\n",
              "3  80058654  ...  When a prison ship crash unleashes hundreds of...\n",
              "4  80125979  ...  When nerdy high schooler Dani finally attracts...\n",
              "\n",
              "[5 rows x 12 columns]"
            ]
          },
          "metadata": {
            "tags": []
          },
          "execution_count": 1
        }
      ]
    },
    {
      "cell_type": "markdown",
      "metadata": {
        "id": "I_bqemegMFhc",
        "colab_type": "text"
      },
      "source": [
        "Dimensiones de los datos (número de observaciones, número de variables)\n"
      ]
    },
    {
      "cell_type": "code",
      "metadata": {
        "id": "eWwqfX_QMJBe",
        "colab_type": "code",
        "outputId": "7c8738f2-aedc-4b61-bf79-b10ba26d000d",
        "colab": {
          "base_uri": "https://localhost:8080/",
          "height": 34
        }
      },
      "source": [
        "df3.shape"
      ],
      "execution_count": 0,
      "outputs": [
        {
          "output_type": "execute_result",
          "data": {
            "text/plain": [
              "(6234, 12)"
            ]
          },
          "metadata": {
            "tags": []
          },
          "execution_count": 2
        }
      ]
    },
    {
      "cell_type": "code",
      "metadata": {
        "id": "vaaD4KjwMRAG",
        "colab_type": "code",
        "outputId": "a0f8e19f-b58e-428d-9350-5e979a3eb07b",
        "colab": {
          "base_uri": "https://localhost:8080/",
          "height": 68
        }
      },
      "source": [
        "df3.columns"
      ],
      "execution_count": 0,
      "outputs": [
        {
          "output_type": "execute_result",
          "data": {
            "text/plain": [
              "Index(['show_id', 'type', 'title', 'director', 'cast', 'country', 'date_added',\n",
              "       'release_year', 'rating', 'duration', 'listed_in', 'description'],\n",
              "      dtype='object')"
            ]
          },
          "metadata": {
            "tags": []
          },
          "execution_count": 3
        }
      ]
    },
    {
      "cell_type": "markdown",
      "metadata": {
        "id": "5SPg_Io7Mfoi",
        "colab_type": "text"
      },
      "source": [
        "Tipos de variables (numéricas, texto, etc)"
      ]
    },
    {
      "cell_type": "code",
      "metadata": {
        "id": "tHce5ILyM51n",
        "colab_type": "code",
        "outputId": "acd90e32-75f3-4493-b804-0fe39ecdfb06",
        "colab": {
          "base_uri": "https://localhost:8080/",
          "height": 238
        }
      },
      "source": [
        "df3.dtypes"
      ],
      "execution_count": 0,
      "outputs": [
        {
          "output_type": "execute_result",
          "data": {
            "text/plain": [
              "show_id          int64\n",
              "type            object\n",
              "title           object\n",
              "director        object\n",
              "cast            object\n",
              "country         object\n",
              "date_added      object\n",
              "release_year     int64\n",
              "rating          object\n",
              "duration        object\n",
              "listed_in       object\n",
              "description     object\n",
              "dtype: object"
            ]
          },
          "metadata": {
            "tags": []
          },
          "execution_count": 4
        }
      ]
    },
    {
      "cell_type": "code",
      "metadata": {
        "id": "DU4c2i-uNomv",
        "colab_type": "code",
        "outputId": "3d460e6e-2467-4196-cd23-c73ec9876cfa",
        "colab": {
          "base_uri": "https://localhost:8080/",
          "height": 204
        }
      },
      "source": [
        "df3_num = df3.select_dtypes(include='number')\n",
        "df3_num.head()"
      ],
      "execution_count": 0,
      "outputs": [
        {
          "output_type": "execute_result",
          "data": {
            "text/html": [
              "<div>\n",
              "<style scoped>\n",
              "    .dataframe tbody tr th:only-of-type {\n",
              "        vertical-align: middle;\n",
              "    }\n",
              "\n",
              "    .dataframe tbody tr th {\n",
              "        vertical-align: top;\n",
              "    }\n",
              "\n",
              "    .dataframe thead th {\n",
              "        text-align: right;\n",
              "    }\n",
              "</style>\n",
              "<table border=\"1\" class=\"dataframe\">\n",
              "  <thead>\n",
              "    <tr style=\"text-align: right;\">\n",
              "      <th></th>\n",
              "      <th>show_id</th>\n",
              "      <th>release_year</th>\n",
              "    </tr>\n",
              "  </thead>\n",
              "  <tbody>\n",
              "    <tr>\n",
              "      <th>0</th>\n",
              "      <td>81145628</td>\n",
              "      <td>2019</td>\n",
              "    </tr>\n",
              "    <tr>\n",
              "      <th>1</th>\n",
              "      <td>80117401</td>\n",
              "      <td>2016</td>\n",
              "    </tr>\n",
              "    <tr>\n",
              "      <th>2</th>\n",
              "      <td>70234439</td>\n",
              "      <td>2013</td>\n",
              "    </tr>\n",
              "    <tr>\n",
              "      <th>3</th>\n",
              "      <td>80058654</td>\n",
              "      <td>2016</td>\n",
              "    </tr>\n",
              "    <tr>\n",
              "      <th>4</th>\n",
              "      <td>80125979</td>\n",
              "      <td>2017</td>\n",
              "    </tr>\n",
              "  </tbody>\n",
              "</table>\n",
              "</div>"
            ],
            "text/plain": [
              "    show_id  release_year\n",
              "0  81145628          2019\n",
              "1  80117401          2016\n",
              "2  70234439          2013\n",
              "3  80058654          2016\n",
              "4  80125979          2017"
            ]
          },
          "metadata": {
            "tags": []
          },
          "execution_count": 5
        }
      ]
    },
    {
      "cell_type": "code",
      "metadata": {
        "id": "xT1VAbFTNu26",
        "colab_type": "code",
        "outputId": "1aec8bdf-7b04-4d2d-cb7b-c8d56c796bcd",
        "colab": {
          "base_uri": "https://localhost:8080/",
          "height": 408
        }
      },
      "source": [
        "df3_txt = df3.select_dtypes(include='object')\n",
        "df3_txt.head()"
      ],
      "execution_count": 0,
      "outputs": [
        {
          "output_type": "execute_result",
          "data": {
            "text/html": [
              "<div>\n",
              "<style scoped>\n",
              "    .dataframe tbody tr th:only-of-type {\n",
              "        vertical-align: middle;\n",
              "    }\n",
              "\n",
              "    .dataframe tbody tr th {\n",
              "        vertical-align: top;\n",
              "    }\n",
              "\n",
              "    .dataframe thead th {\n",
              "        text-align: right;\n",
              "    }\n",
              "</style>\n",
              "<table border=\"1\" class=\"dataframe\">\n",
              "  <thead>\n",
              "    <tr style=\"text-align: right;\">\n",
              "      <th></th>\n",
              "      <th>type</th>\n",
              "      <th>title</th>\n",
              "      <th>director</th>\n",
              "      <th>cast</th>\n",
              "      <th>country</th>\n",
              "      <th>date_added</th>\n",
              "      <th>rating</th>\n",
              "      <th>duration</th>\n",
              "      <th>listed_in</th>\n",
              "      <th>description</th>\n",
              "    </tr>\n",
              "  </thead>\n",
              "  <tbody>\n",
              "    <tr>\n",
              "      <th>0</th>\n",
              "      <td>Movie</td>\n",
              "      <td>Norm of the North: King Sized Adventure</td>\n",
              "      <td>Richard Finn, Tim Maltby</td>\n",
              "      <td>Alan Marriott, Andrew Toth, Brian Dobson, Cole...</td>\n",
              "      <td>United States, India, South Korea, China</td>\n",
              "      <td>September 9, 2019</td>\n",
              "      <td>TV-PG</td>\n",
              "      <td>90 min</td>\n",
              "      <td>Children &amp; Family Movies, Comedies</td>\n",
              "      <td>Before planning an awesome wedding for his gra...</td>\n",
              "    </tr>\n",
              "    <tr>\n",
              "      <th>1</th>\n",
              "      <td>Movie</td>\n",
              "      <td>Jandino: Whatever it Takes</td>\n",
              "      <td>NaN</td>\n",
              "      <td>Jandino Asporaat</td>\n",
              "      <td>United Kingdom</td>\n",
              "      <td>September 9, 2016</td>\n",
              "      <td>TV-MA</td>\n",
              "      <td>94 min</td>\n",
              "      <td>Stand-Up Comedy</td>\n",
              "      <td>Jandino Asporaat riffs on the challenges of ra...</td>\n",
              "    </tr>\n",
              "    <tr>\n",
              "      <th>2</th>\n",
              "      <td>TV Show</td>\n",
              "      <td>Transformers Prime</td>\n",
              "      <td>NaN</td>\n",
              "      <td>Peter Cullen, Sumalee Montano, Frank Welker, J...</td>\n",
              "      <td>United States</td>\n",
              "      <td>September 8, 2018</td>\n",
              "      <td>TV-Y7-FV</td>\n",
              "      <td>1 Season</td>\n",
              "      <td>Kids' TV</td>\n",
              "      <td>With the help of three human allies, the Autob...</td>\n",
              "    </tr>\n",
              "    <tr>\n",
              "      <th>3</th>\n",
              "      <td>TV Show</td>\n",
              "      <td>Transformers: Robots in Disguise</td>\n",
              "      <td>NaN</td>\n",
              "      <td>Will Friedle, Darren Criss, Constance Zimmer, ...</td>\n",
              "      <td>United States</td>\n",
              "      <td>September 8, 2018</td>\n",
              "      <td>TV-Y7</td>\n",
              "      <td>1 Season</td>\n",
              "      <td>Kids' TV</td>\n",
              "      <td>When a prison ship crash unleashes hundreds of...</td>\n",
              "    </tr>\n",
              "    <tr>\n",
              "      <th>4</th>\n",
              "      <td>Movie</td>\n",
              "      <td>#realityhigh</td>\n",
              "      <td>Fernando Lebrija</td>\n",
              "      <td>Nesta Cooper, Kate Walsh, John Michael Higgins...</td>\n",
              "      <td>United States</td>\n",
              "      <td>September 8, 2017</td>\n",
              "      <td>TV-14</td>\n",
              "      <td>99 min</td>\n",
              "      <td>Comedies</td>\n",
              "      <td>When nerdy high schooler Dani finally attracts...</td>\n",
              "    </tr>\n",
              "  </tbody>\n",
              "</table>\n",
              "</div>"
            ],
            "text/plain": [
              "      type  ...                                        description\n",
              "0    Movie  ...  Before planning an awesome wedding for his gra...\n",
              "1    Movie  ...  Jandino Asporaat riffs on the challenges of ra...\n",
              "2  TV Show  ...  With the help of three human allies, the Autob...\n",
              "3  TV Show  ...  When a prison ship crash unleashes hundreds of...\n",
              "4    Movie  ...  When nerdy high schooler Dani finally attracts...\n",
              "\n",
              "[5 rows x 10 columns]"
            ]
          },
          "metadata": {
            "tags": []
          },
          "execution_count": 11
        }
      ]
    },
    {
      "cell_type": "markdown",
      "metadata": {
        "id": "rP_FEcEsPS5Q",
        "colab_type": "text"
      },
      "source": [
        "Ahora procedo a buscar dentro la variable Director, aquellas peliculas o series que no la tengan."
      ]
    },
    {
      "cell_type": "code",
      "metadata": {
        "id": "ucO9JjTpPGey",
        "colab_type": "code",
        "outputId": "ed20907f-fa1c-48df-c7c3-65bd5b31c459",
        "colab": {
          "base_uri": "https://localhost:8080/",
          "height": 810
        }
      },
      "source": [
        "df3_txt.loc[df3_txt['director'].isna()==True]"
      ],
      "execution_count": 0,
      "outputs": [
        {
          "output_type": "execute_result",
          "data": {
            "text/html": [
              "<div>\n",
              "<style scoped>\n",
              "    .dataframe tbody tr th:only-of-type {\n",
              "        vertical-align: middle;\n",
              "    }\n",
              "\n",
              "    .dataframe tbody tr th {\n",
              "        vertical-align: top;\n",
              "    }\n",
              "\n",
              "    .dataframe thead th {\n",
              "        text-align: right;\n",
              "    }\n",
              "</style>\n",
              "<table border=\"1\" class=\"dataframe\">\n",
              "  <thead>\n",
              "    <tr style=\"text-align: right;\">\n",
              "      <th></th>\n",
              "      <th>type</th>\n",
              "      <th>title</th>\n",
              "      <th>director</th>\n",
              "      <th>cast</th>\n",
              "      <th>country</th>\n",
              "      <th>date_added</th>\n",
              "      <th>rating</th>\n",
              "      <th>duration</th>\n",
              "      <th>listed_in</th>\n",
              "      <th>description</th>\n",
              "    </tr>\n",
              "  </thead>\n",
              "  <tbody>\n",
              "    <tr>\n",
              "      <th>1</th>\n",
              "      <td>Movie</td>\n",
              "      <td>Jandino: Whatever it Takes</td>\n",
              "      <td>NaN</td>\n",
              "      <td>Jandino Asporaat</td>\n",
              "      <td>United Kingdom</td>\n",
              "      <td>September 9, 2016</td>\n",
              "      <td>TV-MA</td>\n",
              "      <td>94 min</td>\n",
              "      <td>Stand-Up Comedy</td>\n",
              "      <td>Jandino Asporaat riffs on the challenges of ra...</td>\n",
              "    </tr>\n",
              "    <tr>\n",
              "      <th>2</th>\n",
              "      <td>TV Show</td>\n",
              "      <td>Transformers Prime</td>\n",
              "      <td>NaN</td>\n",
              "      <td>Peter Cullen, Sumalee Montano, Frank Welker, J...</td>\n",
              "      <td>United States</td>\n",
              "      <td>September 8, 2018</td>\n",
              "      <td>TV-Y7-FV</td>\n",
              "      <td>1 Season</td>\n",
              "      <td>Kids' TV</td>\n",
              "      <td>With the help of three human allies, the Autob...</td>\n",
              "    </tr>\n",
              "    <tr>\n",
              "      <th>3</th>\n",
              "      <td>TV Show</td>\n",
              "      <td>Transformers: Robots in Disguise</td>\n",
              "      <td>NaN</td>\n",
              "      <td>Will Friedle, Darren Criss, Constance Zimmer, ...</td>\n",
              "      <td>United States</td>\n",
              "      <td>September 8, 2018</td>\n",
              "      <td>TV-Y7</td>\n",
              "      <td>1 Season</td>\n",
              "      <td>Kids' TV</td>\n",
              "      <td>When a prison ship crash unleashes hundreds of...</td>\n",
              "    </tr>\n",
              "    <tr>\n",
              "      <th>5</th>\n",
              "      <td>TV Show</td>\n",
              "      <td>Apaches</td>\n",
              "      <td>NaN</td>\n",
              "      <td>Alberto Ammann, Eloy Azorín, Verónica Echegui,...</td>\n",
              "      <td>Spain</td>\n",
              "      <td>September 8, 2017</td>\n",
              "      <td>TV-MA</td>\n",
              "      <td>1 Season</td>\n",
              "      <td>Crime TV Shows, International TV Shows, Spanis...</td>\n",
              "      <td>A young journalist is forced into a life of cr...</td>\n",
              "    </tr>\n",
              "    <tr>\n",
              "      <th>8</th>\n",
              "      <td>TV Show</td>\n",
              "      <td>Fire Chasers</td>\n",
              "      <td>NaN</td>\n",
              "      <td>NaN</td>\n",
              "      <td>United States</td>\n",
              "      <td>September 8, 2017</td>\n",
              "      <td>TV-MA</td>\n",
              "      <td>1 Season</td>\n",
              "      <td>Docuseries, Science &amp; Nature TV</td>\n",
              "      <td>As California's 2016 fire season rages, brave ...</td>\n",
              "    </tr>\n",
              "    <tr>\n",
              "      <th>...</th>\n",
              "      <td>...</td>\n",
              "      <td>...</td>\n",
              "      <td>...</td>\n",
              "      <td>...</td>\n",
              "      <td>...</td>\n",
              "      <td>...</td>\n",
              "      <td>...</td>\n",
              "      <td>...</td>\n",
              "      <td>...</td>\n",
              "      <td>...</td>\n",
              "    </tr>\n",
              "    <tr>\n",
              "      <th>6229</th>\n",
              "      <td>TV Show</td>\n",
              "      <td>Red vs. Blue</td>\n",
              "      <td>NaN</td>\n",
              "      <td>Burnie Burns, Jason Saldaña, Gustavo Sorola, G...</td>\n",
              "      <td>United States</td>\n",
              "      <td>NaN</td>\n",
              "      <td>NR</td>\n",
              "      <td>13 Seasons</td>\n",
              "      <td>TV Action &amp; Adventure, TV Comedies, TV Sci-Fi ...</td>\n",
              "      <td>This parody of first-person shooter games, mil...</td>\n",
              "    </tr>\n",
              "    <tr>\n",
              "      <th>6230</th>\n",
              "      <td>TV Show</td>\n",
              "      <td>Maron</td>\n",
              "      <td>NaN</td>\n",
              "      <td>Marc Maron, Judd Hirsch, Josh Brener, Nora Zeh...</td>\n",
              "      <td>United States</td>\n",
              "      <td>NaN</td>\n",
              "      <td>TV-MA</td>\n",
              "      <td>4 Seasons</td>\n",
              "      <td>TV Comedies</td>\n",
              "      <td>Marc Maron stars as Marc Maron, who interviews...</td>\n",
              "    </tr>\n",
              "    <tr>\n",
              "      <th>6231</th>\n",
              "      <td>Movie</td>\n",
              "      <td>Little Baby Bum: Nursery Rhyme Friends</td>\n",
              "      <td>NaN</td>\n",
              "      <td>NaN</td>\n",
              "      <td>NaN</td>\n",
              "      <td>NaN</td>\n",
              "      <td>NaN</td>\n",
              "      <td>60 min</td>\n",
              "      <td>Movies</td>\n",
              "      <td>Nursery rhymes and original music for children...</td>\n",
              "    </tr>\n",
              "    <tr>\n",
              "      <th>6232</th>\n",
              "      <td>TV Show</td>\n",
              "      <td>A Young Doctor's Notebook and Other Stories</td>\n",
              "      <td>NaN</td>\n",
              "      <td>Daniel Radcliffe, Jon Hamm, Adam Godley, Chris...</td>\n",
              "      <td>United Kingdom</td>\n",
              "      <td>NaN</td>\n",
              "      <td>TV-MA</td>\n",
              "      <td>2 Seasons</td>\n",
              "      <td>British TV Shows, TV Comedies, TV Dramas</td>\n",
              "      <td>Set during the Russian Revolution, this comic ...</td>\n",
              "    </tr>\n",
              "    <tr>\n",
              "      <th>6233</th>\n",
              "      <td>TV Show</td>\n",
              "      <td>Friends</td>\n",
              "      <td>NaN</td>\n",
              "      <td>Jennifer Aniston, Courteney Cox, Lisa Kudrow, ...</td>\n",
              "      <td>United States</td>\n",
              "      <td>NaN</td>\n",
              "      <td>TV-14</td>\n",
              "      <td>10 Seasons</td>\n",
              "      <td>Classic &amp; Cult TV, TV Comedies</td>\n",
              "      <td>This hit sitcom follows the merry misadventure...</td>\n",
              "    </tr>\n",
              "  </tbody>\n",
              "</table>\n",
              "<p>1969 rows × 10 columns</p>\n",
              "</div>"
            ],
            "text/plain": [
              "         type  ...                                        description\n",
              "1       Movie  ...  Jandino Asporaat riffs on the challenges of ra...\n",
              "2     TV Show  ...  With the help of three human allies, the Autob...\n",
              "3     TV Show  ...  When a prison ship crash unleashes hundreds of...\n",
              "5     TV Show  ...  A young journalist is forced into a life of cr...\n",
              "8     TV Show  ...  As California's 2016 fire season rages, brave ...\n",
              "...       ...  ...                                                ...\n",
              "6229  TV Show  ...  This parody of first-person shooter games, mil...\n",
              "6230  TV Show  ...  Marc Maron stars as Marc Maron, who interviews...\n",
              "6231    Movie  ...  Nursery rhymes and original music for children...\n",
              "6232  TV Show  ...  Set during the Russian Revolution, this comic ...\n",
              "6233  TV Show  ...  This hit sitcom follows the merry misadventure...\n",
              "\n",
              "[1969 rows x 10 columns]"
            ]
          },
          "metadata": {
            "tags": []
          },
          "execution_count": 12
        }
      ]
    },
    {
      "cell_type": "code",
      "metadata": {
        "id": "TI-E-WvkPhNq",
        "colab_type": "code",
        "outputId": "6c1472e8-8ed6-4ed8-b9bd-309abd2c337b",
        "colab": {
          "base_uri": "https://localhost:8080/",
          "height": 34
        }
      },
      "source": [
        "df3.loc[df3['director'].isna()==True].shape[0]"
      ],
      "execution_count": 0,
      "outputs": [
        {
          "output_type": "execute_result",
          "data": {
            "text/plain": [
              "1969"
            ]
          },
          "metadata": {
            "tags": []
          },
          "execution_count": 14
        }
      ]
    },
    {
      "cell_type": "markdown",
      "metadata": {
        "id": "GZa6txzYScHA",
        "colab_type": "text"
      },
      "source": [
        "en efecto hay 1969 filas que no contienen un Director, procedemos a hacer un drop ya que las opciones de imputar con valores semejantes no me es posible con datos object."
      ]
    },
    {
      "cell_type": "code",
      "metadata": {
        "id": "RNQw1aEfSjDZ",
        "colab_type": "code",
        "outputId": "796d04ae-b35d-4fad-f827-3f46c1c77945",
        "colab": {
          "base_uri": "https://localhost:8080/",
          "height": 34
        }
      },
      "source": [
        "df3_drops = df3['director'].dropna()\n",
        "df3_drops.shape"
      ],
      "execution_count": 0,
      "outputs": [
        {
          "output_type": "execute_result",
          "data": {
            "text/plain": [
              "(4265,)"
            ]
          },
          "metadata": {
            "tags": []
          },
          "execution_count": 17
        }
      ]
    },
    {
      "cell_type": "markdown",
      "metadata": {
        "id": "KCwhGMuZTixp",
        "colab_type": "text"
      },
      "source": [
        "Nos han quedado ahora 4265 filas con un Director asignado."
      ]
    },
    {
      "cell_type": "markdown",
      "metadata": {
        "id": "fSA7cFdiMndK",
        "colab_type": "text"
      },
      "source": [
        "Resumen estadístico básico de las variables numéricas con comentarios sobre valores medios, dispersion, rango y presencia de datos incompletos."
      ]
    },
    {
      "cell_type": "code",
      "metadata": {
        "id": "tysLhtr3Tp91",
        "colab_type": "code",
        "outputId": "372e516a-33a4-403d-d319-4e3ba48f8a6c",
        "colab": {
          "base_uri": "https://localhost:8080/",
          "height": 297
        }
      },
      "source": [
        "df3.describe()"
      ],
      "execution_count": 0,
      "outputs": [
        {
          "output_type": "execute_result",
          "data": {
            "text/html": [
              "<div>\n",
              "<style scoped>\n",
              "    .dataframe tbody tr th:only-of-type {\n",
              "        vertical-align: middle;\n",
              "    }\n",
              "\n",
              "    .dataframe tbody tr th {\n",
              "        vertical-align: top;\n",
              "    }\n",
              "\n",
              "    .dataframe thead th {\n",
              "        text-align: right;\n",
              "    }\n",
              "</style>\n",
              "<table border=\"1\" class=\"dataframe\">\n",
              "  <thead>\n",
              "    <tr style=\"text-align: right;\">\n",
              "      <th></th>\n",
              "      <th>show_id</th>\n",
              "      <th>release_year</th>\n",
              "    </tr>\n",
              "  </thead>\n",
              "  <tbody>\n",
              "    <tr>\n",
              "      <th>count</th>\n",
              "      <td>6.234000e+03</td>\n",
              "      <td>6234.00000</td>\n",
              "    </tr>\n",
              "    <tr>\n",
              "      <th>mean</th>\n",
              "      <td>7.670368e+07</td>\n",
              "      <td>2013.35932</td>\n",
              "    </tr>\n",
              "    <tr>\n",
              "      <th>std</th>\n",
              "      <td>1.094296e+07</td>\n",
              "      <td>8.81162</td>\n",
              "    </tr>\n",
              "    <tr>\n",
              "      <th>min</th>\n",
              "      <td>2.477470e+05</td>\n",
              "      <td>1925.00000</td>\n",
              "    </tr>\n",
              "    <tr>\n",
              "      <th>25%</th>\n",
              "      <td>8.003580e+07</td>\n",
              "      <td>2013.00000</td>\n",
              "    </tr>\n",
              "    <tr>\n",
              "      <th>50%</th>\n",
              "      <td>8.016337e+07</td>\n",
              "      <td>2016.00000</td>\n",
              "    </tr>\n",
              "    <tr>\n",
              "      <th>75%</th>\n",
              "      <td>8.024489e+07</td>\n",
              "      <td>2018.00000</td>\n",
              "    </tr>\n",
              "    <tr>\n",
              "      <th>max</th>\n",
              "      <td>8.123573e+07</td>\n",
              "      <td>2020.00000</td>\n",
              "    </tr>\n",
              "  </tbody>\n",
              "</table>\n",
              "</div>"
            ],
            "text/plain": [
              "            show_id  release_year\n",
              "count  6.234000e+03    6234.00000\n",
              "mean   7.670368e+07    2013.35932\n",
              "std    1.094296e+07       8.81162\n",
              "min    2.477470e+05    1925.00000\n",
              "25%    8.003580e+07    2013.00000\n",
              "50%    8.016337e+07    2016.00000\n",
              "75%    8.024489e+07    2018.00000\n",
              "max    8.123573e+07    2020.00000"
            ]
          },
          "metadata": {
            "tags": []
          },
          "execution_count": 18
        }
      ]
    },
    {
      "cell_type": "markdown",
      "metadata": {
        "id": "E4TFYOuGc885",
        "colab_type": "text"
      },
      "source": [
        "En base al resumen, podemos ver que hay 6234 peliculas y series en la base de datos. Una media de 2013. Hay data de pelis y series de 1925 o anterior, un 25% del 2013 o anteriores, siendo el 75% de la plataforma contenido del 2018 o años anteriores. Solo hay contenido hasta el año actual 2020. (obviamente)"
      ]
    },
    {
      "cell_type": "markdown",
      "metadata": {
        "id": "G0qYyZLmMrAR",
        "colab_type": "text"
      },
      "source": [
        "Obtención de parámetros indicativos mediante filtrado de valores en alguna de las variables"
      ]
    },
    {
      "cell_type": "markdown",
      "metadata": {
        "id": "89VCLamU0NOE",
        "colab_type": "text"
      },
      "source": [
        "Is Netflix has increasingly focusing on TV rather than movies in recent years?\n",
        "\n",
        "---\n",
        "\n"
      ]
    },
    {
      "cell_type": "code",
      "metadata": {
        "id": "jvT8ARBs0Obj",
        "colab_type": "code",
        "outputId": "3fcf1303-eb08-405b-c9a5-926544d1e337",
        "colab": {
          "base_uri": "https://localhost:8080/",
          "height": 34
        }
      },
      "source": [
        "df3.loc[(df3['type']=='Movie')].shape [0]"
      ],
      "execution_count": 0,
      "outputs": [
        {
          "output_type": "execute_result",
          "data": {
            "text/plain": [
              "4265"
            ]
          },
          "metadata": {
            "tags": []
          },
          "execution_count": 98
        }
      ]
    },
    {
      "cell_type": "markdown",
      "metadata": {
        "id": "thaxxcbL5c3r",
        "colab_type": "text"
      },
      "source": [
        "Hay 4265 peliculas en la plataforma"
      ]
    },
    {
      "cell_type": "code",
      "metadata": {
        "id": "EDclpQ_G7_Sv",
        "colab_type": "code",
        "outputId": "97b919bd-f783-4809-c34f-23fd4a6e733d",
        "colab": {
          "base_uri": "https://localhost:8080/",
          "height": 34
        }
      },
      "source": [
        "df3.loc[(df3['duration']<'60 min')].shape [0]"
      ],
      "execution_count": 0,
      "outputs": [
        {
          "output_type": "execute_result",
          "data": {
            "text/plain": [
              "4220"
            ]
          },
          "metadata": {
            "tags": []
          },
          "execution_count": 99
        }
      ]
    },
    {
      "cell_type": "markdown",
      "metadata": {
        "id": "lSeLSo8968CG",
        "colab_type": "text"
      },
      "source": [
        "y 4220 series, sin embargo, no pude filtrarlo correctament por tantas cantidades de temporadas ni por tipo de contenido (tv show) para un resultado más exacto por lo que es dudoso."
      ]
    },
    {
      "cell_type": "markdown",
      "metadata": {
        "id": "JsmYIY2V8tPr",
        "colab_type": "text"
      },
      "source": [
        "Understanding what content is available in different countries"
      ]
    },
    {
      "cell_type": "code",
      "metadata": {
        "id": "U5iZCS3I9UqU",
        "colab_type": "code",
        "outputId": "c46bd751-f497-427a-dd25-f2b40ec508d2",
        "colab": {
          "base_uri": "https://localhost:8080/",
          "height": 51
        }
      },
      "source": [
        "Nthrillers= df3.loc[(df3['listed_in']=='Thrillers')].shape[0]\n",
        "print ('Hay {} peliculas del genero thriller en la BBDD'.format(Nthrillers))\n"
      ],
      "execution_count": 0,
      "outputs": [
        {
          "output_type": "stream",
          "text": [
            "Hay 40 peliculas del genero thriller en la BBDD\n",
            "ERROR! Session/line number was not unique in database. History logging moved to new session 92\n"
          ],
          "name": "stdout"
        }
      ]
    },
    {
      "cell_type": "code",
      "metadata": {
        "id": "LzjKAkkEEXAv",
        "colab_type": "code",
        "outputId": "2f9b35d5-393f-49cc-dcd4-cf3070a124ea",
        "colab": {
          "base_uri": "https://localhost:8080/",
          "height": 1000
        }
      },
      "source": [
        "df3.loc[(df3['listed_in']=='Thrillers')]"
      ],
      "execution_count": 0,
      "outputs": [
        {
          "output_type": "execute_result",
          "data": {
            "text/html": [
              "<div>\n",
              "<style scoped>\n",
              "    .dataframe tbody tr th:only-of-type {\n",
              "        vertical-align: middle;\n",
              "    }\n",
              "\n",
              "    .dataframe tbody tr th {\n",
              "        vertical-align: top;\n",
              "    }\n",
              "\n",
              "    .dataframe thead th {\n",
              "        text-align: right;\n",
              "    }\n",
              "</style>\n",
              "<table border=\"1\" class=\"dataframe\">\n",
              "  <thead>\n",
              "    <tr style=\"text-align: right;\">\n",
              "      <th></th>\n",
              "      <th>show_id</th>\n",
              "      <th>type</th>\n",
              "      <th>title</th>\n",
              "      <th>director</th>\n",
              "      <th>cast</th>\n",
              "      <th>country</th>\n",
              "      <th>date_added</th>\n",
              "      <th>release_year</th>\n",
              "      <th>rating</th>\n",
              "      <th>duration</th>\n",
              "      <th>listed_in</th>\n",
              "      <th>description</th>\n",
              "    </tr>\n",
              "  </thead>\n",
              "  <tbody>\n",
              "    <tr>\n",
              "      <th>267</th>\n",
              "      <td>81183572</td>\n",
              "      <td>Movie</td>\n",
              "      <td>Deviant Love</td>\n",
              "      <td>Michael Feifer</td>\n",
              "      <td>Emma Bell, Nick Ballard, Bradley Bundlie, Gail...</td>\n",
              "      <td>United States</td>\n",
              "      <td>September 13, 2019</td>\n",
              "      <td>2019</td>\n",
              "      <td>TV-14</td>\n",
              "      <td>87 min</td>\n",
              "      <td>Thrillers</td>\n",
              "      <td>In a tailspin after her marriage collapses, Ja...</td>\n",
              "    </tr>\n",
              "    <tr>\n",
              "      <th>298</th>\n",
              "      <td>80991570</td>\n",
              "      <td>Movie</td>\n",
              "      <td>My Teacher, My Obsession</td>\n",
              "      <td>Damián Romay</td>\n",
              "      <td>Lucy Loken, Laura Bilgeri, Rusty Joiner, Alexa...</td>\n",
              "      <td>United States</td>\n",
              "      <td>September 10, 2018</td>\n",
              "      <td>2018</td>\n",
              "      <td>TV-14</td>\n",
              "      <td>86 min</td>\n",
              "      <td>Thrillers</td>\n",
              "      <td>When Riley changed schools, she didn't expect ...</td>\n",
              "    </tr>\n",
              "    <tr>\n",
              "      <th>393</th>\n",
              "      <td>80183897</td>\n",
              "      <td>Movie</td>\n",
              "      <td>The Drowning</td>\n",
              "      <td>Bette Gordon</td>\n",
              "      <td>Josh Charles, Julia Stiles, Avan Jogia, Tracie...</td>\n",
              "      <td>United States, Hong Kong</td>\n",
              "      <td>September 1, 2017</td>\n",
              "      <td>2016</td>\n",
              "      <td>TV-MA</td>\n",
              "      <td>99 min</td>\n",
              "      <td>Thrillers</td>\n",
              "      <td>Child psychologist Tom Seymour's testimony hel...</td>\n",
              "    </tr>\n",
              "    <tr>\n",
              "      <th>704</th>\n",
              "      <td>80142617</td>\n",
              "      <td>Movie</td>\n",
              "      <td>Money</td>\n",
              "      <td>Martin Rosete</td>\n",
              "      <td>Kellan Lutz, Jess Weixler, Jesse Williams, Jam...</td>\n",
              "      <td>United States, Spain</td>\n",
              "      <td>October 15, 2017</td>\n",
              "      <td>2016</td>\n",
              "      <td>R</td>\n",
              "      <td>84 min</td>\n",
              "      <td>Thrillers</td>\n",
              "      <td>Two corporate spies with a $5 million haul for...</td>\n",
              "    </tr>\n",
              "    <tr>\n",
              "      <th>759</th>\n",
              "      <td>80223997</td>\n",
              "      <td>Movie</td>\n",
              "      <td>Fractured</td>\n",
              "      <td>Brad Anderson</td>\n",
              "      <td>Sam Worthington, Lily Rabe, Stephen Tobolowsky...</td>\n",
              "      <td>United States</td>\n",
              "      <td>October 11, 2019</td>\n",
              "      <td>2019</td>\n",
              "      <td>TV-MA</td>\n",
              "      <td>100 min</td>\n",
              "      <td>Thrillers</td>\n",
              "      <td>After his wife and injured daughter disappear ...</td>\n",
              "    </tr>\n",
              "    <tr>\n",
              "      <th>779</th>\n",
              "      <td>60002273</td>\n",
              "      <td>Movie</td>\n",
              "      <td>Along Came a Spider</td>\n",
              "      <td>Lee Tamahori</td>\n",
              "      <td>Morgan Freeman, Monica Potter, Michael Wincott...</td>\n",
              "      <td>United States, Germany, Canada</td>\n",
              "      <td>October 1, 2019</td>\n",
              "      <td>2001</td>\n",
              "      <td>R</td>\n",
              "      <td>103 min</td>\n",
              "      <td>Thrillers</td>\n",
              "      <td>When a girl is kidnapped from a prestigious pr...</td>\n",
              "    </tr>\n",
              "    <tr>\n",
              "      <th>1118</th>\n",
              "      <td>81218079</td>\n",
              "      <td>Movie</td>\n",
              "      <td>Awake</td>\n",
              "      <td>Aleksandr Chernyaev, Fedor Lyass</td>\n",
              "      <td>Jonathan Rhys Meyers, Francesca Eastwood, Mali...</td>\n",
              "      <td>United States</td>\n",
              "      <td>November 24, 2019</td>\n",
              "      <td>2019</td>\n",
              "      <td>TV-MA</td>\n",
              "      <td>92 min</td>\n",
              "      <td>Thrillers</td>\n",
              "      <td>After an accident leaves him with no recollect...</td>\n",
              "    </tr>\n",
              "    <tr>\n",
              "      <th>1366</th>\n",
              "      <td>1192866</td>\n",
              "      <td>Movie</td>\n",
              "      <td>Fallen</td>\n",
              "      <td>Gregory Hoblit</td>\n",
              "      <td>Denzel Washington, John Goodman, Donald Suther...</td>\n",
              "      <td>United States</td>\n",
              "      <td>November 1, 2019</td>\n",
              "      <td>1998</td>\n",
              "      <td>R</td>\n",
              "      <td>124 min</td>\n",
              "      <td>Thrillers</td>\n",
              "      <td>A tough homicide cop faces his most dangerous ...</td>\n",
              "    </tr>\n",
              "    <tr>\n",
              "      <th>1416</th>\n",
              "      <td>1178866</td>\n",
              "      <td>Movie</td>\n",
              "      <td>The Game</td>\n",
              "      <td>David Fincher</td>\n",
              "      <td>Michael Douglas, Sean Penn, Deborah Kara Unger...</td>\n",
              "      <td>United States</td>\n",
              "      <td>November 1, 2019</td>\n",
              "      <td>1997</td>\n",
              "      <td>R</td>\n",
              "      <td>129 min</td>\n",
              "      <td>Thrillers</td>\n",
              "      <td>Nicholas receives an unusual birthday present ...</td>\n",
              "    </tr>\n",
              "    <tr>\n",
              "      <th>1564</th>\n",
              "      <td>80217133</td>\n",
              "      <td>Movie</td>\n",
              "      <td>Kaleidoscope</td>\n",
              "      <td>Rupert Jones</td>\n",
              "      <td>Toby Jones, Anne Reid, Sinead Matthews, Cecili...</td>\n",
              "      <td>United Kingdom</td>\n",
              "      <td>May 8, 2018</td>\n",
              "      <td>2016</td>\n",
              "      <td>TV-MA</td>\n",
              "      <td>99 min</td>\n",
              "      <td>Thrillers</td>\n",
              "      <td>A quiet ex-con's tenuous grip on reality start...</td>\n",
              "    </tr>\n",
              "    <tr>\n",
              "      <th>1658</th>\n",
              "      <td>80117765</td>\n",
              "      <td>Movie</td>\n",
              "      <td>Detour</td>\n",
              "      <td>Christopher Smith</td>\n",
              "      <td>Tye Sheridan, Bel Powley, Emory Cohen, Gbenga ...</td>\n",
              "      <td>United Kingdom, South Africa</td>\n",
              "      <td>May 25, 2017</td>\n",
              "      <td>2016</td>\n",
              "      <td>R</td>\n",
              "      <td>97 min</td>\n",
              "      <td>Thrillers</td>\n",
              "      <td>Convinced his stepfather caused the crash that...</td>\n",
              "    </tr>\n",
              "    <tr>\n",
              "      <th>1699</th>\n",
              "      <td>80182919</td>\n",
              "      <td>Movie</td>\n",
              "      <td>Small Town Crime</td>\n",
              "      <td>Ian Nelms, Eshom Nelms</td>\n",
              "      <td>John Hawkes, Anthony Anderson, Octavia Spencer...</td>\n",
              "      <td>United States</td>\n",
              "      <td>May 19, 2018</td>\n",
              "      <td>2017</td>\n",
              "      <td>R</td>\n",
              "      <td>92 min</td>\n",
              "      <td>Thrillers</td>\n",
              "      <td>When a disgraced ex-cop discovers a dying woma...</td>\n",
              "    </tr>\n",
              "    <tr>\n",
              "      <th>1774</th>\n",
              "      <td>81094666</td>\n",
              "      <td>Movie</td>\n",
              "      <td>Killer Cove</td>\n",
              "      <td>Damián Romay</td>\n",
              "      <td>Haley Webb, Donny Boaz, Cathy Baron, Jason Ala...</td>\n",
              "      <td>United States</td>\n",
              "      <td>May 14, 2019</td>\n",
              "      <td>2018</td>\n",
              "      <td>TV-14</td>\n",
              "      <td>87 min</td>\n",
              "      <td>Thrillers</td>\n",
              "      <td>An unlucky woman finds a solution for her hate...</td>\n",
              "    </tr>\n",
              "    <tr>\n",
              "      <th>1833</th>\n",
              "      <td>81021631</td>\n",
              "      <td>Movie</td>\n",
              "      <td>Two Graves</td>\n",
              "      <td>Gary Young</td>\n",
              "      <td>Cathy Tyson, Katie Jarvis, David Hayman, Josh ...</td>\n",
              "      <td>United Kingdom</td>\n",
              "      <td>May 1, 2019</td>\n",
              "      <td>2018</td>\n",
              "      <td>TV-MA</td>\n",
              "      <td>80 min</td>\n",
              "      <td>Thrillers</td>\n",
              "      <td>A doctor and a drug addict kidnap the son of a...</td>\n",
              "    </tr>\n",
              "    <tr>\n",
              "      <th>1877</th>\n",
              "      <td>80134149</td>\n",
              "      <td>Movie</td>\n",
              "      <td>A Kind of Murder</td>\n",
              "      <td>Andy Goddard</td>\n",
              "      <td>Patrick Wilson, Jessica Biel, Vincent Kartheis...</td>\n",
              "      <td>United States</td>\n",
              "      <td>May 1, 2017</td>\n",
              "      <td>2016</td>\n",
              "      <td>R</td>\n",
              "      <td>96 min</td>\n",
              "      <td>Thrillers</td>\n",
              "      <td>Obsessed with an unsolved murder case, a crime...</td>\n",
              "    </tr>\n",
              "    <tr>\n",
              "      <th>2189</th>\n",
              "      <td>81050198</td>\n",
              "      <td>Movie</td>\n",
              "      <td>The Student</td>\n",
              "      <td>Steven R. Monroe</td>\n",
              "      <td>Alicia Leigh Willis, Blake Michael, Trevor St....</td>\n",
              "      <td>United States</td>\n",
              "      <td>March 15, 2019</td>\n",
              "      <td>2017</td>\n",
              "      <td>TV-14</td>\n",
              "      <td>90 min</td>\n",
              "      <td>Thrillers</td>\n",
              "      <td>When a law professor fails an ambitious studen...</td>\n",
              "    </tr>\n",
              "    <tr>\n",
              "      <th>2250</th>\n",
              "      <td>80219917</td>\n",
              "      <td>Movie</td>\n",
              "      <td>Bad Match</td>\n",
              "      <td>David Chirchirillo</td>\n",
              "      <td>Jack Cutmore-Scott, Lili Simmons, Brandon Scot...</td>\n",
              "      <td>Singapore, United States</td>\n",
              "      <td>March 11, 2018</td>\n",
              "      <td>2017</td>\n",
              "      <td>TV-MA</td>\n",
              "      <td>83 min</td>\n",
              "      <td>Thrillers</td>\n",
              "      <td>A player who uses the internet to facilitate h...</td>\n",
              "    </tr>\n",
              "    <tr>\n",
              "      <th>2344</th>\n",
              "      <td>80188099</td>\n",
              "      <td>Movie</td>\n",
              "      <td>Inconceivable</td>\n",
              "      <td>Jonathan Baker</td>\n",
              "      <td>Gina Gershon, Faye Dunaway, Nicolas Cage, Nick...</td>\n",
              "      <td>United Kingdom, United States</td>\n",
              "      <td>March 1, 2018</td>\n",
              "      <td>2017</td>\n",
              "      <td>R</td>\n",
              "      <td>106 min</td>\n",
              "      <td>Thrillers</td>\n",
              "      <td>A couple trying to conceive invite a woman wit...</td>\n",
              "    </tr>\n",
              "    <tr>\n",
              "      <th>2518</th>\n",
              "      <td>81136964</td>\n",
              "      <td>Movie</td>\n",
              "      <td>Staged Killer</td>\n",
              "      <td>Christopher Ray</td>\n",
              "      <td>Chrishell Hartley, Jason Dolley, Darrin Dewitt...</td>\n",
              "      <td>United States</td>\n",
              "      <td>June 28, 2019</td>\n",
              "      <td>2019</td>\n",
              "      <td>TV-14</td>\n",
              "      <td>88 min</td>\n",
              "      <td>Thrillers</td>\n",
              "      <td>After a popular morning television host bumps ...</td>\n",
              "    </tr>\n",
              "    <tr>\n",
              "      <th>2620</th>\n",
              "      <td>81136963</td>\n",
              "      <td>Movie</td>\n",
              "      <td>The Wrong Babysitter</td>\n",
              "      <td>George Mendeluk</td>\n",
              "      <td>Daphne Zuniga, Seann Gallagher, Lisa Marie Car...</td>\n",
              "      <td>Canada</td>\n",
              "      <td>June 18, 2019</td>\n",
              "      <td>2017</td>\n",
              "      <td>TV-14</td>\n",
              "      <td>89 min</td>\n",
              "      <td>Thrillers</td>\n",
              "      <td>A widow searches for her missing teenage daugh...</td>\n",
              "    </tr>\n",
              "    <tr>\n",
              "      <th>2626</th>\n",
              "      <td>80037691</td>\n",
              "      <td>Movie</td>\n",
              "      <td>Cop Car</td>\n",
              "      <td>Jon Watts</td>\n",
              "      <td>Kevin Bacon, James Freedson-Jackson, Hays Well...</td>\n",
              "      <td>United States</td>\n",
              "      <td>June 16, 2019</td>\n",
              "      <td>2015</td>\n",
              "      <td>R</td>\n",
              "      <td>88 min</td>\n",
              "      <td>Thrillers</td>\n",
              "      <td>Two mischievous boys get thrust into a game of...</td>\n",
              "    </tr>\n",
              "    <tr>\n",
              "      <th>2810</th>\n",
              "      <td>81017011</td>\n",
              "      <td>Movie</td>\n",
              "      <td>American Hangman</td>\n",
              "      <td>Wilson Coneybeare</td>\n",
              "      <td>Donald Sutherland, Vincent Kartheiser, Oliver ...</td>\n",
              "      <td>Canada</td>\n",
              "      <td>July 30, 2019</td>\n",
              "      <td>2019</td>\n",
              "      <td>TV-MA</td>\n",
              "      <td>99 min</td>\n",
              "      <td>Thrillers</td>\n",
              "      <td>A judge’s kidnapping is streamed live on socia...</td>\n",
              "    </tr>\n",
              "    <tr>\n",
              "      <th>2873</th>\n",
              "      <td>70298116</td>\n",
              "      <td>Movie</td>\n",
              "      <td>Lizzie Borden Took an Ax</td>\n",
              "      <td>Nick Gomez</td>\n",
              "      <td>Christina Ricci, Clea DuVall, Gregg Henry, Ste...</td>\n",
              "      <td>United States</td>\n",
              "      <td>July 25, 2016</td>\n",
              "      <td>2014</td>\n",
              "      <td>TV-14</td>\n",
              "      <td>87 min</td>\n",
              "      <td>Thrillers</td>\n",
              "      <td>This made-for-TV drama chronicles the scandal ...</td>\n",
              "    </tr>\n",
              "    <tr>\n",
              "      <th>2932</th>\n",
              "      <td>80998968</td>\n",
              "      <td>Movie</td>\n",
              "      <td>Secret Obsession</td>\n",
              "      <td>Peter Sullivan</td>\n",
              "      <td>Brenda Song, Mike Vogel, Dennis Haysbert, Ashl...</td>\n",
              "      <td>United States</td>\n",
              "      <td>July 18, 2019</td>\n",
              "      <td>2019</td>\n",
              "      <td>TV-14</td>\n",
              "      <td>98 min</td>\n",
              "      <td>Thrillers</td>\n",
              "      <td>When Jennifer wakes up with amnesia after a tr...</td>\n",
              "    </tr>\n",
              "    <tr>\n",
              "      <th>2950</th>\n",
              "      <td>81011993</td>\n",
              "      <td>Movie</td>\n",
              "      <td>We Belong Together</td>\n",
              "      <td>Chris Stokes</td>\n",
              "      <td>Charles Malik Whitfield, Draya Michele, Elise ...</td>\n",
              "      <td>United States</td>\n",
              "      <td>July 16, 2019</td>\n",
              "      <td>2018</td>\n",
              "      <td>TV-14</td>\n",
              "      <td>83 min</td>\n",
              "      <td>Thrillers</td>\n",
              "      <td>A divorced professor shares a night of passion...</td>\n",
              "    </tr>\n",
              "    <tr>\n",
              "      <th>3393</th>\n",
              "      <td>81050191</td>\n",
              "      <td>Movie</td>\n",
              "      <td>Only Mine</td>\n",
              "      <td>Michael Civille</td>\n",
              "      <td>Amber Midthunder, Brett Zimmerman, Chris Brown...</td>\n",
              "      <td>United States</td>\n",
              "      <td>January 15, 2019</td>\n",
              "      <td>2018</td>\n",
              "      <td>TV-14</td>\n",
              "      <td>88 min</td>\n",
              "      <td>Thrillers</td>\n",
              "      <td>After dating a charming cop who turns into an ...</td>\n",
              "    </tr>\n",
              "    <tr>\n",
              "      <th>3533</th>\n",
              "      <td>1180086</td>\n",
              "      <td>Movie</td>\n",
              "      <td>Kiss the Girls</td>\n",
              "      <td>Gary Fleder</td>\n",
              "      <td>Morgan Freeman, Ashley Judd, Cary Elwes, Alex ...</td>\n",
              "      <td>United States</td>\n",
              "      <td>January 1, 2020</td>\n",
              "      <td>1997</td>\n",
              "      <td>R</td>\n",
              "      <td>116 min</td>\n",
              "      <td>Thrillers</td>\n",
              "      <td>A forensic psychologist teams up with an escap...</td>\n",
              "    </tr>\n",
              "    <tr>\n",
              "      <th>3560</th>\n",
              "      <td>60035996</td>\n",
              "      <td>Movie</td>\n",
              "      <td>Sliver</td>\n",
              "      <td>Phillip Noyce</td>\n",
              "      <td>Sharon Stone, William Baldwin, Tom Berenger, P...</td>\n",
              "      <td>United States</td>\n",
              "      <td>January 1, 2020</td>\n",
              "      <td>1993</td>\n",
              "      <td>R</td>\n",
              "      <td>107 min</td>\n",
              "      <td>Thrillers</td>\n",
              "      <td>A divorcée moves into a high-rise with a sordi...</td>\n",
              "    </tr>\n",
              "    <tr>\n",
              "      <th>3626</th>\n",
              "      <td>70058019</td>\n",
              "      <td>Movie</td>\n",
              "      <td>Perfect Stranger</td>\n",
              "      <td>James Foley</td>\n",
              "      <td>Halle Berry, Bruce Willis, Giovanni Ribisi, Ri...</td>\n",
              "      <td>United States</td>\n",
              "      <td>January 1, 2019</td>\n",
              "      <td>2007</td>\n",
              "      <td>R</td>\n",
              "      <td>109 min</td>\n",
              "      <td>Thrillers</td>\n",
              "      <td>Ro risks her life to discover the identity of ...</td>\n",
              "    </tr>\n",
              "    <tr>\n",
              "      <th>3655</th>\n",
              "      <td>80206907</td>\n",
              "      <td>Movie</td>\n",
              "      <td>Heartthrob</td>\n",
              "      <td>Chris Sivertson</td>\n",
              "      <td>Aubrey Peeples, Keir Gilchrist, Peter Facinell...</td>\n",
              "      <td>United States</td>\n",
              "      <td>January 1, 2018</td>\n",
              "      <td>2017</td>\n",
              "      <td>TV-MA</td>\n",
              "      <td>87 min</td>\n",
              "      <td>Thrillers</td>\n",
              "      <td>A shy, brilliant boy and a popular girl fall i...</td>\n",
              "    </tr>\n",
              "    <tr>\n",
              "      <th>3688</th>\n",
              "      <td>1065372</td>\n",
              "      <td>Movie</td>\n",
              "      <td>The Trigger Effect</td>\n",
              "      <td>David Koepp</td>\n",
              "      <td>Kyle MacLachlan, Elisabeth Shue, Dermot Mulron...</td>\n",
              "      <td>United States</td>\n",
              "      <td>January 1, 2018</td>\n",
              "      <td>1996</td>\n",
              "      <td>R</td>\n",
              "      <td>94 min</td>\n",
              "      <td>Thrillers</td>\n",
              "      <td>When a power failure throws their suburban tow...</td>\n",
              "    </tr>\n",
              "    <tr>\n",
              "      <th>3901</th>\n",
              "      <td>80214581</td>\n",
              "      <td>Movie</td>\n",
              "      <td>Dismissed</td>\n",
              "      <td>Benjamin Arfmann</td>\n",
              "      <td>Kent Osborne, Dylan Sprouse, Rae Gray, Alycia ...</td>\n",
              "      <td>United States</td>\n",
              "      <td>February 19, 2018</td>\n",
              "      <td>2017</td>\n",
              "      <td>TV-14</td>\n",
              "      <td>87 min</td>\n",
              "      <td>Thrillers</td>\n",
              "      <td>An intelligent but intense honor student traum...</td>\n",
              "    </tr>\n",
              "    <tr>\n",
              "      <th>4377</th>\n",
              "      <td>81014479</td>\n",
              "      <td>Movie</td>\n",
              "      <td>Jacob's Ladder</td>\n",
              "      <td>David M. Rosenthal</td>\n",
              "      <td>Michael Ealy, Jesse Williams, Nicole Beharie, ...</td>\n",
              "      <td>United States</td>\n",
              "      <td>December 22, 2019</td>\n",
              "      <td>2019</td>\n",
              "      <td>R</td>\n",
              "      <td>90 min</td>\n",
              "      <td>Thrillers</td>\n",
              "      <td>After being reunited with a brother he thought...</td>\n",
              "    </tr>\n",
              "    <tr>\n",
              "      <th>4530</th>\n",
              "      <td>80104116</td>\n",
              "      <td>Movie</td>\n",
              "      <td>Blackway</td>\n",
              "      <td>Daniel Alfredson</td>\n",
              "      <td>Anthony Hopkins, Julia Stiles, Alexander Ludwi...</td>\n",
              "      <td>United States</td>\n",
              "      <td>December 15, 2017</td>\n",
              "      <td>2015</td>\n",
              "      <td>PG-13</td>\n",
              "      <td>90 min</td>\n",
              "      <td>Thrillers</td>\n",
              "      <td>Menaced by a psychopath who's got the local co...</td>\n",
              "    </tr>\n",
              "    <tr>\n",
              "      <th>4610</th>\n",
              "      <td>80144453</td>\n",
              "      <td>Movie</td>\n",
              "      <td>Goldstone</td>\n",
              "      <td>Ivan Sen</td>\n",
              "      <td>Aaron Pedersen, Alex Russell, Jacki Weaver, Ch...</td>\n",
              "      <td>Australia</td>\n",
              "      <td>December 10, 2018</td>\n",
              "      <td>2016</td>\n",
              "      <td>R</td>\n",
              "      <td>110 min</td>\n",
              "      <td>Thrillers</td>\n",
              "      <td>In the Australian outback, an Indigenous cop o...</td>\n",
              "    </tr>\n",
              "    <tr>\n",
              "      <th>4854</th>\n",
              "      <td>81145277</td>\n",
              "      <td>Movie</td>\n",
              "      <td>Fanatic</td>\n",
              "      <td>Keith L. Smith</td>\n",
              "      <td>Denyce Lawton, Hosea Chanchez, Michelle Mitche...</td>\n",
              "      <td>United States</td>\n",
              "      <td>August 24, 2019</td>\n",
              "      <td>2019</td>\n",
              "      <td>TV-14</td>\n",
              "      <td>91 min</td>\n",
              "      <td>Thrillers</td>\n",
              "      <td>When a successful young rap star has an affair...</td>\n",
              "    </tr>\n",
              "    <tr>\n",
              "      <th>5069</th>\n",
              "      <td>60022700</td>\n",
              "      <td>Movie</td>\n",
              "      <td>Panic Room</td>\n",
              "      <td>David Fincher</td>\n",
              "      <td>Jodie Foster, Forest Whitaker, Dwight Yoakam, ...</td>\n",
              "      <td>United States</td>\n",
              "      <td>August 1, 2019</td>\n",
              "      <td>2002</td>\n",
              "      <td>R</td>\n",
              "      <td>112 min</td>\n",
              "      <td>Thrillers</td>\n",
              "      <td>A woman and her daughter are caught in a game ...</td>\n",
              "    </tr>\n",
              "    <tr>\n",
              "      <th>5077</th>\n",
              "      <td>81103092</td>\n",
              "      <td>Movie</td>\n",
              "      <td>Running Out Of Time</td>\n",
              "      <td>Chris Stokes</td>\n",
              "      <td>Tasha Smith, RonReaco Lee, Telma Hopkins, Sydn...</td>\n",
              "      <td>United States</td>\n",
              "      <td>August 1, 2019</td>\n",
              "      <td>2018</td>\n",
              "      <td>TV-14</td>\n",
              "      <td>88 min</td>\n",
              "      <td>Thrillers</td>\n",
              "      <td>Held hostage by men searching for a secret her...</td>\n",
              "    </tr>\n",
              "    <tr>\n",
              "      <th>5195</th>\n",
              "      <td>80989339</td>\n",
              "      <td>Movie</td>\n",
              "      <td>Between Worlds</td>\n",
              "      <td>Maria Pulera</td>\n",
              "      <td>Nicolas Cage, Franka Potente, Penelope Mitchel...</td>\n",
              "      <td>Spain</td>\n",
              "      <td>April 6, 2019</td>\n",
              "      <td>2018</td>\n",
              "      <td>R</td>\n",
              "      <td>91 min</td>\n",
              "      <td>Thrillers</td>\n",
              "      <td>Grieving for his dead wife and daughter, a tru...</td>\n",
              "    </tr>\n",
              "    <tr>\n",
              "      <th>5496</th>\n",
              "      <td>80063773</td>\n",
              "      <td>Movie</td>\n",
              "      <td>The Trust</td>\n",
              "      <td>Ben Brewer, Alex Brewer</td>\n",
              "      <td>Nicolas Cage, Elijah Wood, Sky Ferreira, Jerry...</td>\n",
              "      <td>United States</td>\n",
              "      <td>April 1, 2019</td>\n",
              "      <td>2015</td>\n",
              "      <td>R</td>\n",
              "      <td>91 min</td>\n",
              "      <td>Thrillers</td>\n",
              "      <td>Discovering the location of a vault where a dr...</td>\n",
              "    </tr>\n",
              "  </tbody>\n",
              "</table>\n",
              "</div>"
            ],
            "text/plain": [
              "       show_id  ...                                        description\n",
              "267   81183572  ...  In a tailspin after her marriage collapses, Ja...\n",
              "298   80991570  ...  When Riley changed schools, she didn't expect ...\n",
              "393   80183897  ...  Child psychologist Tom Seymour's testimony hel...\n",
              "704   80142617  ...  Two corporate spies with a $5 million haul for...\n",
              "759   80223997  ...  After his wife and injured daughter disappear ...\n",
              "779   60002273  ...  When a girl is kidnapped from a prestigious pr...\n",
              "1118  81218079  ...  After an accident leaves him with no recollect...\n",
              "1366   1192866  ...  A tough homicide cop faces his most dangerous ...\n",
              "1416   1178866  ...  Nicholas receives an unusual birthday present ...\n",
              "1564  80217133  ...  A quiet ex-con's tenuous grip on reality start...\n",
              "1658  80117765  ...  Convinced his stepfather caused the crash that...\n",
              "1699  80182919  ...  When a disgraced ex-cop discovers a dying woma...\n",
              "1774  81094666  ...  An unlucky woman finds a solution for her hate...\n",
              "1833  81021631  ...  A doctor and a drug addict kidnap the son of a...\n",
              "1877  80134149  ...  Obsessed with an unsolved murder case, a crime...\n",
              "2189  81050198  ...  When a law professor fails an ambitious studen...\n",
              "2250  80219917  ...  A player who uses the internet to facilitate h...\n",
              "2344  80188099  ...  A couple trying to conceive invite a woman wit...\n",
              "2518  81136964  ...  After a popular morning television host bumps ...\n",
              "2620  81136963  ...  A widow searches for her missing teenage daugh...\n",
              "2626  80037691  ...  Two mischievous boys get thrust into a game of...\n",
              "2810  81017011  ...  A judge’s kidnapping is streamed live on socia...\n",
              "2873  70298116  ...  This made-for-TV drama chronicles the scandal ...\n",
              "2932  80998968  ...  When Jennifer wakes up with amnesia after a tr...\n",
              "2950  81011993  ...  A divorced professor shares a night of passion...\n",
              "3393  81050191  ...  After dating a charming cop who turns into an ...\n",
              "3533   1180086  ...  A forensic psychologist teams up with an escap...\n",
              "3560  60035996  ...  A divorcée moves into a high-rise with a sordi...\n",
              "3626  70058019  ...  Ro risks her life to discover the identity of ...\n",
              "3655  80206907  ...  A shy, brilliant boy and a popular girl fall i...\n",
              "3688   1065372  ...  When a power failure throws their suburban tow...\n",
              "3901  80214581  ...  An intelligent but intense honor student traum...\n",
              "4377  81014479  ...  After being reunited with a brother he thought...\n",
              "4530  80104116  ...  Menaced by a psychopath who's got the local co...\n",
              "4610  80144453  ...  In the Australian outback, an Indigenous cop o...\n",
              "4854  81145277  ...  When a successful young rap star has an affair...\n",
              "5069  60022700  ...  A woman and her daughter are caught in a game ...\n",
              "5077  81103092  ...  Held hostage by men searching for a secret her...\n",
              "5195  80989339  ...  Grieving for his dead wife and daughter, a tru...\n",
              "5496  80063773  ...  Discovering the location of a vault where a dr...\n",
              "\n",
              "[40 rows x 12 columns]"
            ]
          },
          "metadata": {
            "tags": []
          },
          "execution_count": 101
        }
      ]
    },
    {
      "cell_type": "markdown",
      "metadata": {
        "id": "drN4FFc1DFks",
        "colab_type": "text"
      },
      "source": [
        "La mayoría del contenido Thriller lo produce USA"
      ]
    },
    {
      "cell_type": "code",
      "metadata": {
        "id": "reZyhLF8CNvC",
        "colab_type": "code",
        "outputId": "976fa36d-18a8-468f-ac77-11c8598c16b0",
        "colab": {
          "base_uri": "https://localhost:8080/",
          "height": 34
        }
      },
      "source": [
        "N2018 = df3.loc[df3['release_year']==2018].shape[0]\n",
        "\n",
        "print('Hay un total de {} peliculas del 2018'.format(N2018))"
      ],
      "execution_count": 0,
      "outputs": [
        {
          "output_type": "stream",
          "text": [
            "Hay un total de 1063 peliculas del 2018\n"
          ],
          "name": "stdout"
        }
      ]
    },
    {
      "cell_type": "code",
      "metadata": {
        "id": "T_ZviT7xDP8Y",
        "colab_type": "code",
        "outputId": "32660927-d389-4e48-f35d-07b8c12788d0",
        "colab": {
          "base_uri": "https://localhost:8080/",
          "height": 34
        }
      },
      "source": [
        "N1925 = df3.loc[df3['release_year']==1925].shape[0]\n",
        "\n",
        "print('Hay un total de {} peliculas de 1925'.format(N1925))"
      ],
      "execution_count": 0,
      "outputs": [
        {
          "output_type": "stream",
          "text": [
            "Hay un total de 1 peliculas de 1925\n"
          ],
          "name": "stdout"
        }
      ]
    },
    {
      "cell_type": "code",
      "metadata": {
        "id": "lNaod8caDTf1",
        "colab_type": "code",
        "outputId": "73a6ffc2-2048-43b3-aa4b-5c0bdd4aa174",
        "colab": {
          "base_uri": "https://localhost:8080/",
          "height": 34
        }
      },
      "source": [
        "Nkubrick = df3.loc[df3['director']=='Stanley kubrick'].shape[0]\n",
        "\n",
        "print('Hay un total de {} peliculas de Kubrick'.format(Nkubrick))"
      ],
      "execution_count": 0,
      "outputs": [
        {
          "output_type": "stream",
          "text": [
            "Hay un total de 0 peliculas de Kubrick\n"
          ],
          "name": "stdout"
        }
      ]
    },
    {
      "cell_type": "code",
      "metadata": {
        "id": "RCaV92UNDitD",
        "colab_type": "code",
        "outputId": "4d83016e-4251-440f-c5db-6b9c49b66e69",
        "colab": {
          "base_uri": "https://localhost:8080/",
          "height": 34
        }
      },
      "source": [
        "Nfincher = df3.loc[df3['director']=='David Fincher'].shape[0]\n",
        "\n",
        "print('Hay un total de {} peliculas de David Fincher'.format(Nfincher))"
      ],
      "execution_count": 0,
      "outputs": [
        {
          "output_type": "stream",
          "text": [
            "Hay un total de 3 peliculas de David Fincher\n"
          ],
          "name": "stdout"
        }
      ]
    },
    {
      "cell_type": "code",
      "metadata": {
        "id": "jhdiBaS6GMdt",
        "colab_type": "code",
        "outputId": "33e4b3f9-dcbb-4605-f0f0-029562b0e013",
        "colab": {
          "base_uri": "https://localhost:8080/",
          "height": 1000
        }
      },
      "source": [
        "df3.sort_values(by=['country'],ascending=True)"
      ],
      "execution_count": 0,
      "outputs": [
        {
          "output_type": "execute_result",
          "data": {
            "text/html": [
              "<div>\n",
              "<style scoped>\n",
              "    .dataframe tbody tr th:only-of-type {\n",
              "        vertical-align: middle;\n",
              "    }\n",
              "\n",
              "    .dataframe tbody tr th {\n",
              "        vertical-align: top;\n",
              "    }\n",
              "\n",
              "    .dataframe thead th {\n",
              "        text-align: right;\n",
              "    }\n",
              "</style>\n",
              "<table border=\"1\" class=\"dataframe\">\n",
              "  <thead>\n",
              "    <tr style=\"text-align: right;\">\n",
              "      <th></th>\n",
              "      <th>show_id</th>\n",
              "      <th>type</th>\n",
              "      <th>title</th>\n",
              "      <th>director</th>\n",
              "      <th>cast</th>\n",
              "      <th>country</th>\n",
              "      <th>date_added</th>\n",
              "      <th>release_year</th>\n",
              "      <th>rating</th>\n",
              "      <th>duration</th>\n",
              "      <th>listed_in</th>\n",
              "      <th>description</th>\n",
              "    </tr>\n",
              "  </thead>\n",
              "  <tbody>\n",
              "    <tr>\n",
              "      <th>532</th>\n",
              "      <td>81105406</td>\n",
              "      <td>TV Show</td>\n",
              "      <td>Monzón: A Knockout Blow</td>\n",
              "      <td>NaN</td>\n",
              "      <td>Jorge Román, Mauricio Paniagua, Carla Quevedo,...</td>\n",
              "      <td>Argentina</td>\n",
              "      <td>October 25, 2019</td>\n",
              "      <td>2018</td>\n",
              "      <td>TV-MA</td>\n",
              "      <td>1 Season</td>\n",
              "      <td>Crime TV Shows, International TV Shows, Spanis...</td>\n",
              "      <td>This dramatization tells the story of Argentin...</td>\n",
              "    </tr>\n",
              "    <tr>\n",
              "      <th>6210</th>\n",
              "      <td>80239700</td>\n",
              "      <td>TV Show</td>\n",
              "      <td>Psiconautas</td>\n",
              "      <td>NaN</td>\n",
              "      <td>Guillermo Toledo, Gabriel Goity, Florencia Peñ...</td>\n",
              "      <td>Argentina</td>\n",
              "      <td>April 15, 2018</td>\n",
              "      <td>2016</td>\n",
              "      <td>TV-MA</td>\n",
              "      <td>2 Seasons</td>\n",
              "      <td>International TV Shows, Spanish-Language TV Sh...</td>\n",
              "      <td>A Spanish con man masquerades as a therapist a...</td>\n",
              "    </tr>\n",
              "    <tr>\n",
              "      <th>4075</th>\n",
              "      <td>80156767</td>\n",
              "      <td>Movie</td>\n",
              "      <td>La Última Fiesta</td>\n",
              "      <td>Leandro Mark, Nicolás Silbert</td>\n",
              "      <td>Nicolás Vázquez, Alan Sabbagh, Benjamín Amadeo...</td>\n",
              "      <td>Argentina</td>\n",
              "      <td>February 1, 2017</td>\n",
              "      <td>2016</td>\n",
              "      <td>TV-MA</td>\n",
              "      <td>104 min</td>\n",
              "      <td>Comedies, International Movies</td>\n",
              "      <td>Three best buddies are thrown into a wild chas...</td>\n",
              "    </tr>\n",
              "    <tr>\n",
              "      <th>398</th>\n",
              "      <td>80190990</td>\n",
              "      <td>Movie</td>\n",
              "      <td>Todo Sobre El Asado</td>\n",
              "      <td>Mariano Cohn, Gastón Duprat</td>\n",
              "      <td>El Negro Álvarez</td>\n",
              "      <td>Argentina</td>\n",
              "      <td>September 1, 2017</td>\n",
              "      <td>2016</td>\n",
              "      <td>TV-14</td>\n",
              "      <td>86 min</td>\n",
              "      <td>Documentaries, International Movies</td>\n",
              "      <td>This quirky examination of Argentina's culture...</td>\n",
              "    </tr>\n",
              "    <tr>\n",
              "      <th>4422</th>\n",
              "      <td>80142140</td>\n",
              "      <td>Movie</td>\n",
              "      <td>Daemonium</td>\n",
              "      <td>Pablo Parés</td>\n",
              "      <td>Walter Cornás, Dany Casco, Caro Angus, Rocío R...</td>\n",
              "      <td>Argentina</td>\n",
              "      <td>December 20, 2016</td>\n",
              "      <td>2015</td>\n",
              "      <td>NR</td>\n",
              "      <td>115 min</td>\n",
              "      <td>Action &amp; Adventure, Horror Movies, Internation...</td>\n",
              "      <td>In a realm where magic and technology intersec...</td>\n",
              "    </tr>\n",
              "    <tr>\n",
              "      <th>...</th>\n",
              "      <td>...</td>\n",
              "      <td>...</td>\n",
              "      <td>...</td>\n",
              "      <td>...</td>\n",
              "      <td>...</td>\n",
              "      <td>...</td>\n",
              "      <td>...</td>\n",
              "      <td>...</td>\n",
              "      <td>...</td>\n",
              "      <td>...</td>\n",
              "      <td>...</td>\n",
              "      <td>...</td>\n",
              "    </tr>\n",
              "    <tr>\n",
              "      <th>6170</th>\n",
              "      <td>80136456</td>\n",
              "      <td>TV Show</td>\n",
              "      <td>Age of Glory</td>\n",
              "      <td>NaN</td>\n",
              "      <td>Debbie Goh, Aenie Wong, Frederick Lee, Leslie ...</td>\n",
              "      <td>NaN</td>\n",
              "      <td>August 14, 2017</td>\n",
              "      <td>2010</td>\n",
              "      <td>TV-PG</td>\n",
              "      <td>2 Seasons</td>\n",
              "      <td>International TV Shows, Romantic TV Shows, TV ...</td>\n",
              "      <td>Amid the thriving nightlife of 1960s Kuala Lum...</td>\n",
              "    </tr>\n",
              "    <tr>\n",
              "      <th>6195</th>\n",
              "      <td>80136790</td>\n",
              "      <td>TV Show</td>\n",
              "      <td>Goodnight DJ 1</td>\n",
              "      <td>NaN</td>\n",
              "      <td>Chan Fong, Z-Chen, Frederick Lee, Melvin Sia, ...</td>\n",
              "      <td>NaN</td>\n",
              "      <td>April 27, 2018</td>\n",
              "      <td>2016</td>\n",
              "      <td>TV-14</td>\n",
              "      <td>2 Seasons</td>\n",
              "      <td>International TV Shows, TV Dramas, TV Horror</td>\n",
              "      <td>Young radio announcers from varying background...</td>\n",
              "    </tr>\n",
              "    <tr>\n",
              "      <th>6199</th>\n",
              "      <td>80244228</td>\n",
              "      <td>TV Show</td>\n",
              "      <td>Beauty and the Bitches</td>\n",
              "      <td>NaN</td>\n",
              "      <td>Methinee Kingpayome, Son Songpaisarn, Yingying...</td>\n",
              "      <td>NaN</td>\n",
              "      <td>April 23, 2019</td>\n",
              "      <td>2016</td>\n",
              "      <td>TV-14</td>\n",
              "      <td>2 Seasons</td>\n",
              "      <td>International TV Shows, Romantic TV Shows, TV ...</td>\n",
              "      <td>Beauty pageant contestants from all over Thail...</td>\n",
              "    </tr>\n",
              "    <tr>\n",
              "      <th>6228</th>\n",
              "      <td>80159925</td>\n",
              "      <td>TV Show</td>\n",
              "      <td>Kikoriki</td>\n",
              "      <td>NaN</td>\n",
              "      <td>Igor Dmitriev</td>\n",
              "      <td>NaN</td>\n",
              "      <td>NaN</td>\n",
              "      <td>2010</td>\n",
              "      <td>TV-Y</td>\n",
              "      <td>2 Seasons</td>\n",
              "      <td>Kids' TV</td>\n",
              "      <td>A wacky rabbit and his gang of animal pals hav...</td>\n",
              "    </tr>\n",
              "    <tr>\n",
              "      <th>6231</th>\n",
              "      <td>80116008</td>\n",
              "      <td>Movie</td>\n",
              "      <td>Little Baby Bum: Nursery Rhyme Friends</td>\n",
              "      <td>NaN</td>\n",
              "      <td>NaN</td>\n",
              "      <td>NaN</td>\n",
              "      <td>NaN</td>\n",
              "      <td>2016</td>\n",
              "      <td>NaN</td>\n",
              "      <td>60 min</td>\n",
              "      <td>Movies</td>\n",
              "      <td>Nursery rhymes and original music for children...</td>\n",
              "    </tr>\n",
              "  </tbody>\n",
              "</table>\n",
              "<p>6234 rows × 12 columns</p>\n",
              "</div>"
            ],
            "text/plain": [
              "       show_id  ...                                        description\n",
              "532   81105406  ...  This dramatization tells the story of Argentin...\n",
              "6210  80239700  ...  A Spanish con man masquerades as a therapist a...\n",
              "4075  80156767  ...  Three best buddies are thrown into a wild chas...\n",
              "398   80190990  ...  This quirky examination of Argentina's culture...\n",
              "4422  80142140  ...  In a realm where magic and technology intersec...\n",
              "...        ...  ...                                                ...\n",
              "6170  80136456  ...  Amid the thriving nightlife of 1960s Kuala Lum...\n",
              "6195  80136790  ...  Young radio announcers from varying background...\n",
              "6199  80244228  ...  Beauty pageant contestants from all over Thail...\n",
              "6228  80159925  ...  A wacky rabbit and his gang of animal pals hav...\n",
              "6231  80116008  ...  Nursery rhymes and original music for children...\n",
              "\n",
              "[6234 rows x 12 columns]"
            ]
          },
          "metadata": {
            "tags": []
          },
          "execution_count": 115
        }
      ]
    },
    {
      "cell_type": "markdown",
      "metadata": {
        "id": "H9oDrLqUHBSj",
        "colab_type": "text"
      },
      "source": [
        "En Argentina hay una oferta variada de series y pelis, producen muchos shows en vivo y contenido Drama"
      ]
    },
    {
      "cell_type": "markdown",
      "metadata": {
        "id": "8SfXo2p4MuxM",
        "colab_type": "text"
      },
      "source": [
        "Representación gráfica de los datos mediante diagramas de barras e histogramas de las variables"
      ]
    },
    {
      "cell_type": "code",
      "metadata": {
        "id": "3UNSXR72JLSI",
        "colab_type": "code",
        "outputId": "9dbcb31e-6a49-42df-eac1-fdd827fcfde6",
        "colab": {
          "base_uri": "https://localhost:8080/",
          "height": 422
        }
      },
      "source": [
        "import seaborn as sns\n",
        "import matplotlib.pyplot as plt\n",
        "\n",
        "fig = plt.figure(figsize=(10,6))\n",
        "ax = sns.lineplot(x=\"release_year\", y=\"show_id\", data=df3)\n",
        "ax.set_title('Contenido')\n",
        "plt.show()\n",
        "plt.savefig('content.png')"
      ],
      "execution_count": 0,
      "outputs": [
        {
          "output_type": "display_data",
          "data": {
            "image/png": "[encoded data removed]",
            "text/plain": [
              "<Figure size 720x432 with 1 Axes>"
            ]
          },
          "metadata": {
            "tags": []
          }
        },
        {
          "output_type": "display_data",
          "data": {
            "text/plain": [
              "<Figure size 432x288 with 0 Axes>"
            ]
          },
          "metadata": {
            "tags": []
          }
        }
      ]
    },
    {
      "cell_type": "code",
      "metadata": {
        "id": "o1CBlL1jL_54",
        "colab_type": "code",
        "outputId": "2fd80ade-3558-4e18-a2a9-5e4f1e6f80b3",
        "colab": {
          "base_uri": "https://localhost:8080/",
          "height": 510
        }
      },
      "source": [
        "df3['country'] = df3.country.replace(['United states','canada','argentina'],[1,2,3])\n",
        "df3.head()"
      ],
      "execution_count": 0,
      "outputs": [
        {
          "output_type": "execute_result",
          "data": {
            "text/html": [
              "<div>\n",
              "<style scoped>\n",
              "    .dataframe tbody tr th:only-of-type {\n",
              "        vertical-align: middle;\n",
              "    }\n",
              "\n",
              "    .dataframe tbody tr th {\n",
              "        vertical-align: top;\n",
              "    }\n",
              "\n",
              "    .dataframe thead th {\n",
              "        text-align: right;\n",
              "    }\n",
              "</style>\n",
              "<table border=\"1\" class=\"dataframe\">\n",
              "  <thead>\n",
              "    <tr style=\"text-align: right;\">\n",
              "      <th></th>\n",
              "      <th>show_id</th>\n",
              "      <th>type</th>\n",
              "      <th>title</th>\n",
              "      <th>director</th>\n",
              "      <th>cast</th>\n",
              "      <th>country</th>\n",
              "      <th>date_added</th>\n",
              "      <th>release_year</th>\n",
              "      <th>rating</th>\n",
              "      <th>duration</th>\n",
              "      <th>listed_in</th>\n",
              "      <th>description</th>\n",
              "    </tr>\n",
              "  </thead>\n",
              "  <tbody>\n",
              "    <tr>\n",
              "      <th>0</th>\n",
              "      <td>81145628</td>\n",
              "      <td>Movie</td>\n",
              "      <td>Norm of the North: King Sized Adventure</td>\n",
              "      <td>Richard Finn, Tim Maltby</td>\n",
              "      <td>Alan Marriott, Andrew Toth, Brian Dobson, Cole...</td>\n",
              "      <td>United States, India, South Korea, China</td>\n",
              "      <td>September 9, 2019</td>\n",
              "      <td>2019</td>\n",
              "      <td>TV-PG</td>\n",
              "      <td>90 min</td>\n",
              "      <td>Children &amp; Family Movies, Comedies</td>\n",
              "      <td>Before planning an awesome wedding for his gra...</td>\n",
              "    </tr>\n",
              "    <tr>\n",
              "      <th>1</th>\n",
              "      <td>80117401</td>\n",
              "      <td>Movie</td>\n",
              "      <td>Jandino: Whatever it Takes</td>\n",
              "      <td>NaN</td>\n",
              "      <td>Jandino Asporaat</td>\n",
              "      <td>United Kingdom</td>\n",
              "      <td>September 9, 2016</td>\n",
              "      <td>2016</td>\n",
              "      <td>TV-MA</td>\n",
              "      <td>94 min</td>\n",
              "      <td>Stand-Up Comedy</td>\n",
              "      <td>Jandino Asporaat riffs on the challenges of ra...</td>\n",
              "    </tr>\n",
              "    <tr>\n",
              "      <th>2</th>\n",
              "      <td>70234439</td>\n",
              "      <td>TV Show</td>\n",
              "      <td>Transformers Prime</td>\n",
              "      <td>NaN</td>\n",
              "      <td>Peter Cullen, Sumalee Montano, Frank Welker, J...</td>\n",
              "      <td>United States</td>\n",
              "      <td>September 8, 2018</td>\n",
              "      <td>2013</td>\n",
              "      <td>TV-Y7-FV</td>\n",
              "      <td>1 Season</td>\n",
              "      <td>Kids' TV</td>\n",
              "      <td>With the help of three human allies, the Autob...</td>\n",
              "    </tr>\n",
              "    <tr>\n",
              "      <th>3</th>\n",
              "      <td>80058654</td>\n",
              "      <td>TV Show</td>\n",
              "      <td>Transformers: Robots in Disguise</td>\n",
              "      <td>NaN</td>\n",
              "      <td>Will Friedle, Darren Criss, Constance Zimmer, ...</td>\n",
              "      <td>United States</td>\n",
              "      <td>September 8, 2018</td>\n",
              "      <td>2016</td>\n",
              "      <td>TV-Y7</td>\n",
              "      <td>1 Season</td>\n",
              "      <td>Kids' TV</td>\n",
              "      <td>When a prison ship crash unleashes hundreds of...</td>\n",
              "    </tr>\n",
              "    <tr>\n",
              "      <th>4</th>\n",
              "      <td>80125979</td>\n",
              "      <td>Movie</td>\n",
              "      <td>#realityhigh</td>\n",
              "      <td>Fernando Lebrija</td>\n",
              "      <td>Nesta Cooper, Kate Walsh, John Michael Higgins...</td>\n",
              "      <td>United States</td>\n",
              "      <td>September 8, 2017</td>\n",
              "      <td>2017</td>\n",
              "      <td>TV-14</td>\n",
              "      <td>99 min</td>\n",
              "      <td>Comedies</td>\n",
              "      <td>When nerdy high schooler Dani finally attracts...</td>\n",
              "    </tr>\n",
              "  </tbody>\n",
              "</table>\n",
              "</div>"
            ],
            "text/plain": [
              "    show_id  ...                                        description\n",
              "0  81145628  ...  Before planning an awesome wedding for his gra...\n",
              "1  80117401  ...  Jandino Asporaat riffs on the challenges of ra...\n",
              "2  70234439  ...  With the help of three human allies, the Autob...\n",
              "3  80058654  ...  When a prison ship crash unleashes hundreds of...\n",
              "4  80125979  ...  When nerdy high schooler Dani finally attracts...\n",
              "\n",
              "[5 rows x 12 columns]"
            ]
          },
          "metadata": {
            "tags": []
          },
          "execution_count": 126
        }
      ]
    },
    {
      "cell_type": "markdown",
      "metadata": {
        "id": "QK8wwitWMyCJ",
        "colab_type": "text"
      },
      "source": [
        "Análisis de las correlaciones existentes entre variables numéricas e interpretación: no hay muchas variables numericas en este caso."
      ]
    }
  ]
}