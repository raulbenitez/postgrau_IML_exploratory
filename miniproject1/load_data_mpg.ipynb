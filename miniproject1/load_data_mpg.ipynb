{
  "nbformat": 4,
  "nbformat_minor": 0,
  "metadata": {
    "colab": {
      "name": "load_data_mpg.ipynb",
      "provenance": [],
      "authorship_tag": "ABX9TyMwys1v3FeMM9M34cxXaJ5Z",
      "include_colab_link": true
    },
    "kernelspec": {
      "name": "python3",
      "display_name": "Python 3"
    }
  },
  "cells": [
    {
      "cell_type": "markdown",
      "metadata": {
        "id": "view-in-github",
        "colab_type": "text"
      },
      "source": [
        "<a href=\"https://colab.research.google.com/github/raulbenitez/postgrau_IML_exploratory/blob/master/miniproject1/load_data_mpg.ipynb\" target=\"_parent\"><img src=\"https://colab.research.google.com/assets/colab-badge.svg\" alt=\"Open In Colab\"/></a>"
      ]
    },
    {
      "cell_type": "code",
      "metadata": {
        "id": "ZuPIjiKA7A9e",
        "colab_type": "code",
        "colab": {
          "base_uri": "https://localhost:8080/",
          "height": 68
        },
        "outputId": "c0de535c-dcd1-4a36-a421-a49dccc8fe72"
      },
      "source": [
        "import pandas as pd \n",
        "import seaborn as sns \n",
        "mpg = sns.load_dataset(\"mpg\")\n",
        "mpg_num = mpg.select_dtypes(include='number') # keep only numeric variables \n",
        "mpg_num_nonans = mpg_num.dropna() # remove observations with NaNs\n",
        "\n",
        "print('datos originales = {}'.format(mpg.shape))\n",
        "print('datos numericos = {}'.format(mpg_num.shape))\n",
        "print('datos numericos sin NaNs = {}'.format(mpg_num_nonans.shape))"
      ],
      "execution_count": 6,
      "outputs": [
        {
          "output_type": "stream",
          "text": [
            "datos originales = (398, 9)\n",
            "datos numericos = (398, 7)\n",
            "datos numericos sin NaNs = (392, 7)\n"
          ],
          "name": "stdout"
        }
      ]
    },
    {
      "cell_type": "code",
      "metadata": {
        "id": "ZdqbmFCG8Bjl",
        "colab_type": "code",
        "colab": {}
      },
      "source": [
        "\n"
      ],
      "execution_count": 0,
      "outputs": []
    }
  ]
}