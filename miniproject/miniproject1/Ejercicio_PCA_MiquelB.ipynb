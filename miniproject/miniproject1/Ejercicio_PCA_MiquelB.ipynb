{
  "nbformat": 4,
  "nbformat_minor": 0,
  "metadata": {
    "colab": {
      "name": "Ejercicio PCA",
      "provenance": [],
      "authorship_tag": "ABX9TyOehDOpL3rx6gtHizj1wTm6",
      "include_colab_link": true
    },
    "kernelspec": {
      "name": "python3",
      "display_name": "Python 3"
    }
  },
  "cells": [
    {
      "cell_type": "markdown",
      "metadata": {
        "id": "view-in-github",
        "colab_type": "text"
      },
      "source": [
        "<a href=\"https://colab.research.google.com/github/raulbenitez/postgrau_IML_exploratory/blob/master/Ejercicio_PCA_MiquelB.ipynb\" target=\"_parent\"><img src=\"https://colab.research.google.com/assets/colab-badge.svg\" alt=\"Open In Colab\"/></a>"
      ]
    },
    {
      "cell_type": "code",
      "metadata": {
        "id": "wVSsDydK7KhL",
        "colab_type": "code",
        "colab": {
          "base_uri": "https://localhost:8080/",
          "height": 34
        },
        "outputId": "e274e297-26b6-4d9e-a87e-b469be473106"
      },
      "source": [
        "import pandas as pd\n",
        "import seaborn as sns\n",
        "mpg = sns.load_dataset('mpg')\n",
        "mpg_num = mpg.select_dtypes(include='number').dropna()\n",
        "mpg_num.shape\n"
      ],
      "execution_count": 20,
      "outputs": [
        {
          "output_type": "execute_result",
          "data": {
            "text/plain": [
              "(392, 7)"
            ]
          },
          "metadata": {
            "tags": []
          },
          "execution_count": 20
        }
      ]
    },
    {
      "cell_type": "code",
      "metadata": {
        "id": "qq0WjNSY-dJy",
        "colab_type": "code",
        "colab": {
          "base_uri": "https://localhost:8080/",
          "height": 68
        },
        "outputId": "c509e26b-d191-4337-a2d8-d9767b2a65c5"
      },
      "source": [
        "mpg_num.columns"
      ],
      "execution_count": 21,
      "outputs": [
        {
          "output_type": "execute_result",
          "data": {
            "text/plain": [
              "Index(['mpg', 'cylinders', 'displacement', 'horsepower', 'weight',\n",
              "       'acceleration', 'model_year'],\n",
              "      dtype='object')"
            ]
          },
          "metadata": {
            "tags": []
          },
          "execution_count": 21
        }
      ]
    },
    {
      "cell_type": "code",
      "metadata": {
        "id": "x3lX7BBB9nz5",
        "colab_type": "code",
        "colab": {
          "base_uri": "https://localhost:8080/",
          "height": 34
        },
        "outputId": "61543611-a35f-44e5-bd71-bea48404f61e"
      },
      "source": [
        "X = mpg_num[['mpg', 'cylinders', 'displacement', 'horsepower', 'weight','acceleration', 'model_year']] # features\n",
        "\n",
        "from sklearn.preprocessing import StandardScaler\n",
        "XS = StandardScaler().fit_transform(X)\n",
        "\n",
        "from sklearn import decomposition\n",
        "pca = decomposition.PCA(n_components=7).fit(XS)\n",
        "Xproj = pca.transform(XS)\n",
        "Xproj.shape"
      ],
      "execution_count": 27,
      "outputs": [
        {
          "output_type": "execute_result",
          "data": {
            "text/plain": [
              "(392, 7)"
            ]
          },
          "metadata": {
            "tags": []
          },
          "execution_count": 27
        }
      ]
    },
    {
      "cell_type": "code",
      "metadata": {
        "id": "gFNHUYYf_OMQ",
        "colab_type": "code",
        "colab": {
          "base_uri": "https://localhost:8080/",
          "height": 51
        },
        "outputId": "d5f5161f-6f4d-4c6e-cb9b-9bc7d5b9a4e1"
      },
      "source": [
        "print('Valores propios = {} {} {} {}'.format(*pca.explained_variance_))\n",
        "print('Fracción de la varianza explicada = {} {} {} {}'.format(*pca.explained_variance_ratio_))"
      ],
      "execution_count": 29,
      "outputs": [
        {
          "output_type": "stream",
          "text": [
            "Valores propios = 5.023450750382199 0.8678051844996093 0.7302566706735852 0.18438546525537886\n",
            "Fracción de la varianza explicada = 0.7158051178569386 0.12365591368052012 0.10405625300049992 0.02627358488150624\n"
          ],
          "name": "stdout"
        }
      ]
    },
    {
      "cell_type": "code",
      "metadata": {
        "id": "sfRc_l3v_AaD",
        "colab_type": "code",
        "colab": {
          "base_uri": "https://localhost:8080/",
          "height": 51
        },
        "outputId": "f84f7f50-510e-442b-d949-2a9fa5fba63b"
      },
      "source": [
        "100*pca.explained_variance_ratio_.cumsum()"
      ],
      "execution_count": 28,
      "outputs": [
        {
          "output_type": "execute_result",
          "data": {
            "text/plain": [
              "array([ 71.58051179,  83.94610315,  94.35172845,  96.97908694,\n",
              "        98.72074871,  99.49585101, 100.        ])"
            ]
          },
          "metadata": {
            "tags": []
          },
          "execution_count": 28
        }
      ]
    },
    {
      "cell_type": "code",
      "metadata": {
        "id": "teK-VQ1VBXev",
        "colab_type": "code",
        "colab": {
          "base_uri": "https://localhost:8080/",
          "height": 34
        },
        "outputId": "97b24a18-3ca0-4997-f0e5-7d866a6534dd"
      },
      "source": [
        "XPCA = Xproj[:,0:3]\n",
        "XPCA.shape"
      ],
      "execution_count": 33,
      "outputs": [
        {
          "output_type": "execute_result",
          "data": {
            "text/plain": [
              "(392, 3)"
            ]
          },
          "metadata": {
            "tags": []
          },
          "execution_count": 33
        }
      ]
    }
  ]
}
