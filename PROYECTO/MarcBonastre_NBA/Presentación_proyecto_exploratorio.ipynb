{
  "nbformat": 4,
  "nbformat_minor": 0,
  "metadata": {
    "colab": {
      "name": "Presentación_proyecto_exploratorio.ipynb",
      "provenance": [],
      "collapsed_sections": [],
      "toc_visible": true,
      "include_colab_link": true
    },
    "kernelspec": {
      "name": "python3",
      "display_name": "Python 3"
    }
  },
  "cells": [
    {
      "cell_type": "markdown",
      "metadata": {
        "id": "view-in-github",
        "colab_type": "text"
      },
      "source": [
        "<a href=\"https://colab.research.google.com/github/raulbenitez/postgrau_IML_exploratory/blob/master/PROYECTO/MarcBonastre_NBA/Presentacio%CC%81n_proyecto_exploratorio.ipynb\" target=\"_parent\"><img src=\"https://colab.research.google.com/assets/colab-badge.svg\" alt=\"Open In Colab\"/></a>"
      ]
    },
    {
      "cell_type": "markdown",
      "metadata": {
        "id": "lbgS7cmDpWnB",
        "colab_type": "text"
      },
      "source": [
        "# Proyecto análisis exploratorio de datos:\n",
        "\n",
        "Realizar las siguientes actividades y entregar en formato google colab notebook en la carpeta **PROYECTO** del respositorio github. \n"
      ]
    },
    {
      "cell_type": "markdown",
      "metadata": {
        "id": "naZAWsVYHsmq",
        "colab_type": "text"
      },
      "source": [
        "\n",
        "## Parte 1: Base de datos\n",
        "\n",
        "  a) Explorad la plataforma de datos kaggle (https://www.kaggle.com/) y elegir una conjunto de datos con al menos 5 variables de tipo numérico (sin incluir variables lógicas 0/1) y al menos una de tipo categórico. Exponed de forma clara y razonada los motivos por los que la habéis elegido. Describid la base de datos elegida con un breve texto que indique la temática y el tipo de datos que incluye. \n",
        "\n",
        "  b) Cargad los datos e indicar el número de observaciones, tipos de variables y su rango de valores. Resumen estadístico de los datos. \n",
        "\n",
        "  c) Especificad si existen observaciones ausentes o erróneas (NaNs), reportando la fracción de observaciones que resultan afectadas en cada variable del problema. Aplicar una estrategia de imputación de observaciones ausentes o erróneas y justificar su utilización. \n",
        "\n",
        "  d) Representar gráficamente la distribución de las variables numéricas en forma de histograma y de diagrama de dispersión multidimensional (pairplot). Para las variables categóricas, representad el número de observaciones por categoría en forma de diagrama de barras. \n",
        "\n",
        "  e) Observaciones generales sobre la base de datos: correlaciones entre va\n",
        "  riables, comentarios sobre qué tipo de análisis se puede realizar, interacciones interesantes.\n"
      ]
    },
    {
      "cell_type": "markdown",
      "metadata": {
        "id": "6JNWGzNUHspU",
        "colab_type": "text"
      },
      "source": [
        "\n",
        "## Parte 2: Exploración con Pandas:\n",
        "\n",
        "  a) Plantear tres preguntas claras y concisas y responderlas mediante un análisis de los datos con las librerías pandas. Por ejemplo (dataset cars): Cuál es el consumo medio de los coches según su origen (Europa, USA, Japón)? Cómo evoluciona el peso de los coches en función del año de fabricación? Qué modelos de coche son el más y el menos eficiente y el más y menos pesado? Cuál fue el modelo más eficiente de cada año? Cuántos modelos de coche son europeos y del año 70?\n",
        "\n",
        "  b) Representar gráficamente las respuestas a las preguntas planteadas utilizando las librerías seaborn y matplotlib. \n",
        "\n",
        "\n",
        "\n"
      ]
    },
    {
      "cell_type": "markdown",
      "metadata": {
        "id": "yoe9T-ukJiYe",
        "colab_type": "text"
      },
      "source": [
        "\n",
        "Teniendo en cuenta sólamente las variables a las **variables de tipo numérico** (excluyendo variables lógicas).\n",
        "\n",
        "## Parte 3: Reducción de dimensionalidad y selección de atributos:\n",
        "\n",
        "  a) Aplique la técnica PCA e indique cuántos componentes principales son necesarios para explicar el 90% de la variabilidad en los datos. \n",
        "\n",
        "  b) Reduzca la dimensionalidad de los datos proyectando los datos a los componentes principales que expliquen el 90% de la variabilidad. Represente gráficamente los datos en el espacio PCA  de dimensionalidad reducida. \n",
        "\n",
        "  c) Identifique una de las variables no numéricas como etiqueta de clase de los datos. Aplique el algoritmo de eliminación recursiva de atributos para elegir las dos variables que mejor permiten clasificar los datos en función de la etiqueta de clase escogida. "
      ]
    },
    {
      "cell_type": "markdown",
      "metadata": {
        "id": "i5juCD9bHsss",
        "colab_type": "text"
      },
      "source": [
        "## Parte 4: Análisis de grupos:\n",
        "\n",
        "  a) Escoja el número óptimo de grupos aplicando una estrategia de selección de modelos basada en el criterio de información bayesiana (BIC) como índice de parsimonia y modelos GMM. \n",
        "\n",
        "  b) Compare el resultado de aplicar k-means, agrupamiento jerárquico y GMM a los datos utilizando el número de grupos identificado en el apartado anterior. Qué técnica obtiene mejores resultados?\n",
        "\n",
        "  c) Represente gráficamente los resultados obtenidos con la técnica de agrupamiento. Comente de forma razonada los grupos identificados en relación a las variables de la base de datos. \n",
        "\n"
      ]
    },
    {
      "cell_type": "markdown",
      "metadata": {
        "id": "b1zSuh8uHsu9",
        "colab_type": "text"
      },
      "source": [
        "## Parte 5: Regresión univariada:\n",
        "\n",
        "  a) Aplique un modelo de regresión univariada a dos de las variables numéricas que presenten una clara correlación. Escoja el orden del modelo de regresión aplicando una estrategia de selección de modelos basado en el índice de parsimonia AIC. \n",
        "\n",
        "  b) Represente gráficamente los diferentes modelos evaluados y el mejor modelo obtenido. \n"
      ]
    },
    {
      "cell_type": "code",
      "metadata": {
        "id": "YvffBAir8Tp_",
        "colab_type": "code",
        "colab": {
          "base_uri": "https://localhost:8080/",
          "height": 122
        },
        "outputId": "4ee3ecb3-b3e4-464c-d88e-890b2039d67d"
      },
      "source": [
        "from google.colab import drive\n",
        "drive.mount('/content/gdrive')"
      ],
      "execution_count": 1,
      "outputs": [
        {
          "output_type": "stream",
          "text": [
            "Go to this URL in a browser: https://accounts.google.com/o/oauth2/auth?client_id=947318989803-6bn6qk8qdgf4n4g3pfee6491hc0brc4i.apps.googleusercontent.com&redirect_uri=urn%3aietf%3awg%3aoauth%3a2.0%3aoob&response_type=code&scope=email%20https%3a%2f%2fwww.googleapis.com%2fauth%2fdocs.test%20https%3a%2f%2fwww.googleapis.com%2fauth%2fdrive%20https%3a%2f%2fwww.googleapis.com%2fauth%2fdrive.photos.readonly%20https%3a%2f%2fwww.googleapis.com%2fauth%2fpeopleapi.readonly\n",
            "\n",
            "Enter your authorization code:\n",
            "··········\n",
            "Mounted at /content/gdrive\n"
          ],
          "name": "stdout"
        }
      ]
    },
    {
      "cell_type": "code",
      "metadata": {
        "id": "P_JUUyX-8qR_",
        "colab_type": "code",
        "colab": {
          "base_uri": "https://localhost:8080/",
          "height": 275
        },
        "outputId": "ea4c2125-a617-4256-f831-a8d27fd32686"
      },
      "source": [
        "import pandas as pd\n",
        "import seaborn as sns; \n",
        "\n",
        "nba_players = pd.read_csv('/content/gdrive/My Drive/data_course/PROYECTO/nba_2017_br.csv',header=0)\n",
        "nba_players.head()"
      ],
      "execution_count": 2,
      "outputs": [
        {
          "output_type": "stream",
          "text": [
            "/usr/local/lib/python3.6/dist-packages/statsmodels/tools/_testing.py:19: FutureWarning: pandas.util.testing is deprecated. Use the functions in the public API at pandas.testing instead.\n",
            "  import pandas.util.testing as tm\n"
          ],
          "name": "stderr"
        },
        {
          "output_type": "execute_result",
          "data": {
            "text/html": [
              "<div>\n",
              "<style scoped>\n",
              "    .dataframe tbody tr th:only-of-type {\n",
              "        vertical-align: middle;\n",
              "    }\n",
              "\n",
              "    .dataframe tbody tr th {\n",
              "        vertical-align: top;\n",
              "    }\n",
              "\n",
              "    .dataframe thead th {\n",
              "        text-align: right;\n",
              "    }\n",
              "</style>\n",
              "<table border=\"1\" class=\"dataframe\">\n",
              "  <thead>\n",
              "    <tr style=\"text-align: right;\">\n",
              "      <th></th>\n",
              "      <th>Rk</th>\n",
              "      <th>Player</th>\n",
              "      <th>Pos</th>\n",
              "      <th>Age</th>\n",
              "      <th>Tm</th>\n",
              "      <th>G</th>\n",
              "      <th>GS</th>\n",
              "      <th>MP</th>\n",
              "      <th>FG</th>\n",
              "      <th>FGA</th>\n",
              "      <th>FG%</th>\n",
              "      <th>3P</th>\n",
              "      <th>3PA</th>\n",
              "      <th>3P%</th>\n",
              "      <th>2P</th>\n",
              "      <th>2PA</th>\n",
              "      <th>2P%</th>\n",
              "      <th>eFG%</th>\n",
              "      <th>FT</th>\n",
              "      <th>FTA</th>\n",
              "      <th>FT%</th>\n",
              "      <th>ORB</th>\n",
              "      <th>DRB</th>\n",
              "      <th>TRB</th>\n",
              "      <th>AST</th>\n",
              "      <th>STL</th>\n",
              "      <th>BLK</th>\n",
              "      <th>TOV</th>\n",
              "      <th>PF</th>\n",
              "      <th>PS/G</th>\n",
              "    </tr>\n",
              "  </thead>\n",
              "  <tbody>\n",
              "    <tr>\n",
              "      <th>0</th>\n",
              "      <td>1</td>\n",
              "      <td>Russell Westbrook</td>\n",
              "      <td>PG</td>\n",
              "      <td>28</td>\n",
              "      <td>OKC</td>\n",
              "      <td>81</td>\n",
              "      <td>81</td>\n",
              "      <td>34.6</td>\n",
              "      <td>10.2</td>\n",
              "      <td>24.0</td>\n",
              "      <td>0.425</td>\n",
              "      <td>2.5</td>\n",
              "      <td>7.2</td>\n",
              "      <td>0.343</td>\n",
              "      <td>7.7</td>\n",
              "      <td>16.8</td>\n",
              "      <td>0.459</td>\n",
              "      <td>0.476</td>\n",
              "      <td>8.8</td>\n",
              "      <td>10.4</td>\n",
              "      <td>0.845</td>\n",
              "      <td>1.7</td>\n",
              "      <td>9.0</td>\n",
              "      <td>10.7</td>\n",
              "      <td>10.4</td>\n",
              "      <td>1.6</td>\n",
              "      <td>0.4</td>\n",
              "      <td>5.4</td>\n",
              "      <td>2.3</td>\n",
              "      <td>31.6</td>\n",
              "    </tr>\n",
              "    <tr>\n",
              "      <th>1</th>\n",
              "      <td>2</td>\n",
              "      <td>James Harden</td>\n",
              "      <td>PG</td>\n",
              "      <td>27</td>\n",
              "      <td>HOU</td>\n",
              "      <td>81</td>\n",
              "      <td>81</td>\n",
              "      <td>36.4</td>\n",
              "      <td>8.3</td>\n",
              "      <td>18.9</td>\n",
              "      <td>0.440</td>\n",
              "      <td>3.2</td>\n",
              "      <td>9.3</td>\n",
              "      <td>0.347</td>\n",
              "      <td>5.1</td>\n",
              "      <td>9.6</td>\n",
              "      <td>0.530</td>\n",
              "      <td>0.525</td>\n",
              "      <td>9.2</td>\n",
              "      <td>10.9</td>\n",
              "      <td>0.847</td>\n",
              "      <td>1.2</td>\n",
              "      <td>7.0</td>\n",
              "      <td>8.1</td>\n",
              "      <td>11.2</td>\n",
              "      <td>1.5</td>\n",
              "      <td>0.5</td>\n",
              "      <td>5.7</td>\n",
              "      <td>2.7</td>\n",
              "      <td>29.1</td>\n",
              "    </tr>\n",
              "    <tr>\n",
              "      <th>2</th>\n",
              "      <td>3</td>\n",
              "      <td>Isaiah Thomas</td>\n",
              "      <td>PG</td>\n",
              "      <td>27</td>\n",
              "      <td>BOS</td>\n",
              "      <td>76</td>\n",
              "      <td>76</td>\n",
              "      <td>33.8</td>\n",
              "      <td>9.0</td>\n",
              "      <td>19.4</td>\n",
              "      <td>0.463</td>\n",
              "      <td>3.2</td>\n",
              "      <td>8.5</td>\n",
              "      <td>0.379</td>\n",
              "      <td>5.8</td>\n",
              "      <td>10.9</td>\n",
              "      <td>0.528</td>\n",
              "      <td>0.546</td>\n",
              "      <td>7.8</td>\n",
              "      <td>8.5</td>\n",
              "      <td>0.909</td>\n",
              "      <td>0.6</td>\n",
              "      <td>2.1</td>\n",
              "      <td>2.7</td>\n",
              "      <td>5.9</td>\n",
              "      <td>0.9</td>\n",
              "      <td>0.2</td>\n",
              "      <td>2.8</td>\n",
              "      <td>2.2</td>\n",
              "      <td>28.9</td>\n",
              "    </tr>\n",
              "    <tr>\n",
              "      <th>3</th>\n",
              "      <td>4</td>\n",
              "      <td>Anthony Davis</td>\n",
              "      <td>C</td>\n",
              "      <td>23</td>\n",
              "      <td>NOP</td>\n",
              "      <td>75</td>\n",
              "      <td>75</td>\n",
              "      <td>36.1</td>\n",
              "      <td>10.3</td>\n",
              "      <td>20.3</td>\n",
              "      <td>0.505</td>\n",
              "      <td>0.5</td>\n",
              "      <td>1.8</td>\n",
              "      <td>0.299</td>\n",
              "      <td>9.7</td>\n",
              "      <td>18.6</td>\n",
              "      <td>0.524</td>\n",
              "      <td>0.518</td>\n",
              "      <td>6.9</td>\n",
              "      <td>8.6</td>\n",
              "      <td>0.802</td>\n",
              "      <td>2.3</td>\n",
              "      <td>9.5</td>\n",
              "      <td>11.8</td>\n",
              "      <td>2.1</td>\n",
              "      <td>1.3</td>\n",
              "      <td>2.2</td>\n",
              "      <td>2.4</td>\n",
              "      <td>2.2</td>\n",
              "      <td>28.0</td>\n",
              "    </tr>\n",
              "    <tr>\n",
              "      <th>4</th>\n",
              "      <td>5</td>\n",
              "      <td>DeMar DeRozan</td>\n",
              "      <td>SG</td>\n",
              "      <td>27</td>\n",
              "      <td>TOR</td>\n",
              "      <td>74</td>\n",
              "      <td>74</td>\n",
              "      <td>35.4</td>\n",
              "      <td>9.7</td>\n",
              "      <td>20.9</td>\n",
              "      <td>0.467</td>\n",
              "      <td>0.4</td>\n",
              "      <td>1.7</td>\n",
              "      <td>0.266</td>\n",
              "      <td>9.3</td>\n",
              "      <td>19.2</td>\n",
              "      <td>0.484</td>\n",
              "      <td>0.477</td>\n",
              "      <td>7.4</td>\n",
              "      <td>8.7</td>\n",
              "      <td>0.842</td>\n",
              "      <td>0.9</td>\n",
              "      <td>4.3</td>\n",
              "      <td>5.2</td>\n",
              "      <td>3.9</td>\n",
              "      <td>1.1</td>\n",
              "      <td>0.2</td>\n",
              "      <td>2.4</td>\n",
              "      <td>1.8</td>\n",
              "      <td>27.3</td>\n",
              "    </tr>\n",
              "  </tbody>\n",
              "</table>\n",
              "</div>"
            ],
            "text/plain": [
              "   Rk             Player Pos  Age   Tm   G  ...   AST  STL  BLK  TOV   PF  PS/G\n",
              "0   1  Russell Westbrook  PG   28  OKC  81  ...  10.4  1.6  0.4  5.4  2.3  31.6\n",
              "1   2       James Harden  PG   27  HOU  81  ...  11.2  1.5  0.5  5.7  2.7  29.1\n",
              "2   3      Isaiah Thomas  PG   27  BOS  76  ...   5.9  0.9  0.2  2.8  2.2  28.9\n",
              "3   4      Anthony Davis   C   23  NOP  75  ...   2.1  1.3  2.2  2.4  2.2  28.0\n",
              "4   5      DeMar DeRozan  SG   27  TOR  74  ...   3.9  1.1  0.2  2.4  1.8  27.3\n",
              "\n",
              "[5 rows x 30 columns]"
            ]
          },
          "metadata": {
            "tags": []
          },
          "execution_count": 2
        }
      ]
    },
    {
      "cell_type": "code",
      "metadata": {
        "id": "6_TnT6Zt-rQd",
        "colab_type": "code",
        "colab": {}
      },
      "source": [
        ""
      ],
      "execution_count": 0,
      "outputs": []
    }
  ]
}