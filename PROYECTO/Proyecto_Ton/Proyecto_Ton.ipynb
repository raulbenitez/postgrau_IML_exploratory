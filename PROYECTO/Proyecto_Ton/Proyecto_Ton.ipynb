{
  "nbformat": 4,
  "nbformat_minor": 0,
  "metadata": {
    "colab": {
      "name": "Proyecto_Ton.ipynb",
      "provenance": [],
      "collapsed_sections": [],
      "authorship_tag": "ABX9TyM1SB8yfNBx+U58ECbWRZhu",
      "include_colab_link": true
    },
    "kernelspec": {
      "name": "python3",
      "display_name": "Python 3"
    }
  },
  "cells": [
    {
      "cell_type": "markdown",
      "metadata": {
        "id": "view-in-github",
        "colab_type": "text"
      },
      "source": [
        "<a href=\"https://colab.research.google.com/github/raulbenitez/postgrau_IML_exploratory/blob/master/PROYECTO/Proyecto_Ton/Proyecto_Ton.ipynb\" target=\"_parent\"><img src=\"https://colab.research.google.com/assets/colab-badge.svg\" alt=\"Open In Colab\"/></a>"
      ]
    },
    {
      "cell_type": "code",
      "metadata": {
        "id": "EzWX0GGy1YFa",
        "colab_type": "code",
        "outputId": "3f30b31c-24d6-4560-930e-7e45dac27485",
        "colab": {
          "base_uri": "https://localhost:8080/",
          "height": 55
        }
      },
      "source": [
        "from google.colab import drive\n",
        "drive.mount('/content/gdrive')"
      ],
      "execution_count": 9,
      "outputs": [
        {
          "output_type": "stream",
          "text": [
            "Drive already mounted at /content/gdrive; to attempt to forcibly remount, call drive.mount(\"/content/gdrive\", force_remount=True).\n"
          ],
          "name": "stdout"
        }
      ]
    },
    {
      "cell_type": "code",
      "metadata": {
        "id": "evBTFxc02vPt",
        "colab_type": "code",
        "colab": {}
      },
      "source": [
        "import pandas as pd\n",
        "import seaborn as sns\n",
        "import matplotlib.pyplot as plt"
      ],
      "execution_count": 0,
      "outputs": []
    },
    {
      "cell_type": "code",
      "metadata": {
        "id": "ndXpwt3oCO1l",
        "colab_type": "code",
        "outputId": "25c04a4b-71f1-49c4-d420-e4f0abd46eae",
        "colab": {
          "base_uri": "https://localhost:8080/",
          "height": 425
        }
      },
      "source": [
        "df = pd.read_csv('/content/gdrive/My Drive/data_course/GlobalAirportDatabase.csv')\n",
        "df.head()"
      ],
      "execution_count": 28,
      "outputs": [
        {
          "output_type": "execute_result",
          "data": {
            "text/html": [
              "<div>\n",
              "<style scoped>\n",
              "    .dataframe tbody tr th:only-of-type {\n",
              "        vertical-align: middle;\n",
              "    }\n",
              "\n",
              "    .dataframe tbody tr th {\n",
              "        vertical-align: top;\n",
              "    }\n",
              "\n",
              "    .dataframe thead th {\n",
              "        text-align: right;\n",
              "    }\n",
              "</style>\n",
              "<table border=\"1\" class=\"dataframe\">\n",
              "  <thead>\n",
              "    <tr style=\"text-align: right;\">\n",
              "      <th></th>\n",
              "      <th>ICAO Code</th>\n",
              "      <th>IATA Code</th>\n",
              "      <th>Airport Name</th>\n",
              "      <th>City/Town</th>\n",
              "      <th>Country</th>\n",
              "      <th>Latitude Degrees</th>\n",
              "      <th>Latitude Minutes</th>\n",
              "      <th>Latitude Seconds</th>\n",
              "      <th>Latitude Direction</th>\n",
              "      <th>Longitude Degrees</th>\n",
              "      <th>Longitude Minutes</th>\n",
              "      <th>Longitude Seconds</th>\n",
              "      <th>Longitude Direction</th>\n",
              "      <th>Altitude</th>\n",
              "      <th>Latitude Decimal Degrees</th>\n",
              "      <th>Longitude Decimal Degrees</th>\n",
              "    </tr>\n",
              "  </thead>\n",
              "  <tbody>\n",
              "    <tr>\n",
              "      <th>0</th>\n",
              "      <td>AYGA</td>\n",
              "      <td>GKA</td>\n",
              "      <td>GOROKA</td>\n",
              "      <td>GOROKA</td>\n",
              "      <td>PAPUA NEW GUINEA</td>\n",
              "      <td>6</td>\n",
              "      <td>4</td>\n",
              "      <td>54</td>\n",
              "      <td>S</td>\n",
              "      <td>145</td>\n",
              "      <td>23</td>\n",
              "      <td>30</td>\n",
              "      <td>E</td>\n",
              "      <td>1610</td>\n",
              "      <td>-6.082</td>\n",
              "      <td>145.392</td>\n",
              "    </tr>\n",
              "    <tr>\n",
              "      <th>1</th>\n",
              "      <td>AYLA</td>\n",
              "      <td>LAE</td>\n",
              "      <td>NaN</td>\n",
              "      <td>LAE</td>\n",
              "      <td>PAPUA NEW GUINEA</td>\n",
              "      <td>0</td>\n",
              "      <td>0</td>\n",
              "      <td>0</td>\n",
              "      <td>U</td>\n",
              "      <td>0</td>\n",
              "      <td>0</td>\n",
              "      <td>0</td>\n",
              "      <td>U</td>\n",
              "      <td>0</td>\n",
              "      <td>0.000</td>\n",
              "      <td>0.000</td>\n",
              "    </tr>\n",
              "    <tr>\n",
              "      <th>2</th>\n",
              "      <td>AYMD</td>\n",
              "      <td>MAG</td>\n",
              "      <td>MADANG</td>\n",
              "      <td>MADANG</td>\n",
              "      <td>PAPUA NEW GUINEA</td>\n",
              "      <td>5</td>\n",
              "      <td>12</td>\n",
              "      <td>25</td>\n",
              "      <td>S</td>\n",
              "      <td>145</td>\n",
              "      <td>47</td>\n",
              "      <td>19</td>\n",
              "      <td>E</td>\n",
              "      <td>7</td>\n",
              "      <td>-5.207</td>\n",
              "      <td>145.789</td>\n",
              "    </tr>\n",
              "    <tr>\n",
              "      <th>3</th>\n",
              "      <td>AYMH</td>\n",
              "      <td>HGU</td>\n",
              "      <td>MOUNT HAGEN</td>\n",
              "      <td>MOUNT HAGEN</td>\n",
              "      <td>PAPUA NEW GUINEA</td>\n",
              "      <td>5</td>\n",
              "      <td>49</td>\n",
              "      <td>34</td>\n",
              "      <td>S</td>\n",
              "      <td>144</td>\n",
              "      <td>17</td>\n",
              "      <td>46</td>\n",
              "      <td>E</td>\n",
              "      <td>1643</td>\n",
              "      <td>-5.826</td>\n",
              "      <td>144.296</td>\n",
              "    </tr>\n",
              "    <tr>\n",
              "      <th>4</th>\n",
              "      <td>AYNZ</td>\n",
              "      <td>LAE</td>\n",
              "      <td>NADZAB</td>\n",
              "      <td>NADZAB</td>\n",
              "      <td>PAPUA NEW GUINEA</td>\n",
              "      <td>6</td>\n",
              "      <td>34</td>\n",
              "      <td>11</td>\n",
              "      <td>S</td>\n",
              "      <td>146</td>\n",
              "      <td>43</td>\n",
              "      <td>34</td>\n",
              "      <td>E</td>\n",
              "      <td>73</td>\n",
              "      <td>-6.570</td>\n",
              "      <td>146.726</td>\n",
              "    </tr>\n",
              "  </tbody>\n",
              "</table>\n",
              "</div>"
            ],
            "text/plain": [
              "  ICAO Code IATA Code  ... Latitude Decimal Degrees Longitude Decimal Degrees\n",
              "0      AYGA       GKA  ...                   -6.082                   145.392\n",
              "1      AYLA       LAE  ...                    0.000                     0.000\n",
              "2      AYMD       MAG  ...                   -5.207                   145.789\n",
              "3      AYMH       HGU  ...                   -5.826                   144.296\n",
              "4      AYNZ       LAE  ...                   -6.570                   146.726\n",
              "\n",
              "[5 rows x 16 columns]"
            ]
          },
          "metadata": {
            "tags": []
          },
          "execution_count": 28
        }
      ]
    },
    {
      "cell_type": "code",
      "metadata": {
        "id": "z9krjNoxCO0n",
        "colab_type": "code",
        "colab": {
          "base_uri": "https://localhost:8080/",
          "height": 35
        },
        "outputId": "3f27a80e-5b69-4e65-fd3c-4252fb0f1abd"
      },
      "source": [
        "df.shape"
      ],
      "execution_count": 29,
      "outputs": [
        {
          "output_type": "execute_result",
          "data": {
            "text/plain": [
              "(9300, 16)"
            ]
          },
          "metadata": {
            "tags": []
          },
          "execution_count": 29
        }
      ]
    },
    {
      "cell_type": "code",
      "metadata": {
        "id": "aoMz7hKkG8io",
        "colab_type": "code",
        "colab": {
          "base_uri": "https://localhost:8080/",
          "height": 126
        },
        "outputId": "f35dc252-8d6d-44e6-b3ba-c7b878216195"
      },
      "source": [
        "df.columns"
      ],
      "execution_count": 30,
      "outputs": [
        {
          "output_type": "execute_result",
          "data": {
            "text/plain": [
              "Index(['ICAO Code', 'IATA Code', 'Airport Name', 'City/Town', 'Country',\n",
              "       'Latitude Degrees', 'Latitude Minutes', 'Latitude Seconds',\n",
              "       'Latitude Direction', 'Longitude Degrees', 'Longitude Minutes',\n",
              "       'Longitude Seconds', 'Longitude Direction', 'Altitude',\n",
              "       'Latitude Decimal Degrees', 'Longitude Decimal Degrees'],\n",
              "      dtype='object')"
            ]
          },
          "metadata": {
            "tags": []
          },
          "execution_count": 30
        }
      ]
    }
  ]
}