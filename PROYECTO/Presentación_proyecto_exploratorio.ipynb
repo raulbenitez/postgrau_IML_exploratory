{
  "nbformat": 4,
  "nbformat_minor": 0,
  "metadata": {
    "colab": {
      "name": "Presentación_proyecto_exploratorio.ipynb",
      "provenance": [],
      "collapsed_sections": [],
      "authorship_tag": "ABX9TyMTP4NhGXpAJ6u8dS02Jihp",
      "include_colab_link": true
    },
    "kernelspec": {
      "name": "python3",
      "display_name": "Python 3"
    }
  },
  "cells": [
    {
      "cell_type": "markdown",
      "metadata": {
        "id": "view-in-github",
        "colab_type": "text"
      },
      "source": [
        "<a href=\"https://colab.research.google.com/github/raulbenitez/postgrau_IML_exploratory/blob/master/PROYECTO/Presentaci%C3%B3n_proyecto_exploratorio.ipynb\" target=\"_parent\"><img src=\"https://colab.research.google.com/assets/colab-badge.svg\" alt=\"Open In Colab\"/></a>"
      ]
    },
    {
      "cell_type": "markdown",
      "metadata": {
        "id": "lbgS7cmDpWnB",
        "colab_type": "text"
      },
      "source": [
        "# Proyecto análisis exploratorio de datos:\n",
        "\n",
        "Realizar las siguientes actividades y entregar en formato google colab notebook en la carpeta **PROYECTO** del respositorio github. \n"
      ]
    },
    {
      "cell_type": "markdown",
      "metadata": {
        "id": "naZAWsVYHsmq",
        "colab_type": "text"
      },
      "source": [
        "\n",
        "## Parte 1: Base de datos\n",
        "\n",
        "  a) Explorad la plataforma de datos kaggle (https://www.kaggle.com/) y elegir una conjunto de datos con al menos 5 variables de tipo numérico (sin incluir variables lógicas 0/1) y al menos una de tipo categórico. Exponed de forma clara y razonada los motivos por los que la habéis elegido. Describid la base de datos elegida con un breve texto que indique la temática y el tipo de datos que incluye. \n",
        "\n",
        "  b) Cargad los datos e indicar el número de observaciones, tipos de variables y su rango de valores. Resumen estadístico de los datos. \n",
        "\n",
        "  c) Especificad si existen observaciones ausentes o erróneas (NaNs), reportando la fracción de observaciones que resultan afectadas en cada variable del problema. Aplicar una estrategia de imputación de observaciones ausentes o erróneas y justificar su utilización. \n",
        "\n",
        "  d) Representar gráficamente la distribución de las variables numéricas en forma de histograma y de diagrama de dispersión multidimensional (pairplot). Para las variables categóricas, representad el número de observaciones por categoría en forma de diagrama de barras. \n",
        "\n",
        "  e) Observaciones generales sobre la base de datos: correlaciones entre va\n",
        "  riables, comentarios sobre qué tipo de análisis se puede realizar, interacciones interesantes.\n"
      ]
    },
    {
      "cell_type": "markdown",
      "metadata": {
        "id": "6JNWGzNUHspU",
        "colab_type": "text"
      },
      "source": [
        "\n",
        "## Parte 2: Exploración con Pandas:\n",
        "\n",
        "  a) Plantear tres preguntas claras y concisas y responderlas mediante un análisis de los datos con las librerías pandas. Por ejemplo (dataset cars): Cuál es el consumo medio de los coches según su origen (Europa, USA, Japón)? Cómo evoluciona el peso de los coches en función del año de fabricación? Qué modelos de coche son el más y el menos eficiente y el más y menos pesado? Cuál fue el modelo más eficiente de cada año? Cuántos modelos de coche son europeos y del año 70?\n",
        "\n",
        "  b) Representar gráficamente las respuestas a las preguntas planteadas utilizando las librerías seaborn y matplotlib. \n",
        "\n",
        "\n",
        "\n"
      ]
    },
    {
      "cell_type": "markdown",
      "metadata": {
        "id": "yoe9T-ukJiYe",
        "colab_type": "text"
      },
      "source": [
        "\n",
        "Teniendo en cuenta sólamente las variables a las **variables de tipo numérico** (excluyendo variables lógicas).\n",
        "\n",
        "## Parte 3: Reducción de dimensionalidad y selección de atributos:\n",
        "\n",
        "  a) Aplique la técnica PCA e indique cuántos componentes principales son necesarios para explicar el 90% de la variabilidad en los datos. \n",
        "\n",
        "  b) Reduzca la dimensionalidad de los datos proyectando los datos a los componentes principales que expliquen el 90% de la variabilidad. Represente gráficamente los datos en el espacio PCA  de dimensionalidad reducida. \n",
        "\n",
        "  c) Identifique una de las variables no numéricas como etiqueta de clase de los datos. Aplique el algoritmo de eliminación recursiva de atributos para elegir las dos variables que mejor permiten clasificar los datos en función de la etiqueta de clase escogida. "
      ]
    },
    {
      "cell_type": "markdown",
      "metadata": {
        "id": "i5juCD9bHsss",
        "colab_type": "text"
      },
      "source": [
        "## Parte 4: Análisis de grupos:\n",
        "\n",
        "  a) Escoja el número óptimo de grupos aplicando una estrategia de selección de modelos basada en el criterio de información bayesiana (BIC) como índice de parsimonia y modelos GMM. \n",
        "\n",
        "  b) Compare el resultado de aplicar k-means, agrupamiento jerárquico y GMM a los datos utilizando el número de grupos identificado en el apartado anterior. Qué técnica obtiene mejores resultados?\n",
        "\n",
        "  c) Represente gráficamente los resultados obtenidos con la técnica de agrupamiento. Comente de forma razonada los grupos identificados en relación a las variables de la base de datos. \n",
        "\n"
      ]
    },
    {
      "cell_type": "markdown",
      "metadata": {
        "id": "b1zSuh8uHsu9",
        "colab_type": "text"
      },
      "source": [
        "## Parte 5: Regresión univariada:\n",
        "\n",
        "  a) Aplique un modelo de regresión univariada a dos de las variables numéricas que presenten una clara correlación. Escoja el orden del modelo de regresión aplicando una estrategia de selección de modelos basado en el índice de parsimonia AIC. \n",
        "\n",
        "  b) Represente gráficamente los diferentes modelos evaluados y el mejor modelo obtenido. \n"
      ]
    }
  ]
}