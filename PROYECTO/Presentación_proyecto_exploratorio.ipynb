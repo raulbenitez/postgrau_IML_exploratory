{
  "nbformat": 4,
  "nbformat_minor": 0,
  "metadata": {
    "colab": {
      "name": "Presentación_proyecto_exploratorio.ipynb",
      "provenance": [],
      "authorship_tag": "ABX9TyPVEUw9kLf+PlLxkXgCL509",
      "include_colab_link": true
    },
    "kernelspec": {
      "name": "python3",
      "display_name": "Python 3"
    }
  },
  "cells": [
    {
      "cell_type": "markdown",
      "metadata": {
        "id": "view-in-github",
        "colab_type": "text"
      },
      "source": [
        "<a href=\"https://colab.research.google.com/github/raulbenitez/postgrau_IML_exploratory/blob/master/PROYECTO/Presentaci%C3%B3n_proyecto_exploratorio.ipynb\" target=\"_parent\"><img src=\"https://colab.research.google.com/assets/colab-badge.svg\" alt=\"Open In Colab\"/></a>"
      ]
    },
    {
      "cell_type": "markdown",
      "metadata": {
        "id": "lbgS7cmDpWnB",
        "colab_type": "text"
      },
      "source": [
        "# Proyecto Análisis exploratorio de datos:\n",
        "\n",
        "Realizar las siguientes actividades y entregar en formato colab notebook en esta carpeta del respositorio github. \n",
        "\n",
        "## Parte 1: Base de datos\n",
        "\n",
        "  a) Explorad la plataforma de datos kaggle (https://www.kaggle.com/) y elegir una conjunto de datos con al menos 5 variables de tipo numérico (sin incluir variables lógicas 0/1) y al menos una de tipo categórico. Exponed de forma clara y razonada los motivos por los que la habéis elegido. Describid la base de datos elegida con un breve texto que indique la temática y el tipo de datos que incluye. \n",
        "\n",
        "  b) Cargad los datos e indicar el número de observaciones, tipos de variables y su rango de valores. Resumen estadístico de los datos. \n",
        "\n",
        "  c) Especificad si existen observaciones ausentes o erróneas (NaNs), reportando la fracción de observaciones que resultan afectadas en cada variable del problema. Aplicar una estrategia de imputación de observaciones ausentes o erróneas y justificar su utilización. \n",
        "\n",
        "  d) Representar gráficamente la distribución de las variables numéricas en forma de histograma y de diagrama de dispersión multidimensional (pairplot). Para las variables categóricas, representad el número de observaciones por categoría en forma de diagrama de barras. \n",
        "\n",
        "  e) Observaciones generales sobre la base de datos: correlaciones entre va\n",
        "  riables, comentarios sobre qué tipo de análisis se puede realizar, interacciones interesantes.\n",
        "\n",
        "## Parte 2: Exploración con Pandas:\n",
        "a) Plantear tres preguntas claras y concisas y responderlas mediante un análisis de los datos con las librerías pandas. Por ejemplo (dataset cars): Cuál es el consumo medio de los coches según su origen (Europa, USA, Japón)? Cómo evoluciona el peso de los coches en función del año de fabricación? Qué modelos de coche son el más y el menos eficiente y el más y menos pesado? Cuál fue el modelo más eficiente de cada año? Cuántos modelos de coche son europeos y del año 70?\n",
        "\n",
        "b) Representar gráficamente las respuestas a las preguntas planteadas utilizando las librerías seaborn y matplotlib. \n",
        "\n",
        "c) Elegir dos variables numéricas que presenten una cierta correlación y ajustar un modelo de regresión lineal que explique el comportamiento. \n",
        "\n",
        "\n",
        "Teniendo en cuenta sólamente las variables a las variables de tipo numérico (excluyendo variables lógicas).\n",
        "\n",
        "# Parte 3: Reducción de dimensionalidad y selección de atributos:\n",
        "\n",
        "a) Aplique la técnica PCA e indique cuántos componentes principales son necesarios para explicar el 90% de la variabilidad en los datos. \n",
        "\n",
        "b) Reduzca la dimensionalidad de los datos proyectando los datos a los componentes principales que expliquen el 90% de la variabilidad. Represente gráficamente los datos en el espacio PCA  de dimensionalidad reducida. \n",
        "\n",
        "c) Identifique una de las variables no numéricas como etiqueta de clase de los datos. Aplique el algoritmo de eliminación recursiva de atributos para elegir las dos variables que mejor permiten clasificar los datos en función de la etiqueta de clase escogida. \n",
        "\n",
        "# Parte 4: Análisis de grupos:\n",
        "\n",
        "a) Escoja el número óptimo de grupos aplicando una estrategia de selección de modelos basada en el criterio de información bayesiana (BIC) como índice de parsimonia. \n",
        "\n",
        "b) Compare el resultado de aplicar k-means, agrupamiento jerárquico y agrupamiento aglomerativo a los datos utilizando el número de grupos identificado en el apartado anterior. Qué técnica obtiene mejores resultados?\n",
        "\n",
        "c) Represente gráficamente los resultados obtenidos con la técnica de agrupamiento. Comente de forma razonada los grupos identificados en relación a las variables de la base de datos. \n"
      ]
    },
    {
      "cell_type": "code",
      "metadata": {
        "id": "rxAUGD0PsbEc",
        "colab_type": "code",
        "colab": {}
      },
      "source": [
        ""
      ],
      "execution_count": 0,
      "outputs": []
    }
  ]
}