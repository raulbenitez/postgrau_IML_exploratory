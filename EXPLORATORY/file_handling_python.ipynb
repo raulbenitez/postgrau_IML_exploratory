{
  "nbformat": 4,
  "nbformat_minor": 0,
  "metadata": {
    "colab": {
      "name": "file_handling_python.ipynb",
      "provenance": [],
      "authorship_tag": "ABX9TyOcfnFm4ZO+lLVQyG3ftb+i",
      "include_colab_link": true
    },
    "kernelspec": {
      "name": "python3",
      "display_name": "Python 3"
    }
  },
  "cells": [
    {
      "cell_type": "markdown",
      "metadata": {
        "id": "view-in-github",
        "colab_type": "text"
      },
      "source": [
        "<a href=\"https://colab.research.google.com/github/raulbenitez/postgrau_IML_exploratory/blob/master/file_handling_python.ipynb\" target=\"_parent\"><img src=\"https://colab.research.google.com/assets/colab-badge.svg\" alt=\"Open In Colab\"/></a>"
      ]
    },
    {
      "cell_type": "markdown",
      "metadata": {
        "id": "cGLKW6l-h6R1",
        "colab_type": "text"
      },
      "source": [
        "# File handling in Python:\n",
        "\n",
        "List folder contents:"
      ]
    },
    {
      "cell_type": "code",
      "metadata": {
        "id": "ScGwvMvjjbjW",
        "colab_type": "code",
        "outputId": "f1f247d7-1bf7-4710-b931-1f4dfa52a73b",
        "colab": {
          "base_uri": "https://localhost:8080/",
          "height": 122
        }
      },
      "source": [
        "from google.colab import drive \n",
        "drive.mount('/content/gdrive')"
      ],
      "execution_count": 17,
      "outputs": [
        {
          "output_type": "stream",
          "text": [
            "Go to this URL in a browser: https://accounts.google.com/o/oauth2/auth?client_id=947318989803-6bn6qk8qdgf4n4g3pfee6491hc0brc4i.apps.googleusercontent.com&redirect_uri=urn%3aietf%3awg%3aoauth%3a2.0%3aoob&response_type=code&scope=email%20https%3a%2f%2fwww.googleapis.com%2fauth%2fdocs.test%20https%3a%2f%2fwww.googleapis.com%2fauth%2fdrive%20https%3a%2f%2fwww.googleapis.com%2fauth%2fdrive.photos.readonly%20https%3a%2f%2fwww.googleapis.com%2fauth%2fpeopleapi.readonly\n",
            "\n",
            "Enter your authorization code:\n",
            "··········\n",
            "Mounted at /content/gdrive\n"
          ],
          "name": "stdout"
        }
      ]
    },
    {
      "cell_type": "markdown",
      "metadata": {
        "id": "i_9wkXD5zWSE",
        "colab_type": "text"
      },
      "source": [
        "La función os.walk explora de forma recursiva el árbol de directorios a partir de un directorio de origen. La función devuelve los directorios y ficheros que va encontrando en durante la exploración:"
      ]
    },
    {
      "cell_type": "code",
      "metadata": {
        "id": "N52PBQpmxIoj",
        "colab_type": "code",
        "colab": {
          "base_uri": "https://localhost:8080/",
          "height": 204
        },
        "outputId": "5c1d1bbd-7318-4d4f-de1d-8d71cf7e8f8c"
      },
      "source": [
        "import os\n",
        "\n",
        "root_folder = '/content/gdrive/My Drive/data_course'\n",
        "\n",
        "for root, dirs, files in os.walk(root_folder, topdown=False):\n",
        "    for name in files:\n",
        "        print(os.path.join(root, name))\n",
        "    for name in dirs:\n",
        "        print(os.path.join(root, name))"
      ],
      "execution_count": 18,
      "outputs": [
        {
          "output_type": "stream",
          "text": [
            "/content/gdrive/My Drive/data_course/titanic/gender_submission.csv\n",
            "/content/gdrive/My Drive/data_course/titanic/test.csv\n",
            "/content/gdrive/My Drive/data_course/titanic/train.csv\n",
            "/content/gdrive/My Drive/data_course/mpg_cars/auto-mpg.csv\n",
            "/content/gdrive/My Drive/data_course/boston_crime/prueba/crime1.csv\n",
            "/content/gdrive/My Drive/data_course/boston_crime/prueba/prueba2\n",
            "/content/gdrive/My Drive/data_course/boston_crime/crime.csv\n",
            "/content/gdrive/My Drive/data_course/boston_crime/prueba\n",
            "/content/gdrive/My Drive/data_course/titanic\n",
            "/content/gdrive/My Drive/data_course/mpg_cars\n",
            "/content/gdrive/My Drive/data_course/boston_crime\n"
          ],
          "name": "stdout"
        }
      ]
    },
    {
      "cell_type": "markdown",
      "metadata": {
        "id": "ewE6xO2Vzodc",
        "colab_type": "text"
      },
      "source": [
        "Listar todos los ficheros excel y csv que se encuentren en el árbol de directorios, cargarlos en un dataframe de pandas e indicar sus dimensiones:"
      ]
    },
    {
      "cell_type": "code",
      "metadata": {
        "id": "PLzW73AEzyn7",
        "colab_type": "code",
        "colab": {
          "base_uri": "https://localhost:8080/",
          "height": 221
        },
        "outputId": "3424077a-7f12-4eaf-f34f-c77b99ceeec9"
      },
      "source": [
        "import pandas as pd\n",
        "\n",
        "for root, dirs, files in os.walk(root_folder, topdown=False):\n",
        "    for name in files:\n",
        "        file_path = os.path.join(root, name)\n",
        "        print(file_path)\n",
        "        if (name.endswith('.csv')):\n",
        "            df = pd.read_csv(file_path, engine='python')\n",
        "            print('csv contents data size {}'.format(df.shape))\n",
        "        elif (name.endswith('.xls')) | (name.endswith('.xlsx')):\n",
        "            print(name)\n",
        "            df = pd.read_excel(file_path, engine='python')\n",
        "            print('excel contents data size {}'.format(df.shape))\n",
        "           \n",
        " "
      ],
      "execution_count": 22,
      "outputs": [
        {
          "output_type": "stream",
          "text": [
            "/content/gdrive/My Drive/data_course/titanic/gender_submission.csv\n",
            "csv contents data size (418, 2)\n",
            "/content/gdrive/My Drive/data_course/titanic/test.csv\n",
            "csv contents data size (418, 11)\n",
            "/content/gdrive/My Drive/data_course/titanic/train.csv\n",
            "csv contents data size (891, 12)\n",
            "/content/gdrive/My Drive/data_course/mpg_cars/auto-mpg.csv\n",
            "csv contents data size (398, 9)\n",
            "/content/gdrive/My Drive/data_course/boston_crime/prueba/crime1.csv\n",
            "csv contents data size (327820, 17)\n",
            "/content/gdrive/My Drive/data_course/boston_crime/crime.csv\n",
            "csv contents data size (327820, 17)\n"
          ],
          "name": "stdout"
        }
      ]
    }
  ]
}
