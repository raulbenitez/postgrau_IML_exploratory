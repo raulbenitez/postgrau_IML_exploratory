{
  "nbformat": 4,
  "nbformat_minor": 0,
  "metadata": {
    "colab": {
      "name": "ejercicio_explorar_sns.ipynb",
      "provenance": [],
      "authorship_tag": "ABX9TyOr9mK3DrBgwWxEfepIOfPF",
      "include_colab_link": true
    },
    "kernelspec": {
      "name": "python3",
      "display_name": "Python 3"
    },
    "language_info": {
      "name": "python"
    }
  },
  "cells": [
    {
      "cell_type": "markdown",
      "metadata": {
        "id": "view-in-github",
        "colab_type": "text"
      },
      "source": [
        "<a href=\"https://colab.research.google.com/github/raulbenitez/postgrau_IML_exploratory/blob/master/EXPLORATORY/EJERCICIO1/ejercicio_explorar_sns.ipynb\" target=\"_parent\"><img src=\"https://colab.research.google.com/assets/colab-badge.svg\" alt=\"Open In Colab\"/></a>"
      ]
    },
    {
      "cell_type": "markdown",
      "metadata": {
        "id": "mCkDF_j8nU2V"
      },
      "source": [
        "# Exploring seaborn built-in datasets:\n",
        "\n",
        "Choose one of the seaborn built-in datasets at https://seaborn.pydata.org/generated/seaborn.load_dataset.html and create a python notebook exploring the basic properties of the data using Pandas:\n",
        "\n",
        "- statistical summary\n",
        "- columns and types\n",
        "- presence of missing data (imputation)\n",
        "- filter data, sort, agrupar, valores medios, etc"
      ]
    },
    {
      "cell_type": "code",
      "metadata": {
        "id": "y4FUVnAznTjv"
      },
      "source": [
        "import seaborn as sns\n",
        "ddiamonds = sns.load_dataset('diamonds')\n",
        "ddiamonds_num= ddiamonds.select_dtypes(include='number')\n",
        "ddiamonds_num.head()"
      ],
      "execution_count": null,
      "outputs": []
    }
  ]
}