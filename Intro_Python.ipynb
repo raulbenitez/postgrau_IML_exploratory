{
  "nbformat": 4,
  "nbformat_minor": 0,
  "metadata": {
    "colab": {
      "name": "Intro Python.ipynb",
      "provenance": []
    },
    "kernelspec": {
      "name": "python3",
      "display_name": "Python 3"
    }
  },
  "cells": [
    {
      "cell_type": "markdown",
      "metadata": {
        "id": "zVQHimRGeS75"
      },
      "source": [
        "\n",
        "\n",
        "---\n",
        "\n"
      ]
    },
    {
      "cell_type": "markdown",
      "metadata": {
        "id": "lk1w6d8zfJbb"
      },
      "source": [
        "# **INTRODUCTION TO PYTHON PROGRAMMING**"
      ]
    },
    {
      "cell_type": "markdown",
      "metadata": {
        "id": "9LygxZuMiKAB"
      },
      "source": [
        "## Why Python?\n",
        "Python is a high-level programming language that allows you to solve general-purpose problems. It is especially useful in data processing, pattern recognition and artificial intelligence applications. Think of a kind of very powerful programmable scientific calculator.\n",
        "\n",
        "The objective of this first part of the course is to hace a crash course on Python programming. In the following laboratory sessions you will learn how to use Python in order to do data analysis and machine learning. "
      ]
    },
    {
      "cell_type": "markdown",
      "metadata": {
        "id": "pEQYpwPvfvWO"
      },
      "source": [
        "## The google Colaboratory platform: Python notebooks\n",
        "\n",
        "There are a large number of programming environments that allow you to develop programs with Python. The most common ones require the installation in your computer of a complete Python programming platform such as Anaconda (https://www.anaconda.com/, for MacOS and Windows) or WinPython (https://winpython.github.io/, Windows only). These distributions work perfectly fine but require lots of ressources from your personal computers in terms of disk, memory and CPU. \n",
        "\n",
        "### Google colab\n",
        "Instead, in the course we will use a google cloud platform called google collaboratory that already has most of the necessary libraries and allows us to work without the need to install anything on our computers:\n",
        "\n",
        "https://colab.research.google.com/\n",
        "\n",
        "The only thing it asks us to start working is a gmail google account. In addition, it allows us to run the programs on google servers, which can be very useful when we manipulate large amounts of data.\n",
        "\n",
        "### Python notebooks\n",
        "The way to program on this platform are the **Python notebooks**: A notebook is a document that combines text and Python code. A notebook is composed of two different kinds of cells: code cells and text cells. Text cells are used to explain what we do at any given time, and the Python code excutes different code segments that perform different functions.  Here is a brief tutorial of how to get started working with juputer notebooks in Google colab: \n",
        "\n",
        "https://colab.research.google.com/notebooks/intro.ipynb\n",
        "\n",
        "The text in the notebooks is written in a simple markdown language called **Markdown**. To have a brief introduction to markdown language just take a look to https://colab.research.google.com/notebooks/markdown_guide.ipynb"
      ]
    },
    {
      "cell_type": "markdown",
      "metadata": {
        "id": "jsxiJZwxdlzZ"
      },
      "source": [
        "## Executing commands\n",
        "\n",
        "In order to execute a command, you should write it in a **code cell** and execute it by either clicking in the play icon on the left or by the keyboard shortcut Shift+Return. "
      ]
    },
    {
      "cell_type": "code",
      "metadata": {
        "id": "eY80RVdvdlza",
        "colab": {
          "base_uri": "https://localhost:8080/"
        },
        "outputId": "ddd44d54-3650-44de-c1f7-c13979dba0b8"
      },
      "source": [
        "3 + 4 + 9"
      ],
      "execution_count": 3,
      "outputs": [
        {
          "output_type": "execute_result",
          "data": {
            "text/plain": [
              "16"
            ]
          },
          "metadata": {},
          "execution_count": 3
        }
      ]
    },
    {
      "cell_type": "code",
      "metadata": {
        "id": "puH-CkUPdlzg",
        "colab": {
          "base_uri": "https://localhost:8080/"
        },
        "outputId": "e3c04b7d-8753-4db3-87de-40fd245ff3cd"
      },
      "source": [
        "list(range(10))"
      ],
      "execution_count": 5,
      "outputs": [
        {
          "output_type": "execute_result",
          "data": {
            "text/plain": [
              "[0, 1, 2, 3, 4, 5, 6, 7, 8, 9]"
            ]
          },
          "metadata": {},
          "execution_count": 5
        }
      ]
    },
    {
      "cell_type": "markdown",
      "metadata": {
        "id": "0laSTlXFdlzl"
      },
      "source": [
        "## Modules and libraries\n",
        "\n",
        "Python is a general-purpose programming language, so when we want to use more specific commands (such as statistical operators or string processing operators) we usually need to import them before we can use them. For Scientific Python, one of the most important libraries that we need is **numpy** (Numerical Python, NumPy: Basic mathematical operations with vectors and arrays: https://numpy.org/), which can be loaded like this:"
      ]
    },
    {
      "cell_type": "code",
      "metadata": {
        "id": "6BbJUhuJdlzm",
        "colab": {
          "base_uri": "https://localhost:8080/"
        },
        "outputId": "e2496a7e-16a8-4d01-fb1f-59d049d7cf43"
      },
      "source": [
        "import numpy as np\n",
        "np.sqrt(25)"
      ],
      "execution_count": 6,
      "outputs": [
        {
          "output_type": "execute_result",
          "data": {
            "text/plain": [
              "5.0"
            ]
          },
          "metadata": {},
          "execution_count": 6
        }
      ]
    },
    {
      "cell_type": "code",
      "metadata": {
        "id": "yDfExa3edlzp",
        "colab": {
          "base_uri": "https://localhost:8080/"
        },
        "outputId": "c93932af-56a5-4cdd-ea05-7c82e33ce151"
      },
      "source": [
        "np.arange(10)"
      ],
      "execution_count": 7,
      "outputs": [
        {
          "output_type": "execute_result",
          "data": {
            "text/plain": [
              "array([0, 1, 2, 3, 4, 5, 6, 7, 8, 9])"
            ]
          },
          "metadata": {},
          "execution_count": 7
        }
      ]
    },
    {
      "cell_type": "markdown",
      "metadata": {
        "id": "SqBm2382dlzs"
      },
      "source": [
        "Access to the functions, variables and classes of a module depends on the way the module was imported:"
      ]
    },
    {
      "cell_type": "code",
      "metadata": {
        "id": "Ua9DHZr9dlzt",
        "colab": {
          "base_uri": "https://localhost:8080/"
        },
        "outputId": "4e44aa9a-e3ca-4658-df76-057cc2c840f4"
      },
      "source": [
        "import math\n",
        "math.cos(math.pi)"
      ],
      "execution_count": 8,
      "outputs": [
        {
          "output_type": "execute_result",
          "data": {
            "text/plain": [
              "-1.0"
            ]
          },
          "metadata": {},
          "execution_count": 8
        }
      ]
    },
    {
      "cell_type": "code",
      "metadata": {
        "id": "MaFbhc7Odlzw",
        "colab": {
          "base_uri": "https://localhost:8080/"
        },
        "outputId": "55478266-3368-46c5-be1a-fe806c724e09"
      },
      "source": [
        "import math as m  # import using an alias\n",
        "m.cos(m.pi)"
      ],
      "execution_count": 9,
      "outputs": [
        {
          "output_type": "execute_result",
          "data": {
            "text/plain": [
              "-1.0"
            ]
          },
          "metadata": {},
          "execution_count": 9
        }
      ]
    },
    {
      "cell_type": "code",
      "metadata": {
        "id": "3TT4wy9cdlz1",
        "colab": {
          "base_uri": "https://localhost:8080/"
        },
        "outputId": "a5b6857d-df1a-4596-a50e-9c5645c0baeb"
      },
      "source": [
        "from math import cos,pi # import only some functions\n",
        "cos(pi)"
      ],
      "execution_count": 10,
      "outputs": [
        {
          "output_type": "execute_result",
          "data": {
            "text/plain": [
              "-1.0"
            ]
          },
          "metadata": {},
          "execution_count": 10
        }
      ]
    },
    {
      "cell_type": "code",
      "metadata": {
        "id": "UXDvJrm8dlz4",
        "colab": {
          "base_uri": "https://localhost:8080/",
          "height": 34
        },
        "outputId": "8dca1d5a-f641-4b09-b30e-44994ffd89fa"
      },
      "source": [
        "from math import *   # global import\n",
        "cos(pi)"
      ],
      "execution_count": null,
      "outputs": [
        {
          "output_type": "execute_result",
          "data": {
            "text/plain": [
              "-1.0"
            ]
          },
          "metadata": {
            "tags": []
          },
          "execution_count": 11
        }
      ]
    },
    {
      "cell_type": "markdown",
      "metadata": {
        "id": "Y7nBmqjVi1L8"
      },
      "source": [
        "Basides Numpy, the most important in the field of data analysis are the following:\n",
        "\n",
        "**Scipy**: Basic Statistical Operations: https://www.scipy.org/\n",
        "\n",
        "**Pandas**: Allows you to manipulate data files in excel, csv, text, etc. https://pandas.pydata.org/\n",
        "\n",
        "**Seaborn**: Graphing data in pandas format: https://seaborn.pydata.org/\n",
        "\n",
        "**Matplotlib**: Plotting nnumpy arrays: https://matplotlib.org/\n",
        "\n",
        "**sckit-learn**: Pattern recognition and artificial intelligence tools https://scikit-learn.org/stable/\n",
        "\n",
        "**sckit-image**: Image processing https://scikit-image.org/"
      ]
    },
    {
      "cell_type": "markdown",
      "metadata": {
        "id": "Zi5A_CoIdlz7"
      },
      "source": [
        "## Variables\n",
        "Often the value returned by an operation will be used later on. Values can be stored for later use with the **assignment operator**:"
      ]
    },
    {
      "cell_type": "code",
      "metadata": {
        "id": "0latO-7hdlz8",
        "colab": {
          "base_uri": "https://localhost:8080/"
        },
        "outputId": "344eaba1-9b59-468c-b700-a69184724049"
      },
      "source": [
        "a = 101\n",
        "type(a)"
      ],
      "execution_count": 11,
      "outputs": [
        {
          "output_type": "execute_result",
          "data": {
            "text/plain": [
              "int"
            ]
          },
          "metadata": {},
          "execution_count": 11
        }
      ]
    },
    {
      "cell_type": "markdown",
      "metadata": {
        "id": "t2OkIhnBdlz_"
      },
      "source": [
        "The command has stored the value 101 under the name <code>a</code>. Such stored values are called **objects**. \n",
        "\n",
        "Making an assignment to an object defines the object. Once an object has been defined, it can be referred to and used in later computations. \n",
        "\n",
        "To refer to the value stored in the object, just use the object’s name itself. For instance:"
      ]
    },
    {
      "cell_type": "code",
      "metadata": {
        "id": "DKSn63a0teXV",
        "colab": {
          "base_uri": "https://localhost:8080/"
        },
        "outputId": "a3479e58-433d-4b34-a33b-51bb9c701e93"
      },
      "source": [
        "np.sqrt(a)"
      ],
      "execution_count": 12,
      "outputs": [
        {
          "output_type": "execute_result",
          "data": {
            "text/plain": [
              "10.04987562112089"
            ]
          },
          "metadata": {},
          "execution_count": 12
        }
      ]
    },
    {
      "cell_type": "code",
      "metadata": {
        "id": "r8c44B9Vdlz_",
        "colab": {
          "base_uri": "https://localhost:8080/"
        },
        "outputId": "dd7e0fa7-739c-46cd-b6fc-0131b7e38d8f"
      },
      "source": [
        "a = np.sqrt(a)\n",
        "a\n",
        "type(a)"
      ],
      "execution_count": 13,
      "outputs": [
        {
          "output_type": "execute_result",
          "data": {
            "text/plain": [
              "numpy.float64"
            ]
          },
          "metadata": {},
          "execution_count": 13
        }
      ]
    },
    {
      "cell_type": "markdown",
      "metadata": {
        "id": "_ZUXo-hHdl0D"
      },
      "source": [
        "There are some general rules for object names:\n",
        "\n",
        "+ Use only letters and numbers and ‘underscores’ (_)\n",
        "+ Do NOT use spaces anywhere in the name\n",
        "+ A number cannot be the first character in the name\n",
        "+ Capital letters are treated as distinct from lower-case letters (i.e., Python is case-sensitive)"
      ]
    },
    {
      "cell_type": "code",
      "metadata": {
        "id": "H2HeJqLddl0D",
        "colab": {
          "base_uri": "https://localhost:8080/",
          "height": 130
        },
        "outputId": "0a4d4856-79db-461b-eaf1-d49f2826db00"
      },
      "source": [
        "3a = 10"
      ],
      "execution_count": null,
      "outputs": [
        {
          "output_type": "error",
          "ename": "SyntaxError",
          "evalue": "ignored",
          "traceback": [
            "\u001b[0;36m  File \u001b[0;32m\"<ipython-input-38-f986eee6e224>\"\u001b[0;36m, line \u001b[0;32m1\u001b[0m\n\u001b[0;31m    3a = 10\u001b[0m\n\u001b[0m     ^\u001b[0m\n\u001b[0;31mSyntaxError\u001b[0m\u001b[0;31m:\u001b[0m invalid syntax\n"
          ]
        }
      ]
    },
    {
      "cell_type": "markdown",
      "metadata": {
        "id": "MuBFQ1FIWqZ9"
      },
      "source": [
        "## Printing out variables:\n",
        "\n",
        "You can check the value of a variable by printing it. You can also embed the value of the variable in a string using the *format* option of the print instruction: "
      ]
    },
    {
      "cell_type": "code",
      "metadata": {
        "id": "sA2xM_kVXFoJ",
        "colab": {
          "base_uri": "https://localhost:8080/"
        },
        "outputId": "f0401bdb-9665-4b6a-847c-40fe5295076a"
      },
      "source": [
        "a = 19\n",
        "print('The value of a is {}'.format(a))"
      ],
      "execution_count": 14,
      "outputs": [
        {
          "output_type": "stream",
          "name": "stdout",
          "text": [
            "The value of a is 19\n"
          ]
        }
      ]
    },
    {
      "cell_type": "code",
      "metadata": {
        "id": "x_bJFgFduBjj",
        "colab": {
          "base_uri": "https://localhost:8080/"
        },
        "outputId": "53604643-1cad-4c28-c8d3-b6188b4c9349"
      },
      "source": [
        "print(a)"
      ],
      "execution_count": 15,
      "outputs": [
        {
          "output_type": "stream",
          "name": "stdout",
          "text": [
            "19\n"
          ]
        }
      ]
    },
    {
      "cell_type": "code",
      "source": [
        "a"
      ],
      "metadata": {
        "colab": {
          "base_uri": "https://localhost:8080/"
        },
        "id": "xOU7nRw1vGIB",
        "outputId": "f32ed7b0-5f64-4666-e26a-44d32b8119f7"
      },
      "execution_count": 16,
      "outputs": [
        {
          "output_type": "execute_result",
          "data": {
            "text/plain": [
              "19"
            ]
          },
          "metadata": {},
          "execution_count": 16
        }
      ]
    },
    {
      "cell_type": "markdown",
      "metadata": {
        "id": "rRL5Sf7Udl0G"
      },
      "source": [
        "## Dynamic Typing\n",
        "\n",
        "When you assign a new value to an existing object (*dynamic typing*), the former values of that object is erased from the computer memory. For instance, we can assign a calue to a variable b:"
      ]
    },
    {
      "cell_type": "code",
      "metadata": {
        "id": "4oNwpNw5j7B9"
      },
      "source": [
        "b = 10.0498756211"
      ],
      "execution_count": 17,
      "outputs": []
    },
    {
      "cell_type": "markdown",
      "metadata": {
        "id": "CSxN5a_Mj_ET"
      },
      "source": [
        "but after a new assignment:"
      ]
    },
    {
      "cell_type": "code",
      "metadata": {
        "id": "PebXsichdl0H",
        "colab": {
          "base_uri": "https://localhost:8080/"
        },
        "outputId": "5df77141-8933-4df9-ad81-c984af840aa2"
      },
      "source": [
        "b = 'a'\n",
        "print(b)"
      ],
      "execution_count": 18,
      "outputs": [
        {
          "output_type": "stream",
          "name": "stdout",
          "text": [
            "a\n"
          ]
        }
      ]
    },
    {
      "cell_type": "markdown",
      "metadata": {
        "id": "4FHWf6Rddl0K"
      },
      "source": [
        "The value of an object is changed only via the assignment operator. Using an object in a computation does not change the value. "
      ]
    },
    {
      "cell_type": "markdown",
      "metadata": {
        "id": "hlJpyEJmdl0L"
      },
      "source": [
        "The brilliant thing about organizing operators in terms of input arguments and output values is that the output of one operator can be used as an input to another. This lets complicated computations be built out of simpler ones.\n",
        "\n",
        "One way to connect the computations is by using objects to store the intermediate outputs:"
      ]
    },
    {
      "cell_type": "code",
      "metadata": {
        "id": "3Fi9JBM7dl0L",
        "colab": {
          "base_uri": "https://localhost:8080/"
        },
        "outputId": "2f8f3551-ceaf-432e-dfa9-4da609b1e14a"
      },
      "source": [
        "a = np.arange(5)\n",
        "np.sqrt(a)"
      ],
      "execution_count": 19,
      "outputs": [
        {
          "output_type": "execute_result",
          "data": {
            "text/plain": [
              "array([0.        , 1.        , 1.41421356, 1.73205081, 2.        ])"
            ]
          },
          "metadata": {},
          "execution_count": 19
        }
      ]
    },
    {
      "cell_type": "markdown",
      "metadata": {
        "id": "45uNiqIpdl0O"
      },
      "source": [
        "You can also pass the output of an operator directly as an argument to another operator:"
      ]
    },
    {
      "cell_type": "code",
      "metadata": {
        "id": "PBAU4RRxdl0P",
        "colab": {
          "base_uri": "https://localhost:8080/"
        },
        "outputId": "5223385c-e6e6-4d12-eb87-066fbc53dc3e"
      },
      "source": [
        "np.sqrt(np.arange(5))"
      ],
      "execution_count": 20,
      "outputs": [
        {
          "output_type": "execute_result",
          "data": {
            "text/plain": [
              "array([0.        , 1.        , 1.41421356, 1.73205081, 2.        ])"
            ]
          },
          "metadata": {},
          "execution_count": 20
        }
      ]
    },
    {
      "cell_type": "markdown",
      "metadata": {
        "id": "_IPYLDUHdl0S"
      },
      "source": [
        "Most of the examples used so far have dealt with numbers. But computers work with other kinds of information as well: text, photographs, sounds, sets of data, and so on. The word *type* is used to refer to the kind of information. \n",
        "\n",
        "It’s important to know about the types of data because operators expect their input arguments to be of specific types. When you use the wrong type of input, the computer might not be able to process your command."
      ]
    },
    {
      "cell_type": "markdown",
      "metadata": {
        "id": "c7y1ri1fdl0T"
      },
      "source": [
        "For our purposes, it’s important to distinguish among several basic types:\n",
        "\n",
        "+ Numeric (positive and negative) data: \n",
        "    + decimal and fractional numbers (**floats**), <code>a = 3.5</code>\n",
        "    + arbitrary length whole numbers (**ints**):  <code>c=1809109863596239561236235625629561</code>\n",
        "+ **Strings** of textual data - you indicate string data to the computer by enclosing the text in quotation marks (e.g., <code>name = \"python\"</code>).\n",
        "+ **Boolean** data: <code>a = True</code> or <code>a = False</code>.\n",
        "+ **Complex** numbers: <code>a = 2+3j</code>\n",
        "+ Sequence types: **tuples, lists, sets, dictionaries** and **files**."
      ]
    },
    {
      "cell_type": "code",
      "metadata": {
        "id": "VjIHSZeydl0T",
        "colab": {
          "base_uri": "https://localhost:8080/"
        },
        "outputId": "2243f494-30e3-4963-e5c0-b5c3498c5ea8"
      },
      "source": [
        "a = True\n",
        "type(a)"
      ],
      "execution_count": 21,
      "outputs": [
        {
          "output_type": "execute_result",
          "data": {
            "text/plain": [
              "bool"
            ]
          },
          "metadata": {},
          "execution_count": 21
        }
      ]
    },
    {
      "cell_type": "code",
      "metadata": {
        "id": "G_0DlIuedl0X",
        "colab": {
          "base_uri": "https://localhost:8080/"
        },
        "outputId": "bcc2c970-8ea4-4936-cad9-f679ac7c4005"
      },
      "source": [
        "a = 'a'\n",
        "print(a)"
      ],
      "execution_count": 22,
      "outputs": [
        {
          "output_type": "stream",
          "name": "stdout",
          "text": [
            "a\n"
          ]
        }
      ]
    },
    {
      "cell_type": "markdown",
      "metadata": {
        "id": "CtnltAcbdl0a"
      },
      "source": [
        "## Operators\n",
        "\n",
        "+ Addition (also string, tuple and list concatenation) <code>a + b</code>\n",
        "+ Subtraction (also set difference): <code>a - b</code>\n",
        "+ Multiplication (also string, tuple and list replication): <code>a * b</code>\n",
        "+ Division: <code>a / b</code>\n",
        "+ Truncated integer division (rounded towards minus infinity): <code>a // b</code>\n",
        "+ Modulus or remainder: <code>a % b</code>\n",
        "+ Exponentiation: <code>a ** b</code>\n",
        "+ Assignment: <code>=</code>, <code>-=</code>, <code>+=</code>,<code>/=</code>,<code>*=</code>, <code>%=</code>, <code>//=</code>, <code>**=</code>\n",
        "+ Boolean comparisons: <code>==</code>, <code>!=</code>, <code><</code>,<code>></code>,<code><=</code>, <code>>=</code>\n",
        "+ Boolean operators: <code>and</code>, <code>or</code>, <code>not</code>\n",
        "+ Membership test operators: <code>in</code>, <code>not in</code>\n",
        "+ Object identity operators: <code>is</code>, <code>is not</code>\n",
        "+ Bitwise operators (or, xor, and, complement): <code>|</code>, <code>^</code>, <code>&</code>, <code>~</code>\n",
        "+ Left and right bit shift: <code><<</code>, <code>>></code>"
      ]
    },
    {
      "cell_type": "markdown",
      "metadata": {
        "id": "fuYTmV9xdl0d"
      },
      "source": [
        "### Python as a calculator\n",
        "\n",
        "The Python language has a concise notation for arithmetic that looks very much like the traditional one."
      ]
    },
    {
      "cell_type": "code",
      "metadata": {
        "id": "bGVxdWF0dl0e",
        "colab": {
          "base_uri": "https://localhost:8080/",
          "height": 34
        },
        "outputId": "d8e1a78d-ae56-4b2e-edfa-08da8a934dad"
      },
      "source": [
        "a = 3+2\n",
        "b= 3.5 * -8\n",
        "c = 10/6\n",
        "print(a, b, c, 10./6.)"
      ],
      "execution_count": null,
      "outputs": [
        {
          "output_type": "stream",
          "text": [
            "5 -28.0 1.6666666666666667 1.6666666666666667\n"
          ],
          "name": "stdout"
        }
      ]
    },
    {
      "cell_type": "markdown",
      "metadata": {
        "id": "k1-jIS7Odl0g"
      },
      "source": [
        "Some math functions are not available in the basic Python module, and they need to be imported from a specific module:"
      ]
    },
    {
      "cell_type": "code",
      "metadata": {
        "id": "coCJGpdndl0h",
        "colab": {
          "base_uri": "https://localhost:8080/",
          "height": 34
        },
        "outputId": "e1fc3df8-3390-4f31-cc35-f375e975d6c0"
      },
      "source": [
        "import math   # this instruction is not executed if the module has already been imported\n",
        "print(math.pi + math.sin(100) + math.ceil(2.3))"
      ],
      "execution_count": null,
      "outputs": [
        {
          "output_type": "stream",
          "text": [
            "5.635227012480034\n"
          ],
          "name": "stdout"
        }
      ]
    },
    {
      "cell_type": "markdown",
      "metadata": {
        "id": "UkfLL4wfdl0j"
      },
      "source": [
        "### String processing with Python\n",
        "\n",
        "Strings are list of characters:"
      ]
    },
    {
      "cell_type": "code",
      "metadata": {
        "id": "FliJSU7rdl0k",
        "colab": {
          "base_uri": "https://localhost:8080/",
          "height": 34
        },
        "outputId": "56a5199b-2c75-4b31-b90a-448df2b74ad8"
      },
      "source": [
        "a = 'python'\n",
        "type(a)"
      ],
      "execution_count": null,
      "outputs": [
        {
          "output_type": "execute_result",
          "data": {
            "text/plain": [
              "str"
            ]
          },
          "metadata": {
            "tags": []
          },
          "execution_count": 49
        }
      ]
    },
    {
      "cell_type": "code",
      "metadata": {
        "id": "BuuTpdNxdl0n",
        "colab": {
          "base_uri": "https://localhost:8080/",
          "height": 34
        },
        "outputId": "ae15d0ee-1c37-4f27-a2a5-814c7a958c55"
      },
      "source": [
        "print(\"Hello\" )"
      ],
      "execution_count": null,
      "outputs": [
        {
          "output_type": "stream",
          "text": [
            "Hello\n"
          ],
          "name": "stdout"
        }
      ]
    },
    {
      "cell_type": "code",
      "metadata": {
        "id": "PcYAG_shdl0q",
        "colab": {
          "base_uri": "https://localhost:8080/",
          "height": 51
        },
        "outputId": "0ae5a0a1-0f9d-4853-8197-12059194710b"
      },
      "source": [
        "print(\"This is 'an example' of the use of quotes and double quotes\")\n",
        "print('This is \"another example\" of the use of quotes and double quotes')"
      ],
      "execution_count": null,
      "outputs": [
        {
          "output_type": "stream",
          "text": [
            "This is 'an example' of the use of quotes and double quotes\n",
            "This is \"another example\" of the use of quotes and double quotes\n"
          ],
          "name": "stdout"
        }
      ]
    },
    {
      "cell_type": "markdown",
      "metadata": {
        "id": "9feOHF_7dl0t"
      },
      "source": [
        "We can use the operator ``+`` to concatenate strings:"
      ]
    },
    {
      "cell_type": "code",
      "metadata": {
        "id": "xa6Fxee1dl0u",
        "colab": {
          "base_uri": "https://localhost:8080/",
          "height": 34
        },
        "outputId": "3a196cea-9010-4c7a-8b72-70e9de9f9828"
      },
      "source": [
        "a = 'He'\n",
        "b = 'llo'\n",
        "c = a+b+'!'\n",
        "print(c)"
      ],
      "execution_count": null,
      "outputs": [
        {
          "output_type": "stream",
          "text": [
            "Hello!\n"
          ],
          "name": "stdout"
        }
      ]
    },
    {
      "cell_type": "markdown",
      "metadata": {
        "id": "CvheOJr5dl0w"
      },
      "source": [
        "Substrings within a string can be accessed using **slicing**. Slicing uses ``[]`` to contain the indices of the characters in a string, where the first index is $0$, and the last is $n - 1$ (assuming the string has $n$ characters). "
      ]
    },
    {
      "cell_type": "code",
      "metadata": {
        "id": "ZUGDNOrcdl0x",
        "colab": {
          "base_uri": "https://localhost:8080/",
          "height": 34
        },
        "outputId": "97917b26-5c36-4856-c16f-df6f4e559730"
      },
      "source": [
        "a = 'Python'\n",
        "print(a[:], a[0], a[2:], a[:3], a[2:4], a[::2], a[1::2])"
      ],
      "execution_count": null,
      "outputs": [
        {
          "output_type": "stream",
          "text": [
            "Python P thon Pyt th Pto yhn\n"
          ],
          "name": "stdout"
        }
      ]
    },
    {
      "cell_type": "markdown",
      "metadata": {
        "id": "obz2lGTYdl0z"
      },
      "source": [
        "You can insert the value of a certain variable in a string by using the format option of the pring function:"
      ]
    },
    {
      "cell_type": "code",
      "metadata": {
        "id": "epNqAdhQdl00",
        "colab": {
          "base_uri": "https://localhost:8080/",
          "height": 34
        },
        "outputId": "690330e8-eaac-476c-d728-4ba2d8810ae9"
      },
      "source": [
        "a= 99.99\n",
        "print('The value that takes variable a is {}'.format(a))"
      ],
      "execution_count": null,
      "outputs": [
        {
          "output_type": "stream",
          "text": [
            "The value that takes variable a is 99.99\n"
          ],
          "name": "stdout"
        }
      ]
    },
    {
      "cell_type": "markdown",
      "metadata": {
        "id": "6e-Vxrzzdl1D"
      },
      "source": [
        "### Conditionals\n",
        "\n",
        "The conditional structure in Python is **<code>If</code>**. It is usally combined with \n",
        "relational operators: <code> <, <=, ==, >=, >, != </code>."
      ]
    },
    {
      "cell_type": "code",
      "metadata": {
        "id": "Y5fqy2dedl1D",
        "colab": {
          "base_uri": "https://localhost:8080/",
          "height": 51
        },
        "outputId": "849df34f-c6a3-4a78-9143-5b3c16398302"
      },
      "source": [
        "def main(celsius):\n",
        "    fahrenheit = 9.0 /5.0 * celsius + 32\n",
        "    print(\"The temperature in Fahrenheit is\", fahrenheit)\n",
        "    if fahrenheit > 90:\n",
        "        print(\"It's really hot out there.\")\n",
        "    elif fahrenheit < 30:\n",
        "        print(\"It's really cold out there.\")\n",
        "    else: pass\n",
        "        \n",
        "main(35)"
      ],
      "execution_count": null,
      "outputs": [
        {
          "output_type": "stream",
          "text": [
            "The temperature in Fahrenheit is 95.0\n",
            "It's really hot out there.\n"
          ],
          "name": "stdout"
        }
      ]
    },
    {
      "cell_type": "markdown",
      "metadata": {
        "id": "PW0iTamsdl1G"
      },
      "source": [
        "### Boolean operators."
      ]
    },
    {
      "cell_type": "code",
      "metadata": {
        "id": "uRpyFtV7dl1H",
        "colab": {
          "base_uri": "https://localhost:8080/",
          "height": 34
        },
        "outputId": "ef8611b0-dd65-472a-a6a5-6fbde0cc84a9"
      },
      "source": [
        "a = 4\n",
        "b = 40\n",
        "(a>2) and (b>30)"
      ],
      "execution_count": null,
      "outputs": [
        {
          "output_type": "execute_result",
          "data": {
            "text/plain": [
              "True"
            ]
          },
          "metadata": {
            "tags": []
          },
          "execution_count": 57
        }
      ]
    },
    {
      "cell_type": "code",
      "metadata": {
        "id": "HNhep7HDdl1K",
        "colab": {
          "base_uri": "https://localhost:8080/",
          "height": 34
        },
        "outputId": "6fc7ad48-c5fb-4089-86a6-910928f07480"
      },
      "source": [
        "(a>5) or (b>100)"
      ],
      "execution_count": null,
      "outputs": [
        {
          "output_type": "execute_result",
          "data": {
            "text/plain": [
              "False"
            ]
          },
          "metadata": {
            "tags": []
          },
          "execution_count": 59
        }
      ]
    },
    {
      "cell_type": "code",
      "metadata": {
        "id": "a9TwBxbUdl1N",
        "colab": {
          "base_uri": "https://localhost:8080/",
          "height": 34
        },
        "outputId": "a2244b95-d17f-4f46-f165-b8a10e157121"
      },
      "source": [
        "not(a>2)"
      ],
      "execution_count": null,
      "outputs": [
        {
          "output_type": "execute_result",
          "data": {
            "text/plain": [
              "False"
            ]
          },
          "metadata": {
            "tags": []
          },
          "execution_count": 60
        }
      ]
    },
    {
      "cell_type": "markdown",
      "metadata": {
        "id": "eo_OaRT9dl1P"
      },
      "source": [
        "### Loops\n",
        "\n",
        "* For\n",
        "* While"
      ]
    },
    {
      "cell_type": "code",
      "metadata": {
        "id": "lG401eY0dl1Q",
        "colab": {
          "base_uri": "https://localhost:8080/",
          "height": 187
        },
        "outputId": "5de2fba6-1e20-4578-b2e1-d5a513b86345"
      },
      "source": [
        "for i in range(0,10,1):\n",
        "    print(i)"
      ],
      "execution_count": null,
      "outputs": [
        {
          "output_type": "stream",
          "text": [
            "0\n",
            "1\n",
            "2\n",
            "3\n",
            "4\n",
            "5\n",
            "6\n",
            "7\n",
            "8\n",
            "9\n"
          ],
          "name": "stdout"
        }
      ]
    },
    {
      "cell_type": "code",
      "metadata": {
        "id": "sQEXRcBkdl1T",
        "colab": {
          "base_uri": "https://localhost:8080/",
          "height": 187
        },
        "outputId": "ca0d2546-89ce-4537-bf25-b9a0d6ffb35d"
      },
      "source": [
        "i=0\n",
        "while i < 10 :\n",
        "    print(i)\n",
        "    i= i+1"
      ],
      "execution_count": null,
      "outputs": [
        {
          "output_type": "stream",
          "text": [
            "0\n",
            "1\n",
            "2\n",
            "3\n",
            "4\n",
            "5\n",
            "6\n",
            "7\n",
            "8\n",
            "9\n"
          ],
          "name": "stdout"
        }
      ]
    },
    {
      "cell_type": "code",
      "metadata": {
        "id": "rDZ_2Q0VmyKc",
        "colab": {
          "base_uri": "https://localhost:8080/",
          "height": 68
        },
        "outputId": "9b840d05-d816-4cd9-d80c-06e828a51c82"
      },
      "source": [
        "vector = [\"hola\",\"buenos\",\"dias\"]\n",
        "for palabra in vector:\n",
        "    print (palabra)"
      ],
      "execution_count": null,
      "outputs": [
        {
          "output_type": "stream",
          "text": [
            "hola\n",
            "buenos\n",
            "dias\n"
          ],
          "name": "stdout"
        }
      ]
    },
    {
      "cell_type": "markdown",
      "metadata": {
        "id": "iFd3WsLCdl1W"
      },
      "source": [
        "**``If``** statesments can be combined with **loops** (``for``, ``while``):"
      ]
    },
    {
      "cell_type": "code",
      "metadata": {
        "id": "n9SKr5cJdl1W",
        "colab": {
          "base_uri": "https://localhost:8080/",
          "height": 34
        },
        "outputId": "904b447e-ed87-47ab-a926-221d469b39b1"
      },
      "source": [
        "numbers = [-5, 3,2,-1,9,6]\n",
        "total = 0\n",
        "\n",
        "for n in numbers:\n",
        "    if n >= 0:\n",
        "        total += n\n",
        "\n",
        "print(total)"
      ],
      "execution_count": null,
      "outputs": [
        {
          "output_type": "stream",
          "text": [
            "20\n"
          ],
          "name": "stdout"
        }
      ]
    },
    {
      "cell_type": "code",
      "metadata": {
        "id": "qhBRt_qsdl1Z",
        "colab": {
          "base_uri": "https://localhost:8080/",
          "height": 34
        },
        "outputId": "7e204411-0d94-4609-a66d-4c023fa31588"
      },
      "source": [
        "def average(a):\n",
        "    sum = 0.0\n",
        "    for i in a:\n",
        "        sum = sum + i\n",
        "    return sum/len(a)\n",
        "\n",
        "average([1,2,3,4])"
      ],
      "execution_count": null,
      "outputs": [
        {
          "output_type": "execute_result",
          "data": {
            "text/plain": [
              "2.5"
            ]
          },
          "metadata": {
            "tags": []
          },
          "execution_count": 66
        }
      ]
    },
    {
      "cell_type": "code",
      "metadata": {
        "id": "gPNB-o1mdl1g",
        "colab": {
          "base_uri": "https://localhost:8080/",
          "height": 34
        },
        "outputId": "b222bfc3-ba15-4bfb-e60a-2002aa20f0e9"
      },
      "source": [
        "def main(n):\n",
        "    cont = 0\n",
        "    while (int(n) > 0):\n",
        "        cont += 1\n",
        "        n = n/2\n",
        "#        print n\n",
        "    return cont-1\n",
        "\n",
        "main(10)\n",
        "# main(10.3)"
      ],
      "execution_count": null,
      "outputs": [
        {
          "output_type": "execute_result",
          "data": {
            "text/plain": [
              "3"
            ]
          },
          "metadata": {
            "tags": []
          },
          "execution_count": 67
        }
      ]
    },
    {
      "cell_type": "markdown",
      "metadata": {
        "id": "KIi5dP-2dl1m"
      },
      "source": [
        "## Data types\n",
        "\n",
        "We need to represent data collections: words in a text, students in a course, experimental data, etc., or to store intermediate results. The most simple data collection is the <code>list</code> (an ordered sequence of objects):"
      ]
    },
    {
      "cell_type": "markdown",
      "metadata": {
        "id": "DYElyXbBnfA6"
      },
      "source": [
        "### Numpy Arrays\n",
        "\n",
        "In data analysis and machine learning, numerical data is often stored in a multidimensional matrix. It is convenient to manage numerical arayys with numpy:"
      ]
    },
    {
      "cell_type": "code",
      "metadata": {
        "id": "TF9RrQImxukh",
        "colab": {
          "base_uri": "https://localhost:8080/"
        },
        "outputId": "79630cf1-b699-40ba-8cac-04916fa8271a"
      },
      "source": [
        "x = np.array([[0, 1], [1, 1], [2, 2]])\n",
        "x"
      ],
      "execution_count": 23,
      "outputs": [
        {
          "output_type": "execute_result",
          "data": {
            "text/plain": [
              "array([[0, 1],\n",
              "       [1, 1],\n",
              "       [2, 2]])"
            ]
          },
          "metadata": {},
          "execution_count": 23
        }
      ]
    },
    {
      "cell_type": "markdown",
      "metadata": {
        "id": "YLPeJ-oGx1X5"
      },
      "source": [
        "Check the size (rows, columns):"
      ]
    },
    {
      "cell_type": "code",
      "metadata": {
        "id": "ez5V-ZpmxyD3",
        "colab": {
          "base_uri": "https://localhost:8080/"
        },
        "outputId": "23026a05-96ad-4224-8c42-23a9ad8daecd"
      },
      "source": [
        "x.shape"
      ],
      "execution_count": 24,
      "outputs": [
        {
          "output_type": "execute_result",
          "data": {
            "text/plain": [
              "(3, 2)"
            ]
          },
          "metadata": {},
          "execution_count": 24
        }
      ]
    },
    {
      "cell_type": "code",
      "metadata": {
        "id": "ZWNAZF2AnkWF",
        "colab": {
          "base_uri": "https://localhost:8080/",
          "height": 561
        },
        "outputId": "7cd396d8-7657-438c-f8f8-0598c63638cb"
      },
      "source": [
        "import numpy as np\n",
        "\n",
        "x = np.array([[0, 1], [1, 1], [2, 2]])\n",
        "\n",
        "print(\"The matrix {}\".format(x))\n",
        "print(\"Alternate take: The Matrix = \" + str(x))\n",
        "\n",
        "print(\"Shape {}\".format(x.shape))\n",
        "\n",
        "print(\"Element at Row 0, column 0: {}\".format(x[0,0]))\n",
        "\n",
        "print(\"Selects the first column of the matrix {}\".format(x[:,0]))\n",
        "\n",
        "print(\"Selects the first row {}\".format(x[0,:]))\n",
        "\n",
        "print(\"Transposes the matrix {}\".format(x.transpose()))\n",
        "\n",
        "idx = np.where(x <= 1)\n",
        "print('indicates position that fulfills condition: {}'.format(idx))\n",
        "\n",
        "y = np.linspace(0,2,100)\n",
        "\n",
        "print(y.shape)\n",
        "print(y[-1])\n",
        "print(y.T)"
      ],
      "execution_count": null,
      "outputs": [
        {
          "output_type": "stream",
          "text": [
            "The matrix [[0 1]\n",
            " [1 1]\n",
            " [2 2]]\n",
            "Alternate take: The Matrix = [[0 1]\n",
            " [1 1]\n",
            " [2 2]]\n",
            "Shape (3, 2)\n",
            "Element at Row 0, column 0: 0\n",
            "Selects the first column of the matrix [0 1 2]\n",
            "Selects the first row [0 1]\n",
            "Transposes the matrix [[0 1 2]\n",
            " [1 1 2]]\n",
            "indicates position that fulfills condition: (array([0, 0, 1, 1]), array([0, 1, 0, 1]))\n",
            "(100,)\n",
            "2.0\n",
            "[0.         0.02020202 0.04040404 0.06060606 0.08080808 0.1010101\n",
            " 0.12121212 0.14141414 0.16161616 0.18181818 0.2020202  0.22222222\n",
            " 0.24242424 0.26262626 0.28282828 0.3030303  0.32323232 0.34343434\n",
            " 0.36363636 0.38383838 0.4040404  0.42424242 0.44444444 0.46464646\n",
            " 0.48484848 0.50505051 0.52525253 0.54545455 0.56565657 0.58585859\n",
            " 0.60606061 0.62626263 0.64646465 0.66666667 0.68686869 0.70707071\n",
            " 0.72727273 0.74747475 0.76767677 0.78787879 0.80808081 0.82828283\n",
            " 0.84848485 0.86868687 0.88888889 0.90909091 0.92929293 0.94949495\n",
            " 0.96969697 0.98989899 1.01010101 1.03030303 1.05050505 1.07070707\n",
            " 1.09090909 1.11111111 1.13131313 1.15151515 1.17171717 1.19191919\n",
            " 1.21212121 1.23232323 1.25252525 1.27272727 1.29292929 1.31313131\n",
            " 1.33333333 1.35353535 1.37373737 1.39393939 1.41414141 1.43434343\n",
            " 1.45454545 1.47474747 1.49494949 1.51515152 1.53535354 1.55555556\n",
            " 1.57575758 1.5959596  1.61616162 1.63636364 1.65656566 1.67676768\n",
            " 1.6969697  1.71717172 1.73737374 1.75757576 1.77777778 1.7979798\n",
            " 1.81818182 1.83838384 1.85858586 1.87878788 1.8989899  1.91919192\n",
            " 1.93939394 1.95959596 1.97979798 2.        ]\n"
          ],
          "name": "stdout"
        }
      ]
    },
    {
      "cell_type": "code",
      "source": [
        "irow,icol = np.where(x <= 1)\n",
        "print(irow,icol)"
      ],
      "metadata": {
        "colab": {
          "base_uri": "https://localhost:8080/"
        },
        "id": "O82wNos1v-kh",
        "outputId": "eaaa7764-bc1b-4b93-d610-6702861865f3"
      },
      "execution_count": 27,
      "outputs": [
        {
          "output_type": "stream",
          "name": "stdout",
          "text": [
            "[0 0 1 1] [0 1 0 1]\n"
          ]
        }
      ]
    },
    {
      "cell_type": "code",
      "source": [
        "x"
      ],
      "metadata": {
        "colab": {
          "base_uri": "https://localhost:8080/"
        },
        "id": "rJxU2nyHwO08",
        "outputId": "48d36267-f5ba-4eab-cf2b-eb3873cfcaef"
      },
      "execution_count": 26,
      "outputs": [
        {
          "output_type": "execute_result",
          "data": {
            "text/plain": [
              "array([[0, 1],\n",
              "       [1, 1],\n",
              "       [2, 2]])"
            ]
          },
          "metadata": {},
          "execution_count": 26
        }
      ]
    },
    {
      "cell_type": "markdown",
      "metadata": {
        "id": "82uIl2t7dl1m"
      },
      "source": [
        "### Lists\n",
        "\n",
        "Lists are a built-in data type which require other data types to be useful. A list is a collection of other objects – floats, integers, complex numbers, strings or even other lists.\n",
        "\n",
        "Lists also support slicing to retrieve one or more elements. Basic lists are constructed using square braces, ``[]``, and values are separated using\n",
        "commas."
      ]
    },
    {
      "cell_type": "code",
      "metadata": {
        "id": "-Q9VNraudl1o",
        "colab": {
          "base_uri": "https://localhost:8080/",
          "height": 34
        },
        "outputId": "7cd5b8c3-ee20-4f52-aada-56386416cc5d"
      },
      "source": [
        "l=[]\n",
        "type(l)"
      ],
      "execution_count": null,
      "outputs": [
        {
          "output_type": "execute_result",
          "data": {
            "text/plain": [
              "list"
            ]
          },
          "metadata": {
            "tags": []
          },
          "execution_count": 73
        }
      ]
    },
    {
      "cell_type": "code",
      "metadata": {
        "id": "_OzO02sYdl1u",
        "colab": {
          "base_uri": "https://localhost:8080/",
          "height": 34
        },
        "outputId": "243e27e8-9ce3-45ed-bbbf-481fe056ea05"
      },
      "source": [
        "x=[1,2,3,4,[1,2,3,4],'jordi']\n",
        "print(x[4:], x[0], x[5])"
      ],
      "execution_count": null,
      "outputs": [
        {
          "output_type": "stream",
          "text": [
            "[[1, 2, 3, 4], 'jordi'] 1 jordi\n"
          ],
          "name": "stdout"
        }
      ]
    },
    {
      "cell_type": "code",
      "metadata": {
        "id": "-JzXl0ZvywVJ",
        "colab": {
          "base_uri": "https://localhost:8080/",
          "height": 34
        },
        "outputId": "34459d70-ad95-44a2-cdd7-f3b8b232fef9"
      },
      "source": [
        "x"
      ],
      "execution_count": null,
      "outputs": [
        {
          "output_type": "execute_result",
          "data": {
            "text/plain": [
              "[1, 2, 3, 4, [1, 2, 3, 4], 'jordi']"
            ]
          },
          "metadata": {
            "tags": []
          },
          "execution_count": 75
        }
      ]
    },
    {
      "cell_type": "code",
      "metadata": {
        "id": "AAzOnQPgdl12",
        "colab": {
          "base_uri": "https://localhost:8080/",
          "height": 34
        },
        "outputId": "4fb71b9a-8b79-4e72-a099-a130a18dab28"
      },
      "source": [
        "x[-2:]  # The stride can also be negative which can be used to select the\n",
        "        # elements of a list in reverse order."
      ],
      "execution_count": null,
      "outputs": [
        {
          "output_type": "execute_result",
          "data": {
            "text/plain": [
              "[[1, 2, 3, 4], 'jordi']"
            ]
          },
          "metadata": {
            "tags": []
          },
          "execution_count": 64
        }
      ]
    },
    {
      "cell_type": "markdown",
      "metadata": {
        "id": "wPN_SILEdl15"
      },
      "source": [
        "Lists can be multidimensional and slicing can be done directly in higher dimensions:"
      ]
    },
    {
      "cell_type": "code",
      "metadata": {
        "id": "sCMAyFC5dl15",
        "colab": {
          "base_uri": "https://localhost:8080/",
          "height": 34
        },
        "outputId": "cb6d69a7-f91c-4158-bd08-9796c34ca97e"
      },
      "source": [
        "x = [[1,2,3,4], [5,6,7,8]]\n",
        "print(x[0], x[1][3])"
      ],
      "execution_count": null,
      "outputs": [
        {
          "output_type": "stream",
          "text": [
            "[1, 2, 3, 4] 8\n"
          ],
          "name": "stdout"
        }
      ]
    },
    {
      "cell_type": "code",
      "metadata": {
        "id": "phORa37Wdl1-",
        "colab": {
          "base_uri": "https://localhost:8080/",
          "height": 34
        },
        "outputId": "1f2a453e-7820-4bed-bad9-7f99bd18fb2c"
      },
      "source": [
        "\n",
        "list(range(10))\n"
      ],
      "execution_count": null,
      "outputs": [
        {
          "output_type": "execute_result",
          "data": {
            "text/plain": [
              "[0, 1, 2, 3, 4, 5, 6, 7, 8, 9]"
            ]
          },
          "metadata": {
            "tags": []
          },
          "execution_count": 77
        }
      ]
    },
    {
      "cell_type": "code",
      "metadata": {
        "id": "dN-CvT01dl2B",
        "colab": {
          "base_uri": "https://localhost:8080/",
          "height": 34
        },
        "outputId": "e37c5d70-ff1d-4e5e-c541-c2e0e432ed4c"
      },
      "source": [
        "b = \"This is an example\".split()\n",
        "print(b)"
      ],
      "execution_count": null,
      "outputs": [
        {
          "output_type": "stream",
          "text": [
            "['This', 'is', 'an', 'example']\n"
          ],
          "name": "stdout"
        }
      ]
    },
    {
      "cell_type": "markdown",
      "metadata": {
        "id": "BrfrWqpXdl2E"
      },
      "source": [
        "A list is an *ordered, mutable and dynamic* collection of *non-homogeneous* objects:"
      ]
    },
    {
      "cell_type": "code",
      "metadata": {
        "id": "-pBHylUTdl2E",
        "colab": {
          "base_uri": "https://localhost:8080/",
          "height": 34
        },
        "outputId": "93eb9318-e0cd-4b6b-befd-9f17fd8116ed"
      },
      "source": [
        "a = [1,2,3,4]\n",
        "a[1] = 7\n",
        "print(a)"
      ],
      "execution_count": null,
      "outputs": [
        {
          "output_type": "stream",
          "text": [
            "[1, 7, 3, 4]\n"
          ],
          "name": "stdout"
        }
      ]
    },
    {
      "cell_type": "code",
      "metadata": {
        "id": "c7x6vSVfdl2J",
        "colab": {
          "base_uri": "https://localhost:8080/",
          "height": 34
        },
        "outputId": "3549d683-8ccb-4cd3-ceb7-55f94abc1818"
      },
      "source": [
        "c = a + b\n",
        "print(c)"
      ],
      "execution_count": null,
      "outputs": [
        {
          "output_type": "stream",
          "text": [
            "[1, 7, 3, 4, 'This', 'is', 'an', 'example']\n"
          ],
          "name": "stdout"
        }
      ]
    },
    {
      "cell_type": "code",
      "metadata": {
        "id": "qU1TP1OMdl2N",
        "colab": {
          "base_uri": "https://localhost:8080/",
          "height": 34
        },
        "outputId": "d5d62d56-2be5-42a1-c65a-f078d6451aa4"
      },
      "source": [
        "zeroes = [0] * 10\n",
        "del zeroes[5:]\n",
        "print(zeroes)"
      ],
      "execution_count": null,
      "outputs": [
        {
          "output_type": "stream",
          "text": [
            "[0, 0, 0, 0, 0]\n"
          ],
          "name": "stdout"
        }
      ]
    },
    {
      "cell_type": "code",
      "metadata": {
        "id": "QSCKkt5ndl2P",
        "colab": {
          "base_uri": "https://localhost:8080/",
          "height": 34
        },
        "outputId": "c8b4ae97-2344-4bee-cfdd-4ab9c8635d85"
      },
      "source": [
        "zeroes.append(1)\n",
        "print(zeroes)"
      ],
      "execution_count": null,
      "outputs": [
        {
          "output_type": "stream",
          "text": [
            "[0, 0, 0, 0, 0, 1]\n"
          ],
          "name": "stdout"
        }
      ]
    },
    {
      "cell_type": "code",
      "metadata": {
        "id": "SoE5M_zndl2W",
        "colab": {
          "base_uri": "https://localhost:8080/",
          "height": 34
        },
        "outputId": "eabea3b3-7ce3-4614-d745-eae661381a4d"
      },
      "source": [
        "zeroes.remove(1)\n",
        "print(zeroes)"
      ],
      "execution_count": null,
      "outputs": [
        {
          "output_type": "stream",
          "text": [
            "[0, 0, 0, 0, 0]\n"
          ],
          "name": "stdout"
        }
      ]
    },
    {
      "cell_type": "code",
      "metadata": {
        "id": "saTLOV5Ddl2Y",
        "colab": {
          "base_uri": "https://localhost:8080/",
          "height": 34
        },
        "outputId": "49c979f7-ff62-4924-da3a-40cf7b22126c"
      },
      "source": [
        "if 1 in zeroes:\n",
        "    print(False)\n",
        "else: \n",
        "    print(True)"
      ],
      "execution_count": null,
      "outputs": [
        {
          "output_type": "stream",
          "text": [
            "True\n"
          ],
          "name": "stdout"
        }
      ]
    },
    {
      "cell_type": "markdown",
      "metadata": {
        "id": "nYuo1DJ3dl2b"
      },
      "source": [
        "### Dictionaries\n",
        "\n",
        "A dictionary is a collection that allows the access of an *element* by using a *key*:"
      ]
    },
    {
      "cell_type": "code",
      "metadata": {
        "id": "2oMQBLs0dl2c",
        "colab": {
          "base_uri": "https://localhost:8080/",
          "height": 35
        },
        "outputId": "7fac1c20-61d4-4c80-a78f-8b445b9f0ca7"
      },
      "source": [
        "dict = {\"d\": \"D\", \"b\":\"B\", \"c\":\"C\"}\n",
        "dict[\"d\"]"
      ],
      "execution_count": null,
      "outputs": [
        {
          "output_type": "execute_result",
          "data": {
            "application/vnd.google.colaboratory.intrinsic+json": {
              "type": "string"
            },
            "text/plain": [
              "'D'"
            ]
          },
          "metadata": {
            "tags": []
          },
          "execution_count": 85
        }
      ]
    },
    {
      "cell_type": "markdown",
      "metadata": {
        "id": "JfQZxTyZdl2h"
      },
      "source": [
        "Dictionaries are *mutable, dynamic* and *unordered*:"
      ]
    },
    {
      "cell_type": "code",
      "metadata": {
        "id": "VW2jxJiadl2i",
        "colab": {
          "base_uri": "https://localhost:8080/",
          "height": 34
        },
        "outputId": "aba4ca67-c74c-4de8-dfb7-ca978aaddf07"
      },
      "source": [
        "dict[\"a\"]=\"A\"\n",
        "dict"
      ],
      "execution_count": null,
      "outputs": [
        {
          "output_type": "execute_result",
          "data": {
            "text/plain": [
              "{'a': 'A', 'b': 'B', 'c': 'C', 'd': 'D'}"
            ]
          },
          "metadata": {
            "tags": []
          },
          "execution_count": 86
        }
      ]
    },
    {
      "cell_type": "code",
      "metadata": {
        "id": "iOrw7F9Tdl2n",
        "colab": {
          "base_uri": "https://localhost:8080/",
          "height": 34
        },
        "outputId": "2981e3ad-e148-4482-d4f5-4e0a1fea0977"
      },
      "source": [
        "\"a\" in dict"
      ],
      "execution_count": null,
      "outputs": [
        {
          "output_type": "execute_result",
          "data": {
            "text/plain": [
              "True"
            ]
          },
          "metadata": {
            "tags": []
          },
          "execution_count": 76
        }
      ]
    },
    {
      "cell_type": "code",
      "metadata": {
        "id": "NKvwmXyUdl2r",
        "colab": {
          "base_uri": "https://localhost:8080/",
          "height": 34
        },
        "outputId": "a1a6389a-9a05-4884-88df-0a136c7d1ca4"
      },
      "source": [
        "del dict[\"a\"]\n",
        "print(dict)"
      ],
      "execution_count": null,
      "outputs": [
        {
          "output_type": "stream",
          "text": [
            "{'d': 'D', 'b': 'B', 'c': 'C'}\n"
          ],
          "name": "stdout"
        }
      ]
    },
    {
      "cell_type": "code",
      "metadata": {
        "id": "fO9uRKbndl2t",
        "colab": {
          "base_uri": "https://localhost:8080/",
          "height": 34
        },
        "outputId": "53eb837f-3551-4abb-eb62-2e3bfd26410a"
      },
      "source": [
        "dict = {\"d\": \"D\", \"b\":\"B\", \"c\":\"C\"}\n",
        "dict.items()"
      ],
      "execution_count": null,
      "outputs": [
        {
          "output_type": "execute_result",
          "data": {
            "text/plain": [
              "dict_items([('d', 'D'), ('b', 'B'), ('c', 'C')])"
            ]
          },
          "metadata": {
            "tags": []
          },
          "execution_count": 78
        }
      ]
    },
    {
      "cell_type": "markdown",
      "metadata": {
        "id": "I8CrKFMVdl2w"
      },
      "source": [
        "### Tuples\n",
        "\n",
        "Tuples are **non-mutable** lists:"
      ]
    },
    {
      "cell_type": "code",
      "metadata": {
        "id": "i8enwS1Fdl2x",
        "colab": {
          "base_uri": "https://localhost:8080/",
          "height": 34
        },
        "outputId": "9b796e39-e783-4b71-b133-374ce424ff4a"
      },
      "source": [
        "tup = ('a', 'b', 'c')\n",
        "print(type(tup), tup[1:3])"
      ],
      "execution_count": null,
      "outputs": [
        {
          "output_type": "stream",
          "text": [
            "<class 'tuple'> ('b', 'c')\n"
          ],
          "name": "stdout"
        }
      ]
    },
    {
      "cell_type": "code",
      "metadata": {
        "id": "l0JS42xCdl2z",
        "colab": {
          "base_uri": "https://localhost:8080/",
          "height": 164
        },
        "outputId": "2bbea78c-bc6a-4f10-f5d1-d9b39e4a92c6"
      },
      "source": [
        "tup[0]='d'"
      ],
      "execution_count": null,
      "outputs": [
        {
          "output_type": "error",
          "ename": "TypeError",
          "evalue": "ignored",
          "traceback": [
            "\u001b[0;31m---------------------------------------------------------------------------\u001b[0m",
            "\u001b[0;31mTypeError\u001b[0m                                 Traceback (most recent call last)",
            "\u001b[0;32m<ipython-input-88-e43c22bd0fba>\u001b[0m in \u001b[0;36m<module>\u001b[0;34m()\u001b[0m\n\u001b[0;32m----> 1\u001b[0;31m \u001b[0mtup\u001b[0m\u001b[0;34m[\u001b[0m\u001b[0;36m0\u001b[0m\u001b[0;34m]\u001b[0m\u001b[0;34m=\u001b[0m\u001b[0;34m'd'\u001b[0m\u001b[0;34m\u001b[0m\u001b[0;34m\u001b[0m\u001b[0m\n\u001b[0m",
            "\u001b[0;31mTypeError\u001b[0m: 'tuple' object does not support item assignment"
          ]
        }
      ]
    },
    {
      "cell_type": "markdown",
      "metadata": {
        "id": "Liz1Twcadl23"
      },
      "source": [
        "## A program in Python\n",
        "\n",
        "General Rules:\n",
        "\n",
        "+ All text from a <code>#</code> simbol to the end of a line are considered as comments.\n",
        "+ Code must be **indented** and sometimes delineated by colons. The Python standard for indentation is four spaces. Never use tabs: it can produce hard to find errors. Set you editor to convert tabs to spaces.\n",
        "+ Typically, a statement must be on a line. You can use a backslash <code>\\</code> at the end of a line to continue a statement on to the next line.\n"
      ]
    },
    {
      "cell_type": "code",
      "metadata": {
        "id": "En5-bYq6dl24",
        "colab": {
          "base_uri": "https://localhost:8080/",
          "height": 54
        },
        "outputId": "05b7ed41-e828-40ff-9e5d-0ca0f4791e5d"
      },
      "source": [
        "# This program computes the factorial of 100.\n",
        "\n",
        "fact = 1\n",
        "n= 100\n",
        "for factor in range(n,0,-1):\n",
        "    fact = fact * factor \n",
        "print(fact)    "
      ],
      "execution_count": null,
      "outputs": [
        {
          "output_type": "stream",
          "text": [
            "93326215443944152681699238856266700490715968264381621468592963895217599993229915608941463976156518286253697920827223758251185210916864000000000000000000000000\n"
          ],
          "name": "stdout"
        }
      ]
    },
    {
      "cell_type": "code",
      "metadata": {
        "id": "Lf8_x0Hudl27",
        "colab": {
          "base_uri": "https://localhost:8080/",
          "height": 34
        },
        "outputId": "9cd2c0b1-5be9-40b5-ec0d-44ef8381e88b"
      },
      "source": [
        "list(range(10,0,-1))"
      ],
      "execution_count": null,
      "outputs": [
        {
          "output_type": "execute_result",
          "data": {
            "text/plain": [
              "[10, 9, 8, 7, 6, 5, 4, 3, 2, 1]"
            ]
          },
          "metadata": {
            "tags": []
          },
          "execution_count": 90
        }
      ]
    },
    {
      "cell_type": "markdown",
      "metadata": {
        "id": "Q5OyZdVVdl2_"
      },
      "source": [
        "<div class=\"alert alert-error\"> When we write a colon at the end of an iteration, all lines indented at the next level are considered *part* of the iteration. \n",
        "\n",
        "When we write a line at the same indentation as the iteration, we are closing the iteration.</div>"
      ]
    },
    {
      "cell_type": "markdown",
      "metadata": {
        "id": "gMauJicxdl2_"
      },
      "source": [
        "## References\n",
        "\n",
        "We can inspect the reference of an object:"
      ]
    },
    {
      "cell_type": "code",
      "metadata": {
        "id": "7EdCt1i3dl2_",
        "colab": {
          "base_uri": "https://localhost:8080/",
          "height": 34
        },
        "outputId": "ba73b6b8-fcbc-4f06-ec4c-057b16f0ffff"
      },
      "source": [
        "a ='hello'\n",
        "print(id(a))"
      ],
      "execution_count": null,
      "outputs": [
        {
          "output_type": "stream",
          "text": [
            "140150831202744\n"
          ],
          "name": "stdout"
        }
      ]
    },
    {
      "cell_type": "markdown",
      "metadata": {
        "id": "gtZC2ed6dl3C"
      },
      "source": [
        "Two different objects:"
      ]
    },
    {
      "cell_type": "code",
      "metadata": {
        "id": "3SmlgvbDdl3D",
        "colab": {
          "base_uri": "https://localhost:8080/",
          "height": 68
        },
        "outputId": "fe494d05-2ae0-4991-ad1e-d23e038dfb98"
      },
      "source": [
        "a = [1,2,3]\n",
        "b = [1,2,3]\n",
        "print(id(a), id(b))\n",
        "print (a is b)\n",
        "print (a == b)"
      ],
      "execution_count": null,
      "outputs": [
        {
          "output_type": "stream",
          "text": [
            "140150831209544 140150831233480\n",
            "False\n",
            "True\n"
          ],
          "name": "stdout"
        }
      ]
    },
    {
      "cell_type": "markdown",
      "metadata": {
        "id": "uEyyEmG_dl3F"
      },
      "source": [
        "Object alias:"
      ]
    },
    {
      "cell_type": "code",
      "metadata": {
        "id": "BFK72h6qdl3F",
        "colab": {
          "base_uri": "https://localhost:8080/",
          "height": 34
        },
        "outputId": "d2825b9e-ff52-4f5a-8191-f629364f86df"
      },
      "source": [
        "a = [1,2,3]\n",
        "b = a                     # alias\n",
        "print(id(a), id(b))"
      ],
      "execution_count": null,
      "outputs": [
        {
          "output_type": "stream",
          "text": [
            "140150831184648 140150831184648\n"
          ],
          "name": "stdout"
        }
      ]
    },
    {
      "cell_type": "markdown",
      "metadata": {
        "id": "wXHq62Pldl3K"
      },
      "source": [
        "Cloning:"
      ]
    },
    {
      "cell_type": "code",
      "metadata": {
        "id": "fdofGnoZdl3K",
        "colab": {
          "base_uri": "https://localhost:8080/",
          "height": 34
        },
        "outputId": "5cf643f7-1aad-43b3-e00f-0bcc77f79e31"
      },
      "source": [
        "a = [1,2,3]\n",
        "b = a[:]                  # cloning with :\n",
        "\n",
        "print(a, b, b[1:], id(a), id(b), id(b[1:]))"
      ],
      "execution_count": null,
      "outputs": [
        {
          "output_type": "stream",
          "text": [
            "[1, 2, 3] [1, 2, 3] [2, 3] 140150831210376 140150831233480 140150831233416\n"
          ],
          "name": "stdout"
        }
      ]
    },
    {
      "cell_type": "markdown",
      "metadata": {
        "id": "BIooUYwMdl3M"
      },
      "source": [
        "When a list is an argument of a function, we are sending the *reference*, not a *copy*"
      ]
    },
    {
      "cell_type": "markdown",
      "metadata": {
        "id": "85ceL4d3dl3N"
      },
      "source": [
        "## Functions\n",
        "\n",
        "To create a function, use def. "
      ]
    },
    {
      "cell_type": "code",
      "metadata": {
        "id": "_HJVHYTkdl3N",
        "colab": {
          "base_uri": "https://localhost:8080/",
          "height": 34
        },
        "outputId": "c65d00d5-b6bb-415c-97c2-7162ee693f80"
      },
      "source": [
        "def head(list):     #parameters separated by comma\n",
        "    return list[0]  #Identation means inside functions\n",
        "\n",
        "numbers=[1,2,3,4]\n",
        "print(head(numbers), numbers)"
      ],
      "execution_count": null,
      "outputs": [
        {
          "output_type": "stream",
          "text": [
            "1 [1, 2, 3, 4]\n"
          ],
          "name": "stdout"
        }
      ]
    },
    {
      "cell_type": "code",
      "metadata": {
        "id": "lBq_kaUU0Ao_",
        "colab": {
          "base_uri": "https://localhost:8080/",
          "height": 34
        },
        "outputId": "b8c5220d-455b-4f9d-e73c-919b63ed0cf8"
      },
      "source": [
        "head(numbers)"
      ],
      "execution_count": null,
      "outputs": [
        {
          "output_type": "execute_result",
          "data": {
            "text/plain": [
              "1"
            ]
          },
          "metadata": {
            "tags": []
          },
          "execution_count": 95
        }
      ]
    },
    {
      "cell_type": "code",
      "metadata": {
        "id": "aK6N9yAPdl3T"
      },
      "source": [
        "def change_first_element(list):\n",
        "    list[0]=0 #it returns none!\n",
        "\n",
        "numbers=[1,2,3,4]\n",
        "change_first_element(numbers)"
      ],
      "execution_count": null,
      "outputs": []
    },
    {
      "cell_type": "markdown",
      "metadata": {
        "id": "o29U4hNHdl3b"
      },
      "source": [
        "If we return a list we are returning a reference:"
      ]
    },
    {
      "cell_type": "code",
      "metadata": {
        "id": "PjYTIRMJdl3b",
        "colab": {
          "base_uri": "https://localhost:8080/",
          "height": 51
        },
        "outputId": "a91efa3f-1774-4b23-9cdc-cdd439c2719e"
      },
      "source": [
        "def tail(list):\n",
        "    return list[1:]     # we are creating a new list\n",
        "\n",
        "numbers=[1,2,3,4]\n",
        "rest = tail(numbers)\n",
        "print(rest, numbers)\n",
        "print(id(rest), id(numbers))"
      ],
      "execution_count": null,
      "outputs": [
        {
          "output_type": "stream",
          "text": [
            "[2, 3, 4] [1, 2, 3, 4]\n",
            "140201518393736 140201518394696\n"
          ],
          "name": "stdout"
        }
      ]
    },
    {
      "cell_type": "code",
      "metadata": {
        "id": "FPgAfgwwdl3f",
        "colab": {
          "base_uri": "https://localhost:8080/",
          "height": 34
        },
        "outputId": "21a07363-a4d8-431e-91fe-aa6206897c2b"
      },
      "source": [
        "# Press tab\n",
        "numbers.reverse()\n",
        "print(numbers)"
      ],
      "execution_count": null,
      "outputs": [
        {
          "output_type": "stream",
          "text": [
            "[4, 3, 2, 1]\n"
          ],
          "name": "stdout"
        }
      ]
    },
    {
      "cell_type": "markdown",
      "metadata": {
        "id": "EKSnMkiydl3i"
      },
      "source": [
        "Sometimes it is important to perform a *sanity check* about what is doing a pre-defined function:"
      ]
    },
    {
      "cell_type": "code",
      "metadata": {
        "id": "uj3JtoP3dl3i",
        "colab": {
          "base_uri": "https://localhost:8080/",
          "height": 51
        },
        "outputId": "20b65bd9-2f75-4302-b934-c899e2f863b9"
      },
      "source": [
        "numbers=[1,2,3,4]\n",
        "def test(l):\n",
        "    return l.reverse() #Reverse return NONE! \n",
        "print(numbers)\n",
        "print(numbers, test(numbers)) #Reverses changes the list INPLACE if we don't make a copy we will  alter the original numbers "
      ],
      "execution_count": null,
      "outputs": [
        {
          "output_type": "stream",
          "text": [
            "[1, 2, 3, 4]\n",
            "[4, 3, 2, 1] None\n"
          ],
          "name": "stdout"
        }
      ]
    },
    {
      "cell_type": "code",
      "metadata": {
        "id": "HAhIqsiRdl3k",
        "colab": {
          "base_uri": "https://localhost:8080/",
          "height": 51
        },
        "outputId": "2e9ad657-8809-4a15-9cec-c3112be87989"
      },
      "source": [
        "numbers=[1,2,3,4]\n",
        "\n",
        "def test(l):\n",
        "    l.reverse() #Reverse changes the list INPLACE, if we don't make a copy we will  alter the original numbers \n",
        "    return l\n",
        "\n",
        "print(numbers, test(numbers))\n",
        "print(id(numbers), id(test(numbers)))"
      ],
      "execution_count": null,
      "outputs": [
        {
          "output_type": "stream",
          "text": [
            "[4, 3, 2, 1] [4, 3, 2, 1]\n",
            "140201518423048 140201518423048\n"
          ],
          "name": "stdout"
        }
      ]
    },
    {
      "cell_type": "code",
      "metadata": {
        "id": "oCCe6_gRdl3q",
        "colab": {
          "base_uri": "https://localhost:8080/",
          "height": 51
        },
        "outputId": "3b0f6646-8f26-4654-e1c6-49a586c83212"
      },
      "source": [
        "numbers=[1,2,3,4]\n",
        "\n",
        "def test(l):\n",
        "    a=l[:]\n",
        "    l.reverse() #Reverse changes the list INPLACE, if we don't make a copy we will alter the original numbers \n",
        "    return a\n",
        "\n",
        "print(numbers, test(numbers))\n",
        "print(id(numbers), id(test(numbers)))"
      ],
      "execution_count": null,
      "outputs": [
        {
          "output_type": "stream",
          "text": [
            "[4, 3, 2, 1] [1, 2, 3, 4]\n",
            "140150831227400 140150831229192\n"
          ],
          "name": "stdout"
        }
      ]
    },
    {
      "cell_type": "code",
      "metadata": {
        "id": "IrDOLC1qdl3t"
      },
      "source": [
        "?list.reverse"
      ],
      "execution_count": null,
      "outputs": []
    },
    {
      "cell_type": "markdown",
      "metadata": {
        "id": "lPJi6WFtdl3v"
      },
      "source": [
        "## Algorithms in Python \n"
      ]
    },
    {
      "cell_type": "markdown",
      "metadata": {
        "id": "bQWrXm2Pdl3w"
      },
      "source": [
        "#### Factorial\n",
        "\n",
        "The factorial of a non-negative integer $n$, denoted by $n!$, is the product of all positive integers less than or equal to $n$.  "
      ]
    },
    {
      "cell_type": "code",
      "metadata": {
        "id": "os0UmDEhdl3w"
      },
      "source": [
        "def factorial(n):\n",
        "    fact = 1\n",
        "    for factor in range(n,0,-1):\n",
        "        fact = fact * factor\n",
        "    return fact"
      ],
      "execution_count": null,
      "outputs": []
    },
    {
      "cell_type": "code",
      "metadata": {
        "id": "l54RbzYjdl3z",
        "colab": {
          "base_uri": "https://localhost:8080/",
          "height": 54
        },
        "outputId": "a9b73a62-c69f-4282-d52f-69e970ff45d6"
      },
      "source": [
        "factorial(100)"
      ],
      "execution_count": null,
      "outputs": [
        {
          "output_type": "execute_result",
          "data": {
            "text/plain": [
              "93326215443944152681699238856266700490715968264381621468592963895217599993229915608941463976156518286253697920827223758251185210916864000000000000000000000000"
            ]
          },
          "metadata": {
            "tags": []
          },
          "execution_count": 97
        }
      ]
    },
    {
      "cell_type": "markdown",
      "metadata": {
        "id": "9SGA6En5dl34"
      },
      "source": [
        "#### Fibonacci\n",
        "\n",
        "The Fibonacci Sequence is the series of numbers: 0, 1, 1, 2, 3, 5, 8, 13, 21, 34, ...\n",
        "\n",
        "The general rule to compute the sequence is very simple: The next number is found by adding up the two numbers before it."
      ]
    },
    {
      "cell_type": "code",
      "metadata": {
        "id": "pyurlPwldl35",
        "colab": {
          "base_uri": "https://localhost:8080/",
          "height": 34
        },
        "outputId": "1e467cca-2d58-4019-d739-5281922103af"
      },
      "source": [
        "def fib1(n):\n",
        "    if n==1:\n",
        "        return 1\n",
        "    if n==0:\n",
        "        return 0\n",
        "    return fib1(n-1) + fib1(n-2)\n",
        "\n",
        "fib1(20)\n",
        "\n",
        "# this function cannot compute fib(100)"
      ],
      "execution_count": null,
      "outputs": [
        {
          "output_type": "execute_result",
          "data": {
            "text/plain": [
              "6765"
            ]
          },
          "metadata": {
            "tags": []
          },
          "execution_count": 98
        }
      ]
    },
    {
      "cell_type": "code",
      "metadata": {
        "id": "CsOrs_kwdl3_",
        "colab": {
          "base_uri": "https://localhost:8080/",
          "height": 54
        },
        "outputId": "a22a8b7b-7e94-41ca-d30b-d01c301fb89c"
      },
      "source": [
        "def fib2(n):\n",
        "    a, b = 0, 1\n",
        "    for i in range(1,n+1):\n",
        "        a, b = b, a + b\n",
        "    return a\n",
        "\n",
        "n = 1000\n",
        "if n<15:\n",
        "    print(fib1(n))\n",
        "else: \n",
        "    print(fib2(n))"
      ],
      "execution_count": null,
      "outputs": [
        {
          "output_type": "stream",
          "text": [
            "43466557686937456435688527675040625802564660517371780402481729089536555417949051890403879840079255169295922593080322634775209689623239873322471161642996440906533187938298969649928516003704476137795166849228875\n"
          ],
          "name": "stdout"
        }
      ]
    },
    {
      "cell_type": "markdown",
      "metadata": {
        "id": "nfG-Ti8-dl4C"
      },
      "source": [
        "#### Greatest Common Divisor\n",
        "\n",
        "The greatest common divisor of two positive integers $a$ and $b$ is the largest divisor common to $a$ and $b$.  The Euclidean algorithm, or Euclid's algorithm, is an interative method for computing the greatest common divisor of two integers. \n",
        "\n",
        "+ If $a<b$, exchange $a$ and $b$.\n",
        "+ Divide $a$ by $b$ and get the remainder, $r$. If $r=0$, report $b$ as the GCD of $a$ and $b$.\n",
        "+ Replace $a$ by $b$ and replace $b$ by $r$. If $r \\neq 0$ iterate.\n",
        "\n"
      ]
    },
    {
      "cell_type": "code",
      "metadata": {
        "id": "-7-Kqau7dl4C",
        "colab": {
          "base_uri": "https://localhost:8080/",
          "height": 34
        },
        "outputId": "e69f4b7b-ed36-41fa-ea0e-1d78b9d733e5"
      },
      "source": [
        "def gcd(a,b): # Euclides algorithm v1.0: pseudocode translation\n",
        "    r = 1\n",
        "    while r != 0:\n",
        "        if a<b:\n",
        "            c=a\n",
        "            a=b\n",
        "            b=c\n",
        "        r = a%b \n",
        "        if r == 0:\n",
        "            return b\n",
        "        else:\n",
        "            a = b\n",
        "            b = r\n",
        "\n",
        "gcd(100,16)"
      ],
      "execution_count": null,
      "outputs": [
        {
          "output_type": "execute_result",
          "data": {
            "text/plain": [
              "4"
            ]
          },
          "metadata": {
            "tags": []
          },
          "execution_count": 100
        }
      ]
    },
    {
      "cell_type": "code",
      "metadata": {
        "id": "ciuMGegPdl4F",
        "colab": {
          "base_uri": "https://localhost:8080/",
          "height": 34
        },
        "outputId": "6224b461-116e-4ad8-d0d2-59c1195bd0e9"
      },
      "source": [
        "def gcd(a,b):   # Euclides algorithm v2.0: idiomatic Python\n",
        "    while a:\n",
        "        a, b = b%a, a\n",
        "    return b\n",
        "\n",
        "gcd(100,16)"
      ],
      "execution_count": null,
      "outputs": [
        {
          "output_type": "execute_result",
          "data": {
            "text/plain": [
              "4"
            ]
          },
          "metadata": {
            "tags": []
          },
          "execution_count": 101
        }
      ]
    },
    {
      "cell_type": "code",
      "metadata": {
        "id": "Wysiems1dl4G",
        "colab": {
          "base_uri": "https://localhost:8080/",
          "height": 34
        },
        "outputId": "8a8268bd-2a33-49a4-b2b7-97345244982b"
      },
      "source": [
        "a = 0\n",
        "a == False"
      ],
      "execution_count": null,
      "outputs": [
        {
          "output_type": "execute_result",
          "data": {
            "text/plain": [
              "True"
            ]
          },
          "metadata": {
            "tags": []
          },
          "execution_count": 102
        }
      ]
    },
    {
      "cell_type": "markdown",
      "metadata": {
        "id": "peEEHopOqFYb"
      },
      "source": [
        "## Reading and handling data\n",
        "\n",
        "Since we are going to deal with a wide range of data types (text, numerical arrays, images, etc.). \n",
        "\n",
        "When working with google colab, the first thing you need to do is to grant access to the files in your google drive:\n"
      ]
    },
    {
      "cell_type": "code",
      "metadata": {
        "id": "F10XBb-3rvJM",
        "colab": {
          "base_uri": "https://localhost:8080/"
        },
        "outputId": "7340a24f-ab20-4893-a7ae-09ce86025c72"
      },
      "source": [
        "from google.colab import drive \n",
        "drive.mount('/content/gdrive')"
      ],
      "execution_count": 28,
      "outputs": [
        {
          "output_type": "stream",
          "name": "stdout",
          "text": [
            "Mounted at /content/gdrive\n"
          ]
        }
      ]
    },
    {
      "cell_type": "markdown",
      "metadata": {
        "id": "8pUjkV6hr6Ww"
      },
      "source": [
        "Once you have access to your google drive, the files are available at the folder /content/gdrive. In order to list the folders in the root your drive use the listdir function from the os library:"
      ]
    },
    {
      "cell_type": "code",
      "source": [
        "/content/gdrive/MyDrive"
      ],
      "metadata": {
        "id": "bygJZJ9ex-jc"
      },
      "execution_count": null,
      "outputs": []
    },
    {
      "cell_type": "code",
      "metadata": {
        "id": "6Phb-19B0CEx",
        "colab": {
          "base_uri": "https://localhost:8080/"
        },
        "outputId": "1304f529-80b9-4d76-b40b-16fc6eaa4d62"
      },
      "source": [
        "import os\n",
        "\n",
        "root_folder = '/content/gdrive/My Drive/'\n",
        "\n",
        "for kdirs in os.listdir(root_folder):\n",
        "    if os.path.isdir(os.path.join(root_folder, kdirs)):\n",
        "        print(kdirs)"
      ],
      "execution_count": 29,
      "outputs": [
        {
          "output_type": "stream",
          "name": "stdout",
          "text": [
            "Meet Recordings\n",
            "Colab Notebooks\n",
            "PROYECTO NACIONAL 2021\n",
            "EXPLORATORY_PLOTS\n",
            "seminars_slides\n",
            "video EEBE\n",
            "Informes de les reunions\n",
            "DL INTERPRETABILITY \n",
            "TESI CARME NOLLA\n",
            "UNET SEGMENT HSJD\n",
            "CV Revisors_UPC_nogood\n",
            "HODKIN-HUXLEY_Python\n",
            "ROP_project\n",
            "PIB_EEBE\n",
            "sample data-20210224\n",
            "Hal Leonard Blues Piano \n",
            "TESIS_ANDREA_ACEVEDO\n",
            "ESTUDIS CLÀUDIA\n",
            "TFG_TFMs\n",
            "CONTROL_ML\n",
            "data_course\n",
            "paper_mass_review\n",
            "IWANN_course_data\n",
            "AUX_DATA\n",
            ".ipynb_checkpoints\n",
            "Notability\n",
            "DAPR sample data\n",
            "MRI\n",
            "DL INTERPRETABILITY\n",
            "REQUERIMIENTOS_DPI2013-44584-R\n",
            "synthetic_sparks\n",
            "violin_plots_leif\n",
            "Leukemia_database\n",
            "tennis_tracker\n",
            "AI_cinema\n",
            "CasOS_TRANCE_DICOM\n",
            "app_TFM-main\n",
            "Carmen de Torres 2022\n",
            "ECO_SCORES\n",
            "analisiscelulasblas\n",
            "PAC3_2022\n",
            "Imatges_COVID\n"
          ]
        }
      ]
    },
    {
      "cell_type": "markdown",
      "metadata": {
        "id": "dctWz84r0Bb2"
      },
      "source": [
        "If you want to dig into the contents of several folders then use the function walk instead"
      ]
    },
    {
      "cell_type": "code",
      "metadata": {
        "id": "wfB1To3jtIpx",
        "colab": {
          "base_uri": "https://localhost:8080/"
        },
        "outputId": "7da62ad6-60e3-4397-c9d3-2dee4cc19cc5"
      },
      "source": [
        "import os\n",
        "\n",
        "for root, dirs, files in os.walk(root_folder, topdown=False):\n",
        "    for name in dirs:\n",
        "        print(os.path.join(root, name))"
      ],
      "execution_count": 30,
      "outputs": [
        {
          "output_type": "stream",
          "name": "stdout",
          "text": [
            "/content/gdrive/My Drive/PROYECTO NACIONAL 2021/Figures_Previous_Project\n",
            "/content/gdrive/My Drive/PROYECTO NACIONAL 2021/Plantillas\n",
            "/content/gdrive/My Drive/PROYECTO NACIONAL 2021/Old_versions\n",
            "/content/gdrive/My Drive/Informes de les reunions/2020-11-26 17:59 Planning G11\n",
            "/content/gdrive/My Drive/Informes de les reunions/2020-11-30 12:28 meeting mobilitat EEBE\n",
            "/content/gdrive/My Drive/Informes de les reunions/2020-12-10 17:54 Planning G11\n",
            "/content/gdrive/My Drive/Informes de les reunions/2020-12-15 17:59 Planning G11\n",
            "/content/gdrive/My Drive/Informes de les reunions/2020-12-22 18:12 Final Work hands-on session\n",
            "/content/gdrive/My Drive/Informes de les reunions/2021-02-12 11:00 reunió mobilitat\n",
            "/content/gdrive/My Drive/Informes de les reunions/2021-02-17 11:30 Welcome session EEBE\n",
            "/content/gdrive/My Drive/Informes de les reunions/2021-02-22 14:47 PRML class\n",
            "/content/gdrive/My Drive/Informes de les reunions/2021-03-24 14:49 PRML class\n",
            "/content/gdrive/My Drive/Informes de les reunions/2021-06-03 12:08 PIB PROBLEMES\n",
            "/content/gdrive/My Drive/DL INTERPRETABILITY /CODI METODES\n",
            "/content/gdrive/My Drive/UNET SEGMENT HSJD/all/mask\n",
            "/content/gdrive/My Drive/UNET SEGMENT HSJD/all/enhanced\n",
            "/content/gdrive/My Drive/UNET SEGMENT HSJD/all/final\n",
            "/content/gdrive/My Drive/UNET SEGMENT HSJD/all/images\n",
            "/content/gdrive/My Drive/UNET SEGMENT HSJD/all/otsu\n",
            "/content/gdrive/My Drive/UNET SEGMENT HSJD/all/truth\n",
            "/content/gdrive/My Drive/UNET SEGMENT HSJD/all\n",
            "/content/gdrive/My Drive/HODKIN-HUXLEY_Python/modelo_patch_HH/modelo HH Python/pyHH-master/src/pyhh/__pycache__\n",
            "/content/gdrive/My Drive/HODKIN-HUXLEY_Python/modelo_patch_HH/modelo HH Python/pyHH-master/src/pyhh\n",
            "/content/gdrive/My Drive/HODKIN-HUXLEY_Python/modelo_patch_HH/modelo HH Python/pyHH-master/dev/figures\n",
            "/content/gdrive/My Drive/HODKIN-HUXLEY_Python/modelo_patch_HH/modelo HH Python/pyHH-master/dev/__pycache__\n",
            "/content/gdrive/My Drive/HODKIN-HUXLEY_Python/modelo_patch_HH/modelo HH Python/pyHH-master/src\n",
            "/content/gdrive/My Drive/HODKIN-HUXLEY_Python/modelo_patch_HH/modelo HH Python/pyHH-master/dev\n",
            "/content/gdrive/My Drive/HODKIN-HUXLEY_Python/modelo_patch_HH/modelo HH Python/pyHH-master/tests\n",
            "/content/gdrive/My Drive/HODKIN-HUXLEY_Python/modelo_patch_HH/modelo HH Python/pyHH-master\n",
            "/content/gdrive/My Drive/HODKIN-HUXLEY_Python/modelo_patch_HH/modelo HH Python\n",
            "/content/gdrive/My Drive/HODKIN-HUXLEY_Python/modelo_patch_HH\n",
            "/content/gdrive/My Drive/ROP_project/BIBLIOGRAPHY/Gulshan2016\n",
            "/content/gdrive/My Drive/ROP_project/DRIVE DATASET\n",
            "/content/gdrive/My Drive/ROP_project/BIBLIOGRAPHY\n",
            "/content/gdrive/My Drive/ROP_project/CHASE dataset\n",
            "/content/gdrive/My Drive/ROP_project/STARE dataset\n",
            "/content/gdrive/My Drive/ROP_project/REDCAM database\n",
            "/content/gdrive/My Drive/ROP_project/CODE\n",
            "/content/gdrive/My Drive/TESIS_ANDREA_ACEVEDO/informes\n",
            "/content/gdrive/My Drive/data_course/titanic\n",
            "/content/gdrive/My Drive/data_course/mpg_cars\n",
            "/content/gdrive/My Drive/IWANN_course_data/model_saved/variables\n",
            "/content/gdrive/My Drive/IWANN_course_data/model_saved/assets\n",
            "/content/gdrive/My Drive/IWANN_course_data/model1_saved/variables\n",
            "/content/gdrive/My Drive/IWANN_course_data/model1_saved/assets\n",
            "/content/gdrive/My Drive/IWANN_course_data/model_saved\n",
            "/content/gdrive/My Drive/IWANN_course_data/model1_saved\n",
            "/content/gdrive/My Drive/Notability/GESTIÓ/EEBE ED\n",
            "/content/gdrive/My Drive/Notability/PERSONAL/MUSIC\n",
            "/content/gdrive/My Drive/Notability/PERSONAL/GIRLS\n",
            "/content/gdrive/My Drive/Notability/PERSONAL/WINEDOS\n",
            "/content/gdrive/My Drive/Notability/PERSONAL/LANGUAGES\n",
            "/content/gdrive/My Drive/Notability/PERSONAL/CHESS\n",
            "/content/gdrive/My Drive/Notability/PERSONAL/ART\n",
            "/content/gdrive/My Drive/Notability/RESEARCH/Frontiers PHYSIOLOGY\n",
            "/content/gdrive/My Drive/Notability/RESEARCH/COURSES COMPANIES\n",
            "/content/gdrive/My Drive/Notability/RESEARCH/COURSES\n",
            "/content/gdrive/My Drive/Notability/RESEARCH/Causal structure models\n",
            "/content/gdrive/My Drive/Notability/RESEARCH/COMPUTATIONAL HSJD\n",
            "/content/gdrive/My Drive/Notability/RESEARCH/DL INTERPRETABILITY\n",
            "/content/gdrive/My Drive/Notability/RESEARCH/HEMATO project\n",
            "/content/gdrive/My Drive/Notability/RESEARCH/SPARKS project\n",
            "/content/gdrive/My Drive/Notability/RESEARCH/ROP project\n",
            "/content/gdrive/My Drive/Notability/RESEARCH/USBRAIN project\n",
            "/content/gdrive/My Drive/Notability/RESEARCH/Vall Hebron\n",
            "/content/gdrive/My Drive/Notability/RESEARCH/Can Ruti dr. Altes\n",
            "/content/gdrive/My Drive/Notability/DOCÈNCIA/CLASSES\n",
            "/content/gdrive/My Drive/Notability/DOCÈNCIA/CV\n",
            "/content/gdrive/My Drive/Notability/DOCÈNCIA/INTERDISCIPLINARY MASTER\n",
            "/content/gdrive/My Drive/Notability/EEBE ED\n",
            "/content/gdrive/My Drive/Notability/MUSIC\n",
            "/content/gdrive/My Drive/Notability/INTERDISCIPLINARY MASTER\n",
            "/content/gdrive/My Drive/Notability/Important\n",
            "/content/gdrive/My Drive/Notability/GESTIÓ\n",
            "/content/gdrive/My Drive/Notability/PERSONAL\n",
            "/content/gdrive/My Drive/Notability/RESEARCH\n",
            "/content/gdrive/My Drive/Notability/DOCÈNCIA\n",
            "/content/gdrive/My Drive/MRI/SEGMENTATION/Case_101/Images\n",
            "/content/gdrive/My Drive/MRI/SEGMENTATION/Case_107/Images\n",
            "/content/gdrive/My Drive/MRI/SEGMENTATION/Case_104/Images\n",
            "/content/gdrive/My Drive/MRI/SEGMENTATION/Case_105/Images\n",
            "/content/gdrive/My Drive/MRI/SEGMENTATION/Case_102/Images\n",
            "/content/gdrive/My Drive/MRI/SEGMENTATION/Case_106/Images\n",
            "/content/gdrive/My Drive/MRI/SEGMENTATION/Case_109/Images\n",
            "/content/gdrive/My Drive/MRI/SEGMENTATION/Case_103/Images\n",
            "/content/gdrive/My Drive/MRI/SEGMENTATION/Case_108/Images\n",
            "/content/gdrive/My Drive/MRI/SEGMENTATION/Case_110/Images\n",
            "/content/gdrive/My Drive/MRI/SEGMENTATION/Case_116/Images\n",
            "/content/gdrive/My Drive/MRI/SEGMENTATION/Case_112/Images\n",
            "/content/gdrive/My Drive/MRI/SEGMENTATION/Case_117/Images\n",
            "/content/gdrive/My Drive/MRI/SEGMENTATION/Case_113/Images\n",
            "/content/gdrive/My Drive/MRI/SEGMENTATION/Case_120/Images\n",
            "/content/gdrive/My Drive/MRI/SEGMENTATION/Case_115/Images\n",
            "/content/gdrive/My Drive/MRI/SEGMENTATION/Case_114/Images\n",
            "/content/gdrive/My Drive/MRI/SEGMENTATION/Case_118/Images\n",
            "/content/gdrive/My Drive/MRI/SEGMENTATION/Case_111/Images\n",
            "/content/gdrive/My Drive/MRI/SEGMENTATION/Case_119/Images\n",
            "/content/gdrive/My Drive/MRI/SEGMENTATION/Case_127/Images\n",
            "/content/gdrive/My Drive/MRI/SEGMENTATION/Case_128/Images\n",
            "/content/gdrive/My Drive/MRI/SEGMENTATION/Case_129/Images\n",
            "/content/gdrive/My Drive/MRI/SEGMENTATION/Case_124/Images\n",
            "/content/gdrive/My Drive/MRI/SEGMENTATION/Case_125/Images\n",
            "/content/gdrive/My Drive/MRI/SEGMENTATION/Case_122/Images\n",
            "/content/gdrive/My Drive/MRI/SEGMENTATION/Case_126/Images\n",
            "/content/gdrive/My Drive/MRI/SEGMENTATION/Case_130/Images\n",
            "/content/gdrive/My Drive/MRI/SEGMENTATION/Case_121/Images\n",
            "/content/gdrive/My Drive/MRI/SEGMENTATION/Case_123/Images\n",
            "/content/gdrive/My Drive/MRI/SEGMENTATION/Case_134/Images\n",
            "/content/gdrive/My Drive/MRI/SEGMENTATION/Case_138/Images\n",
            "/content/gdrive/My Drive/MRI/SEGMENTATION/Case_139/Images\n",
            "/content/gdrive/My Drive/MRI/SEGMENTATION/Case_131/Images\n",
            "/content/gdrive/My Drive/MRI/SEGMENTATION/Case_136/Images\n",
            "/content/gdrive/My Drive/MRI/SEGMENTATION/Case_137/Images\n",
            "/content/gdrive/My Drive/MRI/SEGMENTATION/Case_132/Images\n",
            "/content/gdrive/My Drive/MRI/SEGMENTATION/Case_140/Images\n",
            "/content/gdrive/My Drive/MRI/SEGMENTATION/Case_133/Images\n",
            "/content/gdrive/My Drive/MRI/SEGMENTATION/Case_135/Images\n",
            "/content/gdrive/My Drive/MRI/SEGMENTATION/Case_147/Images\n",
            "/content/gdrive/My Drive/MRI/SEGMENTATION/Case_142/Images\n",
            "/content/gdrive/My Drive/MRI/SEGMENTATION/Case_145/Images\n",
            "/content/gdrive/My Drive/MRI/SEGMENTATION/Case_148/Images\n",
            "/content/gdrive/My Drive/MRI/SEGMENTATION/Case_144/Images\n",
            "/content/gdrive/My Drive/MRI/SEGMENTATION/Case_141/Images\n",
            "/content/gdrive/My Drive/MRI/SEGMENTATION/Case_146/Images\n",
            "/content/gdrive/My Drive/MRI/SEGMENTATION/Case_149/Images\n",
            "/content/gdrive/My Drive/MRI/SEGMENTATION/Case_150/Images\n",
            "/content/gdrive/My Drive/MRI/SEGMENTATION/Case_143/Images\n",
            "/content/gdrive/My Drive/MRI/SEGMENTATION/Case_101\n",
            "/content/gdrive/My Drive/MRI/SEGMENTATION/Case_107\n",
            "/content/gdrive/My Drive/MRI/SEGMENTATION/Case_104\n",
            "/content/gdrive/My Drive/MRI/SEGMENTATION/Case_105\n",
            "/content/gdrive/My Drive/MRI/SEGMENTATION/Case_102\n",
            "/content/gdrive/My Drive/MRI/SEGMENTATION/Case_106\n",
            "/content/gdrive/My Drive/MRI/SEGMENTATION/Case_109\n",
            "/content/gdrive/My Drive/MRI/SEGMENTATION/Case_103\n",
            "/content/gdrive/My Drive/MRI/SEGMENTATION/Case_108\n",
            "/content/gdrive/My Drive/MRI/SEGMENTATION/Case_110\n",
            "/content/gdrive/My Drive/MRI/SEGMENTATION/Case_116\n",
            "/content/gdrive/My Drive/MRI/SEGMENTATION/Case_112\n",
            "/content/gdrive/My Drive/MRI/SEGMENTATION/Case_117\n",
            "/content/gdrive/My Drive/MRI/SEGMENTATION/Case_113\n",
            "/content/gdrive/My Drive/MRI/SEGMENTATION/Case_120\n",
            "/content/gdrive/My Drive/MRI/SEGMENTATION/Case_115\n",
            "/content/gdrive/My Drive/MRI/SEGMENTATION/Case_114\n",
            "/content/gdrive/My Drive/MRI/SEGMENTATION/Case_118\n",
            "/content/gdrive/My Drive/MRI/SEGMENTATION/Case_111\n",
            "/content/gdrive/My Drive/MRI/SEGMENTATION/Case_119\n",
            "/content/gdrive/My Drive/MRI/SEGMENTATION/Case_127\n",
            "/content/gdrive/My Drive/MRI/SEGMENTATION/Case_128\n",
            "/content/gdrive/My Drive/MRI/SEGMENTATION/Case_129\n",
            "/content/gdrive/My Drive/MRI/SEGMENTATION/Case_124\n",
            "/content/gdrive/My Drive/MRI/SEGMENTATION/Case_125\n",
            "/content/gdrive/My Drive/MRI/SEGMENTATION/Case_122\n",
            "/content/gdrive/My Drive/MRI/SEGMENTATION/Case_126\n",
            "/content/gdrive/My Drive/MRI/SEGMENTATION/Case_130\n",
            "/content/gdrive/My Drive/MRI/SEGMENTATION/Case_121\n",
            "/content/gdrive/My Drive/MRI/SEGMENTATION/Case_123\n",
            "/content/gdrive/My Drive/MRI/SEGMENTATION/Case_134\n",
            "/content/gdrive/My Drive/MRI/SEGMENTATION/Case_138\n",
            "/content/gdrive/My Drive/MRI/SEGMENTATION/Case_139\n",
            "/content/gdrive/My Drive/MRI/SEGMENTATION/Case_131\n",
            "/content/gdrive/My Drive/MRI/SEGMENTATION/Case_136\n",
            "/content/gdrive/My Drive/MRI/SEGMENTATION/Case_137\n",
            "/content/gdrive/My Drive/MRI/SEGMENTATION/Case_132\n",
            "/content/gdrive/My Drive/MRI/SEGMENTATION/Case_140\n",
            "/content/gdrive/My Drive/MRI/SEGMENTATION/Case_133\n",
            "/content/gdrive/My Drive/MRI/SEGMENTATION/Case_135\n",
            "/content/gdrive/My Drive/MRI/SEGMENTATION/Case_147\n",
            "/content/gdrive/My Drive/MRI/SEGMENTATION/Case_142\n",
            "/content/gdrive/My Drive/MRI/SEGMENTATION/Case_145\n",
            "/content/gdrive/My Drive/MRI/SEGMENTATION/Case_148\n",
            "/content/gdrive/My Drive/MRI/SEGMENTATION/Case_144\n",
            "/content/gdrive/My Drive/MRI/SEGMENTATION/Case_141\n",
            "/content/gdrive/My Drive/MRI/SEGMENTATION/Case_146\n",
            "/content/gdrive/My Drive/MRI/SEGMENTATION/Case_149\n",
            "/content/gdrive/My Drive/MRI/SEGMENTATION/Case_150\n",
            "/content/gdrive/My Drive/MRI/SEGMENTATION/Case_143\n",
            "/content/gdrive/My Drive/MRI/CLASSIFICATION/Case_N014/Contours\n",
            "/content/gdrive/My Drive/MRI/CLASSIFICATION/Case_N014/Images\n",
            "/content/gdrive/My Drive/MRI/CLASSIFICATION/Case_N023/Images\n",
            "/content/gdrive/My Drive/MRI/CLASSIFICATION/Case_N023/Contours\n",
            "/content/gdrive/My Drive/MRI/CLASSIFICATION/Case_N016/Images\n",
            "/content/gdrive/My Drive/MRI/CLASSIFICATION/Case_N016/Contours\n",
            "/content/gdrive/My Drive/MRI/CLASSIFICATION/Case_N013/Contours\n",
            "/content/gdrive/My Drive/MRI/CLASSIFICATION/Case_N013/Images\n",
            "/content/gdrive/My Drive/MRI/CLASSIFICATION/Case_N024/Contours\n",
            "/content/gdrive/My Drive/MRI/CLASSIFICATION/Case_N024/Images\n",
            "/content/gdrive/My Drive/MRI/CLASSIFICATION/Case_N006/Contours\n",
            "/content/gdrive/My Drive/MRI/CLASSIFICATION/Case_N006/Images\n",
            "/content/gdrive/My Drive/MRI/CLASSIFICATION/Case_N012/Contours\n",
            "/content/gdrive/My Drive/MRI/CLASSIFICATION/Case_N012/Images\n",
            "/content/gdrive/My Drive/MRI/CLASSIFICATION/Case_N025/Contours\n",
            "/content/gdrive/My Drive/MRI/CLASSIFICATION/Case_N025/Images\n",
            "/content/gdrive/My Drive/MRI/CLASSIFICATION/Case_N020/Images\n",
            "/content/gdrive/My Drive/MRI/CLASSIFICATION/Case_N020/Contours\n",
            "/content/gdrive/My Drive/MRI/CLASSIFICATION/Case_N018/Images\n",
            "/content/gdrive/My Drive/MRI/CLASSIFICATION/Case_N018/Contours\n",
            "/content/gdrive/My Drive/MRI/CLASSIFICATION/Case_N046/Images\n",
            "/content/gdrive/My Drive/MRI/CLASSIFICATION/Case_N046/Contours\n",
            "/content/gdrive/My Drive/MRI/CLASSIFICATION/Case_N032/Contours\n",
            "/content/gdrive/My Drive/MRI/CLASSIFICATION/Case_N032/Images\n",
            "/content/gdrive/My Drive/MRI/CLASSIFICATION/Case_N041/Images\n",
            "/content/gdrive/My Drive/MRI/CLASSIFICATION/Case_N041/Contours\n",
            "/content/gdrive/My Drive/MRI/CLASSIFICATION/Case_N027/Contours\n",
            "/content/gdrive/My Drive/MRI/CLASSIFICATION/Case_N027/Images\n",
            "/content/gdrive/My Drive/MRI/CLASSIFICATION/Case_N033/Images\n",
            "/content/gdrive/My Drive/MRI/CLASSIFICATION/Case_N033/Contours\n",
            "/content/gdrive/My Drive/MRI/CLASSIFICATION/Case_N042/Images\n",
            "/content/gdrive/My Drive/MRI/CLASSIFICATION/Case_N042/Contours\n",
            "/content/gdrive/My Drive/MRI/CLASSIFICATION/Case_N037/Images\n",
            "/content/gdrive/My Drive/MRI/CLASSIFICATION/Case_N037/Contours\n",
            "/content/gdrive/My Drive/MRI/CLASSIFICATION/Case_N040/Images\n",
            "/content/gdrive/My Drive/MRI/CLASSIFICATION/Case_N040/Contours\n",
            "/content/gdrive/My Drive/MRI/CLASSIFICATION/Case_N030/Images\n",
            "/content/gdrive/My Drive/MRI/CLASSIFICATION/Case_N030/Contours\n",
            "/content/gdrive/My Drive/MRI/CLASSIFICATION/Case_N034/Contours\n",
            "/content/gdrive/My Drive/MRI/CLASSIFICATION/Case_N034/Images\n",
            "/content/gdrive/My Drive/MRI/CLASSIFICATION/Case_N052/Contours\n",
            "/content/gdrive/My Drive/MRI/CLASSIFICATION/Case_N052/Images\n",
            "/content/gdrive/My Drive/MRI/CLASSIFICATION/Case_N075/Contours\n",
            "/content/gdrive/My Drive/MRI/CLASSIFICATION/Case_N075/Images\n",
            "/content/gdrive/My Drive/MRI/CLASSIFICATION/Case_N048/Images\n",
            "/content/gdrive/My Drive/MRI/CLASSIFICATION/Case_N048/Contours\n",
            "/content/gdrive/My Drive/MRI/CLASSIFICATION/Case_N070/Contours\n",
            "/content/gdrive/My Drive/MRI/CLASSIFICATION/Case_N070/Images\n",
            "/content/gdrive/My Drive/MRI/CLASSIFICATION/Case_N054/Images\n",
            "/content/gdrive/My Drive/MRI/CLASSIFICATION/Case_N054/Contours\n",
            "/content/gdrive/My Drive/MRI/CLASSIFICATION/Case_N079/Images\n",
            "/content/gdrive/My Drive/MRI/CLASSIFICATION/Case_N079/Contours\n",
            "/content/gdrive/My Drive/MRI/CLASSIFICATION/Case_N058/Images\n",
            "/content/gdrive/My Drive/MRI/CLASSIFICATION/Case_N058/Contours\n",
            "/content/gdrive/My Drive/MRI/CLASSIFICATION/Case_N065/Contours\n",
            "/content/gdrive/My Drive/MRI/CLASSIFICATION/Case_N065/Images\n",
            "/content/gdrive/My Drive/MRI/CLASSIFICATION/Case_N049/Images\n",
            "/content/gdrive/My Drive/MRI/CLASSIFICATION/Case_N049/Contours\n",
            "/content/gdrive/My Drive/MRI/CLASSIFICATION/Case_N068/Images\n",
            "/content/gdrive/My Drive/MRI/CLASSIFICATION/Case_N068/Contours\n",
            "/content/gdrive/My Drive/MRI/CLASSIFICATION/Case_P002/Contours\n",
            "/content/gdrive/My Drive/MRI/CLASSIFICATION/Case_P002/Images\n",
            "/content/gdrive/My Drive/MRI/CLASSIFICATION/Case_P005/Images\n",
            "/content/gdrive/My Drive/MRI/CLASSIFICATION/Case_P005/Contours\n",
            "/content/gdrive/My Drive/MRI/CLASSIFICATION/Case_P008/Images\n",
            "/content/gdrive/My Drive/MRI/CLASSIFICATION/Case_P008/Contours\n",
            "/content/gdrive/My Drive/MRI/CLASSIFICATION/Case_P007/Images\n",
            "/content/gdrive/My Drive/MRI/CLASSIFICATION/Case_P007/Contours\n",
            "/content/gdrive/My Drive/MRI/CLASSIFICATION/Case_P004/Images\n",
            "/content/gdrive/My Drive/MRI/CLASSIFICATION/Case_P004/Contours\n",
            "/content/gdrive/My Drive/MRI/CLASSIFICATION/Case_N083/Images\n",
            "/content/gdrive/My Drive/MRI/CLASSIFICATION/Case_N083/Contours\n",
            "/content/gdrive/My Drive/MRI/CLASSIFICATION/Case_P001/Images\n",
            "/content/gdrive/My Drive/MRI/CLASSIFICATION/Case_P001/Contours\n",
            "/content/gdrive/My Drive/MRI/CLASSIFICATION/Case_N089/Images\n",
            "/content/gdrive/My Drive/MRI/CLASSIFICATION/Case_N089/Contours\n",
            "/content/gdrive/My Drive/MRI/CLASSIFICATION/Case_N084/Images\n",
            "/content/gdrive/My Drive/MRI/CLASSIFICATION/Case_N084/Contours\n",
            "/content/gdrive/My Drive/MRI/CLASSIFICATION/Case_P003/Images\n",
            "/content/gdrive/My Drive/MRI/CLASSIFICATION/Case_P003/Contours\n",
            "/content/gdrive/My Drive/MRI/CLASSIFICATION/Case_P017/Images\n",
            "/content/gdrive/My Drive/MRI/CLASSIFICATION/Case_P017/Contours\n",
            "/content/gdrive/My Drive/MRI/CLASSIFICATION/Case_P010/Images\n",
            "/content/gdrive/My Drive/MRI/CLASSIFICATION/Case_P010/Contours\n",
            "/content/gdrive/My Drive/MRI/CLASSIFICATION/Case_P009/Images\n",
            "/content/gdrive/My Drive/MRI/CLASSIFICATION/Case_P009/Contours\n",
            "/content/gdrive/My Drive/MRI/CLASSIFICATION/Case_P022/Images\n",
            "/content/gdrive/My Drive/MRI/CLASSIFICATION/Case_P022/Contours\n",
            "/content/gdrive/My Drive/MRI/CLASSIFICATION/Case_P011/Images\n",
            "/content/gdrive/My Drive/MRI/CLASSIFICATION/Case_P011/Contours\n",
            "/content/gdrive/My Drive/MRI/CLASSIFICATION/Case_P015/Images\n",
            "/content/gdrive/My Drive/MRI/CLASSIFICATION/Case_P015/Contours\n",
            "/content/gdrive/My Drive/MRI/CLASSIFICATION/Case_P019/Contours\n",
            "/content/gdrive/My Drive/MRI/CLASSIFICATION/Case_P019/Images\n",
            "/content/gdrive/My Drive/MRI/CLASSIFICATION/Case_P021/Images\n",
            "/content/gdrive/My Drive/MRI/CLASSIFICATION/Case_P021/Contours\n",
            "/content/gdrive/My Drive/MRI/CLASSIFICATION/Case_P028/Images\n",
            "/content/gdrive/My Drive/MRI/CLASSIFICATION/Case_P028/Contours\n",
            "/content/gdrive/My Drive/MRI/CLASSIFICATION/Case_P026/Contours\n",
            "/content/gdrive/My Drive/MRI/CLASSIFICATION/Case_P026/Images\n",
            "/content/gdrive/My Drive/MRI/CLASSIFICATION/Case_P029/Contours\n",
            "/content/gdrive/My Drive/MRI/CLASSIFICATION/Case_P029/Images\n",
            "/content/gdrive/My Drive/MRI/CLASSIFICATION/Case_P038/Contours\n",
            "/content/gdrive/My Drive/MRI/CLASSIFICATION/Case_P038/Images\n",
            "/content/gdrive/My Drive/MRI/CLASSIFICATION/Case_P039/Contours\n",
            "/content/gdrive/My Drive/MRI/CLASSIFICATION/Case_P039/Images\n",
            "/content/gdrive/My Drive/MRI/CLASSIFICATION/Case_P031/Images\n",
            "/content/gdrive/My Drive/MRI/CLASSIFICATION/Case_P031/Contours\n",
            "/content/gdrive/My Drive/MRI/CLASSIFICATION/Case_P044/Images\n",
            "/content/gdrive/My Drive/MRI/CLASSIFICATION/Case_P044/Contours\n",
            "/content/gdrive/My Drive/MRI/CLASSIFICATION/Case_P047/Contours\n",
            "/content/gdrive/My Drive/MRI/CLASSIFICATION/Case_P047/Images\n",
            "/content/gdrive/My Drive/MRI/CLASSIFICATION/Case_P043/Contours\n",
            "/content/gdrive/My Drive/MRI/CLASSIFICATION/Case_P043/Images\n",
            "/content/gdrive/My Drive/MRI/CLASSIFICATION/Case_P035/Contours\n",
            "/content/gdrive/My Drive/MRI/CLASSIFICATION/Case_P035/Images\n",
            "/content/gdrive/My Drive/MRI/CLASSIFICATION/Case_P045/Contours\n",
            "/content/gdrive/My Drive/MRI/CLASSIFICATION/Case_P045/Images\n",
            "/content/gdrive/My Drive/MRI/CLASSIFICATION/Case_P036/Images\n",
            "/content/gdrive/My Drive/MRI/CLASSIFICATION/Case_P036/Contours\n",
            "/content/gdrive/My Drive/MRI/CLASSIFICATION/Case_P051/Contours\n",
            "/content/gdrive/My Drive/MRI/CLASSIFICATION/Case_P051/Images\n",
            "/content/gdrive/My Drive/MRI/CLASSIFICATION/Case_P057/Contours\n",
            "/content/gdrive/My Drive/MRI/CLASSIFICATION/Case_P057/Images\n",
            "/content/gdrive/My Drive/MRI/CLASSIFICATION/Case_P062/Contours\n",
            "/content/gdrive/My Drive/MRI/CLASSIFICATION/Case_P062/Images\n",
            "/content/gdrive/My Drive/MRI/CLASSIFICATION/Case_P053/Images\n",
            "/content/gdrive/My Drive/MRI/CLASSIFICATION/Case_P053/Contours\n",
            "/content/gdrive/My Drive/MRI/CLASSIFICATION/Case_P059/Images\n",
            "/content/gdrive/My Drive/MRI/CLASSIFICATION/Case_P059/Contours\n",
            "/content/gdrive/My Drive/MRI/CLASSIFICATION/Case_P055/Images\n",
            "/content/gdrive/My Drive/MRI/CLASSIFICATION/Case_P055/Contours\n",
            "/content/gdrive/My Drive/MRI/CLASSIFICATION/Case_P050/Images\n",
            "/content/gdrive/My Drive/MRI/CLASSIFICATION/Case_P050/Contours\n",
            "/content/gdrive/My Drive/MRI/CLASSIFICATION/Case_P061/Images\n",
            "/content/gdrive/My Drive/MRI/CLASSIFICATION/Case_P061/Contours\n",
            "/content/gdrive/My Drive/MRI/CLASSIFICATION/Case_P060/Contours\n",
            "/content/gdrive/My Drive/MRI/CLASSIFICATION/Case_P060/Images\n",
            "/content/gdrive/My Drive/MRI/CLASSIFICATION/Case_P056/Contours\n",
            "/content/gdrive/My Drive/MRI/CLASSIFICATION/Case_P056/Images\n",
            "/content/gdrive/My Drive/MRI/CLASSIFICATION/Case_P067/Images\n",
            "/content/gdrive/My Drive/MRI/CLASSIFICATION/Case_P067/Contours\n",
            "/content/gdrive/My Drive/MRI/CLASSIFICATION/Case_P063/Images\n",
            "/content/gdrive/My Drive/MRI/CLASSIFICATION/Case_P063/Contours\n",
            "/content/gdrive/My Drive/MRI/CLASSIFICATION/Case_P069/Images\n",
            "/content/gdrive/My Drive/MRI/CLASSIFICATION/Case_P069/Contours\n",
            "/content/gdrive/My Drive/MRI/CLASSIFICATION/Case_P076/Images\n",
            "/content/gdrive/My Drive/MRI/CLASSIFICATION/Case_P076/Contours\n",
            "/content/gdrive/My Drive/MRI/CLASSIFICATION/Case_P073/Contours\n",
            "/content/gdrive/My Drive/MRI/CLASSIFICATION/Case_P073/Images\n",
            "/content/gdrive/My Drive/MRI/CLASSIFICATION/Case_P064/Contours\n",
            "/content/gdrive/My Drive/MRI/CLASSIFICATION/Case_P064/Images\n",
            "/content/gdrive/My Drive/MRI/CLASSIFICATION/Case_P072/Contours\n",
            "/content/gdrive/My Drive/MRI/CLASSIFICATION/Case_P072/Images\n",
            "/content/gdrive/My Drive/MRI/CLASSIFICATION/Case_P066/Images\n",
            "/content/gdrive/My Drive/MRI/CLASSIFICATION/Case_P066/Contours\n",
            "/content/gdrive/My Drive/MRI/CLASSIFICATION/Case_P074/Images\n",
            "/content/gdrive/My Drive/MRI/CLASSIFICATION/Case_P074/Contours\n",
            "/content/gdrive/My Drive/MRI/CLASSIFICATION/Case_P071/Contours\n",
            "/content/gdrive/My Drive/MRI/CLASSIFICATION/Case_P071/Images\n",
            "/content/gdrive/My Drive/MRI/CLASSIFICATION/Case_P085/Images\n",
            "/content/gdrive/My Drive/MRI/CLASSIFICATION/Case_P085/Contours\n",
            "/content/gdrive/My Drive/MRI/CLASSIFICATION/Case_P077/Contours\n",
            "/content/gdrive/My Drive/MRI/CLASSIFICATION/Case_P077/Images\n",
            "/content/gdrive/My Drive/MRI/CLASSIFICATION/Case_P081/Contours\n",
            "/content/gdrive/My Drive/MRI/CLASSIFICATION/Case_P081/Images\n",
            "/content/gdrive/My Drive/MRI/CLASSIFICATION/Case_P078/Images\n",
            "/content/gdrive/My Drive/MRI/CLASSIFICATION/Case_P078/Contours\n",
            "/content/gdrive/My Drive/MRI/CLASSIFICATION/Case_P087/Contours\n",
            "/content/gdrive/My Drive/MRI/CLASSIFICATION/Case_P087/Images\n",
            "/content/gdrive/My Drive/MRI/CLASSIFICATION/Case_P088/Images\n",
            "/content/gdrive/My Drive/MRI/CLASSIFICATION/Case_P088/Contours\n",
            "/content/gdrive/My Drive/MRI/CLASSIFICATION/Case_P082/Images\n",
            "/content/gdrive/My Drive/MRI/CLASSIFICATION/Case_P082/Contours\n",
            "/content/gdrive/My Drive/MRI/CLASSIFICATION/Case_P086/Images\n",
            "/content/gdrive/My Drive/MRI/CLASSIFICATION/Case_P086/Contours\n",
            "/content/gdrive/My Drive/MRI/CLASSIFICATION/Case_P080/Images\n",
            "/content/gdrive/My Drive/MRI/CLASSIFICATION/Case_P080/Contours\n",
            "/content/gdrive/My Drive/MRI/CLASSIFICATION/Case_P090/Contours\n",
            "/content/gdrive/My Drive/MRI/CLASSIFICATION/Case_P090/Images\n",
            "/content/gdrive/My Drive/MRI/CLASSIFICATION/Case_P096/Contours\n",
            "/content/gdrive/My Drive/MRI/CLASSIFICATION/Case_P096/Images\n",
            "/content/gdrive/My Drive/MRI/CLASSIFICATION/Case_P091/Images\n",
            "/content/gdrive/My Drive/MRI/CLASSIFICATION/Case_P091/Contours\n",
            "/content/gdrive/My Drive/MRI/CLASSIFICATION/Case_P092/Images\n",
            "/content/gdrive/My Drive/MRI/CLASSIFICATION/Case_P092/Contours\n",
            "/content/gdrive/My Drive/MRI/CLASSIFICATION/Case_P100/Images\n",
            "/content/gdrive/My Drive/MRI/CLASSIFICATION/Case_P100/Contours\n",
            "/content/gdrive/My Drive/MRI/CLASSIFICATION/Case_P099/Contours\n",
            "/content/gdrive/My Drive/MRI/CLASSIFICATION/Case_P099/Images\n",
            "/content/gdrive/My Drive/MRI/CLASSIFICATION/Case_P093/Contours\n",
            "/content/gdrive/My Drive/MRI/CLASSIFICATION/Case_P093/Images\n",
            "/content/gdrive/My Drive/MRI/CLASSIFICATION/Case_P097/Images\n",
            "/content/gdrive/My Drive/MRI/CLASSIFICATION/Case_P097/Contours\n",
            "/content/gdrive/My Drive/MRI/CLASSIFICATION/Case_P098/Contours\n",
            "/content/gdrive/My Drive/MRI/CLASSIFICATION/Case_P098/Images\n",
            "/content/gdrive/My Drive/MRI/CLASSIFICATION/Case_P095/Images\n",
            "/content/gdrive/My Drive/MRI/CLASSIFICATION/Case_P095/Contours\n",
            "/content/gdrive/My Drive/MRI/CLASSIFICATION/Case_P094/Contours\n",
            "/content/gdrive/My Drive/MRI/CLASSIFICATION/Case_P094/Images\n",
            "/content/gdrive/My Drive/MRI/CLASSIFICATION/Case_N014\n",
            "/content/gdrive/My Drive/MRI/CLASSIFICATION/Case_N023\n",
            "/content/gdrive/My Drive/MRI/CLASSIFICATION/Case_N016\n",
            "/content/gdrive/My Drive/MRI/CLASSIFICATION/Case_N013\n",
            "/content/gdrive/My Drive/MRI/CLASSIFICATION/Case_N024\n",
            "/content/gdrive/My Drive/MRI/CLASSIFICATION/Case_N006\n",
            "/content/gdrive/My Drive/MRI/CLASSIFICATION/Case_N012\n",
            "/content/gdrive/My Drive/MRI/CLASSIFICATION/Case_N025\n",
            "/content/gdrive/My Drive/MRI/CLASSIFICATION/Case_N020\n",
            "/content/gdrive/My Drive/MRI/CLASSIFICATION/Case_N018\n",
            "/content/gdrive/My Drive/MRI/CLASSIFICATION/Case_N046\n",
            "/content/gdrive/My Drive/MRI/CLASSIFICATION/Case_N032\n",
            "/content/gdrive/My Drive/MRI/CLASSIFICATION/Case_N041\n",
            "/content/gdrive/My Drive/MRI/CLASSIFICATION/Case_N027\n",
            "/content/gdrive/My Drive/MRI/CLASSIFICATION/Case_N033\n",
            "/content/gdrive/My Drive/MRI/CLASSIFICATION/Case_N042\n",
            "/content/gdrive/My Drive/MRI/CLASSIFICATION/Case_N037\n",
            "/content/gdrive/My Drive/MRI/CLASSIFICATION/Case_N040\n",
            "/content/gdrive/My Drive/MRI/CLASSIFICATION/Case_N030\n",
            "/content/gdrive/My Drive/MRI/CLASSIFICATION/Case_N034\n",
            "/content/gdrive/My Drive/MRI/CLASSIFICATION/Case_N052\n",
            "/content/gdrive/My Drive/MRI/CLASSIFICATION/Case_N075\n",
            "/content/gdrive/My Drive/MRI/CLASSIFICATION/Case_N048\n",
            "/content/gdrive/My Drive/MRI/CLASSIFICATION/Case_N070\n",
            "/content/gdrive/My Drive/MRI/CLASSIFICATION/Case_N054\n",
            "/content/gdrive/My Drive/MRI/CLASSIFICATION/Case_N079\n",
            "/content/gdrive/My Drive/MRI/CLASSIFICATION/Case_N058\n",
            "/content/gdrive/My Drive/MRI/CLASSIFICATION/Case_N065\n",
            "/content/gdrive/My Drive/MRI/CLASSIFICATION/Case_N049\n",
            "/content/gdrive/My Drive/MRI/CLASSIFICATION/Case_N068\n",
            "/content/gdrive/My Drive/MRI/CLASSIFICATION/Case_P002\n",
            "/content/gdrive/My Drive/MRI/CLASSIFICATION/Case_P005\n",
            "/content/gdrive/My Drive/MRI/CLASSIFICATION/Case_P008\n",
            "/content/gdrive/My Drive/MRI/CLASSIFICATION/Case_P007\n",
            "/content/gdrive/My Drive/MRI/CLASSIFICATION/Case_P004\n",
            "/content/gdrive/My Drive/MRI/CLASSIFICATION/Case_N083\n",
            "/content/gdrive/My Drive/MRI/CLASSIFICATION/Case_P001\n",
            "/content/gdrive/My Drive/MRI/CLASSIFICATION/Case_N089\n",
            "/content/gdrive/My Drive/MRI/CLASSIFICATION/Case_N084\n",
            "/content/gdrive/My Drive/MRI/CLASSIFICATION/Case_P003\n",
            "/content/gdrive/My Drive/MRI/CLASSIFICATION/Case_P017\n",
            "/content/gdrive/My Drive/MRI/CLASSIFICATION/Case_P010\n",
            "/content/gdrive/My Drive/MRI/CLASSIFICATION/Case_P009\n",
            "/content/gdrive/My Drive/MRI/CLASSIFICATION/Case_P022\n",
            "/content/gdrive/My Drive/MRI/CLASSIFICATION/Case_P011\n",
            "/content/gdrive/My Drive/MRI/CLASSIFICATION/Case_P015\n",
            "/content/gdrive/My Drive/MRI/CLASSIFICATION/Case_P019\n",
            "/content/gdrive/My Drive/MRI/CLASSIFICATION/Case_P021\n",
            "/content/gdrive/My Drive/MRI/CLASSIFICATION/Case_P028\n",
            "/content/gdrive/My Drive/MRI/CLASSIFICATION/Case_P026\n",
            "/content/gdrive/My Drive/MRI/CLASSIFICATION/Case_P029\n",
            "/content/gdrive/My Drive/MRI/CLASSIFICATION/Case_P038\n",
            "/content/gdrive/My Drive/MRI/CLASSIFICATION/Case_P039\n",
            "/content/gdrive/My Drive/MRI/CLASSIFICATION/Case_P031\n",
            "/content/gdrive/My Drive/MRI/CLASSIFICATION/Case_P044\n",
            "/content/gdrive/My Drive/MRI/CLASSIFICATION/Case_P047\n",
            "/content/gdrive/My Drive/MRI/CLASSIFICATION/Case_P043\n",
            "/content/gdrive/My Drive/MRI/CLASSIFICATION/Case_P035\n",
            "/content/gdrive/My Drive/MRI/CLASSIFICATION/Case_P045\n",
            "/content/gdrive/My Drive/MRI/CLASSIFICATION/Case_P036\n",
            "/content/gdrive/My Drive/MRI/CLASSIFICATION/Case_P051\n",
            "/content/gdrive/My Drive/MRI/CLASSIFICATION/Case_P057\n",
            "/content/gdrive/My Drive/MRI/CLASSIFICATION/Case_P062\n",
            "/content/gdrive/My Drive/MRI/CLASSIFICATION/Case_P053\n",
            "/content/gdrive/My Drive/MRI/CLASSIFICATION/Case_P059\n",
            "/content/gdrive/My Drive/MRI/CLASSIFICATION/Case_P055\n",
            "/content/gdrive/My Drive/MRI/CLASSIFICATION/Case_P050\n",
            "/content/gdrive/My Drive/MRI/CLASSIFICATION/Case_P061\n",
            "/content/gdrive/My Drive/MRI/CLASSIFICATION/Case_P060\n",
            "/content/gdrive/My Drive/MRI/CLASSIFICATION/Case_P056\n",
            "/content/gdrive/My Drive/MRI/CLASSIFICATION/Case_P067\n",
            "/content/gdrive/My Drive/MRI/CLASSIFICATION/Case_P063\n",
            "/content/gdrive/My Drive/MRI/CLASSIFICATION/Case_P069\n",
            "/content/gdrive/My Drive/MRI/CLASSIFICATION/Case_P076\n",
            "/content/gdrive/My Drive/MRI/CLASSIFICATION/Case_P073\n",
            "/content/gdrive/My Drive/MRI/CLASSIFICATION/Case_P064\n",
            "/content/gdrive/My Drive/MRI/CLASSIFICATION/Case_P072\n",
            "/content/gdrive/My Drive/MRI/CLASSIFICATION/Case_P066\n",
            "/content/gdrive/My Drive/MRI/CLASSIFICATION/Case_P074\n",
            "/content/gdrive/My Drive/MRI/CLASSIFICATION/Case_P071\n",
            "/content/gdrive/My Drive/MRI/CLASSIFICATION/Case_P085\n",
            "/content/gdrive/My Drive/MRI/CLASSIFICATION/Case_P077\n",
            "/content/gdrive/My Drive/MRI/CLASSIFICATION/Case_P081\n",
            "/content/gdrive/My Drive/MRI/CLASSIFICATION/Case_P078\n",
            "/content/gdrive/My Drive/MRI/CLASSIFICATION/Case_P087\n",
            "/content/gdrive/My Drive/MRI/CLASSIFICATION/Case_P088\n",
            "/content/gdrive/My Drive/MRI/CLASSIFICATION/Case_P082\n",
            "/content/gdrive/My Drive/MRI/CLASSIFICATION/Case_P086\n",
            "/content/gdrive/My Drive/MRI/CLASSIFICATION/Case_P080\n",
            "/content/gdrive/My Drive/MRI/CLASSIFICATION/Case_P090\n",
            "/content/gdrive/My Drive/MRI/CLASSIFICATION/Case_P096\n",
            "/content/gdrive/My Drive/MRI/CLASSIFICATION/Case_P091\n",
            "/content/gdrive/My Drive/MRI/CLASSIFICATION/Case_P092\n",
            "/content/gdrive/My Drive/MRI/CLASSIFICATION/Case_P100\n",
            "/content/gdrive/My Drive/MRI/CLASSIFICATION/Case_P099\n",
            "/content/gdrive/My Drive/MRI/CLASSIFICATION/Case_P093\n",
            "/content/gdrive/My Drive/MRI/CLASSIFICATION/Case_P097\n",
            "/content/gdrive/My Drive/MRI/CLASSIFICATION/Case_P098\n",
            "/content/gdrive/My Drive/MRI/CLASSIFICATION/Case_P095\n",
            "/content/gdrive/My Drive/MRI/CLASSIFICATION/Case_P094\n",
            "/content/gdrive/My Drive/MRI/SEGMENTATION\n",
            "/content/gdrive/My Drive/MRI/CLASSIFICATION\n",
            "/content/gdrive/My Drive/synthetic_sparks/NOISE0/images\n",
            "/content/gdrive/My Drive/synthetic_sparks/NOISE10\n",
            "/content/gdrive/My Drive/synthetic_sparks/NOISE15\n",
            "/content/gdrive/My Drive/synthetic_sparks/NOISE1\n",
            "/content/gdrive/My Drive/synthetic_sparks/NOISE12p5\n",
            "/content/gdrive/My Drive/synthetic_sparks/NOISE7p5\n",
            "/content/gdrive/My Drive/synthetic_sparks/NOISE0\n",
            "/content/gdrive/My Drive/violin_plots_leif/Violin plots\n",
            "/content/gdrive/My Drive/violin_plots_leif/fig3\n",
            "/content/gdrive/My Drive/violin_plots_leif/violin_plots_3\n",
            "/content/gdrive/My Drive/Leukemia_database/ALL_IDB1/ALL_IDB1/im\n",
            "/content/gdrive/My Drive/Leukemia_database/ALL_IDB1/ALL_IDB1/xyc\n",
            "/content/gdrive/My Drive/Leukemia_database/ALL_IDB1/ALL_IDB1\n",
            "/content/gdrive/My Drive/Leukemia_database/ALL_IDB2/ALL_IDB2/img\n",
            "/content/gdrive/My Drive/Leukemia_database/ALL_IDB2/ALL_IDB2\n",
            "/content/gdrive/My Drive/Leukemia_database/ALL_IDB1\n",
            "/content/gdrive/My Drive/Leukemia_database/ALL_IDB2\n",
            "/content/gdrive/My Drive/CasOS_TRANCE_DICOM/S63150/S10040\n",
            "/content/gdrive/My Drive/CasOS_TRANCE_DICOM/S56920/S2040\n",
            "/content/gdrive/My Drive/CasOS_TRANCE_DICOM/S56920/S00\n",
            "/content/gdrive/My Drive/CasOS_TRANCE_DICOM/S56920/S3040\n",
            "/content/gdrive/My Drive/CasOS_TRANCE_DICOM/S60150/S11040\n",
            "/content/gdrive/My Drive/CasOS_TRANCE_DICOM/S60150/S5040\n",
            "/content/gdrive/My Drive/CasOS_TRANCE_DICOM/S63200/S11040\n",
            "/content/gdrive/My Drive/CasOS_TRANCE_DICOM/S63200/S5040\n",
            "/content/gdrive/My Drive/CasOS_TRANCE_DICOM/S63150\n",
            "/content/gdrive/My Drive/CasOS_TRANCE_DICOM/S56920\n",
            "/content/gdrive/My Drive/CasOS_TRANCE_DICOM/S60150\n",
            "/content/gdrive/My Drive/CasOS_TRANCE_DICOM/S63200\n",
            "/content/gdrive/My Drive/app_TFM-main/assets\n",
            "/content/gdrive/My Drive/app_TFM-main/.ipynb_checkpoints\n",
            "/content/gdrive/My Drive/Carmen de Torres 2022/presentada\n",
            "/content/gdrive/My Drive/ECO_SCORES/CRL_27_3\n",
            "/content/gdrive/My Drive/ECO_SCORES/TN_27_3\n",
            "/content/gdrive/My Drive/ECO_SCORES/Test\n",
            "/content/gdrive/My Drive/ECO_SCORES/.ipynb_checkpoints\n",
            "/content/gdrive/My Drive/analisiscelulasblas/Cell1_csv\n",
            "/content/gdrive/My Drive/analisiscelulasblas/Cell2_csv\n",
            "/content/gdrive/My Drive/analisiscelulasblas/Cell3_csv\n",
            "/content/gdrive/My Drive/analisiscelulasblas/Cell4_csv\n",
            "/content/gdrive/My Drive/analisiscelulasblas/Cell5_csv\n",
            "/content/gdrive/My Drive/PAC3_2022/ENUNCIATS\n",
            "/content/gdrive/My Drive/PAC3_2022/SOLUCIONS\n",
            "/content/gdrive/My Drive/Imatges_COVID/MI\n",
            "/content/gdrive/My Drive/Imatges_COVID/Normal\n",
            "/content/gdrive/My Drive/Imatges_COVID/COVID\n",
            "/content/gdrive/My Drive/Meet Recordings\n",
            "/content/gdrive/My Drive/Colab Notebooks\n",
            "/content/gdrive/My Drive/PROYECTO NACIONAL 2021\n",
            "/content/gdrive/My Drive/EXPLORATORY_PLOTS\n",
            "/content/gdrive/My Drive/seminars_slides\n",
            "/content/gdrive/My Drive/video EEBE\n",
            "/content/gdrive/My Drive/Informes de les reunions\n",
            "/content/gdrive/My Drive/DL INTERPRETABILITY \n",
            "/content/gdrive/My Drive/TESI CARME NOLLA\n",
            "/content/gdrive/My Drive/UNET SEGMENT HSJD\n",
            "/content/gdrive/My Drive/CV Revisors_UPC_nogood\n",
            "/content/gdrive/My Drive/HODKIN-HUXLEY_Python\n",
            "/content/gdrive/My Drive/ROP_project\n",
            "/content/gdrive/My Drive/PIB_EEBE\n",
            "/content/gdrive/My Drive/sample data-20210224\n",
            "/content/gdrive/My Drive/Hal Leonard Blues Piano \n",
            "/content/gdrive/My Drive/TESIS_ANDREA_ACEVEDO\n",
            "/content/gdrive/My Drive/ESTUDIS CLÀUDIA\n",
            "/content/gdrive/My Drive/TFG_TFMs\n",
            "/content/gdrive/My Drive/CONTROL_ML\n",
            "/content/gdrive/My Drive/data_course\n",
            "/content/gdrive/My Drive/paper_mass_review\n",
            "/content/gdrive/My Drive/IWANN_course_data\n",
            "/content/gdrive/My Drive/AUX_DATA\n",
            "/content/gdrive/My Drive/.ipynb_checkpoints\n",
            "/content/gdrive/My Drive/Notability\n",
            "/content/gdrive/My Drive/DAPR sample data\n",
            "/content/gdrive/My Drive/MRI\n",
            "/content/gdrive/My Drive/DL INTERPRETABILITY\n",
            "/content/gdrive/My Drive/REQUERIMIENTOS_DPI2013-44584-R\n",
            "/content/gdrive/My Drive/synthetic_sparks\n",
            "/content/gdrive/My Drive/violin_plots_leif\n",
            "/content/gdrive/My Drive/Leukemia_database\n",
            "/content/gdrive/My Drive/tennis_tracker\n",
            "/content/gdrive/My Drive/AI_cinema\n",
            "/content/gdrive/My Drive/CasOS_TRANCE_DICOM\n",
            "/content/gdrive/My Drive/app_TFM-main\n",
            "/content/gdrive/My Drive/Carmen de Torres 2022\n",
            "/content/gdrive/My Drive/ECO_SCORES\n",
            "/content/gdrive/My Drive/analisiscelulasblas\n",
            "/content/gdrive/My Drive/PAC3_2022\n",
            "/content/gdrive/My Drive/Imatges_COVID\n"
          ]
        }
      ]
    },
    {
      "cell_type": "markdown",
      "metadata": {
        "id": "QJACcQNMv_gH"
      },
      "source": [
        "### Accessing shared files\n",
        "\n",
        "Download the shared folder DAPR sample data from \n",
        "\n",
        "https://drive.google.com/drive/folders/1zKHhi3ZbhO8lUwtDAOo7qFZJlIVQjqL4?usp=sharing\n",
        "\n",
        "and place it in the root of your google drive:"
      ]
    },
    {
      "cell_type": "markdown",
      "metadata": {
        "id": "3NutJ9-1wRBv"
      },
      "source": [
        "Now read the csv file text.csv:"
      ]
    },
    {
      "cell_type": "code",
      "metadata": {
        "id": "CNXsg_vCwVne",
        "colab": {
          "base_uri": "https://localhost:8080/",
          "height": 170
        },
        "outputId": "35ba03c9-5649-4c73-d2cf-c3bc968e0070"
      },
      "source": [
        "import csv\n",
        "f = open(\"/content/gdrive/My Drive/DAPR sample data/test.csv\", 'r')\n",
        "try:\n",
        "    reader = csv.reader(f)\n",
        "    for row in reader:\n",
        "        print(row)\n",
        "finally:\n",
        "    f.close()"
      ],
      "execution_count": null,
      "outputs": [
        {
          "output_type": "stream",
          "text": [
            "['\\ufeff10;3']\n",
            "['13;10']\n",
            "['16;17']\n",
            "['19;24']\n",
            "['22;31']\n",
            "['25;38']\n",
            "['28;45']\n",
            "['31;52']\n",
            "['34;59']\n"
          ],
          "name": "stdout"
        }
      ]
    },
    {
      "cell_type": "markdown",
      "metadata": {
        "id": "Dn00cwpHxryS"
      },
      "source": [
        "Writing csv files"
      ]
    },
    {
      "cell_type": "code",
      "metadata": {
        "id": "bUvwRECFxub-"
      },
      "source": [
        "import csv\n",
        "\n",
        "ifile  = open(\"/content/gdrive/My Drive/DAPR sample data/test.csv\", 'r')\n",
        "reader = csv.reader(ifile)\n",
        "\n",
        "ofile  = open('/content/gdrive/My Drive/DAPR sample data/test1.csv', \"w\")\n",
        "writer = csv.writer(ofile, delimiter=',', lineterminator='\\n')\n",
        "\n",
        "for row in reader:\n",
        "    writer.writerow(row)\n",
        "\n",
        "ifile.close()\n",
        "ofile.close()"
      ],
      "execution_count": null,
      "outputs": []
    },
    {
      "cell_type": "markdown",
      "metadata": {
        "id": "1b6uVZjvyhNz"
      },
      "source": [
        "### Read excel with Pandas\n",
        "\n",
        "In most cases, we are using the pandas library in order to read data."
      ]
    },
    {
      "cell_type": "code",
      "metadata": {
        "id": "qY4uSBbjyliY",
        "colab": {
          "base_uri": "https://localhost:8080/",
          "height": 238
        },
        "outputId": "4714c3fa-a258-4eec-9f54-f3827d51e5db"
      },
      "source": [
        "import pandas as pd\n",
        "df = pd.read_excel('/content/gdrive/My Drive/DAPR sample data/test.xlsx', index_col=0,header=2)\n",
        "df.head()"
      ],
      "execution_count": 33,
      "outputs": [
        {
          "output_type": "execute_result",
          "data": {
            "text/plain": [
              "            Humans  Robots\n",
              "Date                      \n",
              "2019-03-10      10       3\n",
              "2019-03-11      13      10\n",
              "2019-03-12      16      17\n",
              "2019-03-13      19      24\n",
              "2019-03-14      22      31"
            ],
            "text/html": [
              "\n",
              "  <div id=\"df-6169a7ed-0f91-4a08-b907-804a693dc819\">\n",
              "    <div class=\"colab-df-container\">\n",
              "      <div>\n",
              "<style scoped>\n",
              "    .dataframe tbody tr th:only-of-type {\n",
              "        vertical-align: middle;\n",
              "    }\n",
              "\n",
              "    .dataframe tbody tr th {\n",
              "        vertical-align: top;\n",
              "    }\n",
              "\n",
              "    .dataframe thead th {\n",
              "        text-align: right;\n",
              "    }\n",
              "</style>\n",
              "<table border=\"1\" class=\"dataframe\">\n",
              "  <thead>\n",
              "    <tr style=\"text-align: right;\">\n",
              "      <th></th>\n",
              "      <th>Humans</th>\n",
              "      <th>Robots</th>\n",
              "    </tr>\n",
              "    <tr>\n",
              "      <th>Date</th>\n",
              "      <th></th>\n",
              "      <th></th>\n",
              "    </tr>\n",
              "  </thead>\n",
              "  <tbody>\n",
              "    <tr>\n",
              "      <th>2019-03-10</th>\n",
              "      <td>10</td>\n",
              "      <td>3</td>\n",
              "    </tr>\n",
              "    <tr>\n",
              "      <th>2019-03-11</th>\n",
              "      <td>13</td>\n",
              "      <td>10</td>\n",
              "    </tr>\n",
              "    <tr>\n",
              "      <th>2019-03-12</th>\n",
              "      <td>16</td>\n",
              "      <td>17</td>\n",
              "    </tr>\n",
              "    <tr>\n",
              "      <th>2019-03-13</th>\n",
              "      <td>19</td>\n",
              "      <td>24</td>\n",
              "    </tr>\n",
              "    <tr>\n",
              "      <th>2019-03-14</th>\n",
              "      <td>22</td>\n",
              "      <td>31</td>\n",
              "    </tr>\n",
              "  </tbody>\n",
              "</table>\n",
              "</div>\n",
              "      <button class=\"colab-df-convert\" onclick=\"convertToInteractive('df-6169a7ed-0f91-4a08-b907-804a693dc819')\"\n",
              "              title=\"Convert this dataframe to an interactive table.\"\n",
              "              style=\"display:none;\">\n",
              "        \n",
              "  <svg xmlns=\"http://www.w3.org/2000/svg\" height=\"24px\"viewBox=\"0 0 24 24\"\n",
              "       width=\"24px\">\n",
              "    <path d=\"M0 0h24v24H0V0z\" fill=\"none\"/>\n",
              "    <path d=\"M18.56 5.44l.94 2.06.94-2.06 2.06-.94-2.06-.94-.94-2.06-.94 2.06-2.06.94zm-11 1L8.5 8.5l.94-2.06 2.06-.94-2.06-.94L8.5 2.5l-.94 2.06-2.06.94zm10 10l.94 2.06.94-2.06 2.06-.94-2.06-.94-.94-2.06-.94 2.06-2.06.94z\"/><path d=\"M17.41 7.96l-1.37-1.37c-.4-.4-.92-.59-1.43-.59-.52 0-1.04.2-1.43.59L10.3 9.45l-7.72 7.72c-.78.78-.78 2.05 0 2.83L4 21.41c.39.39.9.59 1.41.59.51 0 1.02-.2 1.41-.59l7.78-7.78 2.81-2.81c.8-.78.8-2.07 0-2.86zM5.41 20L4 18.59l7.72-7.72 1.47 1.35L5.41 20z\"/>\n",
              "  </svg>\n",
              "      </button>\n",
              "      \n",
              "  <style>\n",
              "    .colab-df-container {\n",
              "      display:flex;\n",
              "      flex-wrap:wrap;\n",
              "      gap: 12px;\n",
              "    }\n",
              "\n",
              "    .colab-df-convert {\n",
              "      background-color: #E8F0FE;\n",
              "      border: none;\n",
              "      border-radius: 50%;\n",
              "      cursor: pointer;\n",
              "      display: none;\n",
              "      fill: #1967D2;\n",
              "      height: 32px;\n",
              "      padding: 0 0 0 0;\n",
              "      width: 32px;\n",
              "    }\n",
              "\n",
              "    .colab-df-convert:hover {\n",
              "      background-color: #E2EBFA;\n",
              "      box-shadow: 0px 1px 2px rgba(60, 64, 67, 0.3), 0px 1px 3px 1px rgba(60, 64, 67, 0.15);\n",
              "      fill: #174EA6;\n",
              "    }\n",
              "\n",
              "    [theme=dark] .colab-df-convert {\n",
              "      background-color: #3B4455;\n",
              "      fill: #D2E3FC;\n",
              "    }\n",
              "\n",
              "    [theme=dark] .colab-df-convert:hover {\n",
              "      background-color: #434B5C;\n",
              "      box-shadow: 0px 1px 3px 1px rgba(0, 0, 0, 0.15);\n",
              "      filter: drop-shadow(0px 1px 2px rgba(0, 0, 0, 0.3));\n",
              "      fill: #FFFFFF;\n",
              "    }\n",
              "  </style>\n",
              "\n",
              "      <script>\n",
              "        const buttonEl =\n",
              "          document.querySelector('#df-6169a7ed-0f91-4a08-b907-804a693dc819 button.colab-df-convert');\n",
              "        buttonEl.style.display =\n",
              "          google.colab.kernel.accessAllowed ? 'block' : 'none';\n",
              "\n",
              "        async function convertToInteractive(key) {\n",
              "          const element = document.querySelector('#df-6169a7ed-0f91-4a08-b907-804a693dc819');\n",
              "          const dataTable =\n",
              "            await google.colab.kernel.invokeFunction('convertToInteractive',\n",
              "                                                     [key], {});\n",
              "          if (!dataTable) return;\n",
              "\n",
              "          const docLinkHtml = 'Like what you see? Visit the ' +\n",
              "            '<a target=\"_blank\" href=https://colab.research.google.com/notebooks/data_table.ipynb>data table notebook</a>'\n",
              "            + ' to learn more about interactive tables.';\n",
              "          element.innerHTML = '';\n",
              "          dataTable['output_type'] = 'display_data';\n",
              "          await google.colab.output.renderOutput(dataTable, element);\n",
              "          const docLink = document.createElement('div');\n",
              "          docLink.innerHTML = docLinkHtml;\n",
              "          element.appendChild(docLink);\n",
              "        }\n",
              "      </script>\n",
              "    </div>\n",
              "  </div>\n",
              "  "
            ]
          },
          "metadata": {},
          "execution_count": 33
        }
      ]
    },
    {
      "cell_type": "code",
      "metadata": {
        "id": "4GdLCJqj5eO_",
        "colab": {
          "base_uri": "https://localhost:8080/"
        },
        "outputId": "a39f0fe8-b913-4498-8d23-66326cb2f3ae"
      },
      "source": [
        "df['Humans']"
      ],
      "execution_count": 34,
      "outputs": [
        {
          "output_type": "execute_result",
          "data": {
            "text/plain": [
              "Date\n",
              "2019-03-10    10\n",
              "2019-03-11    13\n",
              "2019-03-12    16\n",
              "2019-03-13    19\n",
              "2019-03-14    22\n",
              "2019-03-15    25\n",
              "2019-03-16    28\n",
              "2019-03-17    31\n",
              "2019-03-18    34\n",
              "Name: Humans, dtype: int64"
            ]
          },
          "metadata": {},
          "execution_count": 34
        }
      ]
    },
    {
      "cell_type": "code",
      "metadata": {
        "id": "mQb6nT5n5iOR",
        "colab": {
          "base_uri": "https://localhost:8080/"
        },
        "outputId": "a53e2470-3e39-4155-872d-9970be619008"
      },
      "source": [
        "df['Robots'].values"
      ],
      "execution_count": 35,
      "outputs": [
        {
          "output_type": "execute_result",
          "data": {
            "text/plain": [
              "array([ 3, 10, 17, 24, 31, 38, 45, 52, 59])"
            ]
          },
          "metadata": {},
          "execution_count": 35
        }
      ]
    },
    {
      "cell_type": "markdown",
      "metadata": {
        "id": "72nKAkXyhZCE"
      },
      "source": [
        "## Read data from web repository:\n",
        "\n",
        "We can also access to data stored in a GitHub repository:\n",
        "\n",
        "Load updated coronavirus data from https://github.com/datadista/datasets.git\n"
      ]
    },
    {
      "cell_type": "code",
      "metadata": {
        "id": "xVj7FLvl4toI",
        "colab": {
          "base_uri": "https://localhost:8080/"
        },
        "outputId": "f12c34c2-a8cd-4823-bd11-e25416df34fe"
      },
      "source": [
        "!wget -O auto-mpg.csv 'https://raw.githubusercontent.com/raulbenitez/postgrau_IML_exploratory/master/data_course/mpg_cars/auto-mpg.csv'"
      ],
      "execution_count": 41,
      "outputs": [
        {
          "output_type": "stream",
          "name": "stdout",
          "text": [
            "--2022-03-28 18:39:43--  https://raw.githubusercontent.com/raulbenitez/postgrau_IML_exploratory/master/data_course/mpg_cars/auto-mpg.csv\n",
            "Resolving raw.githubusercontent.com (raw.githubusercontent.com)... 185.199.108.133, 185.199.109.133, 185.199.110.133, ...\n",
            "Connecting to raw.githubusercontent.com (raw.githubusercontent.com)|185.199.108.133|:443... connected.\n",
            "HTTP request sent, awaiting response... 200 OK\n",
            "Length: 18131 (18K) [text/plain]\n",
            "Saving to: ‘auto-mpg.csv’\n",
            "\n",
            "\rauto-mpg.csv          0%[                    ]       0  --.-KB/s               \rauto-mpg.csv        100%[===================>]  17.71K  --.-KB/s    in 0s      \n",
            "\n",
            "2022-03-28 18:39:43 (37.1 MB/s) - ‘auto-mpg.csv’ saved [18131/18131]\n",
            "\n"
          ]
        }
      ]
    },
    {
      "cell_type": "markdown",
      "metadata": {
        "id": "fT4qtXYLhtNX"
      },
      "source": [
        "The file has been downloaded to folder /content"
      ]
    },
    {
      "cell_type": "code",
      "metadata": {
        "id": "JhOiDyT15Vjr",
        "colab": {
          "base_uri": "https://localhost:8080/",
          "height": 677
        },
        "outputId": "7f7893c3-6d3e-4d1e-f9f6-41af29560257"
      },
      "source": [
        "import pandas as pd\n",
        "d = pd.read_csv('/content/auto-mpg.csv',sep=',',index_col=None)\n",
        "d.head(20)"
      ],
      "execution_count": 39,
      "outputs": [
        {
          "output_type": "execute_result",
          "data": {
            "text/plain": [
              "     mpg  cylinders  displacement horsepower  weight  acceleration  \\\n",
              "0   18.0          8         307.0        130    3504          12.0   \n",
              "1   15.0          8         350.0        165    3693          11.5   \n",
              "2   18.0          8         318.0        150    3436          11.0   \n",
              "3   16.0          8         304.0        150    3433          12.0   \n",
              "4   17.0          8         302.0        140    3449          10.5   \n",
              "5   15.0          8         429.0        198    4341          10.0   \n",
              "6   14.0          8         454.0        220    4354           9.0   \n",
              "7   14.0          8         440.0        215    4312           8.5   \n",
              "8   14.0          8         455.0        225    4425          10.0   \n",
              "9   15.0          8         390.0        190    3850           8.5   \n",
              "10  15.0          8         383.0        170    3563          10.0   \n",
              "11  14.0          8         340.0        160    3609           8.0   \n",
              "12  15.0          8         400.0        150    3761           9.5   \n",
              "13  14.0          8         455.0        225    3086          10.0   \n",
              "14  24.0          4         113.0         95    2372          15.0   \n",
              "15  22.0          6         198.0         95    2833          15.5   \n",
              "16  18.0          6         199.0         97    2774          15.5   \n",
              "17  21.0          6         200.0         85    2587          16.0   \n",
              "18  27.0          4          97.0         88    2130          14.5   \n",
              "19  26.0          4          97.0         46    1835          20.5   \n",
              "\n",
              "    model year  origin                      car name  \n",
              "0           70       1     chevrolet chevelle malibu  \n",
              "1           70       1             buick skylark 320  \n",
              "2           70       1            plymouth satellite  \n",
              "3           70       1                 amc rebel sst  \n",
              "4           70       1                   ford torino  \n",
              "5           70       1              ford galaxie 500  \n",
              "6           70       1              chevrolet impala  \n",
              "7           70       1             plymouth fury iii  \n",
              "8           70       1              pontiac catalina  \n",
              "9           70       1            amc ambassador dpl  \n",
              "10          70       1           dodge challenger se  \n",
              "11          70       1            plymouth 'cuda 340  \n",
              "12          70       1         chevrolet monte carlo  \n",
              "13          70       1       buick estate wagon (sw)  \n",
              "14          70       3         toyota corona mark ii  \n",
              "15          70       1               plymouth duster  \n",
              "16          70       1                    amc hornet  \n",
              "17          70       1                 ford maverick  \n",
              "18          70       3                  datsun pl510  \n",
              "19          70       2  volkswagen 1131 deluxe sedan  "
            ],
            "text/html": [
              "\n",
              "  <div id=\"df-9a030f27-7224-4390-8ccc-bb396efeff1c\">\n",
              "    <div class=\"colab-df-container\">\n",
              "      <div>\n",
              "<style scoped>\n",
              "    .dataframe tbody tr th:only-of-type {\n",
              "        vertical-align: middle;\n",
              "    }\n",
              "\n",
              "    .dataframe tbody tr th {\n",
              "        vertical-align: top;\n",
              "    }\n",
              "\n",
              "    .dataframe thead th {\n",
              "        text-align: right;\n",
              "    }\n",
              "</style>\n",
              "<table border=\"1\" class=\"dataframe\">\n",
              "  <thead>\n",
              "    <tr style=\"text-align: right;\">\n",
              "      <th></th>\n",
              "      <th>mpg</th>\n",
              "      <th>cylinders</th>\n",
              "      <th>displacement</th>\n",
              "      <th>horsepower</th>\n",
              "      <th>weight</th>\n",
              "      <th>acceleration</th>\n",
              "      <th>model year</th>\n",
              "      <th>origin</th>\n",
              "      <th>car name</th>\n",
              "    </tr>\n",
              "  </thead>\n",
              "  <tbody>\n",
              "    <tr>\n",
              "      <th>0</th>\n",
              "      <td>18.0</td>\n",
              "      <td>8</td>\n",
              "      <td>307.0</td>\n",
              "      <td>130</td>\n",
              "      <td>3504</td>\n",
              "      <td>12.0</td>\n",
              "      <td>70</td>\n",
              "      <td>1</td>\n",
              "      <td>chevrolet chevelle malibu</td>\n",
              "    </tr>\n",
              "    <tr>\n",
              "      <th>1</th>\n",
              "      <td>15.0</td>\n",
              "      <td>8</td>\n",
              "      <td>350.0</td>\n",
              "      <td>165</td>\n",
              "      <td>3693</td>\n",
              "      <td>11.5</td>\n",
              "      <td>70</td>\n",
              "      <td>1</td>\n",
              "      <td>buick skylark 320</td>\n",
              "    </tr>\n",
              "    <tr>\n",
              "      <th>2</th>\n",
              "      <td>18.0</td>\n",
              "      <td>8</td>\n",
              "      <td>318.0</td>\n",
              "      <td>150</td>\n",
              "      <td>3436</td>\n",
              "      <td>11.0</td>\n",
              "      <td>70</td>\n",
              "      <td>1</td>\n",
              "      <td>plymouth satellite</td>\n",
              "    </tr>\n",
              "    <tr>\n",
              "      <th>3</th>\n",
              "      <td>16.0</td>\n",
              "      <td>8</td>\n",
              "      <td>304.0</td>\n",
              "      <td>150</td>\n",
              "      <td>3433</td>\n",
              "      <td>12.0</td>\n",
              "      <td>70</td>\n",
              "      <td>1</td>\n",
              "      <td>amc rebel sst</td>\n",
              "    </tr>\n",
              "    <tr>\n",
              "      <th>4</th>\n",
              "      <td>17.0</td>\n",
              "      <td>8</td>\n",
              "      <td>302.0</td>\n",
              "      <td>140</td>\n",
              "      <td>3449</td>\n",
              "      <td>10.5</td>\n",
              "      <td>70</td>\n",
              "      <td>1</td>\n",
              "      <td>ford torino</td>\n",
              "    </tr>\n",
              "    <tr>\n",
              "      <th>5</th>\n",
              "      <td>15.0</td>\n",
              "      <td>8</td>\n",
              "      <td>429.0</td>\n",
              "      <td>198</td>\n",
              "      <td>4341</td>\n",
              "      <td>10.0</td>\n",
              "      <td>70</td>\n",
              "      <td>1</td>\n",
              "      <td>ford galaxie 500</td>\n",
              "    </tr>\n",
              "    <tr>\n",
              "      <th>6</th>\n",
              "      <td>14.0</td>\n",
              "      <td>8</td>\n",
              "      <td>454.0</td>\n",
              "      <td>220</td>\n",
              "      <td>4354</td>\n",
              "      <td>9.0</td>\n",
              "      <td>70</td>\n",
              "      <td>1</td>\n",
              "      <td>chevrolet impala</td>\n",
              "    </tr>\n",
              "    <tr>\n",
              "      <th>7</th>\n",
              "      <td>14.0</td>\n",
              "      <td>8</td>\n",
              "      <td>440.0</td>\n",
              "      <td>215</td>\n",
              "      <td>4312</td>\n",
              "      <td>8.5</td>\n",
              "      <td>70</td>\n",
              "      <td>1</td>\n",
              "      <td>plymouth fury iii</td>\n",
              "    </tr>\n",
              "    <tr>\n",
              "      <th>8</th>\n",
              "      <td>14.0</td>\n",
              "      <td>8</td>\n",
              "      <td>455.0</td>\n",
              "      <td>225</td>\n",
              "      <td>4425</td>\n",
              "      <td>10.0</td>\n",
              "      <td>70</td>\n",
              "      <td>1</td>\n",
              "      <td>pontiac catalina</td>\n",
              "    </tr>\n",
              "    <tr>\n",
              "      <th>9</th>\n",
              "      <td>15.0</td>\n",
              "      <td>8</td>\n",
              "      <td>390.0</td>\n",
              "      <td>190</td>\n",
              "      <td>3850</td>\n",
              "      <td>8.5</td>\n",
              "      <td>70</td>\n",
              "      <td>1</td>\n",
              "      <td>amc ambassador dpl</td>\n",
              "    </tr>\n",
              "    <tr>\n",
              "      <th>10</th>\n",
              "      <td>15.0</td>\n",
              "      <td>8</td>\n",
              "      <td>383.0</td>\n",
              "      <td>170</td>\n",
              "      <td>3563</td>\n",
              "      <td>10.0</td>\n",
              "      <td>70</td>\n",
              "      <td>1</td>\n",
              "      <td>dodge challenger se</td>\n",
              "    </tr>\n",
              "    <tr>\n",
              "      <th>11</th>\n",
              "      <td>14.0</td>\n",
              "      <td>8</td>\n",
              "      <td>340.0</td>\n",
              "      <td>160</td>\n",
              "      <td>3609</td>\n",
              "      <td>8.0</td>\n",
              "      <td>70</td>\n",
              "      <td>1</td>\n",
              "      <td>plymouth 'cuda 340</td>\n",
              "    </tr>\n",
              "    <tr>\n",
              "      <th>12</th>\n",
              "      <td>15.0</td>\n",
              "      <td>8</td>\n",
              "      <td>400.0</td>\n",
              "      <td>150</td>\n",
              "      <td>3761</td>\n",
              "      <td>9.5</td>\n",
              "      <td>70</td>\n",
              "      <td>1</td>\n",
              "      <td>chevrolet monte carlo</td>\n",
              "    </tr>\n",
              "    <tr>\n",
              "      <th>13</th>\n",
              "      <td>14.0</td>\n",
              "      <td>8</td>\n",
              "      <td>455.0</td>\n",
              "      <td>225</td>\n",
              "      <td>3086</td>\n",
              "      <td>10.0</td>\n",
              "      <td>70</td>\n",
              "      <td>1</td>\n",
              "      <td>buick estate wagon (sw)</td>\n",
              "    </tr>\n",
              "    <tr>\n",
              "      <th>14</th>\n",
              "      <td>24.0</td>\n",
              "      <td>4</td>\n",
              "      <td>113.0</td>\n",
              "      <td>95</td>\n",
              "      <td>2372</td>\n",
              "      <td>15.0</td>\n",
              "      <td>70</td>\n",
              "      <td>3</td>\n",
              "      <td>toyota corona mark ii</td>\n",
              "    </tr>\n",
              "    <tr>\n",
              "      <th>15</th>\n",
              "      <td>22.0</td>\n",
              "      <td>6</td>\n",
              "      <td>198.0</td>\n",
              "      <td>95</td>\n",
              "      <td>2833</td>\n",
              "      <td>15.5</td>\n",
              "      <td>70</td>\n",
              "      <td>1</td>\n",
              "      <td>plymouth duster</td>\n",
              "    </tr>\n",
              "    <tr>\n",
              "      <th>16</th>\n",
              "      <td>18.0</td>\n",
              "      <td>6</td>\n",
              "      <td>199.0</td>\n",
              "      <td>97</td>\n",
              "      <td>2774</td>\n",
              "      <td>15.5</td>\n",
              "      <td>70</td>\n",
              "      <td>1</td>\n",
              "      <td>amc hornet</td>\n",
              "    </tr>\n",
              "    <tr>\n",
              "      <th>17</th>\n",
              "      <td>21.0</td>\n",
              "      <td>6</td>\n",
              "      <td>200.0</td>\n",
              "      <td>85</td>\n",
              "      <td>2587</td>\n",
              "      <td>16.0</td>\n",
              "      <td>70</td>\n",
              "      <td>1</td>\n",
              "      <td>ford maverick</td>\n",
              "    </tr>\n",
              "    <tr>\n",
              "      <th>18</th>\n",
              "      <td>27.0</td>\n",
              "      <td>4</td>\n",
              "      <td>97.0</td>\n",
              "      <td>88</td>\n",
              "      <td>2130</td>\n",
              "      <td>14.5</td>\n",
              "      <td>70</td>\n",
              "      <td>3</td>\n",
              "      <td>datsun pl510</td>\n",
              "    </tr>\n",
              "    <tr>\n",
              "      <th>19</th>\n",
              "      <td>26.0</td>\n",
              "      <td>4</td>\n",
              "      <td>97.0</td>\n",
              "      <td>46</td>\n",
              "      <td>1835</td>\n",
              "      <td>20.5</td>\n",
              "      <td>70</td>\n",
              "      <td>2</td>\n",
              "      <td>volkswagen 1131 deluxe sedan</td>\n",
              "    </tr>\n",
              "  </tbody>\n",
              "</table>\n",
              "</div>\n",
              "      <button class=\"colab-df-convert\" onclick=\"convertToInteractive('df-9a030f27-7224-4390-8ccc-bb396efeff1c')\"\n",
              "              title=\"Convert this dataframe to an interactive table.\"\n",
              "              style=\"display:none;\">\n",
              "        \n",
              "  <svg xmlns=\"http://www.w3.org/2000/svg\" height=\"24px\"viewBox=\"0 0 24 24\"\n",
              "       width=\"24px\">\n",
              "    <path d=\"M0 0h24v24H0V0z\" fill=\"none\"/>\n",
              "    <path d=\"M18.56 5.44l.94 2.06.94-2.06 2.06-.94-2.06-.94-.94-2.06-.94 2.06-2.06.94zm-11 1L8.5 8.5l.94-2.06 2.06-.94-2.06-.94L8.5 2.5l-.94 2.06-2.06.94zm10 10l.94 2.06.94-2.06 2.06-.94-2.06-.94-.94-2.06-.94 2.06-2.06.94z\"/><path d=\"M17.41 7.96l-1.37-1.37c-.4-.4-.92-.59-1.43-.59-.52 0-1.04.2-1.43.59L10.3 9.45l-7.72 7.72c-.78.78-.78 2.05 0 2.83L4 21.41c.39.39.9.59 1.41.59.51 0 1.02-.2 1.41-.59l7.78-7.78 2.81-2.81c.8-.78.8-2.07 0-2.86zM5.41 20L4 18.59l7.72-7.72 1.47 1.35L5.41 20z\"/>\n",
              "  </svg>\n",
              "      </button>\n",
              "      \n",
              "  <style>\n",
              "    .colab-df-container {\n",
              "      display:flex;\n",
              "      flex-wrap:wrap;\n",
              "      gap: 12px;\n",
              "    }\n",
              "\n",
              "    .colab-df-convert {\n",
              "      background-color: #E8F0FE;\n",
              "      border: none;\n",
              "      border-radius: 50%;\n",
              "      cursor: pointer;\n",
              "      display: none;\n",
              "      fill: #1967D2;\n",
              "      height: 32px;\n",
              "      padding: 0 0 0 0;\n",
              "      width: 32px;\n",
              "    }\n",
              "\n",
              "    .colab-df-convert:hover {\n",
              "      background-color: #E2EBFA;\n",
              "      box-shadow: 0px 1px 2px rgba(60, 64, 67, 0.3), 0px 1px 3px 1px rgba(60, 64, 67, 0.15);\n",
              "      fill: #174EA6;\n",
              "    }\n",
              "\n",
              "    [theme=dark] .colab-df-convert {\n",
              "      background-color: #3B4455;\n",
              "      fill: #D2E3FC;\n",
              "    }\n",
              "\n",
              "    [theme=dark] .colab-df-convert:hover {\n",
              "      background-color: #434B5C;\n",
              "      box-shadow: 0px 1px 3px 1px rgba(0, 0, 0, 0.15);\n",
              "      filter: drop-shadow(0px 1px 2px rgba(0, 0, 0, 0.3));\n",
              "      fill: #FFFFFF;\n",
              "    }\n",
              "  </style>\n",
              "\n",
              "      <script>\n",
              "        const buttonEl =\n",
              "          document.querySelector('#df-9a030f27-7224-4390-8ccc-bb396efeff1c button.colab-df-convert');\n",
              "        buttonEl.style.display =\n",
              "          google.colab.kernel.accessAllowed ? 'block' : 'none';\n",
              "\n",
              "        async function convertToInteractive(key) {\n",
              "          const element = document.querySelector('#df-9a030f27-7224-4390-8ccc-bb396efeff1c');\n",
              "          const dataTable =\n",
              "            await google.colab.kernel.invokeFunction('convertToInteractive',\n",
              "                                                     [key], {});\n",
              "          if (!dataTable) return;\n",
              "\n",
              "          const docLinkHtml = 'Like what you see? Visit the ' +\n",
              "            '<a target=\"_blank\" href=https://colab.research.google.com/notebooks/data_table.ipynb>data table notebook</a>'\n",
              "            + ' to learn more about interactive tables.';\n",
              "          element.innerHTML = '';\n",
              "          dataTable['output_type'] = 'display_data';\n",
              "          await google.colab.output.renderOutput(dataTable, element);\n",
              "          const docLink = document.createElement('div');\n",
              "          docLink.innerHTML = docLinkHtml;\n",
              "          element.appendChild(docLink);\n",
              "        }\n",
              "      </script>\n",
              "    </div>\n",
              "  </div>\n",
              "  "
            ]
          },
          "metadata": {},
          "execution_count": 39
        }
      ]
    },
    {
      "cell_type": "markdown",
      "metadata": {
        "id": "dAhYWE9ShyjM"
      },
      "source": [
        "## Load built-in datasets:\n",
        "\n",
        "You can access to built-in databases included in many libraries: \n",
        "\n",
        "Let's acces, for instance, the mpg cars database included in the graphical libraries seaborn:"
      ]
    },
    {
      "cell_type": "code",
      "metadata": {
        "id": "WyBP9oRJGatq",
        "colab": {
          "base_uri": "https://localhost:8080/",
          "height": 204
        },
        "outputId": "936e4345-ca3f-4dda-c342-aaec194a3c0c"
      },
      "source": [
        "import pandas as pd \n",
        "import seaborn as sns \n",
        "mpg = sns.load_dataset(\"mpg\")\n",
        "mpg.head()"
      ],
      "execution_count": null,
      "outputs": [
        {
          "output_type": "execute_result",
          "data": {
            "text/html": [
              "<div>\n",
              "<style scoped>\n",
              "    .dataframe tbody tr th:only-of-type {\n",
              "        vertical-align: middle;\n",
              "    }\n",
              "\n",
              "    .dataframe tbody tr th {\n",
              "        vertical-align: top;\n",
              "    }\n",
              "\n",
              "    .dataframe thead th {\n",
              "        text-align: right;\n",
              "    }\n",
              "</style>\n",
              "<table border=\"1\" class=\"dataframe\">\n",
              "  <thead>\n",
              "    <tr style=\"text-align: right;\">\n",
              "      <th></th>\n",
              "      <th>mpg</th>\n",
              "      <th>cylinders</th>\n",
              "      <th>displacement</th>\n",
              "      <th>horsepower</th>\n",
              "      <th>weight</th>\n",
              "      <th>acceleration</th>\n",
              "      <th>model_year</th>\n",
              "      <th>origin</th>\n",
              "      <th>name</th>\n",
              "    </tr>\n",
              "  </thead>\n",
              "  <tbody>\n",
              "    <tr>\n",
              "      <th>0</th>\n",
              "      <td>18.0</td>\n",
              "      <td>8</td>\n",
              "      <td>307.0</td>\n",
              "      <td>130.0</td>\n",
              "      <td>3504</td>\n",
              "      <td>12.0</td>\n",
              "      <td>70</td>\n",
              "      <td>usa</td>\n",
              "      <td>chevrolet chevelle malibu</td>\n",
              "    </tr>\n",
              "    <tr>\n",
              "      <th>1</th>\n",
              "      <td>15.0</td>\n",
              "      <td>8</td>\n",
              "      <td>350.0</td>\n",
              "      <td>165.0</td>\n",
              "      <td>3693</td>\n",
              "      <td>11.5</td>\n",
              "      <td>70</td>\n",
              "      <td>usa</td>\n",
              "      <td>buick skylark 320</td>\n",
              "    </tr>\n",
              "    <tr>\n",
              "      <th>2</th>\n",
              "      <td>18.0</td>\n",
              "      <td>8</td>\n",
              "      <td>318.0</td>\n",
              "      <td>150.0</td>\n",
              "      <td>3436</td>\n",
              "      <td>11.0</td>\n",
              "      <td>70</td>\n",
              "      <td>usa</td>\n",
              "      <td>plymouth satellite</td>\n",
              "    </tr>\n",
              "    <tr>\n",
              "      <th>3</th>\n",
              "      <td>16.0</td>\n",
              "      <td>8</td>\n",
              "      <td>304.0</td>\n",
              "      <td>150.0</td>\n",
              "      <td>3433</td>\n",
              "      <td>12.0</td>\n",
              "      <td>70</td>\n",
              "      <td>usa</td>\n",
              "      <td>amc rebel sst</td>\n",
              "    </tr>\n",
              "    <tr>\n",
              "      <th>4</th>\n",
              "      <td>17.0</td>\n",
              "      <td>8</td>\n",
              "      <td>302.0</td>\n",
              "      <td>140.0</td>\n",
              "      <td>3449</td>\n",
              "      <td>10.5</td>\n",
              "      <td>70</td>\n",
              "      <td>usa</td>\n",
              "      <td>ford torino</td>\n",
              "    </tr>\n",
              "  </tbody>\n",
              "</table>\n",
              "</div>"
            ],
            "text/plain": [
              "    mpg  cylinders  displacement  ...  model_year  origin                       name\n",
              "0  18.0          8         307.0  ...          70     usa  chevrolet chevelle malibu\n",
              "1  15.0          8         350.0  ...          70     usa          buick skylark 320\n",
              "2  18.0          8         318.0  ...          70     usa         plymouth satellite\n",
              "3  16.0          8         304.0  ...          70     usa              amc rebel sst\n",
              "4  17.0          8         302.0  ...          70     usa                ford torino\n",
              "\n",
              "[5 rows x 9 columns]"
            ]
          },
          "metadata": {
            "tags": []
          },
          "execution_count": 10
        }
      ]
    },
    {
      "cell_type": "markdown",
      "metadata": {
        "id": "-0B2oP6xil8C"
      },
      "source": [
        "## Working with images:"
      ]
    },
    {
      "cell_type": "code",
      "metadata": {
        "id": "sCjsWiS6itlo",
        "colab": {
          "base_uri": "https://localhost:8080/",
          "height": 297
        },
        "outputId": "4e143caf-9f32-4445-9741-6c8084a1a341"
      },
      "source": [
        "import skimage as sk # load skimage libraries\n",
        "from skimage import io\n",
        "I = sk.io.imread('/content/gdrive/My Drive/DAPR sample data/image1.tif') # read image using imread function\n",
        "sk.io.imshow(I) # visualize image using imshow function\n",
        "sk.io.show() "
      ],
      "execution_count": 42,
      "outputs": [
        {
          "output_type": "display_data",
          "data": {
            "text/plain": [
              "<Figure size 432x288 with 1 Axes>"
            ],
            "image/png": "[encoded data removed]"
          },
          "metadata": {
            "needs_background": "light"
          }
        }
      ]
    },
    {
      "cell_type": "code",
      "source": [
        "x = I[10,:]\n",
        "\n",
        "import matplotlib.pyplot as plt\n",
        "\n",
        "fig = plt.figure(figsize=(7,7))\n",
        "plt.plot(x)\n",
        "plt.show()"
      ],
      "metadata": {
        "id": "_gAxZ-CVAgxR",
        "outputId": "91e4ee58-a934-4240-8976-52ece1e08829",
        "colab": {
          "base_uri": "https://localhost:8080/",
          "height": 428
        }
      },
      "execution_count": 51,
      "outputs": [
        {
          "output_type": "display_data",
          "data": {
            "text/plain": [
              "<Figure size 504x504 with 1 Axes>"
            ],
            "image/png": "[encoded data removed]"
          },
          "metadata": {
            "needs_background": "light"
          }
        }
      ]
    },
    {
      "cell_type": "code",
      "source": [
        "I.shape"
      ],
      "metadata": {
        "id": "rxeRV0Yd42KV",
        "outputId": "3e6c30fe-0da5-4d32-f8f8-c13f133b9962",
        "colab": {
          "base_uri": "https://localhost:8080/"
        }
      },
      "execution_count": 46,
      "outputs": [
        {
          "output_type": "execute_result",
          "data": {
            "text/plain": [
              "(1164, 984)"
            ]
          },
          "metadata": {},
          "execution_count": 46
        }
      ]
    },
    {
      "cell_type": "code",
      "source": [
        "I.dtype"
      ],
      "metadata": {
        "id": "GMuvRMez48ac",
        "outputId": "ca6b178d-663c-4a1b-84d5-b39b79ed6480",
        "colab": {
          "base_uri": "https://localhost:8080/"
        }
      },
      "execution_count": 47,
      "outputs": [
        {
          "output_type": "execute_result",
          "data": {
            "text/plain": [
              "dtype('uint8')"
            ]
          },
          "metadata": {},
          "execution_count": 47
        }
      ]
    },
    {
      "cell_type": "markdown",
      "metadata": {
        "id": "SLUhzwEZdl4i"
      },
      "source": [
        "## Advanced Python\n",
        "\n",
        "### Functional Programming\n",
        "\n",
        "* lambda\n",
        "\n",
        "* map\n",
        "\n",
        "* filter"
      ]
    },
    {
      "cell_type": "markdown",
      "metadata": {
        "id": "kJiOjgwLdl4j"
      },
      "source": [
        "#### Lambda\n",
        "\n",
        "Function without a name. Useful when you want to declare a function online, usally for using it as a parameter for another function."
      ]
    },
    {
      "cell_type": "code",
      "metadata": {
        "ExecuteTime": {
          "end_time": "2020-02-20T13:59:58.890755Z",
          "start_time": "2020-02-20T13:59:58.884284Z"
        },
        "id": "_VzJLXTPdl4j",
        "colab": {
          "base_uri": "https://localhost:8080/",
          "height": 34
        },
        "outputId": "10282b60-aeb1-4870-986b-f1ddd01ce70e"
      },
      "source": [
        "def old_add (a,b):\n",
        "    return a+b\n",
        "\n",
        "new_add = lambda a, b: a + b\n",
        "\n",
        "new_add(4,5) == 4 + 5  and new_add(4,5) == old_add(4,5)\n"
      ],
      "execution_count": null,
      "outputs": [
        {
          "output_type": "execute_result",
          "data": {
            "text/plain": [
              "True"
            ]
          },
          "metadata": {
            "tags": []
          },
          "execution_count": 16
        }
      ]
    },
    {
      "cell_type": "code",
      "metadata": {
        "ExecuteTime": {
          "end_time": "2020-02-20T14:00:00.112537Z",
          "start_time": "2020-02-20T14:00:00.097795Z"
        },
        "id": "VG1Fjc2bdl4n"
      },
      "source": [
        "? sorted"
      ],
      "execution_count": null,
      "outputs": []
    },
    {
      "cell_type": "code",
      "metadata": {
        "ExecuteTime": {
          "end_time": "2020-02-20T14:00:29.622494Z",
          "start_time": "2020-02-20T14:00:29.619753Z"
        },
        "id": "1ww0OBkSdl4q",
        "colab": {
          "base_uri": "https://localhost:8080/",
          "height": 51
        },
        "outputId": "8e0d21f4-8bc7-4094-da6d-1f020b847819"
      },
      "source": [
        "unsorted = [('b', 6), ('a', 10), ('d', 0), ('c', 4)]\n",
        "print(sorted(unsorted))\n",
        "print(sorted(unsorted, key=lambda x: x[1]))"
      ],
      "execution_count": null,
      "outputs": [
        {
          "output_type": "stream",
          "text": [
            "[('a', 10), ('b', 6), ('c', 4), ('d', 0)]\n",
            "[('d', 0), ('c', 4), ('b', 6), ('a', 10)]\n"
          ],
          "name": "stdout"
        }
      ]
    },
    {
      "cell_type": "markdown",
      "metadata": {
        "id": "sVYRWAVRdl4w"
      },
      "source": [
        "#### Map\n",
        "\n",
        "Takes a function and a collection of values as a parameters. Exectutes the function in each element of the list. Useful when you want to use the functional pattern: map-reduce, normally when you wnat to process collections of data."
      ]
    },
    {
      "cell_type": "code",
      "metadata": {
        "ExecuteTime": {
          "end_time": "2020-02-20T14:00:49.419820Z",
          "start_time": "2020-02-20T14:00:49.416898Z"
        },
        "id": "UU8T5SeQdl4w",
        "colab": {
          "base_uri": "https://localhost:8080/",
          "height": 51
        },
        "outputId": "f0a474d1-e956-48b4-d649-207cc73d7809"
      },
      "source": [
        "values = [1, 2, 3, 4, 5]\n",
        "# Note: We convert the returned map object to\n",
        "# a list data structure.\n",
        "\n",
        "add_10 = list(map(lambda x: x + 10, values))\n",
        "add_20 = list(map(lambda x: x + 20, values))\n",
        "print(add_10)\n",
        "print (add_20)\n"
      ],
      "execution_count": null,
      "outputs": [
        {
          "output_type": "stream",
          "text": [
            "[11, 12, 13, 14, 15]\n",
            "[21, 22, 23, 24, 25]\n"
          ],
          "name": "stdout"
        }
      ]
    },
    {
      "cell_type": "code",
      "metadata": {
        "id": "aMhngr_bdl42",
        "colab": {
          "base_uri": "https://localhost:8080/",
          "height": 34
        },
        "outputId": "8ed3d35b-6235-4976-a56e-fa4af501d7c6"
      },
      "source": [
        "import math\n",
        "list(map(math.sqrt,values))"
      ],
      "execution_count": null,
      "outputs": [
        {
          "output_type": "execute_result",
          "data": {
            "text/plain": [
              "[1.0, 1.4142135623730951, 1.7320508075688772, 2.0, 2.23606797749979]"
            ]
          },
          "metadata": {
            "tags": []
          },
          "execution_count": 20
        }
      ]
    },
    {
      "cell_type": "markdown",
      "metadata": {
        "id": "BuvBXnP9dl44"
      },
      "source": [
        "#### Filter\n",
        "Takes a boolen function and a collection of values as a parameters. Executes the boolean function to each value in the collection and return those of them that result is true. Useful for keep values that checks a certain test.\n"
      ]
    },
    {
      "cell_type": "code",
      "metadata": {
        "id": "bCoK0JkFdl44",
        "colab": {
          "base_uri": "https://localhost:8080/",
          "height": 51
        },
        "outputId": "ce6f8d43-a1c7-4c5e-ddfe-8728a2d77237"
      },
      "source": [
        "values = [1, 2, 3, 4, 5, 6, 7, 8, 9, 10]\n",
        "\n",
        "# Note: We convert the returned filter object to\n",
        "# a list data structure.\n",
        "even = list(filter(lambda x: x % 2 == 0, values))\n",
        "odd = list(filter(lambda x: x % 2 == 1, values))\n",
        "\n",
        "print(even)\n",
        "\n",
        "print(odd)"
      ],
      "execution_count": null,
      "outputs": [
        {
          "output_type": "stream",
          "text": [
            "[2, 4, 6, 8, 10]\n",
            "[1, 3, 5, 7, 9]\n"
          ],
          "name": "stdout"
        }
      ]
    },
    {
      "cell_type": "code",
      "source": [
        ""
      ],
      "metadata": {
        "id": "MfbZLDwg46DU"
      },
      "execution_count": null,
      "outputs": []
    }
  ]
}