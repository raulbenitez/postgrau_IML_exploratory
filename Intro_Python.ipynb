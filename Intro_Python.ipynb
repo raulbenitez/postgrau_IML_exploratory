{
  "nbformat": 4,
  "nbformat_minor": 0,
  "metadata": {
    "colab": {
      "name": "Intro Python.ipynb",
      "provenance": []
    },
    "kernelspec": {
      "name": "python3",
      "display_name": "Python 3"
    }
  },
  "cells": [
    {
      "cell_type": "markdown",
      "metadata": {
        "id": "zVQHimRGeS75"
      },
      "source": [
        "\n",
        "\n",
        "---\n",
        "\n"
      ]
    },
    {
      "cell_type": "markdown",
      "metadata": {
        "id": "lk1w6d8zfJbb"
      },
      "source": [
        "# **INTRODUCTION TO PYTHON PROGRAMMING**"
      ]
    },
    {
      "cell_type": "markdown",
      "metadata": {
        "id": "9LygxZuMiKAB"
      },
      "source": [
        "## Why Python?\n",
        "Python is a high-level programming language that allows you to solve general-purpose problems. It is especially useful in data processing, pattern recognition and artificial intelligence applications. Think of a kind of very powerful programmable scientific calculator.\n",
        "\n",
        "The objective of this first part of the course is to hace a crash course on Python programming. In the following laboratory sessions you will learn how to use Python in order to do data analysis and machine learning. "
      ]
    },
    {
      "cell_type": "markdown",
      "metadata": {
        "id": "pEQYpwPvfvWO"
      },
      "source": [
        "## The google Colaboratory platform: Python notebooks\n",
        "\n",
        "There are a large number of programming environments that allow you to develop programs with Python. The most common ones require the installation in your computer of a complete Python programming platform such as Anaconda (https://www.anaconda.com/, for MacOS and Windows) or WinPython (https://winpython.github.io/, Windows only). These distributions work perfectly fine but require lots of ressources from your personal computers in terms of disk, memory and CPU. \n",
        "\n",
        "### Google colab\n",
        "Instead, in the course we will use a google cloud platform called google collaboratory that already has most of the necessary libraries and allows us to work without the need to install anything on our computers:\n",
        "\n",
        "https://colab.research.google.com/\n",
        "\n",
        "The only thing it asks us to start working is a gmail google account. In addition, it allows us to run the programs on google servers, which can be very useful when we manipulate large amounts of data.\n",
        "\n",
        "### Python notebooks\n",
        "The way to program on this platform are the **Python notebooks**: A notebook is a document that combines text and Python code. A notebook is composed of two different kinds of cells: code cells and text cells. Text cells are used to explain what we do at any given time, and the Python code excutes different code segments that perform different functions.  Here is a brief tutorial of how to get started working with juputer notebooks in Google colab: \n",
        "\n",
        "https://colab.research.google.com/notebooks/intro.ipynb\n",
        "\n",
        "The text in the notebooks is written in a simple markdown language called **Markdown**. To have a brief introduction to markdown language just take a look to https://colab.research.google.com/notebooks/markdown_guide.ipynb"
      ]
    },
    {
      "cell_type": "markdown",
      "metadata": {
        "id": "jsxiJZwxdlzZ"
      },
      "source": [
        "## Executing commands\n",
        "\n",
        "In order to execute a command, you should write it in a **code cell** and execute it by either clicking in the play icon on the left or by the keyboard shortcut Shift+Return. "
      ]
    },
    {
      "cell_type": "code",
      "metadata": {
        "id": "eY80RVdvdlza",
        "colab": {
          "base_uri": "https://localhost:8080/",
          "height": 34
        },
        "outputId": "6b2bf90f-8136-4c57-c121-95af5f51da04"
      },
      "source": [
        "3 + 4 + 9"
      ],
      "execution_count": null,
      "outputs": [
        {
          "output_type": "execute_result",
          "data": {
            "text/plain": [
              "16"
            ]
          },
          "metadata": {
            "tags": []
          },
          "execution_count": 26
        }
      ]
    },
    {
      "cell_type": "code",
      "metadata": {
        "id": "puH-CkUPdlzg",
        "colab": {
          "base_uri": "https://localhost:8080/",
          "height": 34
        },
        "outputId": "27a5c091-6891-4764-a24d-2b56ee23b4da"
      },
      "source": [
        "list(range(10))"
      ],
      "execution_count": null,
      "outputs": [
        {
          "output_type": "execute_result",
          "data": {
            "text/plain": [
              "[0, 1, 2, 3, 4, 5, 6, 7, 8, 9]"
            ]
          },
          "metadata": {
            "tags": []
          },
          "execution_count": 27
        }
      ]
    },
    {
      "cell_type": "markdown",
      "metadata": {
        "id": "0laSTlXFdlzl"
      },
      "source": [
        "## Modules and libraries\n",
        "\n",
        "Python is a general-purpose programming language, so when we want to use more specific commands (such as statistical operators or string processing operators) we usually need to import them before we can use them. For Scientific Python, one of the most important libraries that we need is **numpy** (Numerical Python, NumPy: Basic mathematical operations with vectors and arrays: https://numpy.org/), which can be loaded like this:"
      ]
    },
    {
      "cell_type": "code",
      "metadata": {
        "id": "6BbJUhuJdlzm",
        "colab": {
          "base_uri": "https://localhost:8080/",
          "height": 34
        },
        "outputId": "4a8519d8-9695-4fcc-a1ee-808306d7bae7"
      },
      "source": [
        "import numpy as np\n",
        "np.sqrt(25)"
      ],
      "execution_count": null,
      "outputs": [
        {
          "output_type": "execute_result",
          "data": {
            "text/plain": [
              "5.0"
            ]
          },
          "metadata": {
            "tags": []
          },
          "execution_count": 28
        }
      ]
    },
    {
      "cell_type": "code",
      "metadata": {
        "id": "yDfExa3edlzp",
        "colab": {
          "base_uri": "https://localhost:8080/",
          "height": 34
        },
        "outputId": "b991c565-58b5-445a-8df2-ecadf7fb1e08"
      },
      "source": [
        "np.arange(10)"
      ],
      "execution_count": null,
      "outputs": [
        {
          "output_type": "execute_result",
          "data": {
            "text/plain": [
              "array([0, 1, 2, 3, 4, 5, 6, 7, 8, 9])"
            ]
          },
          "metadata": {
            "tags": []
          },
          "execution_count": 29
        }
      ]
    },
    {
      "cell_type": "markdown",
      "metadata": {
        "id": "SqBm2382dlzs"
      },
      "source": [
        "Access to the functions, variables and classes of a module depends on the way the module was imported:"
      ]
    },
    {
      "cell_type": "code",
      "metadata": {
        "id": "Ua9DHZr9dlzt",
        "colab": {
          "base_uri": "https://localhost:8080/",
          "height": 34
        },
        "outputId": "baf488b1-41d5-4588-8cb2-9af7ce0701ce"
      },
      "source": [
        "import math\n",
        "math.cos(math.pi)"
      ],
      "execution_count": null,
      "outputs": [
        {
          "output_type": "execute_result",
          "data": {
            "text/plain": [
              "-1.0"
            ]
          },
          "metadata": {
            "tags": []
          },
          "execution_count": 30
        }
      ]
    },
    {
      "cell_type": "code",
      "metadata": {
        "id": "MaFbhc7Odlzw",
        "colab": {
          "base_uri": "https://localhost:8080/",
          "height": 34
        },
        "outputId": "dcc76457-ff28-4e9d-c729-86a70337f413"
      },
      "source": [
        "import math as m  # import using an alias\n",
        "m.cos(m.pi)"
      ],
      "execution_count": null,
      "outputs": [
        {
          "output_type": "execute_result",
          "data": {
            "text/plain": [
              "-1.0"
            ]
          },
          "metadata": {
            "tags": []
          },
          "execution_count": 31
        }
      ]
    },
    {
      "cell_type": "code",
      "metadata": {
        "id": "3TT4wy9cdlz1",
        "colab": {
          "base_uri": "https://localhost:8080/",
          "height": 34
        },
        "outputId": "e1a8ef5b-a770-4e82-da91-605e7457127b"
      },
      "source": [
        "from math import cos,pi # import only some functions\n",
        "cos(pi)"
      ],
      "execution_count": null,
      "outputs": [
        {
          "output_type": "execute_result",
          "data": {
            "text/plain": [
              "-1.0"
            ]
          },
          "metadata": {
            "tags": []
          },
          "execution_count": 32
        }
      ]
    },
    {
      "cell_type": "code",
      "metadata": {
        "id": "UXDvJrm8dlz4",
        "colab": {
          "base_uri": "https://localhost:8080/",
          "height": 34
        },
        "outputId": "8dca1d5a-f641-4b09-b30e-44994ffd89fa"
      },
      "source": [
        "from math import *   # global import\n",
        "cos(pi)"
      ],
      "execution_count": null,
      "outputs": [
        {
          "output_type": "execute_result",
          "data": {
            "text/plain": [
              "-1.0"
            ]
          },
          "metadata": {
            "tags": []
          },
          "execution_count": 11
        }
      ]
    },
    {
      "cell_type": "markdown",
      "metadata": {
        "id": "Y7nBmqjVi1L8"
      },
      "source": [
        "Basides Numpy, the most important in the field of data analysis are the following:\n",
        "\n",
        "**Scipy**: Basic Statistical Operations: https://www.scipy.org/\n",
        "\n",
        "**Pandas**: Allows you to manipulate data files in excel, csv, text, etc. https://pandas.pydata.org/\n",
        "\n",
        "**Seaborn**: Graphing data in pandas format: https://seaborn.pydata.org/\n",
        "\n",
        "**Matplotlib**: Plotting nnumpy arrays: https://matplotlib.org/\n",
        "\n",
        "**sckit-learn**: Pattern recognition and artificial intelligence tools https://scikit-learn.org/stable/\n",
        "\n",
        "**sckit-image**: Image processing https://scikit-image.org/"
      ]
    },
    {
      "cell_type": "markdown",
      "metadata": {
        "id": "Zi5A_CoIdlz7"
      },
      "source": [
        "## Variables\n",
        "Often the value returned by an operation will be used later on. Values can be stored for later use with the **assignment operator**:"
      ]
    },
    {
      "cell_type": "code",
      "metadata": {
        "id": "0latO-7hdlz8",
        "colab": {
          "base_uri": "https://localhost:8080/",
          "height": 34
        },
        "outputId": "ce4a13a5-4fe5-44c4-a69f-41a60a1aded4"
      },
      "source": [
        "a = 101\n",
        "type(a)"
      ],
      "execution_count": null,
      "outputs": [
        {
          "output_type": "execute_result",
          "data": {
            "text/plain": [
              "int"
            ]
          },
          "metadata": {
            "tags": []
          },
          "execution_count": 35
        }
      ]
    },
    {
      "cell_type": "markdown",
      "metadata": {
        "id": "t2OkIhnBdlz_"
      },
      "source": [
        "The command has stored the value 101 under the name <code>a</code>. Such stored values are called **objects**. \n",
        "\n",
        "Making an assignment to an object defines the object. Once an object has been defined, it can be referred to and used in later computations. \n",
        "\n",
        "To refer to the value stored in the object, just use the object’s name itself. For instance:"
      ]
    },
    {
      "cell_type": "code",
      "metadata": {
        "id": "DKSn63a0teXV",
        "colab": {
          "base_uri": "https://localhost:8080/",
          "height": 34
        },
        "outputId": "b8e27904-f34f-4f16-afde-8b7864af4b5c"
      },
      "source": [
        "np.sqrt(a)"
      ],
      "execution_count": null,
      "outputs": [
        {
          "output_type": "execute_result",
          "data": {
            "text/plain": [
              "10.04987562112089"
            ]
          },
          "metadata": {
            "tags": []
          },
          "execution_count": 36
        }
      ]
    },
    {
      "cell_type": "code",
      "metadata": {
        "id": "r8c44B9Vdlz_",
        "colab": {
          "base_uri": "https://localhost:8080/",
          "height": 34
        },
        "outputId": "5c794604-7e9f-44f9-a4d5-34dfa130db2d"
      },
      "source": [
        "a = np.sqrt(a)\n",
        "a\n",
        "type(a)"
      ],
      "execution_count": null,
      "outputs": [
        {
          "output_type": "execute_result",
          "data": {
            "text/plain": [
              "numpy.float64"
            ]
          },
          "metadata": {
            "tags": []
          },
          "execution_count": 37
        }
      ]
    },
    {
      "cell_type": "markdown",
      "metadata": {
        "id": "_ZUXo-hHdl0D"
      },
      "source": [
        "There are some general rules for object names:\n",
        "\n",
        "+ Use only letters and numbers and ‘underscores’ (_)\n",
        "+ Do NOT use spaces anywhere in the name\n",
        "+ A number cannot be the first character in the name\n",
        "+ Capital letters are treated as distinct from lower-case letters (i.e., Python is case-sensitive)"
      ]
    },
    {
      "cell_type": "code",
      "metadata": {
        "id": "H2HeJqLddl0D",
        "colab": {
          "base_uri": "https://localhost:8080/",
          "height": 130
        },
        "outputId": "0a4d4856-79db-461b-eaf1-d49f2826db00"
      },
      "source": [
        "3a = 10"
      ],
      "execution_count": null,
      "outputs": [
        {
          "output_type": "error",
          "ename": "SyntaxError",
          "evalue": "ignored",
          "traceback": [
            "\u001b[0;36m  File \u001b[0;32m\"<ipython-input-38-f986eee6e224>\"\u001b[0;36m, line \u001b[0;32m1\u001b[0m\n\u001b[0;31m    3a = 10\u001b[0m\n\u001b[0m     ^\u001b[0m\n\u001b[0;31mSyntaxError\u001b[0m\u001b[0;31m:\u001b[0m invalid syntax\n"
          ]
        }
      ]
    },
    {
      "cell_type": "markdown",
      "metadata": {
        "id": "MuBFQ1FIWqZ9"
      },
      "source": [
        "## Printing out variables:\n",
        "\n",
        "You can check the value of a variable by printing it. You can also embed the value of the variable in a string using the *format* option of the print instruction: "
      ]
    },
    {
      "cell_type": "code",
      "metadata": {
        "id": "sA2xM_kVXFoJ",
        "colab": {
          "base_uri": "https://localhost:8080/",
          "height": 34
        },
        "outputId": "d4532a6b-6cfc-4828-a029-30c0ba814e4c"
      },
      "source": [
        "a = 19\n",
        "print('The value of a is {}'.format(a))"
      ],
      "execution_count": null,
      "outputs": [
        {
          "output_type": "stream",
          "text": [
            "The value of a is 19\n"
          ],
          "name": "stdout"
        }
      ]
    },
    {
      "cell_type": "code",
      "metadata": {
        "id": "x_bJFgFduBjj",
        "colab": {
          "base_uri": "https://localhost:8080/",
          "height": 34
        },
        "outputId": "4007d851-f39c-4be6-b6e3-71d4b52b3fd4"
      },
      "source": [
        "print(a)"
      ],
      "execution_count": null,
      "outputs": [
        {
          "output_type": "stream",
          "text": [
            "19\n"
          ],
          "name": "stdout"
        }
      ]
    },
    {
      "cell_type": "markdown",
      "metadata": {
        "id": "rRL5Sf7Udl0G"
      },
      "source": [
        "## Dynamic Typing\n",
        "\n",
        "When you assign a new value to an existing object (*dynamic typing*), the former values of that object is erased from the computer memory. For instance, we can assign a calue to a variable b:"
      ]
    },
    {
      "cell_type": "code",
      "metadata": {
        "id": "4oNwpNw5j7B9"
      },
      "source": [
        "b = 10.0498756211"
      ],
      "execution_count": null,
      "outputs": []
    },
    {
      "cell_type": "markdown",
      "metadata": {
        "id": "CSxN5a_Mj_ET"
      },
      "source": [
        "but after a new assignment:"
      ]
    },
    {
      "cell_type": "code",
      "metadata": {
        "id": "PebXsichdl0H",
        "colab": {
          "base_uri": "https://localhost:8080/",
          "height": 34
        },
        "outputId": "bbf2b9cf-9d57-415f-9e8f-e99e3935cbd6"
      },
      "source": [
        "b = 'a'\n",
        "print(b)"
      ],
      "execution_count": null,
      "outputs": [
        {
          "output_type": "stream",
          "text": [
            "a\n"
          ],
          "name": "stdout"
        }
      ]
    },
    {
      "cell_type": "markdown",
      "metadata": {
        "id": "4FHWf6Rddl0K"
      },
      "source": [
        "The value of an object is changed only via the assignment operator. Using an object in a computation does not change the value. "
      ]
    },
    {
      "cell_type": "markdown",
      "metadata": {
        "id": "hlJpyEJmdl0L"
      },
      "source": [
        "The brilliant thing about organizing operators in terms of input arguments and output values is that the output of one operator can be used as an input to another. This lets complicated computations be built out of simpler ones.\n",
        "\n",
        "One way to connect the computations is by using objects to store the intermediate outputs:"
      ]
    },
    {
      "cell_type": "code",
      "metadata": {
        "id": "3Fi9JBM7dl0L",
        "colab": {
          "base_uri": "https://localhost:8080/",
          "height": 34
        },
        "outputId": "ee57b994-d567-4296-8e60-9733155447f8"
      },
      "source": [
        "a = np.arange(5)\n",
        "np.sqrt(a)"
      ],
      "execution_count": null,
      "outputs": [
        {
          "output_type": "execute_result",
          "data": {
            "text/plain": [
              "array([0.        , 1.        , 1.41421356, 1.73205081, 2.        ])"
            ]
          },
          "metadata": {
            "tags": []
          },
          "execution_count": 43
        }
      ]
    },
    {
      "cell_type": "markdown",
      "metadata": {
        "id": "45uNiqIpdl0O"
      },
      "source": [
        "You can also pass the output of an operator directly as an argument to another operator:"
      ]
    },
    {
      "cell_type": "code",
      "metadata": {
        "id": "PBAU4RRxdl0P",
        "colab": {
          "base_uri": "https://localhost:8080/",
          "height": 34
        },
        "outputId": "0e4c0fa5-429a-4925-8335-66db2ff62e00"
      },
      "source": [
        "np.sqrt(np.arange(5))"
      ],
      "execution_count": null,
      "outputs": [
        {
          "output_type": "execute_result",
          "data": {
            "text/plain": [
              "array([0.        , 1.        , 1.41421356, 1.73205081, 2.        ])"
            ]
          },
          "metadata": {
            "tags": []
          },
          "execution_count": 44
        }
      ]
    },
    {
      "cell_type": "markdown",
      "metadata": {
        "id": "_IPYLDUHdl0S"
      },
      "source": [
        "Most of the examples used so far have dealt with numbers. But computers work with other kinds of information as well: text, photographs, sounds, sets of data, and so on. The word *type* is used to refer to the kind of information. \n",
        "\n",
        "It’s important to know about the types of data because operators expect their input arguments to be of specific types. When you use the wrong type of input, the computer might not be able to process your command."
      ]
    },
    {
      "cell_type": "markdown",
      "metadata": {
        "id": "c7y1ri1fdl0T"
      },
      "source": [
        "For our purposes, it’s important to distinguish among several basic types:\n",
        "\n",
        "+ Numeric (positive and negative) data: \n",
        "    + decimal and fractional numbers (**floats**), <code>a = 3.5</code>\n",
        "    + arbitrary length whole numbers (**ints**):  <code>c=1809109863596239561236235625629561</code>\n",
        "+ **Strings** of textual data - you indicate string data to the computer by enclosing the text in quotation marks (e.g., <code>name = \"python\"</code>).\n",
        "+ **Boolean** data: <code>a = True</code> or <code>a = False</code>.\n",
        "+ **Complex** numbers: <code>a = 2+3j</code>\n",
        "+ Sequence types: **tuples, lists, sets, dictionaries** and **files**."
      ]
    },
    {
      "cell_type": "code",
      "metadata": {
        "id": "VjIHSZeydl0T",
        "colab": {
          "base_uri": "https://localhost:8080/",
          "height": 34
        },
        "outputId": "506bb49c-d386-451f-aebe-3ad23ca742d8"
      },
      "source": [
        "a = True\n",
        "type(a)"
      ],
      "execution_count": null,
      "outputs": [
        {
          "output_type": "execute_result",
          "data": {
            "text/plain": [
              "bool"
            ]
          },
          "metadata": {
            "tags": []
          },
          "execution_count": 45
        }
      ]
    },
    {
      "cell_type": "code",
      "metadata": {
        "id": "G_0DlIuedl0X",
        "colab": {
          "base_uri": "https://localhost:8080/",
          "height": 34
        },
        "outputId": "0039e478-3a42-4ff5-d53c-802c46f677da"
      },
      "source": [
        "a = 'a'\n",
        "print(a)"
      ],
      "execution_count": null,
      "outputs": [
        {
          "output_type": "stream",
          "text": [
            "a\n"
          ],
          "name": "stdout"
        }
      ]
    },
    {
      "cell_type": "markdown",
      "metadata": {
        "id": "CtnltAcbdl0a"
      },
      "source": [
        "## Operators\n",
        "\n",
        "+ Addition (also string, tuple and list concatenation) <code>a + b</code>\n",
        "+ Subtraction (also set difference): <code>a - b</code>\n",
        "+ Multiplication (also string, tuple and list replication): <code>a * b</code>\n",
        "+ Division: <code>a / b</code>\n",
        "+ Truncated integer division (rounded towards minus infinity): <code>a // b</code>\n",
        "+ Modulus or remainder: <code>a % b</code>\n",
        "+ Exponentiation: <code>a ** b</code>\n",
        "+ Assignment: <code>=</code>, <code>-=</code>, <code>+=</code>,<code>/=</code>,<code>*=</code>, <code>%=</code>, <code>//=</code>, <code>**=</code>\n",
        "+ Boolean comparisons: <code>==</code>, <code>!=</code>, <code><</code>,<code>></code>,<code><=</code>, <code>>=</code>\n",
        "+ Boolean operators: <code>and</code>, <code>or</code>, <code>not</code>\n",
        "+ Membership test operators: <code>in</code>, <code>not in</code>\n",
        "+ Object identity operators: <code>is</code>, <code>is not</code>\n",
        "+ Bitwise operators (or, xor, and, complement): <code>|</code>, <code>^</code>, <code>&</code>, <code>~</code>\n",
        "+ Left and right bit shift: <code><<</code>, <code>>></code>"
      ]
    },
    {
      "cell_type": "markdown",
      "metadata": {
        "id": "fuYTmV9xdl0d"
      },
      "source": [
        "### Python as a calculator\n",
        "\n",
        "The Python language has a concise notation for arithmetic that looks very much like the traditional one."
      ]
    },
    {
      "cell_type": "code",
      "metadata": {
        "id": "bGVxdWF0dl0e",
        "colab": {
          "base_uri": "https://localhost:8080/",
          "height": 34
        },
        "outputId": "d8e1a78d-ae56-4b2e-edfa-08da8a934dad"
      },
      "source": [
        "a = 3+2\n",
        "b= 3.5 * -8\n",
        "c = 10/6\n",
        "print(a, b, c, 10./6.)"
      ],
      "execution_count": null,
      "outputs": [
        {
          "output_type": "stream",
          "text": [
            "5 -28.0 1.6666666666666667 1.6666666666666667\n"
          ],
          "name": "stdout"
        }
      ]
    },
    {
      "cell_type": "markdown",
      "metadata": {
        "id": "k1-jIS7Odl0g"
      },
      "source": [
        "Some math functions are not available in the basic Python module, and they need to be imported from a specific module:"
      ]
    },
    {
      "cell_type": "code",
      "metadata": {
        "id": "coCJGpdndl0h",
        "colab": {
          "base_uri": "https://localhost:8080/",
          "height": 34
        },
        "outputId": "e1fc3df8-3390-4f31-cc35-f375e975d6c0"
      },
      "source": [
        "import math   # this instruction is not executed if the module has already been imported\n",
        "print(math.pi + math.sin(100) + math.ceil(2.3))"
      ],
      "execution_count": null,
      "outputs": [
        {
          "output_type": "stream",
          "text": [
            "5.635227012480034\n"
          ],
          "name": "stdout"
        }
      ]
    },
    {
      "cell_type": "markdown",
      "metadata": {
        "id": "UkfLL4wfdl0j"
      },
      "source": [
        "### String processing with Python\n",
        "\n",
        "Strings are list of characters:"
      ]
    },
    {
      "cell_type": "code",
      "metadata": {
        "id": "FliJSU7rdl0k",
        "colab": {
          "base_uri": "https://localhost:8080/",
          "height": 34
        },
        "outputId": "56a5199b-2c75-4b31-b90a-448df2b74ad8"
      },
      "source": [
        "a = 'python'\n",
        "type(a)"
      ],
      "execution_count": null,
      "outputs": [
        {
          "output_type": "execute_result",
          "data": {
            "text/plain": [
              "str"
            ]
          },
          "metadata": {
            "tags": []
          },
          "execution_count": 49
        }
      ]
    },
    {
      "cell_type": "code",
      "metadata": {
        "id": "BuuTpdNxdl0n",
        "colab": {
          "base_uri": "https://localhost:8080/",
          "height": 34
        },
        "outputId": "ae15d0ee-1c37-4f27-a2a5-814c7a958c55"
      },
      "source": [
        "print(\"Hello\" )"
      ],
      "execution_count": null,
      "outputs": [
        {
          "output_type": "stream",
          "text": [
            "Hello\n"
          ],
          "name": "stdout"
        }
      ]
    },
    {
      "cell_type": "code",
      "metadata": {
        "id": "PcYAG_shdl0q",
        "colab": {
          "base_uri": "https://localhost:8080/",
          "height": 51
        },
        "outputId": "0ae5a0a1-0f9d-4853-8197-12059194710b"
      },
      "source": [
        "print(\"This is 'an example' of the use of quotes and double quotes\")\n",
        "print('This is \"another example\" of the use of quotes and double quotes')"
      ],
      "execution_count": null,
      "outputs": [
        {
          "output_type": "stream",
          "text": [
            "This is 'an example' of the use of quotes and double quotes\n",
            "This is \"another example\" of the use of quotes and double quotes\n"
          ],
          "name": "stdout"
        }
      ]
    },
    {
      "cell_type": "markdown",
      "metadata": {
        "id": "9feOHF_7dl0t"
      },
      "source": [
        "We can use the operator ``+`` to concatenate strings:"
      ]
    },
    {
      "cell_type": "code",
      "metadata": {
        "id": "xa6Fxee1dl0u",
        "colab": {
          "base_uri": "https://localhost:8080/",
          "height": 34
        },
        "outputId": "3a196cea-9010-4c7a-8b72-70e9de9f9828"
      },
      "source": [
        "a = 'He'\n",
        "b = 'llo'\n",
        "c = a+b+'!'\n",
        "print(c)"
      ],
      "execution_count": null,
      "outputs": [
        {
          "output_type": "stream",
          "text": [
            "Hello!\n"
          ],
          "name": "stdout"
        }
      ]
    },
    {
      "cell_type": "markdown",
      "metadata": {
        "id": "CvheOJr5dl0w"
      },
      "source": [
        "Substrings within a string can be accessed using **slicing**. Slicing uses ``[]`` to contain the indices of the characters in a string, where the first index is $0$, and the last is $n - 1$ (assuming the string has $n$ characters). "
      ]
    },
    {
      "cell_type": "code",
      "metadata": {
        "id": "ZUGDNOrcdl0x",
        "colab": {
          "base_uri": "https://localhost:8080/",
          "height": 34
        },
        "outputId": "97917b26-5c36-4856-c16f-df6f4e559730"
      },
      "source": [
        "a = 'Python'\n",
        "print(a[:], a[0], a[2:], a[:3], a[2:4], a[::2], a[1::2])"
      ],
      "execution_count": null,
      "outputs": [
        {
          "output_type": "stream",
          "text": [
            "Python P thon Pyt th Pto yhn\n"
          ],
          "name": "stdout"
        }
      ]
    },
    {
      "cell_type": "markdown",
      "metadata": {
        "id": "obz2lGTYdl0z"
      },
      "source": [
        "You can insert the value of a certain variable in a string by using the format option of the pring function:"
      ]
    },
    {
      "cell_type": "code",
      "metadata": {
        "id": "epNqAdhQdl00",
        "colab": {
          "base_uri": "https://localhost:8080/",
          "height": 34
        },
        "outputId": "690330e8-eaac-476c-d728-4ba2d8810ae9"
      },
      "source": [
        "a= 99.99\n",
        "print('The value that takes variable a is {}'.format(a))"
      ],
      "execution_count": null,
      "outputs": [
        {
          "output_type": "stream",
          "text": [
            "The value that takes variable a is 99.99\n"
          ],
          "name": "stdout"
        }
      ]
    },
    {
      "cell_type": "markdown",
      "metadata": {
        "id": "6e-Vxrzzdl1D"
      },
      "source": [
        "### Conditionals\n",
        "\n",
        "The conditional structure in Python is **<code>If</code>**. It is usally combined with \n",
        "relational operators: <code> <, <=, ==, >=, >, != </code>."
      ]
    },
    {
      "cell_type": "code",
      "metadata": {
        "id": "Y5fqy2dedl1D",
        "colab": {
          "base_uri": "https://localhost:8080/",
          "height": 51
        },
        "outputId": "849df34f-c6a3-4a78-9143-5b3c16398302"
      },
      "source": [
        "def main(celsius):\n",
        "    fahrenheit = 9.0 /5.0 * celsius + 32\n",
        "    print(\"The temperature in Fahrenheit is\", fahrenheit)\n",
        "    if fahrenheit > 90:\n",
        "        print(\"It's really hot out there.\")\n",
        "    elif fahrenheit < 30:\n",
        "        print(\"It's really cold out there.\")\n",
        "    else: pass\n",
        "        \n",
        "main(35)"
      ],
      "execution_count": null,
      "outputs": [
        {
          "output_type": "stream",
          "text": [
            "The temperature in Fahrenheit is 95.0\n",
            "It's really hot out there.\n"
          ],
          "name": "stdout"
        }
      ]
    },
    {
      "cell_type": "markdown",
      "metadata": {
        "id": "PW0iTamsdl1G"
      },
      "source": [
        "### Boolean operators."
      ]
    },
    {
      "cell_type": "code",
      "metadata": {
        "id": "uRpyFtV7dl1H",
        "colab": {
          "base_uri": "https://localhost:8080/",
          "height": 34
        },
        "outputId": "ef8611b0-dd65-472a-a6a5-6fbde0cc84a9"
      },
      "source": [
        "a = 4\n",
        "b = 40\n",
        "(a>2) and (b>30)"
      ],
      "execution_count": null,
      "outputs": [
        {
          "output_type": "execute_result",
          "data": {
            "text/plain": [
              "True"
            ]
          },
          "metadata": {
            "tags": []
          },
          "execution_count": 57
        }
      ]
    },
    {
      "cell_type": "code",
      "metadata": {
        "id": "HNhep7HDdl1K",
        "colab": {
          "base_uri": "https://localhost:8080/",
          "height": 34
        },
        "outputId": "6fc7ad48-c5fb-4089-86a6-910928f07480"
      },
      "source": [
        "(a>5) or (b>100)"
      ],
      "execution_count": null,
      "outputs": [
        {
          "output_type": "execute_result",
          "data": {
            "text/plain": [
              "False"
            ]
          },
          "metadata": {
            "tags": []
          },
          "execution_count": 59
        }
      ]
    },
    {
      "cell_type": "code",
      "metadata": {
        "id": "a9TwBxbUdl1N",
        "colab": {
          "base_uri": "https://localhost:8080/",
          "height": 34
        },
        "outputId": "a2244b95-d17f-4f46-f165-b8a10e157121"
      },
      "source": [
        "not(a>2)"
      ],
      "execution_count": null,
      "outputs": [
        {
          "output_type": "execute_result",
          "data": {
            "text/plain": [
              "False"
            ]
          },
          "metadata": {
            "tags": []
          },
          "execution_count": 60
        }
      ]
    },
    {
      "cell_type": "markdown",
      "metadata": {
        "id": "eo_OaRT9dl1P"
      },
      "source": [
        "### Loops\n",
        "\n",
        "* For\n",
        "* While"
      ]
    },
    {
      "cell_type": "code",
      "metadata": {
        "id": "lG401eY0dl1Q",
        "colab": {
          "base_uri": "https://localhost:8080/",
          "height": 187
        },
        "outputId": "5de2fba6-1e20-4578-b2e1-d5a513b86345"
      },
      "source": [
        "for i in range(0,10,1):\n",
        "    print(i)"
      ],
      "execution_count": null,
      "outputs": [
        {
          "output_type": "stream",
          "text": [
            "0\n",
            "1\n",
            "2\n",
            "3\n",
            "4\n",
            "5\n",
            "6\n",
            "7\n",
            "8\n",
            "9\n"
          ],
          "name": "stdout"
        }
      ]
    },
    {
      "cell_type": "code",
      "metadata": {
        "id": "sQEXRcBkdl1T",
        "colab": {
          "base_uri": "https://localhost:8080/",
          "height": 187
        },
        "outputId": "ca0d2546-89ce-4537-bf25-b9a0d6ffb35d"
      },
      "source": [
        "i=0\n",
        "while i < 10 :\n",
        "    print(i)\n",
        "    i= i+1"
      ],
      "execution_count": null,
      "outputs": [
        {
          "output_type": "stream",
          "text": [
            "0\n",
            "1\n",
            "2\n",
            "3\n",
            "4\n",
            "5\n",
            "6\n",
            "7\n",
            "8\n",
            "9\n"
          ],
          "name": "stdout"
        }
      ]
    },
    {
      "cell_type": "code",
      "metadata": {
        "id": "rDZ_2Q0VmyKc",
        "colab": {
          "base_uri": "https://localhost:8080/",
          "height": 68
        },
        "outputId": "9b840d05-d816-4cd9-d80c-06e828a51c82"
      },
      "source": [
        "vector = [\"hola\",\"buenos\",\"dias\"]\n",
        "for palabra in vector:\n",
        "    print (palabra)"
      ],
      "execution_count": null,
      "outputs": [
        {
          "output_type": "stream",
          "text": [
            "hola\n",
            "buenos\n",
            "dias\n"
          ],
          "name": "stdout"
        }
      ]
    },
    {
      "cell_type": "markdown",
      "metadata": {
        "id": "iFd3WsLCdl1W"
      },
      "source": [
        "**``If``** statesments can be combined with **loops** (``for``, ``while``):"
      ]
    },
    {
      "cell_type": "code",
      "metadata": {
        "id": "n9SKr5cJdl1W",
        "colab": {
          "base_uri": "https://localhost:8080/",
          "height": 34
        },
        "outputId": "904b447e-ed87-47ab-a926-221d469b39b1"
      },
      "source": [
        "numbers = [-5, 3,2,-1,9,6]\n",
        "total = 0\n",
        "\n",
        "for n in numbers:\n",
        "    if n >= 0:\n",
        "        total += n\n",
        "\n",
        "print(total)"
      ],
      "execution_count": null,
      "outputs": [
        {
          "output_type": "stream",
          "text": [
            "20\n"
          ],
          "name": "stdout"
        }
      ]
    },
    {
      "cell_type": "code",
      "metadata": {
        "id": "qhBRt_qsdl1Z",
        "colab": {
          "base_uri": "https://localhost:8080/",
          "height": 34
        },
        "outputId": "7e204411-0d94-4609-a66d-4c023fa31588"
      },
      "source": [
        "def average(a):\n",
        "    sum = 0.0\n",
        "    for i in a:\n",
        "        sum = sum + i\n",
        "    return sum/len(a)\n",
        "\n",
        "average([1,2,3,4])"
      ],
      "execution_count": null,
      "outputs": [
        {
          "output_type": "execute_result",
          "data": {
            "text/plain": [
              "2.5"
            ]
          },
          "metadata": {
            "tags": []
          },
          "execution_count": 66
        }
      ]
    },
    {
      "cell_type": "code",
      "metadata": {
        "id": "gPNB-o1mdl1g",
        "colab": {
          "base_uri": "https://localhost:8080/",
          "height": 34
        },
        "outputId": "b222bfc3-ba15-4bfb-e60a-2002aa20f0e9"
      },
      "source": [
        "def main(n):\n",
        "    cont = 0\n",
        "    while (int(n) > 0):\n",
        "        cont += 1\n",
        "        n = n/2\n",
        "#        print n\n",
        "    return cont-1\n",
        "\n",
        "main(10)\n",
        "# main(10.3)"
      ],
      "execution_count": null,
      "outputs": [
        {
          "output_type": "execute_result",
          "data": {
            "text/plain": [
              "3"
            ]
          },
          "metadata": {
            "tags": []
          },
          "execution_count": 67
        }
      ]
    },
    {
      "cell_type": "markdown",
      "metadata": {
        "id": "KIi5dP-2dl1m"
      },
      "source": [
        "## Data types\n",
        "\n",
        "We need to represent data collections: words in a text, students in a course, experimental data, etc., or to store intermediate results. The most simple data collection is the <code>list</code> (an ordered sequence of objects):"
      ]
    },
    {
      "cell_type": "markdown",
      "metadata": {
        "id": "DYElyXbBnfA6"
      },
      "source": [
        "### Numpy Arrays\n",
        "\n",
        "In data analysis and machine learning, numerical data is often stored in a multidimensional matrix. It is convenient to manage numerical arayys with numpy:"
      ]
    },
    {
      "cell_type": "code",
      "metadata": {
        "id": "TF9RrQImxukh",
        "colab": {
          "base_uri": "https://localhost:8080/",
          "height": 68
        },
        "outputId": "a20cc2c5-ad20-4105-d7ff-5e27605f19d6"
      },
      "source": [
        "x = np.array([[0, 1], [1, 1], [2, 2]])\n",
        "x"
      ],
      "execution_count": null,
      "outputs": [
        {
          "output_type": "execute_result",
          "data": {
            "text/plain": [
              "array([[0, 1],\n",
              "       [1, 1],\n",
              "       [2, 2]])"
            ]
          },
          "metadata": {
            "tags": []
          },
          "execution_count": 68
        }
      ]
    },
    {
      "cell_type": "markdown",
      "metadata": {
        "id": "YLPeJ-oGx1X5"
      },
      "source": [
        "Check the size (rows, columns):"
      ]
    },
    {
      "cell_type": "code",
      "metadata": {
        "id": "ez5V-ZpmxyD3",
        "colab": {
          "base_uri": "https://localhost:8080/",
          "height": 34
        },
        "outputId": "57363ebf-0ed1-4d1e-9677-477355bebc09"
      },
      "source": [
        "x.shape"
      ],
      "execution_count": null,
      "outputs": [
        {
          "output_type": "execute_result",
          "data": {
            "text/plain": [
              "(3, 2)"
            ]
          },
          "metadata": {
            "tags": []
          },
          "execution_count": 71
        }
      ]
    },
    {
      "cell_type": "code",
      "metadata": {
        "id": "ZWNAZF2AnkWF",
        "colab": {
          "base_uri": "https://localhost:8080/",
          "height": 561
        },
        "outputId": "7cd396d8-7657-438c-f8f8-0598c63638cb"
      },
      "source": [
        "import numpy as np\n",
        "\n",
        "x = np.array([[0, 1], [1, 1], [2, 2]])\n",
        "\n",
        "print(\"The matrix {}\".format(x))\n",
        "print(\"Alternate take: The Matrix = \" + str(x))\n",
        "\n",
        "print(\"Shape {}\".format(x.shape))\n",
        "\n",
        "print(\"Element at Row 0, column 0: {}\".format(x[0,0]))\n",
        "\n",
        "print(\"Selects the first column of the matrix {}\".format(x[:,0]))\n",
        "\n",
        "print(\"Selects the first row {}\".format(x[0,:]))\n",
        "\n",
        "print(\"Transposes the matrix {}\".format(x.transpose()))\n",
        "\n",
        "idx = np.where(x <= 1)\n",
        "print('indicates position that fulfills condition: {}'.format(idx))\n",
        "\n",
        "y = np.linspace(0,2,100)\n",
        "\n",
        "print(y.shape)\n",
        "print(y[-1])\n",
        "print(y.T)"
      ],
      "execution_count": null,
      "outputs": [
        {
          "output_type": "stream",
          "text": [
            "The matrix [[0 1]\n",
            " [1 1]\n",
            " [2 2]]\n",
            "Alternate take: The Matrix = [[0 1]\n",
            " [1 1]\n",
            " [2 2]]\n",
            "Shape (3, 2)\n",
            "Element at Row 0, column 0: 0\n",
            "Selects the first column of the matrix [0 1 2]\n",
            "Selects the first row [0 1]\n",
            "Transposes the matrix [[0 1 2]\n",
            " [1 1 2]]\n",
            "indicates position that fulfills condition: (array([0, 0, 1, 1]), array([0, 1, 0, 1]))\n",
            "(100,)\n",
            "2.0\n",
            "[0.         0.02020202 0.04040404 0.06060606 0.08080808 0.1010101\n",
            " 0.12121212 0.14141414 0.16161616 0.18181818 0.2020202  0.22222222\n",
            " 0.24242424 0.26262626 0.28282828 0.3030303  0.32323232 0.34343434\n",
            " 0.36363636 0.38383838 0.4040404  0.42424242 0.44444444 0.46464646\n",
            " 0.48484848 0.50505051 0.52525253 0.54545455 0.56565657 0.58585859\n",
            " 0.60606061 0.62626263 0.64646465 0.66666667 0.68686869 0.70707071\n",
            " 0.72727273 0.74747475 0.76767677 0.78787879 0.80808081 0.82828283\n",
            " 0.84848485 0.86868687 0.88888889 0.90909091 0.92929293 0.94949495\n",
            " 0.96969697 0.98989899 1.01010101 1.03030303 1.05050505 1.07070707\n",
            " 1.09090909 1.11111111 1.13131313 1.15151515 1.17171717 1.19191919\n",
            " 1.21212121 1.23232323 1.25252525 1.27272727 1.29292929 1.31313131\n",
            " 1.33333333 1.35353535 1.37373737 1.39393939 1.41414141 1.43434343\n",
            " 1.45454545 1.47474747 1.49494949 1.51515152 1.53535354 1.55555556\n",
            " 1.57575758 1.5959596  1.61616162 1.63636364 1.65656566 1.67676768\n",
            " 1.6969697  1.71717172 1.73737374 1.75757576 1.77777778 1.7979798\n",
            " 1.81818182 1.83838384 1.85858586 1.87878788 1.8989899  1.91919192\n",
            " 1.93939394 1.95959596 1.97979798 2.        ]\n"
          ],
          "name": "stdout"
        }
      ]
    },
    {
      "cell_type": "markdown",
      "metadata": {
        "id": "82uIl2t7dl1m"
      },
      "source": [
        "### Lists\n",
        "\n",
        "Lists are a built-in data type which require other data types to be useful. A list is a collection of other objects – floats, integers, complex numbers, strings or even other lists.\n",
        "\n",
        "Lists also support slicing to retrieve one or more elements. Basic lists are constructed using square braces, ``[]``, and values are separated using\n",
        "commas."
      ]
    },
    {
      "cell_type": "code",
      "metadata": {
        "id": "-Q9VNraudl1o",
        "colab": {
          "base_uri": "https://localhost:8080/",
          "height": 34
        },
        "outputId": "7cd5b8c3-ee20-4f52-aada-56386416cc5d"
      },
      "source": [
        "l=[]\n",
        "type(l)"
      ],
      "execution_count": null,
      "outputs": [
        {
          "output_type": "execute_result",
          "data": {
            "text/plain": [
              "list"
            ]
          },
          "metadata": {
            "tags": []
          },
          "execution_count": 73
        }
      ]
    },
    {
      "cell_type": "code",
      "metadata": {
        "id": "_OzO02sYdl1u",
        "colab": {
          "base_uri": "https://localhost:8080/",
          "height": 34
        },
        "outputId": "243e27e8-9ce3-45ed-bbbf-481fe056ea05"
      },
      "source": [
        "x=[1,2,3,4,[1,2,3,4],'jordi']\n",
        "print(x[4:], x[0], x[5])"
      ],
      "execution_count": null,
      "outputs": [
        {
          "output_type": "stream",
          "text": [
            "[[1, 2, 3, 4], 'jordi'] 1 jordi\n"
          ],
          "name": "stdout"
        }
      ]
    },
    {
      "cell_type": "code",
      "metadata": {
        "id": "-JzXl0ZvywVJ",
        "colab": {
          "base_uri": "https://localhost:8080/",
          "height": 34
        },
        "outputId": "34459d70-ad95-44a2-cdd7-f3b8b232fef9"
      },
      "source": [
        "x"
      ],
      "execution_count": null,
      "outputs": [
        {
          "output_type": "execute_result",
          "data": {
            "text/plain": [
              "[1, 2, 3, 4, [1, 2, 3, 4], 'jordi']"
            ]
          },
          "metadata": {
            "tags": []
          },
          "execution_count": 75
        }
      ]
    },
    {
      "cell_type": "code",
      "metadata": {
        "id": "AAzOnQPgdl12",
        "colab": {
          "base_uri": "https://localhost:8080/",
          "height": 34
        },
        "outputId": "4fb71b9a-8b79-4e72-a099-a130a18dab28"
      },
      "source": [
        "x[-2:]  # The stride can also be negative which can be used to select the\n",
        "        # elements of a list in reverse order."
      ],
      "execution_count": null,
      "outputs": [
        {
          "output_type": "execute_result",
          "data": {
            "text/plain": [
              "[[1, 2, 3, 4], 'jordi']"
            ]
          },
          "metadata": {
            "tags": []
          },
          "execution_count": 64
        }
      ]
    },
    {
      "cell_type": "markdown",
      "metadata": {
        "id": "wPN_SILEdl15"
      },
      "source": [
        "Lists can be multidimensional and slicing can be done directly in higher dimensions:"
      ]
    },
    {
      "cell_type": "code",
      "metadata": {
        "id": "sCMAyFC5dl15",
        "colab": {
          "base_uri": "https://localhost:8080/",
          "height": 34
        },
        "outputId": "cb6d69a7-f91c-4158-bd08-9796c34ca97e"
      },
      "source": [
        "x = [[1,2,3,4], [5,6,7,8]]\n",
        "print(x[0], x[1][3])"
      ],
      "execution_count": null,
      "outputs": [
        {
          "output_type": "stream",
          "text": [
            "[1, 2, 3, 4] 8\n"
          ],
          "name": "stdout"
        }
      ]
    },
    {
      "cell_type": "code",
      "metadata": {
        "id": "phORa37Wdl1-",
        "colab": {
          "base_uri": "https://localhost:8080/",
          "height": 34
        },
        "outputId": "1f2a453e-7820-4bed-bad9-7f99bd18fb2c"
      },
      "source": [
        "\n",
        "list(range(10))\n"
      ],
      "execution_count": null,
      "outputs": [
        {
          "output_type": "execute_result",
          "data": {
            "text/plain": [
              "[0, 1, 2, 3, 4, 5, 6, 7, 8, 9]"
            ]
          },
          "metadata": {
            "tags": []
          },
          "execution_count": 77
        }
      ]
    },
    {
      "cell_type": "code",
      "metadata": {
        "id": "dN-CvT01dl2B",
        "colab": {
          "base_uri": "https://localhost:8080/",
          "height": 34
        },
        "outputId": "e37c5d70-ff1d-4e5e-c541-c2e0e432ed4c"
      },
      "source": [
        "b = \"This is an example\".split()\n",
        "print(b)"
      ],
      "execution_count": null,
      "outputs": [
        {
          "output_type": "stream",
          "text": [
            "['This', 'is', 'an', 'example']\n"
          ],
          "name": "stdout"
        }
      ]
    },
    {
      "cell_type": "markdown",
      "metadata": {
        "id": "BrfrWqpXdl2E"
      },
      "source": [
        "A list is an *ordered, mutable and dynamic* collection of *non-homogeneous* objects:"
      ]
    },
    {
      "cell_type": "code",
      "metadata": {
        "id": "-pBHylUTdl2E",
        "colab": {
          "base_uri": "https://localhost:8080/",
          "height": 34
        },
        "outputId": "93eb9318-e0cd-4b6b-befd-9f17fd8116ed"
      },
      "source": [
        "a = [1,2,3,4]\n",
        "a[1] = 7\n",
        "print(a)"
      ],
      "execution_count": null,
      "outputs": [
        {
          "output_type": "stream",
          "text": [
            "[1, 7, 3, 4]\n"
          ],
          "name": "stdout"
        }
      ]
    },
    {
      "cell_type": "code",
      "metadata": {
        "id": "c7x6vSVfdl2J",
        "colab": {
          "base_uri": "https://localhost:8080/",
          "height": 34
        },
        "outputId": "3549d683-8ccb-4cd3-ceb7-55f94abc1818"
      },
      "source": [
        "c = a + b\n",
        "print(c)"
      ],
      "execution_count": null,
      "outputs": [
        {
          "output_type": "stream",
          "text": [
            "[1, 7, 3, 4, 'This', 'is', 'an', 'example']\n"
          ],
          "name": "stdout"
        }
      ]
    },
    {
      "cell_type": "code",
      "metadata": {
        "id": "qU1TP1OMdl2N",
        "colab": {
          "base_uri": "https://localhost:8080/",
          "height": 34
        },
        "outputId": "d5d62d56-2be5-42a1-c65a-f078d6451aa4"
      },
      "source": [
        "zeroes = [0] * 10\n",
        "del zeroes[5:]\n",
        "print(zeroes)"
      ],
      "execution_count": null,
      "outputs": [
        {
          "output_type": "stream",
          "text": [
            "[0, 0, 0, 0, 0]\n"
          ],
          "name": "stdout"
        }
      ]
    },
    {
      "cell_type": "code",
      "metadata": {
        "id": "QSCKkt5ndl2P",
        "colab": {
          "base_uri": "https://localhost:8080/",
          "height": 34
        },
        "outputId": "c8b4ae97-2344-4bee-cfdd-4ab9c8635d85"
      },
      "source": [
        "zeroes.append(1)\n",
        "print(zeroes)"
      ],
      "execution_count": null,
      "outputs": [
        {
          "output_type": "stream",
          "text": [
            "[0, 0, 0, 0, 0, 1]\n"
          ],
          "name": "stdout"
        }
      ]
    },
    {
      "cell_type": "code",
      "metadata": {
        "id": "SoE5M_zndl2W",
        "colab": {
          "base_uri": "https://localhost:8080/",
          "height": 34
        },
        "outputId": "eabea3b3-7ce3-4614-d745-eae661381a4d"
      },
      "source": [
        "zeroes.remove(1)\n",
        "print(zeroes)"
      ],
      "execution_count": null,
      "outputs": [
        {
          "output_type": "stream",
          "text": [
            "[0, 0, 0, 0, 0]\n"
          ],
          "name": "stdout"
        }
      ]
    },
    {
      "cell_type": "code",
      "metadata": {
        "id": "saTLOV5Ddl2Y",
        "colab": {
          "base_uri": "https://localhost:8080/",
          "height": 34
        },
        "outputId": "49c979f7-ff62-4924-da3a-40cf7b22126c"
      },
      "source": [
        "if 1 in zeroes:\n",
        "    print(False)\n",
        "else: \n",
        "    print(True)"
      ],
      "execution_count": null,
      "outputs": [
        {
          "output_type": "stream",
          "text": [
            "True\n"
          ],
          "name": "stdout"
        }
      ]
    },
    {
      "cell_type": "markdown",
      "metadata": {
        "id": "nYuo1DJ3dl2b"
      },
      "source": [
        "### Dictionaries\n",
        "\n",
        "A dictionary is a collection that allows the access of an *element* by using a *key*:"
      ]
    },
    {
      "cell_type": "code",
      "metadata": {
        "id": "2oMQBLs0dl2c",
        "colab": {
          "base_uri": "https://localhost:8080/",
          "height": 35
        },
        "outputId": "7fac1c20-61d4-4c80-a78f-8b445b9f0ca7"
      },
      "source": [
        "dict = {\"d\": \"D\", \"b\":\"B\", \"c\":\"C\"}\n",
        "dict[\"d\"]"
      ],
      "execution_count": null,
      "outputs": [
        {
          "output_type": "execute_result",
          "data": {
            "application/vnd.google.colaboratory.intrinsic+json": {
              "type": "string"
            },
            "text/plain": [
              "'D'"
            ]
          },
          "metadata": {
            "tags": []
          },
          "execution_count": 85
        }
      ]
    },
    {
      "cell_type": "markdown",
      "metadata": {
        "id": "JfQZxTyZdl2h"
      },
      "source": [
        "Dictionaries are *mutable, dynamic* and *unordered*:"
      ]
    },
    {
      "cell_type": "code",
      "metadata": {
        "id": "VW2jxJiadl2i",
        "colab": {
          "base_uri": "https://localhost:8080/",
          "height": 34
        },
        "outputId": "aba4ca67-c74c-4de8-dfb7-ca978aaddf07"
      },
      "source": [
        "dict[\"a\"]=\"A\"\n",
        "dict"
      ],
      "execution_count": null,
      "outputs": [
        {
          "output_type": "execute_result",
          "data": {
            "text/plain": [
              "{'a': 'A', 'b': 'B', 'c': 'C', 'd': 'D'}"
            ]
          },
          "metadata": {
            "tags": []
          },
          "execution_count": 86
        }
      ]
    },
    {
      "cell_type": "code",
      "metadata": {
        "id": "iOrw7F9Tdl2n",
        "colab": {
          "base_uri": "https://localhost:8080/",
          "height": 34
        },
        "outputId": "2981e3ad-e148-4482-d4f5-4e0a1fea0977"
      },
      "source": [
        "\"a\" in dict"
      ],
      "execution_count": null,
      "outputs": [
        {
          "output_type": "execute_result",
          "data": {
            "text/plain": [
              "True"
            ]
          },
          "metadata": {
            "tags": []
          },
          "execution_count": 76
        }
      ]
    },
    {
      "cell_type": "code",
      "metadata": {
        "id": "NKvwmXyUdl2r",
        "colab": {
          "base_uri": "https://localhost:8080/",
          "height": 34
        },
        "outputId": "a1a6389a-9a05-4884-88df-0a136c7d1ca4"
      },
      "source": [
        "del dict[\"a\"]\n",
        "print(dict)"
      ],
      "execution_count": null,
      "outputs": [
        {
          "output_type": "stream",
          "text": [
            "{'d': 'D', 'b': 'B', 'c': 'C'}\n"
          ],
          "name": "stdout"
        }
      ]
    },
    {
      "cell_type": "code",
      "metadata": {
        "id": "fO9uRKbndl2t",
        "colab": {
          "base_uri": "https://localhost:8080/",
          "height": 34
        },
        "outputId": "53eb837f-3551-4abb-eb62-2e3bfd26410a"
      },
      "source": [
        "dict = {\"d\": \"D\", \"b\":\"B\", \"c\":\"C\"}\n",
        "dict.items()"
      ],
      "execution_count": null,
      "outputs": [
        {
          "output_type": "execute_result",
          "data": {
            "text/plain": [
              "dict_items([('d', 'D'), ('b', 'B'), ('c', 'C')])"
            ]
          },
          "metadata": {
            "tags": []
          },
          "execution_count": 78
        }
      ]
    },
    {
      "cell_type": "markdown",
      "metadata": {
        "id": "I8CrKFMVdl2w"
      },
      "source": [
        "### Tuples\n",
        "\n",
        "Tuples are **non-mutable** lists:"
      ]
    },
    {
      "cell_type": "code",
      "metadata": {
        "id": "i8enwS1Fdl2x",
        "colab": {
          "base_uri": "https://localhost:8080/",
          "height": 34
        },
        "outputId": "9b796e39-e783-4b71-b133-374ce424ff4a"
      },
      "source": [
        "tup = ('a', 'b', 'c')\n",
        "print(type(tup), tup[1:3])"
      ],
      "execution_count": null,
      "outputs": [
        {
          "output_type": "stream",
          "text": [
            "<class 'tuple'> ('b', 'c')\n"
          ],
          "name": "stdout"
        }
      ]
    },
    {
      "cell_type": "code",
      "metadata": {
        "id": "l0JS42xCdl2z",
        "colab": {
          "base_uri": "https://localhost:8080/",
          "height": 164
        },
        "outputId": "2bbea78c-bc6a-4f10-f5d1-d9b39e4a92c6"
      },
      "source": [
        "tup[0]='d'"
      ],
      "execution_count": null,
      "outputs": [
        {
          "output_type": "error",
          "ename": "TypeError",
          "evalue": "ignored",
          "traceback": [
            "\u001b[0;31m---------------------------------------------------------------------------\u001b[0m",
            "\u001b[0;31mTypeError\u001b[0m                                 Traceback (most recent call last)",
            "\u001b[0;32m<ipython-input-88-e43c22bd0fba>\u001b[0m in \u001b[0;36m<module>\u001b[0;34m()\u001b[0m\n\u001b[0;32m----> 1\u001b[0;31m \u001b[0mtup\u001b[0m\u001b[0;34m[\u001b[0m\u001b[0;36m0\u001b[0m\u001b[0;34m]\u001b[0m\u001b[0;34m=\u001b[0m\u001b[0;34m'd'\u001b[0m\u001b[0;34m\u001b[0m\u001b[0;34m\u001b[0m\u001b[0m\n\u001b[0m",
            "\u001b[0;31mTypeError\u001b[0m: 'tuple' object does not support item assignment"
          ]
        }
      ]
    },
    {
      "cell_type": "markdown",
      "metadata": {
        "id": "Liz1Twcadl23"
      },
      "source": [
        "## A program in Python\n",
        "\n",
        "General Rules:\n",
        "\n",
        "+ All text from a <code>#</code> simbol to the end of a line are considered as comments.\n",
        "+ Code must be **indented** and sometimes delineated by colons. The Python standard for indentation is four spaces. Never use tabs: it can produce hard to find errors. Set you editor to convert tabs to spaces.\n",
        "+ Typically, a statement must be on a line. You can use a backslash <code>\\</code> at the end of a line to continue a statement on to the next line.\n"
      ]
    },
    {
      "cell_type": "code",
      "metadata": {
        "id": "En5-bYq6dl24",
        "colab": {
          "base_uri": "https://localhost:8080/",
          "height": 54
        },
        "outputId": "05b7ed41-e828-40ff-9e5d-0ca0f4791e5d"
      },
      "source": [
        "# This program computes the factorial of 100.\n",
        "\n",
        "fact = 1\n",
        "n= 100\n",
        "for factor in range(n,0,-1):\n",
        "    fact = fact * factor \n",
        "print(fact)    "
      ],
      "execution_count": null,
      "outputs": [
        {
          "output_type": "stream",
          "text": [
            "93326215443944152681699238856266700490715968264381621468592963895217599993229915608941463976156518286253697920827223758251185210916864000000000000000000000000\n"
          ],
          "name": "stdout"
        }
      ]
    },
    {
      "cell_type": "code",
      "metadata": {
        "id": "Lf8_x0Hudl27",
        "colab": {
          "base_uri": "https://localhost:8080/",
          "height": 34
        },
        "outputId": "9cd2c0b1-5be9-40b5-ec0d-44ef8381e88b"
      },
      "source": [
        "list(range(10,0,-1))"
      ],
      "execution_count": null,
      "outputs": [
        {
          "output_type": "execute_result",
          "data": {
            "text/plain": [
              "[10, 9, 8, 7, 6, 5, 4, 3, 2, 1]"
            ]
          },
          "metadata": {
            "tags": []
          },
          "execution_count": 90
        }
      ]
    },
    {
      "cell_type": "markdown",
      "metadata": {
        "id": "Q5OyZdVVdl2_"
      },
      "source": [
        "<div class=\"alert alert-error\"> When we write a colon at the end of an iteration, all lines indented at the next level are considered *part* of the iteration. \n",
        "\n",
        "When we write a line at the same indentation as the iteration, we are closing the iteration.</div>"
      ]
    },
    {
      "cell_type": "markdown",
      "metadata": {
        "id": "gMauJicxdl2_"
      },
      "source": [
        "## References\n",
        "\n",
        "We can inspect the reference of an object:"
      ]
    },
    {
      "cell_type": "code",
      "metadata": {
        "id": "7EdCt1i3dl2_",
        "colab": {
          "base_uri": "https://localhost:8080/",
          "height": 34
        },
        "outputId": "ba73b6b8-fcbc-4f06-ec4c-057b16f0ffff"
      },
      "source": [
        "a ='hello'\n",
        "print(id(a))"
      ],
      "execution_count": null,
      "outputs": [
        {
          "output_type": "stream",
          "text": [
            "140150831202744\n"
          ],
          "name": "stdout"
        }
      ]
    },
    {
      "cell_type": "markdown",
      "metadata": {
        "id": "gtZC2ed6dl3C"
      },
      "source": [
        "Two different objects:"
      ]
    },
    {
      "cell_type": "code",
      "metadata": {
        "id": "3SmlgvbDdl3D",
        "colab": {
          "base_uri": "https://localhost:8080/",
          "height": 68
        },
        "outputId": "fe494d05-2ae0-4991-ad1e-d23e038dfb98"
      },
      "source": [
        "a = [1,2,3]\n",
        "b = [1,2,3]\n",
        "print(id(a), id(b))\n",
        "print (a is b)\n",
        "print (a == b)"
      ],
      "execution_count": null,
      "outputs": [
        {
          "output_type": "stream",
          "text": [
            "140150831209544 140150831233480\n",
            "False\n",
            "True\n"
          ],
          "name": "stdout"
        }
      ]
    },
    {
      "cell_type": "markdown",
      "metadata": {
        "id": "uEyyEmG_dl3F"
      },
      "source": [
        "Object alias:"
      ]
    },
    {
      "cell_type": "code",
      "metadata": {
        "id": "BFK72h6qdl3F",
        "colab": {
          "base_uri": "https://localhost:8080/",
          "height": 34
        },
        "outputId": "d2825b9e-ff52-4f5a-8191-f629364f86df"
      },
      "source": [
        "a = [1,2,3]\n",
        "b = a                     # alias\n",
        "print(id(a), id(b))"
      ],
      "execution_count": null,
      "outputs": [
        {
          "output_type": "stream",
          "text": [
            "140150831184648 140150831184648\n"
          ],
          "name": "stdout"
        }
      ]
    },
    {
      "cell_type": "markdown",
      "metadata": {
        "id": "wXHq62Pldl3K"
      },
      "source": [
        "Cloning:"
      ]
    },
    {
      "cell_type": "code",
      "metadata": {
        "id": "fdofGnoZdl3K",
        "colab": {
          "base_uri": "https://localhost:8080/",
          "height": 34
        },
        "outputId": "5cf643f7-1aad-43b3-e00f-0bcc77f79e31"
      },
      "source": [
        "a = [1,2,3]\n",
        "b = a[:]                  # cloning with :\n",
        "\n",
        "print(a, b, b[1:], id(a), id(b), id(b[1:]))"
      ],
      "execution_count": null,
      "outputs": [
        {
          "output_type": "stream",
          "text": [
            "[1, 2, 3] [1, 2, 3] [2, 3] 140150831210376 140150831233480 140150831233416\n"
          ],
          "name": "stdout"
        }
      ]
    },
    {
      "cell_type": "markdown",
      "metadata": {
        "id": "BIooUYwMdl3M"
      },
      "source": [
        "When a list is an argument of a function, we are sending the *reference*, not a *copy*"
      ]
    },
    {
      "cell_type": "markdown",
      "metadata": {
        "id": "85ceL4d3dl3N"
      },
      "source": [
        "## Functions\n",
        "\n",
        "To create a function, use def. "
      ]
    },
    {
      "cell_type": "code",
      "metadata": {
        "id": "_HJVHYTkdl3N",
        "colab": {
          "base_uri": "https://localhost:8080/",
          "height": 34
        },
        "outputId": "c65d00d5-b6bb-415c-97c2-7162ee693f80"
      },
      "source": [
        "def head(list):     #parameters separated by comma\n",
        "    return list[0]  #Identation means inside functions\n",
        "\n",
        "numbers=[1,2,3,4]\n",
        "print(head(numbers), numbers)"
      ],
      "execution_count": null,
      "outputs": [
        {
          "output_type": "stream",
          "text": [
            "1 [1, 2, 3, 4]\n"
          ],
          "name": "stdout"
        }
      ]
    },
    {
      "cell_type": "code",
      "metadata": {
        "id": "lBq_kaUU0Ao_",
        "colab": {
          "base_uri": "https://localhost:8080/",
          "height": 34
        },
        "outputId": "b8c5220d-455b-4f9d-e73c-919b63ed0cf8"
      },
      "source": [
        "head(numbers)"
      ],
      "execution_count": null,
      "outputs": [
        {
          "output_type": "execute_result",
          "data": {
            "text/plain": [
              "1"
            ]
          },
          "metadata": {
            "tags": []
          },
          "execution_count": 95
        }
      ]
    },
    {
      "cell_type": "code",
      "metadata": {
        "id": "aK6N9yAPdl3T"
      },
      "source": [
        "def change_first_element(list):\n",
        "    list[0]=0 #it returns none!\n",
        "\n",
        "numbers=[1,2,3,4]\n",
        "change_first_element(numbers)"
      ],
      "execution_count": null,
      "outputs": []
    },
    {
      "cell_type": "markdown",
      "metadata": {
        "id": "o29U4hNHdl3b"
      },
      "source": [
        "If we return a list we are returning a reference:"
      ]
    },
    {
      "cell_type": "code",
      "metadata": {
        "id": "PjYTIRMJdl3b",
        "colab": {
          "base_uri": "https://localhost:8080/",
          "height": 51
        },
        "outputId": "a91efa3f-1774-4b23-9cdc-cdd439c2719e"
      },
      "source": [
        "def tail(list):\n",
        "    return list[1:]     # we are creating a new list\n",
        "\n",
        "numbers=[1,2,3,4]\n",
        "rest = tail(numbers)\n",
        "print(rest, numbers)\n",
        "print(id(rest), id(numbers))"
      ],
      "execution_count": null,
      "outputs": [
        {
          "output_type": "stream",
          "text": [
            "[2, 3, 4] [1, 2, 3, 4]\n",
            "140201518393736 140201518394696\n"
          ],
          "name": "stdout"
        }
      ]
    },
    {
      "cell_type": "code",
      "metadata": {
        "id": "FPgAfgwwdl3f",
        "colab": {
          "base_uri": "https://localhost:8080/",
          "height": 34
        },
        "outputId": "21a07363-a4d8-431e-91fe-aa6206897c2b"
      },
      "source": [
        "# Press tab\n",
        "numbers.reverse()\n",
        "print(numbers)"
      ],
      "execution_count": null,
      "outputs": [
        {
          "output_type": "stream",
          "text": [
            "[4, 3, 2, 1]\n"
          ],
          "name": "stdout"
        }
      ]
    },
    {
      "cell_type": "markdown",
      "metadata": {
        "id": "EKSnMkiydl3i"
      },
      "source": [
        "Sometimes it is important to perform a *sanity check* about what is doing a pre-defined function:"
      ]
    },
    {
      "cell_type": "code",
      "metadata": {
        "id": "uj3JtoP3dl3i",
        "colab": {
          "base_uri": "https://localhost:8080/",
          "height": 51
        },
        "outputId": "20b65bd9-2f75-4302-b934-c899e2f863b9"
      },
      "source": [
        "numbers=[1,2,3,4]\n",
        "def test(l):\n",
        "    return l.reverse() #Reverse return NONE! \n",
        "print(numbers)\n",
        "print(numbers, test(numbers)) #Reverses changes the list INPLACE if we don't make a copy we will  alter the original numbers "
      ],
      "execution_count": null,
      "outputs": [
        {
          "output_type": "stream",
          "text": [
            "[1, 2, 3, 4]\n",
            "[4, 3, 2, 1] None\n"
          ],
          "name": "stdout"
        }
      ]
    },
    {
      "cell_type": "code",
      "metadata": {
        "id": "HAhIqsiRdl3k",
        "colab": {
          "base_uri": "https://localhost:8080/",
          "height": 51
        },
        "outputId": "2e9ad657-8809-4a15-9cec-c3112be87989"
      },
      "source": [
        "numbers=[1,2,3,4]\n",
        "\n",
        "def test(l):\n",
        "    l.reverse() #Reverse changes the list INPLACE, if we don't make a copy we will  alter the original numbers \n",
        "    return l\n",
        "\n",
        "print(numbers, test(numbers))\n",
        "print(id(numbers), id(test(numbers)))"
      ],
      "execution_count": null,
      "outputs": [
        {
          "output_type": "stream",
          "text": [
            "[4, 3, 2, 1] [4, 3, 2, 1]\n",
            "140201518423048 140201518423048\n"
          ],
          "name": "stdout"
        }
      ]
    },
    {
      "cell_type": "code",
      "metadata": {
        "id": "oCCe6_gRdl3q",
        "colab": {
          "base_uri": "https://localhost:8080/",
          "height": 51
        },
        "outputId": "3b0f6646-8f26-4654-e1c6-49a586c83212"
      },
      "source": [
        "numbers=[1,2,3,4]\n",
        "\n",
        "def test(l):\n",
        "    a=l[:]\n",
        "    l.reverse() #Reverse changes the list INPLACE, if we don't make a copy we will alter the original numbers \n",
        "    return a\n",
        "\n",
        "print(numbers, test(numbers))\n",
        "print(id(numbers), id(test(numbers)))"
      ],
      "execution_count": null,
      "outputs": [
        {
          "output_type": "stream",
          "text": [
            "[4, 3, 2, 1] [1, 2, 3, 4]\n",
            "140150831227400 140150831229192\n"
          ],
          "name": "stdout"
        }
      ]
    },
    {
      "cell_type": "code",
      "metadata": {
        "id": "IrDOLC1qdl3t"
      },
      "source": [
        "?list.reverse"
      ],
      "execution_count": null,
      "outputs": []
    },
    {
      "cell_type": "markdown",
      "metadata": {
        "id": "lPJi6WFtdl3v"
      },
      "source": [
        "## Algorithms in Python \n"
      ]
    },
    {
      "cell_type": "markdown",
      "metadata": {
        "id": "bQWrXm2Pdl3w"
      },
      "source": [
        "#### Factorial\n",
        "\n",
        "The factorial of a non-negative integer $n$, denoted by $n!$, is the product of all positive integers less than or equal to $n$.  "
      ]
    },
    {
      "cell_type": "code",
      "metadata": {
        "id": "os0UmDEhdl3w"
      },
      "source": [
        "def factorial(n):\n",
        "    fact = 1\n",
        "    for factor in range(n,0,-1):\n",
        "        fact = fact * factor\n",
        "    return fact"
      ],
      "execution_count": null,
      "outputs": []
    },
    {
      "cell_type": "code",
      "metadata": {
        "id": "l54RbzYjdl3z",
        "colab": {
          "base_uri": "https://localhost:8080/",
          "height": 54
        },
        "outputId": "a9b73a62-c69f-4282-d52f-69e970ff45d6"
      },
      "source": [
        "factorial(100)"
      ],
      "execution_count": null,
      "outputs": [
        {
          "output_type": "execute_result",
          "data": {
            "text/plain": [
              "93326215443944152681699238856266700490715968264381621468592963895217599993229915608941463976156518286253697920827223758251185210916864000000000000000000000000"
            ]
          },
          "metadata": {
            "tags": []
          },
          "execution_count": 97
        }
      ]
    },
    {
      "cell_type": "markdown",
      "metadata": {
        "id": "9SGA6En5dl34"
      },
      "source": [
        "#### Fibonacci\n",
        "\n",
        "The Fibonacci Sequence is the series of numbers: 0, 1, 1, 2, 3, 5, 8, 13, 21, 34, ...\n",
        "\n",
        "The general rule to compute the sequence is very simple: The next number is found by adding up the two numbers before it."
      ]
    },
    {
      "cell_type": "code",
      "metadata": {
        "id": "pyurlPwldl35",
        "colab": {
          "base_uri": "https://localhost:8080/",
          "height": 34
        },
        "outputId": "1e467cca-2d58-4019-d739-5281922103af"
      },
      "source": [
        "def fib1(n):\n",
        "    if n==1:\n",
        "        return 1\n",
        "    if n==0:\n",
        "        return 0\n",
        "    return fib1(n-1) + fib1(n-2)\n",
        "\n",
        "fib1(20)\n",
        "\n",
        "# this function cannot compute fib(100)"
      ],
      "execution_count": null,
      "outputs": [
        {
          "output_type": "execute_result",
          "data": {
            "text/plain": [
              "6765"
            ]
          },
          "metadata": {
            "tags": []
          },
          "execution_count": 98
        }
      ]
    },
    {
      "cell_type": "code",
      "metadata": {
        "id": "CsOrs_kwdl3_",
        "colab": {
          "base_uri": "https://localhost:8080/",
          "height": 54
        },
        "outputId": "a22a8b7b-7e94-41ca-d30b-d01c301fb89c"
      },
      "source": [
        "def fib2(n):\n",
        "    a, b = 0, 1\n",
        "    for i in range(1,n+1):\n",
        "        a, b = b, a + b\n",
        "    return a\n",
        "\n",
        "n = 1000\n",
        "if n<15:\n",
        "    print(fib1(n))\n",
        "else: \n",
        "    print(fib2(n))"
      ],
      "execution_count": null,
      "outputs": [
        {
          "output_type": "stream",
          "text": [
            "43466557686937456435688527675040625802564660517371780402481729089536555417949051890403879840079255169295922593080322634775209689623239873322471161642996440906533187938298969649928516003704476137795166849228875\n"
          ],
          "name": "stdout"
        }
      ]
    },
    {
      "cell_type": "markdown",
      "metadata": {
        "id": "nfG-Ti8-dl4C"
      },
      "source": [
        "#### Greatest Common Divisor\n",
        "\n",
        "The greatest common divisor of two positive integers $a$ and $b$ is the largest divisor common to $a$ and $b$.  The Euclidean algorithm, or Euclid's algorithm, is an interative method for computing the greatest common divisor of two integers. \n",
        "\n",
        "+ If $a<b$, exchange $a$ and $b$.\n",
        "+ Divide $a$ by $b$ and get the remainder, $r$. If $r=0$, report $b$ as the GCD of $a$ and $b$.\n",
        "+ Replace $a$ by $b$ and replace $b$ by $r$. If $r \\neq 0$ iterate.\n",
        "\n"
      ]
    },
    {
      "cell_type": "code",
      "metadata": {
        "id": "-7-Kqau7dl4C",
        "colab": {
          "base_uri": "https://localhost:8080/",
          "height": 34
        },
        "outputId": "e69f4b7b-ed36-41fa-ea0e-1d78b9d733e5"
      },
      "source": [
        "def gcd(a,b): # Euclides algorithm v1.0: pseudocode translation\n",
        "    r = 1\n",
        "    while r != 0:\n",
        "        if a<b:\n",
        "            c=a\n",
        "            a=b\n",
        "            b=c\n",
        "        r = a%b \n",
        "        if r == 0:\n",
        "            return b\n",
        "        else:\n",
        "            a = b\n",
        "            b = r\n",
        "\n",
        "gcd(100,16)"
      ],
      "execution_count": null,
      "outputs": [
        {
          "output_type": "execute_result",
          "data": {
            "text/plain": [
              "4"
            ]
          },
          "metadata": {
            "tags": []
          },
          "execution_count": 100
        }
      ]
    },
    {
      "cell_type": "code",
      "metadata": {
        "id": "ciuMGegPdl4F",
        "colab": {
          "base_uri": "https://localhost:8080/",
          "height": 34
        },
        "outputId": "6224b461-116e-4ad8-d0d2-59c1195bd0e9"
      },
      "source": [
        "def gcd(a,b):   # Euclides algorithm v2.0: idiomatic Python\n",
        "    while a:\n",
        "        a, b = b%a, a\n",
        "    return b\n",
        "\n",
        "gcd(100,16)"
      ],
      "execution_count": null,
      "outputs": [
        {
          "output_type": "execute_result",
          "data": {
            "text/plain": [
              "4"
            ]
          },
          "metadata": {
            "tags": []
          },
          "execution_count": 101
        }
      ]
    },
    {
      "cell_type": "code",
      "metadata": {
        "id": "Wysiems1dl4G",
        "colab": {
          "base_uri": "https://localhost:8080/",
          "height": 34
        },
        "outputId": "8a8268bd-2a33-49a4-b2b7-97345244982b"
      },
      "source": [
        "a = 0\n",
        "a == False"
      ],
      "execution_count": null,
      "outputs": [
        {
          "output_type": "execute_result",
          "data": {
            "text/plain": [
              "True"
            ]
          },
          "metadata": {
            "tags": []
          },
          "execution_count": 102
        }
      ]
    },
    {
      "cell_type": "markdown",
      "metadata": {
        "id": "peEEHopOqFYb"
      },
      "source": [
        "## Reading and handling data\n",
        "\n",
        "Since we are going to deal with a wide range of data types (text, numerical arrays, images, etc.). \n",
        "\n",
        "When working with google colab, the first thing you need to do is to grant access to the files in your google drive:\n"
      ]
    },
    {
      "cell_type": "code",
      "metadata": {
        "id": "F10XBb-3rvJM",
        "colab": {
          "base_uri": "https://localhost:8080/",
          "height": 54
        },
        "outputId": "3f8ecb5e-51d1-4c4d-aae6-ef6aa27e0970"
      },
      "source": [
        "from google.colab import drive \n",
        "drive.mount('/content/gdrive')"
      ],
      "execution_count": null,
      "outputs": [
        {
          "output_type": "stream",
          "text": [
            "Drive already mounted at /content/gdrive; to attempt to forcibly remount, call drive.mount(\"/content/gdrive\", force_remount=True).\n"
          ],
          "name": "stdout"
        }
      ]
    },
    {
      "cell_type": "markdown",
      "metadata": {
        "id": "8pUjkV6hr6Ww"
      },
      "source": [
        "Once you have access to your google drive, the files are available at the folder /content/gdrive. In order to list the folders in the root your drive use the listdir function from the os library:"
      ]
    },
    {
      "cell_type": "code",
      "metadata": {
        "id": "6Phb-19B0CEx",
        "colab": {
          "base_uri": "https://localhost:8080/",
          "height": 1000
        },
        "outputId": "1b0c9b40-c378-4955-92ca-11adcdc541a9"
      },
      "source": [
        "import os\n",
        "\n",
        "root_folder = '/content/gdrive/My Drive/'\n",
        "\n",
        "for kdirs in os.listdir(root_folder):\n",
        "    if os.path.isdir(os.path.join(root_folder, kdirs)):\n",
        "        print(kdirs)"
      ],
      "execution_count": null,
      "outputs": [
        {
          "output_type": "stream",
          "text": [
            "MEC_Justificacion_2010-2012\n",
            "PRACTIQUES PIBB\n",
            "Practica UOC 2014\n",
            "Raul-Codigo\n",
            "documentacio_ALSTOM\n",
            "docs organitzacio\n",
            "PLANNING COURSE\n",
            "RAUL\n",
            "SGR2017\n",
            "MEC2018\n",
            "IA Avançada\n",
            "COMISSIÓ EXPERTS MÀSTER EEBE\n",
            "PIB_Tardor2017\n",
            "PROPOSTES MASTER EEBE\n",
            "FLL_EEBE\n",
            "Justificaciones_MEC2013\n",
            "NYC_CLAUDIA\n",
            "Colab Notebooks\n",
            "XERRADA_USBrain\n",
            "Viaje Moscu\n",
            "PRML18\n",
            "gestion_SAP\n",
            "SPAOM2018_Granada\n",
            "BECA_BBVA\n",
            "ASTROCITOS_HSJD\n",
            "RADIOLOGY_PATTERNS\n",
            "2018-19\n",
            "x63\n",
            "stats_Marcel_UAB\n",
            "TEXTOS_UOC\n",
            "datosredmitocondrial\n",
            "RyRact_STATS\n",
            "COURSE_IKERLAN\n",
            "Master Automatic Control and Robotics \n",
            "UOC\n",
            "PLANNING-DISCRETE EVENTS-ETSEIB\n",
            "Desktop\n",
            "GESTIÓ\n",
            "DTS_CSIC_HSJD\n",
            "BECA_BSABADELL\n",
            "BIOBANK_HSJD\n",
            "PAPER_MITOCONDRIAS_LISOSOMAS\n",
            "PAPER_MITO_FIBERS\n",
            "PRESENTACIONS_EEBE\n",
            "MOBILITAT_EEBE\n",
            "ARTICULO_PHOTOBLEACHING\n",
            "CONGRES_RADIOLOGIA\n",
            "CONVENI_MITSUBISHI\n",
            "MC_data\n",
            ".ipynb_checkpoints\n",
            "PAPER_MITOS_AZAHARA\n",
            "VISUALITZADOR_PYTHON\n",
            "OPENCV_Examples\n",
            "ECO3D_NEONATS\n",
            "informes_FPI_Xavier\n",
            "EXPERT3D_EITHealth\n",
            "QUALITAT_EEBE\n",
            "NOISE_SPARKS\n",
            "IVAN_PROJECT\n",
            "JORNADA_IA_SALUT\n",
            "KTH_partner days\n",
            "acci2019\n",
            "pyqt_intro\n",
            "Master Interdisciplinary & Innovative\n",
            "COURSE_IA_FIRE\n",
            "PIB_tardor\n",
            "ECUST_double_degree (1)\n",
            "REPORTS_INTERNATIONAL\n",
            "ECUST_double_degree\n",
            "Xerrada_HClinic\n",
            "Talk_HSJD_Neuroscience\n",
            "CMCIB_meeting\n",
            "Master Enginyeria Biomèdica\n",
            "UDG_HEMATO\n",
            "doubleDegree_EcolesCentrales\n",
            "projecte_europeu_ITN\n",
            "California_trip\n",
            "trieni tercer\n",
            "ACCI_CIBERER\n",
            "POSTGRAU_ML\n",
            "MIMETIS_segmentation\n",
            "ENDOSCOPIA_DEEPLEARNING\n",
            "CMCIB_PULMONS\n",
            "MaratoTV3_mitocondriales\n",
            "TesiCarme\n",
            "TORTUOSITY\n",
            "tutorialintroducciapython\n",
            "ControlAvazado\n",
            "koplovitz_vasculomica\n",
            "PAPER_simulation_RyR\n",
            "data_course\n",
            "MEC_ARCHIVE\n",
            "1er_tram_gestió\n",
            "MITO_FIBERS_x63\n",
            "NEUROPAISAJES_python\n",
            "PRESIDENT_PAU_2020\n",
            "xanascat_Norma_2020\n",
            "NEURITAS\n",
            "DAPR sample data\n"
          ],
          "name": "stdout"
        }
      ]
    },
    {
      "cell_type": "markdown",
      "metadata": {
        "id": "dctWz84r0Bb2"
      },
      "source": [
        "If you want to dig into the contents of several folders then use the function walk instead"
      ]
    },
    {
      "cell_type": "code",
      "metadata": {
        "id": "wfB1To3jtIpx"
      },
      "source": [
        "import os\n",
        "\n",
        "for root, dirs, files in os.walk(root_folder, topdown=False):\n",
        "    for name in dirs:\n",
        "        print(os.path.join(root, name))"
      ],
      "execution_count": null,
      "outputs": []
    },
    {
      "cell_type": "markdown",
      "metadata": {
        "id": "QJACcQNMv_gH"
      },
      "source": [
        "### Accessing shared files\n",
        "\n",
        "Download the shared folder DAPR sample data from \n",
        "\n",
        "https://drive.google.com/drive/folders/1zKHhi3ZbhO8lUwtDAOo7qFZJlIVQjqL4?usp=sharing\n",
        "\n",
        "and place it in the root of your google drive:"
      ]
    },
    {
      "cell_type": "markdown",
      "metadata": {
        "id": "3NutJ9-1wRBv"
      },
      "source": [
        "Now read the csv file text.csv:"
      ]
    },
    {
      "cell_type": "code",
      "metadata": {
        "id": "CNXsg_vCwVne",
        "colab": {
          "base_uri": "https://localhost:8080/",
          "height": 170
        },
        "outputId": "35ba03c9-5649-4c73-d2cf-c3bc968e0070"
      },
      "source": [
        "import csv\n",
        "f = open(\"/content/gdrive/My Drive/DAPR sample data/test.csv\", 'r')\n",
        "try:\n",
        "    reader = csv.reader(f)\n",
        "    for row in reader:\n",
        "        print(row)\n",
        "finally:\n",
        "    f.close()"
      ],
      "execution_count": null,
      "outputs": [
        {
          "output_type": "stream",
          "text": [
            "['\\ufeff10;3']\n",
            "['13;10']\n",
            "['16;17']\n",
            "['19;24']\n",
            "['22;31']\n",
            "['25;38']\n",
            "['28;45']\n",
            "['31;52']\n",
            "['34;59']\n"
          ],
          "name": "stdout"
        }
      ]
    },
    {
      "cell_type": "markdown",
      "metadata": {
        "id": "Dn00cwpHxryS"
      },
      "source": [
        "Writing csv files"
      ]
    },
    {
      "cell_type": "code",
      "metadata": {
        "id": "bUvwRECFxub-"
      },
      "source": [
        "import csv\n",
        "\n",
        "ifile  = open(\"/content/gdrive/My Drive/DAPR sample data/test.csv\", 'r')\n",
        "reader = csv.reader(ifile)\n",
        "\n",
        "ofile  = open('/content/gdrive/My Drive/DAPR sample data/test1.csv', \"w\")\n",
        "writer = csv.writer(ofile, delimiter=',', lineterminator='\\n')\n",
        "\n",
        "for row in reader:\n",
        "    writer.writerow(row)\n",
        "\n",
        "ifile.close()\n",
        "ofile.close()"
      ],
      "execution_count": null,
      "outputs": []
    },
    {
      "cell_type": "markdown",
      "metadata": {
        "id": "1b6uVZjvyhNz"
      },
      "source": [
        "### Read excel with Pandas\n",
        "\n",
        "In most cases, we are using the pandas library in order to read data."
      ]
    },
    {
      "cell_type": "code",
      "metadata": {
        "id": "qY4uSBbjyliY",
        "colab": {
          "base_uri": "https://localhost:8080/",
          "height": 235
        },
        "outputId": "b09fbb37-593b-4e8d-84cb-cbaebf0a1e4b"
      },
      "source": [
        "import pandas as pd\n",
        "df = pd.read_excel('/content/gdrive/My Drive/DAPR sample data/test.xlsx', index_col=0,header=2)\n",
        "df.head()"
      ],
      "execution_count": null,
      "outputs": [
        {
          "output_type": "execute_result",
          "data": {
            "text/html": [
              "<div>\n",
              "<style scoped>\n",
              "    .dataframe tbody tr th:only-of-type {\n",
              "        vertical-align: middle;\n",
              "    }\n",
              "\n",
              "    .dataframe tbody tr th {\n",
              "        vertical-align: top;\n",
              "    }\n",
              "\n",
              "    .dataframe thead th {\n",
              "        text-align: right;\n",
              "    }\n",
              "</style>\n",
              "<table border=\"1\" class=\"dataframe\">\n",
              "  <thead>\n",
              "    <tr style=\"text-align: right;\">\n",
              "      <th></th>\n",
              "      <th>Humans</th>\n",
              "      <th>Robots</th>\n",
              "    </tr>\n",
              "    <tr>\n",
              "      <th>Date</th>\n",
              "      <th></th>\n",
              "      <th></th>\n",
              "    </tr>\n",
              "  </thead>\n",
              "  <tbody>\n",
              "    <tr>\n",
              "      <th>2019-03-10</th>\n",
              "      <td>10</td>\n",
              "      <td>3</td>\n",
              "    </tr>\n",
              "    <tr>\n",
              "      <th>2019-03-11</th>\n",
              "      <td>13</td>\n",
              "      <td>10</td>\n",
              "    </tr>\n",
              "    <tr>\n",
              "      <th>2019-03-12</th>\n",
              "      <td>16</td>\n",
              "      <td>17</td>\n",
              "    </tr>\n",
              "    <tr>\n",
              "      <th>2019-03-13</th>\n",
              "      <td>19</td>\n",
              "      <td>24</td>\n",
              "    </tr>\n",
              "    <tr>\n",
              "      <th>2019-03-14</th>\n",
              "      <td>22</td>\n",
              "      <td>31</td>\n",
              "    </tr>\n",
              "  </tbody>\n",
              "</table>\n",
              "</div>"
            ],
            "text/plain": [
              "            Humans  Robots\n",
              "Date                      \n",
              "2019-03-10      10       3\n",
              "2019-03-11      13      10\n",
              "2019-03-12      16      17\n",
              "2019-03-13      19      24\n",
              "2019-03-14      22      31"
            ]
          },
          "metadata": {
            "tags": []
          },
          "execution_count": 101
        }
      ]
    },
    {
      "cell_type": "code",
      "metadata": {
        "id": "4GdLCJqj5eO_",
        "colab": {
          "base_uri": "https://localhost:8080/",
          "height": 204
        },
        "outputId": "f8b70d01-748a-4ac0-ace5-62214cf60d90"
      },
      "source": [
        "df['Humans']"
      ],
      "execution_count": null,
      "outputs": [
        {
          "output_type": "execute_result",
          "data": {
            "text/plain": [
              "Date\n",
              "2019-03-10    10\n",
              "2019-03-11    13\n",
              "2019-03-12    16\n",
              "2019-03-13    19\n",
              "2019-03-14    22\n",
              "2019-03-15    25\n",
              "2019-03-16    28\n",
              "2019-03-17    31\n",
              "2019-03-18    34\n",
              "Name: Humans, dtype: int64"
            ]
          },
          "metadata": {
            "tags": []
          },
          "execution_count": 102
        }
      ]
    },
    {
      "cell_type": "code",
      "metadata": {
        "id": "mQb6nT5n5iOR",
        "colab": {
          "base_uri": "https://localhost:8080/",
          "height": 34
        },
        "outputId": "9bfcf5cc-dd7a-42dd-e6b3-601dfe52e1bd"
      },
      "source": [
        "df['Robots'].values"
      ],
      "execution_count": null,
      "outputs": [
        {
          "output_type": "execute_result",
          "data": {
            "text/plain": [
              "array([ 3, 10, 17, 24, 31, 38, 45, 52, 59])"
            ]
          },
          "metadata": {
            "tags": []
          },
          "execution_count": 103
        }
      ]
    },
    {
      "cell_type": "markdown",
      "metadata": {
        "id": "72nKAkXyhZCE"
      },
      "source": [
        "## Read data from web repository:\n",
        "\n",
        "We can also access to data stored in a GitHub repository:\n",
        "\n",
        "Load updated coronavirus data from https://github.com/datadista/datasets.git\n"
      ]
    },
    {
      "cell_type": "code",
      "metadata": {
        "id": "xVj7FLvl4toI",
        "colab": {
          "base_uri": "https://localhost:8080/",
          "height": 224
        },
        "outputId": "bf704b49-e62d-4fa8-bf1d-3abb85e31ee6"
      },
      "source": [
        "!wget -O ccaa_covid19_fallecidos.csv 'https://raw.githubusercontent.com/datadista/datasets/master/COVID%2019/ccaa_covid19_fallecidos.csv'"
      ],
      "execution_count": null,
      "outputs": [
        {
          "output_type": "stream",
          "text": [
            "--2020-09-23 17:00:24--  https://raw.githubusercontent.com/datadista/datasets/master/COVID%2019/ccaa_covid19_fallecidos.csv\n",
            "Resolving raw.githubusercontent.com (raw.githubusercontent.com)... 151.101.0.133, 151.101.64.133, 151.101.128.133, ...\n",
            "Connecting to raw.githubusercontent.com (raw.githubusercontent.com)|151.101.0.133|:443... connected.\n",
            "HTTP request sent, awaiting response... 200 OK\n",
            "Length: 6692 (6.5K) [text/plain]\n",
            "Saving to: ‘ccaa_covid19_fallecidos.csv’\n",
            "\n",
            "\r          ccaa_covi   0%[                    ]       0  --.-KB/s               \rccaa_covid19_fallec 100%[===================>]   6.54K  --.-KB/s    in 0s      \n",
            "\n",
            "2020-09-23 17:00:25 (62.3 MB/s) - ‘ccaa_covid19_fallecidos.csv’ saved [6692/6692]\n",
            "\n"
          ],
          "name": "stdout"
        }
      ]
    },
    {
      "cell_type": "markdown",
      "metadata": {
        "id": "fT4qtXYLhtNX"
      },
      "source": [
        "The file has been downloaded to folder /content"
      ]
    },
    {
      "cell_type": "code",
      "metadata": {
        "id": "JhOiDyT15Vjr",
        "colab": {
          "base_uri": "https://localhost:8080/",
          "height": 755
        },
        "outputId": "3ab37ea5-1a64-4032-9d55-027fa1a87459"
      },
      "source": [
        "import pandas as pd\n",
        "d = pd.read_csv('/content/ccaa_covid19_fallecidos.csv',sep=',',index_col=None)\n",
        "d = d.drop('cod_ine',1)\n",
        "d.head(20)\n"
      ],
      "execution_count": null,
      "outputs": [
        {
          "output_type": "execute_result",
          "data": {
            "text/html": [
              "<div>\n",
              "<style scoped>\n",
              "    .dataframe tbody tr th:only-of-type {\n",
              "        vertical-align: middle;\n",
              "    }\n",
              "\n",
              "    .dataframe tbody tr th {\n",
              "        vertical-align: top;\n",
              "    }\n",
              "\n",
              "    .dataframe thead th {\n",
              "        text-align: right;\n",
              "    }\n",
              "</style>\n",
              "<table border=\"1\" class=\"dataframe\">\n",
              "  <thead>\n",
              "    <tr style=\"text-align: right;\">\n",
              "      <th></th>\n",
              "      <th>CCAA</th>\n",
              "      <th>2020-03-04</th>\n",
              "      <th>2020-03-05</th>\n",
              "      <th>2020-03-06</th>\n",
              "      <th>2020-03-07</th>\n",
              "      <th>2020-03-08</th>\n",
              "      <th>2020-03-09</th>\n",
              "      <th>2020-03-10</th>\n",
              "      <th>2020-03-11</th>\n",
              "      <th>2020-03-12</th>\n",
              "      <th>2020-03-13</th>\n",
              "      <th>2020-03-14</th>\n",
              "      <th>2020-03-15</th>\n",
              "      <th>2020-03-16</th>\n",
              "      <th>2020-03-17</th>\n",
              "      <th>2020-03-18</th>\n",
              "      <th>2020-03-19</th>\n",
              "      <th>2020-03-20</th>\n",
              "      <th>2020-03-21</th>\n",
              "      <th>2020-03-22</th>\n",
              "      <th>2020-03-23</th>\n",
              "      <th>2020-03-24</th>\n",
              "      <th>2020-03-25</th>\n",
              "      <th>2020-03-26</th>\n",
              "      <th>2020-03-27</th>\n",
              "      <th>2020-03-28</th>\n",
              "      <th>2020-03-29</th>\n",
              "      <th>2020-03-30</th>\n",
              "      <th>2020-03-31</th>\n",
              "      <th>2020-04-01</th>\n",
              "      <th>2020-04-02</th>\n",
              "      <th>2020-04-03</th>\n",
              "      <th>2020-04-04</th>\n",
              "      <th>2020-04-05</th>\n",
              "      <th>2020-04-06</th>\n",
              "      <th>2020-04-07</th>\n",
              "      <th>2020-04-08</th>\n",
              "      <th>2020-04-09</th>\n",
              "      <th>2020-04-10</th>\n",
              "      <th>2020-04-11</th>\n",
              "      <th>...</th>\n",
              "      <th>2020-04-15</th>\n",
              "      <th>2020-04-16</th>\n",
              "      <th>2020-04-17</th>\n",
              "      <th>2020-04-18</th>\n",
              "      <th>2020-04-19</th>\n",
              "      <th>2020-04-20</th>\n",
              "      <th>2020-04-21</th>\n",
              "      <th>2020-04-22</th>\n",
              "      <th>2020-04-23</th>\n",
              "      <th>2020-04-24</th>\n",
              "      <th>2020-04-25</th>\n",
              "      <th>2020-04-26</th>\n",
              "      <th>2020-04-27</th>\n",
              "      <th>2020-04-28</th>\n",
              "      <th>2020-04-29</th>\n",
              "      <th>2020-04-30</th>\n",
              "      <th>2020-05-01</th>\n",
              "      <th>2020-05-02</th>\n",
              "      <th>2020-05-03</th>\n",
              "      <th>2020-05-04</th>\n",
              "      <th>2020-05-05</th>\n",
              "      <th>2020-05-06</th>\n",
              "      <th>2020-05-07</th>\n",
              "      <th>2020-05-08</th>\n",
              "      <th>2020-05-09</th>\n",
              "      <th>2020-05-10</th>\n",
              "      <th>2020-05-11</th>\n",
              "      <th>2020-05-12</th>\n",
              "      <th>2020-05-13</th>\n",
              "      <th>2020-05-14</th>\n",
              "      <th>2020-05-15</th>\n",
              "      <th>2020-05-16</th>\n",
              "      <th>2020-05-17</th>\n",
              "      <th>2020-05-18</th>\n",
              "      <th>2020-05-19</th>\n",
              "      <th>2020-05-20</th>\n",
              "      <th>2020-05-21</th>\n",
              "      <th>2020-05-22</th>\n",
              "      <th>2020-05-23</th>\n",
              "      <th>2020-05-24</th>\n",
              "    </tr>\n",
              "  </thead>\n",
              "  <tbody>\n",
              "    <tr>\n",
              "      <th>0</th>\n",
              "      <td>Andalucía</td>\n",
              "      <td>0</td>\n",
              "      <td>0</td>\n",
              "      <td>0</td>\n",
              "      <td>0</td>\n",
              "      <td>0</td>\n",
              "      <td>0</td>\n",
              "      <td>0</td>\n",
              "      <td>0</td>\n",
              "      <td>0</td>\n",
              "      <td>0</td>\n",
              "      <td>2</td>\n",
              "      <td>6</td>\n",
              "      <td>7</td>\n",
              "      <td>11</td>\n",
              "      <td>19</td>\n",
              "      <td>23</td>\n",
              "      <td>30</td>\n",
              "      <td>40</td>\n",
              "      <td>47</td>\n",
              "      <td>58</td>\n",
              "      <td>87</td>\n",
              "      <td>113</td>\n",
              "      <td>134</td>\n",
              "      <td>144</td>\n",
              "      <td>175</td>\n",
              "      <td>207</td>\n",
              "      <td>236</td>\n",
              "      <td>248</td>\n",
              "      <td>308</td>\n",
              "      <td>343</td>\n",
              "      <td>376</td>\n",
              "      <td>426</td>\n",
              "      <td>470</td>\n",
              "      <td>491</td>\n",
              "      <td>528</td>\n",
              "      <td>605</td>\n",
              "      <td>652</td>\n",
              "      <td>691</td>\n",
              "      <td>737</td>\n",
              "      <td>...</td>\n",
              "      <td>865</td>\n",
              "      <td>912</td>\n",
              "      <td>940</td>\n",
              "      <td>967</td>\n",
              "      <td>993</td>\n",
              "      <td>1013</td>\n",
              "      <td>1017</td>\n",
              "      <td>1050</td>\n",
              "      <td>1079</td>\n",
              "      <td>1107</td>\n",
              "      <td>1131</td>\n",
              "      <td>1145</td>\n",
              "      <td>1157</td>\n",
              "      <td>1168</td>\n",
              "      <td>1188</td>\n",
              "      <td>1207</td>\n",
              "      <td>1238</td>\n",
              "      <td>1253</td>\n",
              "      <td>1256</td>\n",
              "      <td>1263</td>\n",
              "      <td>1267</td>\n",
              "      <td>1281</td>\n",
              "      <td>1294</td>\n",
              "      <td>1301</td>\n",
              "      <td>1317</td>\n",
              "      <td>1320</td>\n",
              "      <td>1322</td>\n",
              "      <td>1326</td>\n",
              "      <td>1332</td>\n",
              "      <td>1336</td>\n",
              "      <td>1344</td>\n",
              "      <td>1355</td>\n",
              "      <td>1358</td>\n",
              "      <td>1358</td>\n",
              "      <td>1367</td>\n",
              "      <td>1371</td>\n",
              "      <td>1375</td>\n",
              "      <td>1377</td>\n",
              "      <td>1389</td>\n",
              "      <td>1391</td>\n",
              "    </tr>\n",
              "    <tr>\n",
              "      <th>1</th>\n",
              "      <td>Aragón</td>\n",
              "      <td>0</td>\n",
              "      <td>0</td>\n",
              "      <td>1</td>\n",
              "      <td>1</td>\n",
              "      <td>2</td>\n",
              "      <td>3</td>\n",
              "      <td>4</td>\n",
              "      <td>4</td>\n",
              "      <td>6</td>\n",
              "      <td>7</td>\n",
              "      <td>7</td>\n",
              "      <td>7</td>\n",
              "      <td>11</td>\n",
              "      <td>12</td>\n",
              "      <td>13</td>\n",
              "      <td>15</td>\n",
              "      <td>17</td>\n",
              "      <td>22</td>\n",
              "      <td>24</td>\n",
              "      <td>32</td>\n",
              "      <td>37</td>\n",
              "      <td>40</td>\n",
              "      <td>48</td>\n",
              "      <td>58</td>\n",
              "      <td>93</td>\n",
              "      <td>104</td>\n",
              "      <td>106</td>\n",
              "      <td>138</td>\n",
              "      <td>169</td>\n",
              "      <td>200</td>\n",
              "      <td>224</td>\n",
              "      <td>251</td>\n",
              "      <td>270</td>\n",
              "      <td>284</td>\n",
              "      <td>312</td>\n",
              "      <td>349</td>\n",
              "      <td>385</td>\n",
              "      <td>409</td>\n",
              "      <td>425</td>\n",
              "      <td>...</td>\n",
              "      <td>514</td>\n",
              "      <td>543</td>\n",
              "      <td>562</td>\n",
              "      <td>601</td>\n",
              "      <td>619</td>\n",
              "      <td>637</td>\n",
              "      <td>643</td>\n",
              "      <td>656</td>\n",
              "      <td>681</td>\n",
              "      <td>695</td>\n",
              "      <td>709</td>\n",
              "      <td>712</td>\n",
              "      <td>726</td>\n",
              "      <td>735</td>\n",
              "      <td>736</td>\n",
              "      <td>739</td>\n",
              "      <td>749</td>\n",
              "      <td>761</td>\n",
              "      <td>761</td>\n",
              "      <td>762</td>\n",
              "      <td>770</td>\n",
              "      <td>788</td>\n",
              "      <td>800</td>\n",
              "      <td>815</td>\n",
              "      <td>823</td>\n",
              "      <td>824</td>\n",
              "      <td>825</td>\n",
              "      <td>828</td>\n",
              "      <td>829</td>\n",
              "      <td>836</td>\n",
              "      <td>837</td>\n",
              "      <td>838</td>\n",
              "      <td>838</td>\n",
              "      <td>838</td>\n",
              "      <td>843</td>\n",
              "      <td>847</td>\n",
              "      <td>848</td>\n",
              "      <td>858</td>\n",
              "      <td>858</td>\n",
              "      <td>858</td>\n",
              "    </tr>\n",
              "    <tr>\n",
              "      <th>2</th>\n",
              "      <td>Asturias</td>\n",
              "      <td>0</td>\n",
              "      <td>0</td>\n",
              "      <td>0</td>\n",
              "      <td>0</td>\n",
              "      <td>0</td>\n",
              "      <td>0</td>\n",
              "      <td>0</td>\n",
              "      <td>0</td>\n",
              "      <td>0</td>\n",
              "      <td>1</td>\n",
              "      <td>2</td>\n",
              "      <td>2</td>\n",
              "      <td>2</td>\n",
              "      <td>2</td>\n",
              "      <td>2</td>\n",
              "      <td>2</td>\n",
              "      <td>4</td>\n",
              "      <td>7</td>\n",
              "      <td>12</td>\n",
              "      <td>22</td>\n",
              "      <td>26</td>\n",
              "      <td>29</td>\n",
              "      <td>29</td>\n",
              "      <td>39</td>\n",
              "      <td>44</td>\n",
              "      <td>47</td>\n",
              "      <td>59</td>\n",
              "      <td>66</td>\n",
              "      <td>75</td>\n",
              "      <td>76</td>\n",
              "      <td>80</td>\n",
              "      <td>83</td>\n",
              "      <td>87</td>\n",
              "      <td>93</td>\n",
              "      <td>101</td>\n",
              "      <td>107</td>\n",
              "      <td>113</td>\n",
              "      <td>129</td>\n",
              "      <td>134</td>\n",
              "      <td>...</td>\n",
              "      <td>172</td>\n",
              "      <td>176</td>\n",
              "      <td>186</td>\n",
              "      <td>190</td>\n",
              "      <td>197</td>\n",
              "      <td>199</td>\n",
              "      <td>203</td>\n",
              "      <td>211</td>\n",
              "      <td>222</td>\n",
              "      <td>228</td>\n",
              "      <td>235</td>\n",
              "      <td>243</td>\n",
              "      <td>248</td>\n",
              "      <td>252</td>\n",
              "      <td>259</td>\n",
              "      <td>263</td>\n",
              "      <td>264</td>\n",
              "      <td>270</td>\n",
              "      <td>270</td>\n",
              "      <td>274</td>\n",
              "      <td>275</td>\n",
              "      <td>278</td>\n",
              "      <td>279</td>\n",
              "      <td>280</td>\n",
              "      <td>280</td>\n",
              "      <td>283</td>\n",
              "      <td>288</td>\n",
              "      <td>290</td>\n",
              "      <td>292</td>\n",
              "      <td>293</td>\n",
              "      <td>298</td>\n",
              "      <td>299</td>\n",
              "      <td>299</td>\n",
              "      <td>301</td>\n",
              "      <td>303</td>\n",
              "      <td>304</td>\n",
              "      <td>307</td>\n",
              "      <td>307</td>\n",
              "      <td>307</td>\n",
              "      <td>308</td>\n",
              "    </tr>\n",
              "    <tr>\n",
              "      <th>3</th>\n",
              "      <td>Baleares</td>\n",
              "      <td>0</td>\n",
              "      <td>0</td>\n",
              "      <td>0</td>\n",
              "      <td>0</td>\n",
              "      <td>0</td>\n",
              "      <td>0</td>\n",
              "      <td>0</td>\n",
              "      <td>0</td>\n",
              "      <td>1</td>\n",
              "      <td>1</td>\n",
              "      <td>1</td>\n",
              "      <td>1</td>\n",
              "      <td>1</td>\n",
              "      <td>1</td>\n",
              "      <td>1</td>\n",
              "      <td>2</td>\n",
              "      <td>2</td>\n",
              "      <td>4</td>\n",
              "      <td>4</td>\n",
              "      <td>10</td>\n",
              "      <td>10</td>\n",
              "      <td>13</td>\n",
              "      <td>17</td>\n",
              "      <td>22</td>\n",
              "      <td>26</td>\n",
              "      <td>29</td>\n",
              "      <td>37</td>\n",
              "      <td>42</td>\n",
              "      <td>46</td>\n",
              "      <td>58</td>\n",
              "      <td>69</td>\n",
              "      <td>71</td>\n",
              "      <td>75</td>\n",
              "      <td>81</td>\n",
              "      <td>84</td>\n",
              "      <td>89</td>\n",
              "      <td>89</td>\n",
              "      <td>97</td>\n",
              "      <td>102</td>\n",
              "      <td>...</td>\n",
              "      <td>125</td>\n",
              "      <td>131</td>\n",
              "      <td>134</td>\n",
              "      <td>148</td>\n",
              "      <td>155</td>\n",
              "      <td>157</td>\n",
              "      <td>161</td>\n",
              "      <td>164</td>\n",
              "      <td>168</td>\n",
              "      <td>172</td>\n",
              "      <td>174</td>\n",
              "      <td>175</td>\n",
              "      <td>179</td>\n",
              "      <td>181</td>\n",
              "      <td>185</td>\n",
              "      <td>188</td>\n",
              "      <td>193</td>\n",
              "      <td>197</td>\n",
              "      <td>197</td>\n",
              "      <td>197</td>\n",
              "      <td>198</td>\n",
              "      <td>199</td>\n",
              "      <td>201</td>\n",
              "      <td>202</td>\n",
              "      <td>207</td>\n",
              "      <td>209</td>\n",
              "      <td>209</td>\n",
              "      <td>210</td>\n",
              "      <td>215</td>\n",
              "      <td>216</td>\n",
              "      <td>216</td>\n",
              "      <td>216</td>\n",
              "      <td>218</td>\n",
              "      <td>218</td>\n",
              "      <td>219</td>\n",
              "      <td>221</td>\n",
              "      <td>221</td>\n",
              "      <td>222</td>\n",
              "      <td>222</td>\n",
              "      <td>222</td>\n",
              "    </tr>\n",
              "    <tr>\n",
              "      <th>4</th>\n",
              "      <td>Canarias</td>\n",
              "      <td>0</td>\n",
              "      <td>0</td>\n",
              "      <td>0</td>\n",
              "      <td>0</td>\n",
              "      <td>0</td>\n",
              "      <td>0</td>\n",
              "      <td>0</td>\n",
              "      <td>0</td>\n",
              "      <td>0</td>\n",
              "      <td>0</td>\n",
              "      <td>1</td>\n",
              "      <td>1</td>\n",
              "      <td>1</td>\n",
              "      <td>2</td>\n",
              "      <td>3</td>\n",
              "      <td>3</td>\n",
              "      <td>4</td>\n",
              "      <td>7</td>\n",
              "      <td>9</td>\n",
              "      <td>11</td>\n",
              "      <td>16</td>\n",
              "      <td>21</td>\n",
              "      <td>24</td>\n",
              "      <td>27</td>\n",
              "      <td>36</td>\n",
              "      <td>39</td>\n",
              "      <td>40</td>\n",
              "      <td>55</td>\n",
              "      <td>62</td>\n",
              "      <td>68</td>\n",
              "      <td>73</td>\n",
              "      <td>78</td>\n",
              "      <td>80</td>\n",
              "      <td>85</td>\n",
              "      <td>89</td>\n",
              "      <td>91</td>\n",
              "      <td>92</td>\n",
              "      <td>94</td>\n",
              "      <td>95</td>\n",
              "      <td>...</td>\n",
              "      <td>104</td>\n",
              "      <td>107</td>\n",
              "      <td>111</td>\n",
              "      <td>115</td>\n",
              "      <td>119</td>\n",
              "      <td>119</td>\n",
              "      <td>120</td>\n",
              "      <td>121</td>\n",
              "      <td>121</td>\n",
              "      <td>128</td>\n",
              "      <td>130</td>\n",
              "      <td>131</td>\n",
              "      <td>131</td>\n",
              "      <td>133</td>\n",
              "      <td>134</td>\n",
              "      <td>135</td>\n",
              "      <td>136</td>\n",
              "      <td>140</td>\n",
              "      <td>140</td>\n",
              "      <td>141</td>\n",
              "      <td>142</td>\n",
              "      <td>143</td>\n",
              "      <td>144</td>\n",
              "      <td>148</td>\n",
              "      <td>148</td>\n",
              "      <td>148</td>\n",
              "      <td>149</td>\n",
              "      <td>151</td>\n",
              "      <td>151</td>\n",
              "      <td>151</td>\n",
              "      <td>151</td>\n",
              "      <td>151</td>\n",
              "      <td>151</td>\n",
              "      <td>153</td>\n",
              "      <td>155</td>\n",
              "      <td>155</td>\n",
              "      <td>155</td>\n",
              "      <td>155</td>\n",
              "      <td>157</td>\n",
              "      <td>157</td>\n",
              "    </tr>\n",
              "    <tr>\n",
              "      <th>5</th>\n",
              "      <td>Cantabria</td>\n",
              "      <td>0</td>\n",
              "      <td>0</td>\n",
              "      <td>0</td>\n",
              "      <td>0</td>\n",
              "      <td>0</td>\n",
              "      <td>0</td>\n",
              "      <td>0</td>\n",
              "      <td>0</td>\n",
              "      <td>0</td>\n",
              "      <td>0</td>\n",
              "      <td>0</td>\n",
              "      <td>0</td>\n",
              "      <td>0</td>\n",
              "      <td>0</td>\n",
              "      <td>1</td>\n",
              "      <td>1</td>\n",
              "      <td>1</td>\n",
              "      <td>2</td>\n",
              "      <td>5</td>\n",
              "      <td>6</td>\n",
              "      <td>9</td>\n",
              "      <td>14</td>\n",
              "      <td>17</td>\n",
              "      <td>21</td>\n",
              "      <td>22</td>\n",
              "      <td>26</td>\n",
              "      <td>27</td>\n",
              "      <td>37</td>\n",
              "      <td>54</td>\n",
              "      <td>60</td>\n",
              "      <td>64</td>\n",
              "      <td>68</td>\n",
              "      <td>68</td>\n",
              "      <td>77</td>\n",
              "      <td>85</td>\n",
              "      <td>92</td>\n",
              "      <td>98</td>\n",
              "      <td>102</td>\n",
              "      <td>107</td>\n",
              "      <td>...</td>\n",
              "      <td>132</td>\n",
              "      <td>137</td>\n",
              "      <td>144</td>\n",
              "      <td>149</td>\n",
              "      <td>153</td>\n",
              "      <td>158</td>\n",
              "      <td>165</td>\n",
              "      <td>167</td>\n",
              "      <td>173</td>\n",
              "      <td>178</td>\n",
              "      <td>182</td>\n",
              "      <td>183</td>\n",
              "      <td>186</td>\n",
              "      <td>188</td>\n",
              "      <td>191</td>\n",
              "      <td>191</td>\n",
              "      <td>192</td>\n",
              "      <td>193</td>\n",
              "      <td>195</td>\n",
              "      <td>197</td>\n",
              "      <td>198</td>\n",
              "      <td>199</td>\n",
              "      <td>200</td>\n",
              "      <td>201</td>\n",
              "      <td>201</td>\n",
              "      <td>201</td>\n",
              "      <td>201</td>\n",
              "      <td>203</td>\n",
              "      <td>205</td>\n",
              "      <td>205</td>\n",
              "      <td>206</td>\n",
              "      <td>206</td>\n",
              "      <td>207</td>\n",
              "      <td>207</td>\n",
              "      <td>208</td>\n",
              "      <td>209</td>\n",
              "      <td>209</td>\n",
              "      <td>209</td>\n",
              "      <td>209</td>\n",
              "      <td>209</td>\n",
              "    </tr>\n",
              "    <tr>\n",
              "      <th>6</th>\n",
              "      <td>Castilla La Mancha</td>\n",
              "      <td>0</td>\n",
              "      <td>0</td>\n",
              "      <td>0</td>\n",
              "      <td>0</td>\n",
              "      <td>0</td>\n",
              "      <td>0</td>\n",
              "      <td>0</td>\n",
              "      <td>0</td>\n",
              "      <td>1</td>\n",
              "      <td>5</td>\n",
              "      <td>6</td>\n",
              "      <td>10</td>\n",
              "      <td>17</td>\n",
              "      <td>17</td>\n",
              "      <td>28</td>\n",
              "      <td>42</td>\n",
              "      <td>42</td>\n",
              "      <td>84</td>\n",
              "      <td>112</td>\n",
              "      <td>145</td>\n",
              "      <td>216</td>\n",
              "      <td>263</td>\n",
              "      <td>316</td>\n",
              "      <td>367</td>\n",
              "      <td>448</td>\n",
              "      <td>539</td>\n",
              "      <td>622</td>\n",
              "      <td>708</td>\n",
              "      <td>774</td>\n",
              "      <td>854</td>\n",
              "      <td>916</td>\n",
              "      <td>989</td>\n",
              "      <td>1055</td>\n",
              "      <td>1132</td>\n",
              "      <td>1177</td>\n",
              "      <td>1255</td>\n",
              "      <td>1322</td>\n",
              "      <td>1431</td>\n",
              "      <td>1483</td>\n",
              "      <td>...</td>\n",
              "      <td>1755</td>\n",
              "      <td>1796</td>\n",
              "      <td>1852</td>\n",
              "      <td>1913</td>\n",
              "      <td>1963</td>\n",
              "      <td>2021</td>\n",
              "      <td>2075</td>\n",
              "      <td>2140</td>\n",
              "      <td>2188</td>\n",
              "      <td>2255</td>\n",
              "      <td>2292</td>\n",
              "      <td>2330</td>\n",
              "      <td>2365</td>\n",
              "      <td>2396</td>\n",
              "      <td>2436</td>\n",
              "      <td>2463</td>\n",
              "      <td>2498</td>\n",
              "      <td>2534</td>\n",
              "      <td>2565</td>\n",
              "      <td>2590</td>\n",
              "      <td>2616</td>\n",
              "      <td>2647</td>\n",
              "      <td>2677</td>\n",
              "      <td>2713</td>\n",
              "      <td>2738</td>\n",
              "      <td>2759</td>\n",
              "      <td>2786</td>\n",
              "      <td>2811</td>\n",
              "      <td>2835</td>\n",
              "      <td>2852</td>\n",
              "      <td>2870</td>\n",
              "      <td>2883</td>\n",
              "      <td>2893</td>\n",
              "      <td>2898</td>\n",
              "      <td>2900</td>\n",
              "      <td>2913</td>\n",
              "      <td>2919</td>\n",
              "      <td>2929</td>\n",
              "      <td>2934</td>\n",
              "      <td>2940</td>\n",
              "    </tr>\n",
              "    <tr>\n",
              "      <th>7</th>\n",
              "      <td>Castilla y León</td>\n",
              "      <td>0</td>\n",
              "      <td>0</td>\n",
              "      <td>0</td>\n",
              "      <td>0</td>\n",
              "      <td>0</td>\n",
              "      <td>0</td>\n",
              "      <td>0</td>\n",
              "      <td>0</td>\n",
              "      <td>0</td>\n",
              "      <td>1</td>\n",
              "      <td>3</td>\n",
              "      <td>6</td>\n",
              "      <td>9</td>\n",
              "      <td>12</td>\n",
              "      <td>22</td>\n",
              "      <td>29</td>\n",
              "      <td>43</td>\n",
              "      <td>55</td>\n",
              "      <td>74</td>\n",
              "      <td>102</td>\n",
              "      <td>124</td>\n",
              "      <td>165</td>\n",
              "      <td>206</td>\n",
              "      <td>252</td>\n",
              "      <td>321</td>\n",
              "      <td>380</td>\n",
              "      <td>442</td>\n",
              "      <td>516</td>\n",
              "      <td>585</td>\n",
              "      <td>641</td>\n",
              "      <td>723</td>\n",
              "      <td>786</td>\n",
              "      <td>847</td>\n",
              "      <td>919</td>\n",
              "      <td>982</td>\n",
              "      <td>1028</td>\n",
              "      <td>1082</td>\n",
              "      <td>1129</td>\n",
              "      <td>1180</td>\n",
              "      <td>...</td>\n",
              "      <td>1337</td>\n",
              "      <td>1372</td>\n",
              "      <td>1401</td>\n",
              "      <td>1429</td>\n",
              "      <td>1458</td>\n",
              "      <td>1493</td>\n",
              "      <td>1521</td>\n",
              "      <td>1554</td>\n",
              "      <td>1582</td>\n",
              "      <td>1612</td>\n",
              "      <td>1639</td>\n",
              "      <td>1666</td>\n",
              "      <td>1690</td>\n",
              "      <td>1710</td>\n",
              "      <td>1736</td>\n",
              "      <td>1752</td>\n",
              "      <td>1770</td>\n",
              "      <td>1788</td>\n",
              "      <td>1800</td>\n",
              "      <td>1818</td>\n",
              "      <td>1832</td>\n",
              "      <td>1847</td>\n",
              "      <td>1864</td>\n",
              "      <td>1876</td>\n",
              "      <td>1885</td>\n",
              "      <td>1897</td>\n",
              "      <td>1905</td>\n",
              "      <td>1914</td>\n",
              "      <td>1919</td>\n",
              "      <td>1925</td>\n",
              "      <td>1930</td>\n",
              "      <td>1940</td>\n",
              "      <td>1946</td>\n",
              "      <td>1953</td>\n",
              "      <td>1960</td>\n",
              "      <td>1960</td>\n",
              "      <td>1960</td>\n",
              "      <td>1961</td>\n",
              "      <td>1961</td>\n",
              "      <td>1961</td>\n",
              "    </tr>\n",
              "    <tr>\n",
              "      <th>8</th>\n",
              "      <td>Cataluña</td>\n",
              "      <td>0</td>\n",
              "      <td>0</td>\n",
              "      <td>0</td>\n",
              "      <td>1</td>\n",
              "      <td>1</td>\n",
              "      <td>2</td>\n",
              "      <td>2</td>\n",
              "      <td>3</td>\n",
              "      <td>6</td>\n",
              "      <td>9</td>\n",
              "      <td>13</td>\n",
              "      <td>15</td>\n",
              "      <td>20</td>\n",
              "      <td>23</td>\n",
              "      <td>33</td>\n",
              "      <td>53</td>\n",
              "      <td>93</td>\n",
              "      <td>143</td>\n",
              "      <td>182</td>\n",
              "      <td>199</td>\n",
              "      <td>293</td>\n",
              "      <td>385</td>\n",
              "      <td>501</td>\n",
              "      <td>685</td>\n",
              "      <td>827</td>\n",
              "      <td>904</td>\n",
              "      <td>983</td>\n",
              "      <td>1216</td>\n",
              "      <td>1458</td>\n",
              "      <td>1629</td>\n",
              "      <td>1784</td>\n",
              "      <td>1928</td>\n",
              "      <td>2053</td>\n",
              "      <td>2167</td>\n",
              "      <td>2329</td>\n",
              "      <td>2462</td>\n",
              "      <td>2667</td>\n",
              "      <td>2787</td>\n",
              "      <td>2877</td>\n",
              "      <td>...</td>\n",
              "      <td>3453</td>\n",
              "      <td>3618</td>\n",
              "      <td>3752</td>\n",
              "      <td>3879</td>\n",
              "      <td>3933</td>\n",
              "      <td>4009</td>\n",
              "      <td>4152</td>\n",
              "      <td>4247</td>\n",
              "      <td>4343</td>\n",
              "      <td>4393</td>\n",
              "      <td>4498</td>\n",
              "      <td>4566</td>\n",
              "      <td>4699</td>\n",
              "      <td>4808</td>\n",
              "      <td>4905</td>\n",
              "      <td>4975</td>\n",
              "      <td>5061</td>\n",
              "      <td>5137</td>\n",
              "      <td>5185</td>\n",
              "      <td>5220</td>\n",
              "      <td>5270</td>\n",
              "      <td>5345</td>\n",
              "      <td>5394</td>\n",
              "      <td>5471</td>\n",
              "      <td>5507</td>\n",
              "      <td>5532</td>\n",
              "      <td>5555</td>\n",
              "      <td>5621</td>\n",
              "      <td>5692</td>\n",
              "      <td>5823</td>\n",
              "      <td>5882</td>\n",
              "      <td>5915</td>\n",
              "      <td>5944</td>\n",
              "      <td>5956</td>\n",
              "      <td>5981</td>\n",
              "      <td>6021</td>\n",
              "      <td>6021</td>\n",
              "      <td>6656</td>\n",
              "      <td>6663</td>\n",
              "      <td>6701</td>\n",
              "    </tr>\n",
              "    <tr>\n",
              "      <th>9</th>\n",
              "      <td>Ceuta</td>\n",
              "      <td>0</td>\n",
              "      <td>0</td>\n",
              "      <td>0</td>\n",
              "      <td>0</td>\n",
              "      <td>0</td>\n",
              "      <td>0</td>\n",
              "      <td>0</td>\n",
              "      <td>0</td>\n",
              "      <td>0</td>\n",
              "      <td>0</td>\n",
              "      <td>0</td>\n",
              "      <td>0</td>\n",
              "      <td>0</td>\n",
              "      <td>0</td>\n",
              "      <td>0</td>\n",
              "      <td>0</td>\n",
              "      <td>0</td>\n",
              "      <td>0</td>\n",
              "      <td>0</td>\n",
              "      <td>0</td>\n",
              "      <td>0</td>\n",
              "      <td>0</td>\n",
              "      <td>0</td>\n",
              "      <td>0</td>\n",
              "      <td>1</td>\n",
              "      <td>1</td>\n",
              "      <td>1</td>\n",
              "      <td>1</td>\n",
              "      <td>1</td>\n",
              "      <td>1</td>\n",
              "      <td>1</td>\n",
              "      <td>1</td>\n",
              "      <td>2</td>\n",
              "      <td>3</td>\n",
              "      <td>4</td>\n",
              "      <td>4</td>\n",
              "      <td>4</td>\n",
              "      <td>4</td>\n",
              "      <td>4</td>\n",
              "      <td>...</td>\n",
              "      <td>4</td>\n",
              "      <td>4</td>\n",
              "      <td>4</td>\n",
              "      <td>4</td>\n",
              "      <td>4</td>\n",
              "      <td>4</td>\n",
              "      <td>4</td>\n",
              "      <td>4</td>\n",
              "      <td>4</td>\n",
              "      <td>4</td>\n",
              "      <td>4</td>\n",
              "      <td>4</td>\n",
              "      <td>4</td>\n",
              "      <td>4</td>\n",
              "      <td>4</td>\n",
              "      <td>4</td>\n",
              "      <td>4</td>\n",
              "      <td>4</td>\n",
              "      <td>4</td>\n",
              "      <td>4</td>\n",
              "      <td>4</td>\n",
              "      <td>4</td>\n",
              "      <td>4</td>\n",
              "      <td>4</td>\n",
              "      <td>4</td>\n",
              "      <td>4</td>\n",
              "      <td>4</td>\n",
              "      <td>4</td>\n",
              "      <td>4</td>\n",
              "      <td>4</td>\n",
              "      <td>4</td>\n",
              "      <td>4</td>\n",
              "      <td>4</td>\n",
              "      <td>4</td>\n",
              "      <td>4</td>\n",
              "      <td>4</td>\n",
              "      <td>4</td>\n",
              "      <td>4</td>\n",
              "      <td>4</td>\n",
              "      <td>4</td>\n",
              "    </tr>\n",
              "    <tr>\n",
              "      <th>10</th>\n",
              "      <td>C. Valenciana</td>\n",
              "      <td>1</td>\n",
              "      <td>1</td>\n",
              "      <td>1</td>\n",
              "      <td>1</td>\n",
              "      <td>1</td>\n",
              "      <td>1</td>\n",
              "      <td>1</td>\n",
              "      <td>1</td>\n",
              "      <td>1</td>\n",
              "      <td>1</td>\n",
              "      <td>4</td>\n",
              "      <td>5</td>\n",
              "      <td>5</td>\n",
              "      <td>13</td>\n",
              "      <td>22</td>\n",
              "      <td>24</td>\n",
              "      <td>33</td>\n",
              "      <td>50</td>\n",
              "      <td>69</td>\n",
              "      <td>94</td>\n",
              "      <td>115</td>\n",
              "      <td>143</td>\n",
              "      <td>167</td>\n",
              "      <td>198</td>\n",
              "      <td>234</td>\n",
              "      <td>267</td>\n",
              "      <td>310</td>\n",
              "      <td>339</td>\n",
              "      <td>395</td>\n",
              "      <td>443</td>\n",
              "      <td>511</td>\n",
              "      <td>571</td>\n",
              "      <td>613</td>\n",
              "      <td>637</td>\n",
              "      <td>672</td>\n",
              "      <td>724</td>\n",
              "      <td>767</td>\n",
              "      <td>796</td>\n",
              "      <td>818</td>\n",
              "      <td>...</td>\n",
              "      <td>945</td>\n",
              "      <td>972</td>\n",
              "      <td>999</td>\n",
              "      <td>1042</td>\n",
              "      <td>1065</td>\n",
              "      <td>1079</td>\n",
              "      <td>1089</td>\n",
              "      <td>1106</td>\n",
              "      <td>1124</td>\n",
              "      <td>1147</td>\n",
              "      <td>1172</td>\n",
              "      <td>1186</td>\n",
              "      <td>1189</td>\n",
              "      <td>1200</td>\n",
              "      <td>1218</td>\n",
              "      <td>1236</td>\n",
              "      <td>1245</td>\n",
              "      <td>1258</td>\n",
              "      <td>1264</td>\n",
              "      <td>1269</td>\n",
              "      <td>1279</td>\n",
              "      <td>1291</td>\n",
              "      <td>1303</td>\n",
              "      <td>1309</td>\n",
              "      <td>1315</td>\n",
              "      <td>1323</td>\n",
              "      <td>1330</td>\n",
              "      <td>1336</td>\n",
              "      <td>1341</td>\n",
              "      <td>1349</td>\n",
              "      <td>1358</td>\n",
              "      <td>1365</td>\n",
              "      <td>1366</td>\n",
              "      <td>1370</td>\n",
              "      <td>1376</td>\n",
              "      <td>1378</td>\n",
              "      <td>1383</td>\n",
              "      <td>1389</td>\n",
              "      <td>1390</td>\n",
              "      <td>1393</td>\n",
              "    </tr>\n",
              "    <tr>\n",
              "      <th>11</th>\n",
              "      <td>Extremadura</td>\n",
              "      <td>0</td>\n",
              "      <td>0</td>\n",
              "      <td>0</td>\n",
              "      <td>0</td>\n",
              "      <td>1</td>\n",
              "      <td>0</td>\n",
              "      <td>0</td>\n",
              "      <td>1</td>\n",
              "      <td>1</td>\n",
              "      <td>1</td>\n",
              "      <td>2</td>\n",
              "      <td>2</td>\n",
              "      <td>2</td>\n",
              "      <td>3</td>\n",
              "      <td>6</td>\n",
              "      <td>8</td>\n",
              "      <td>10</td>\n",
              "      <td>12</td>\n",
              "      <td>14</td>\n",
              "      <td>18</td>\n",
              "      <td>26</td>\n",
              "      <td>39</td>\n",
              "      <td>58</td>\n",
              "      <td>69</td>\n",
              "      <td>88</td>\n",
              "      <td>100</td>\n",
              "      <td>106</td>\n",
              "      <td>133</td>\n",
              "      <td>152</td>\n",
              "      <td>181</td>\n",
              "      <td>200</td>\n",
              "      <td>208</td>\n",
              "      <td>218</td>\n",
              "      <td>228</td>\n",
              "      <td>258</td>\n",
              "      <td>271</td>\n",
              "      <td>283</td>\n",
              "      <td>288</td>\n",
              "      <td>303</td>\n",
              "      <td>...</td>\n",
              "      <td>342</td>\n",
              "      <td>359</td>\n",
              "      <td>372</td>\n",
              "      <td>380</td>\n",
              "      <td>384</td>\n",
              "      <td>389</td>\n",
              "      <td>397</td>\n",
              "      <td>404</td>\n",
              "      <td>407</td>\n",
              "      <td>411</td>\n",
              "      <td>416</td>\n",
              "      <td>422</td>\n",
              "      <td>428</td>\n",
              "      <td>433</td>\n",
              "      <td>440</td>\n",
              "      <td>446</td>\n",
              "      <td>451</td>\n",
              "      <td>458</td>\n",
              "      <td>460</td>\n",
              "      <td>460</td>\n",
              "      <td>462</td>\n",
              "      <td>463</td>\n",
              "      <td>467</td>\n",
              "      <td>472</td>\n",
              "      <td>477</td>\n",
              "      <td>480</td>\n",
              "      <td>483</td>\n",
              "      <td>487</td>\n",
              "      <td>489</td>\n",
              "      <td>492</td>\n",
              "      <td>494</td>\n",
              "      <td>497</td>\n",
              "      <td>500</td>\n",
              "      <td>500</td>\n",
              "      <td>504</td>\n",
              "      <td>504</td>\n",
              "      <td>505</td>\n",
              "      <td>506</td>\n",
              "      <td>507</td>\n",
              "      <td>506</td>\n",
              "    </tr>\n",
              "    <tr>\n",
              "      <th>12</th>\n",
              "      <td>Galicia</td>\n",
              "      <td>0</td>\n",
              "      <td>0</td>\n",
              "      <td>0</td>\n",
              "      <td>0</td>\n",
              "      <td>0</td>\n",
              "      <td>0</td>\n",
              "      <td>0</td>\n",
              "      <td>0</td>\n",
              "      <td>0</td>\n",
              "      <td>0</td>\n",
              "      <td>0</td>\n",
              "      <td>2</td>\n",
              "      <td>2</td>\n",
              "      <td>3</td>\n",
              "      <td>3</td>\n",
              "      <td>4</td>\n",
              "      <td>5</td>\n",
              "      <td>9</td>\n",
              "      <td>12</td>\n",
              "      <td>18</td>\n",
              "      <td>20</td>\n",
              "      <td>27</td>\n",
              "      <td>32</td>\n",
              "      <td>43</td>\n",
              "      <td>47</td>\n",
              "      <td>60</td>\n",
              "      <td>66</td>\n",
              "      <td>84</td>\n",
              "      <td>103</td>\n",
              "      <td>120</td>\n",
              "      <td>138</td>\n",
              "      <td>159</td>\n",
              "      <td>174</td>\n",
              "      <td>190</td>\n",
              "      <td>204</td>\n",
              "      <td>213</td>\n",
              "      <td>231</td>\n",
              "      <td>243</td>\n",
              "      <td>261</td>\n",
              "      <td>...</td>\n",
              "      <td>299</td>\n",
              "      <td>310</td>\n",
              "      <td>320</td>\n",
              "      <td>334</td>\n",
              "      <td>346</td>\n",
              "      <td>352</td>\n",
              "      <td>360</td>\n",
              "      <td>368</td>\n",
              "      <td>375</td>\n",
              "      <td>382</td>\n",
              "      <td>388</td>\n",
              "      <td>394</td>\n",
              "      <td>405</td>\n",
              "      <td>412</td>\n",
              "      <td>551</td>\n",
              "      <td>551</td>\n",
              "      <td>558</td>\n",
              "      <td>563</td>\n",
              "      <td>569</td>\n",
              "      <td>575</td>\n",
              "      <td>579</td>\n",
              "      <td>588</td>\n",
              "      <td>591</td>\n",
              "      <td>592</td>\n",
              "      <td>595</td>\n",
              "      <td>596</td>\n",
              "      <td>597</td>\n",
              "      <td>598</td>\n",
              "      <td>599</td>\n",
              "      <td>603</td>\n",
              "      <td>603</td>\n",
              "      <td>604</td>\n",
              "      <td>606</td>\n",
              "      <td>607</td>\n",
              "      <td>607</td>\n",
              "      <td>607</td>\n",
              "      <td>608</td>\n",
              "      <td>609</td>\n",
              "      <td>610</td>\n",
              "      <td>613</td>\n",
              "    </tr>\n",
              "    <tr>\n",
              "      <th>13</th>\n",
              "      <td>Madrid</td>\n",
              "      <td>0</td>\n",
              "      <td>1</td>\n",
              "      <td>2</td>\n",
              "      <td>4</td>\n",
              "      <td>8</td>\n",
              "      <td>16</td>\n",
              "      <td>21</td>\n",
              "      <td>31</td>\n",
              "      <td>56</td>\n",
              "      <td>81</td>\n",
              "      <td>86</td>\n",
              "      <td>213</td>\n",
              "      <td>213</td>\n",
              "      <td>355</td>\n",
              "      <td>390</td>\n",
              "      <td>498</td>\n",
              "      <td>628</td>\n",
              "      <td>804</td>\n",
              "      <td>1021</td>\n",
              "      <td>1263</td>\n",
              "      <td>1535</td>\n",
              "      <td>1825</td>\n",
              "      <td>2090</td>\n",
              "      <td>2412</td>\n",
              "      <td>2757</td>\n",
              "      <td>3082</td>\n",
              "      <td>3392</td>\n",
              "      <td>3603</td>\n",
              "      <td>3865</td>\n",
              "      <td>4175</td>\n",
              "      <td>4483</td>\n",
              "      <td>4723</td>\n",
              "      <td>4941</td>\n",
              "      <td>5136</td>\n",
              "      <td>5371</td>\n",
              "      <td>5586</td>\n",
              "      <td>5800</td>\n",
              "      <td>5972</td>\n",
              "      <td>6084</td>\n",
              "      <td>...</td>\n",
              "      <td>6724</td>\n",
              "      <td>6877</td>\n",
              "      <td>7007</td>\n",
              "      <td>7132</td>\n",
              "      <td>7239</td>\n",
              "      <td>7351</td>\n",
              "      <td>7460</td>\n",
              "      <td>7577</td>\n",
              "      <td>7684</td>\n",
              "      <td>7765</td>\n",
              "      <td>7848</td>\n",
              "      <td>7922</td>\n",
              "      <td>7986</td>\n",
              "      <td>8048</td>\n",
              "      <td>8105</td>\n",
              "      <td>8176</td>\n",
              "      <td>8222</td>\n",
              "      <td>8292</td>\n",
              "      <td>8332</td>\n",
              "      <td>8376</td>\n",
              "      <td>8420</td>\n",
              "      <td>8466</td>\n",
              "      <td>8504</td>\n",
              "      <td>8552</td>\n",
              "      <td>8598</td>\n",
              "      <td>8644</td>\n",
              "      <td>8683</td>\n",
              "      <td>8720</td>\n",
              "      <td>8760</td>\n",
              "      <td>8779</td>\n",
              "      <td>8809</td>\n",
              "      <td>8826</td>\n",
              "      <td>8847</td>\n",
              "      <td>8863</td>\n",
              "      <td>8894</td>\n",
              "      <td>8912</td>\n",
              "      <td>8931</td>\n",
              "      <td>8944</td>\n",
              "      <td>8956</td>\n",
              "      <td>8977</td>\n",
              "    </tr>\n",
              "    <tr>\n",
              "      <th>14</th>\n",
              "      <td>Melilla</td>\n",
              "      <td>0</td>\n",
              "      <td>0</td>\n",
              "      <td>0</td>\n",
              "      <td>0</td>\n",
              "      <td>0</td>\n",
              "      <td>0</td>\n",
              "      <td>0</td>\n",
              "      <td>0</td>\n",
              "      <td>0</td>\n",
              "      <td>0</td>\n",
              "      <td>0</td>\n",
              "      <td>0</td>\n",
              "      <td>0</td>\n",
              "      <td>0</td>\n",
              "      <td>0</td>\n",
              "      <td>0</td>\n",
              "      <td>0</td>\n",
              "      <td>0</td>\n",
              "      <td>0</td>\n",
              "      <td>0</td>\n",
              "      <td>0</td>\n",
              "      <td>0</td>\n",
              "      <td>1</td>\n",
              "      <td>1</td>\n",
              "      <td>1</td>\n",
              "      <td>1</td>\n",
              "      <td>1</td>\n",
              "      <td>1</td>\n",
              "      <td>1</td>\n",
              "      <td>1</td>\n",
              "      <td>2</td>\n",
              "      <td>2</td>\n",
              "      <td>2</td>\n",
              "      <td>2</td>\n",
              "      <td>2</td>\n",
              "      <td>2</td>\n",
              "      <td>2</td>\n",
              "      <td>2</td>\n",
              "      <td>2</td>\n",
              "      <td>...</td>\n",
              "      <td>2</td>\n",
              "      <td>2</td>\n",
              "      <td>2</td>\n",
              "      <td>2</td>\n",
              "      <td>2</td>\n",
              "      <td>2</td>\n",
              "      <td>2</td>\n",
              "      <td>2</td>\n",
              "      <td>2</td>\n",
              "      <td>2</td>\n",
              "      <td>2</td>\n",
              "      <td>2</td>\n",
              "      <td>2</td>\n",
              "      <td>2</td>\n",
              "      <td>2</td>\n",
              "      <td>2</td>\n",
              "      <td>2</td>\n",
              "      <td>2</td>\n",
              "      <td>2</td>\n",
              "      <td>2</td>\n",
              "      <td>2</td>\n",
              "      <td>2</td>\n",
              "      <td>2</td>\n",
              "      <td>2</td>\n",
              "      <td>2</td>\n",
              "      <td>2</td>\n",
              "      <td>2</td>\n",
              "      <td>2</td>\n",
              "      <td>2</td>\n",
              "      <td>2</td>\n",
              "      <td>2</td>\n",
              "      <td>2</td>\n",
              "      <td>2</td>\n",
              "      <td>2</td>\n",
              "      <td>2</td>\n",
              "      <td>2</td>\n",
              "      <td>2</td>\n",
              "      <td>2</td>\n",
              "      <td>2</td>\n",
              "      <td>2</td>\n",
              "    </tr>\n",
              "    <tr>\n",
              "      <th>15</th>\n",
              "      <td>Murcia</td>\n",
              "      <td>0</td>\n",
              "      <td>0</td>\n",
              "      <td>0</td>\n",
              "      <td>0</td>\n",
              "      <td>0</td>\n",
              "      <td>0</td>\n",
              "      <td>0</td>\n",
              "      <td>0</td>\n",
              "      <td>0</td>\n",
              "      <td>0</td>\n",
              "      <td>0</td>\n",
              "      <td>0</td>\n",
              "      <td>0</td>\n",
              "      <td>0</td>\n",
              "      <td>0</td>\n",
              "      <td>0</td>\n",
              "      <td>0</td>\n",
              "      <td>1</td>\n",
              "      <td>1</td>\n",
              "      <td>2</td>\n",
              "      <td>3</td>\n",
              "      <td>5</td>\n",
              "      <td>8</td>\n",
              "      <td>15</td>\n",
              "      <td>17</td>\n",
              "      <td>20</td>\n",
              "      <td>25</td>\n",
              "      <td>34</td>\n",
              "      <td>37</td>\n",
              "      <td>42</td>\n",
              "      <td>46</td>\n",
              "      <td>51</td>\n",
              "      <td>59</td>\n",
              "      <td>68</td>\n",
              "      <td>78</td>\n",
              "      <td>85</td>\n",
              "      <td>88</td>\n",
              "      <td>90</td>\n",
              "      <td>94</td>\n",
              "      <td>...</td>\n",
              "      <td>109</td>\n",
              "      <td>111</td>\n",
              "      <td>112</td>\n",
              "      <td>115</td>\n",
              "      <td>116</td>\n",
              "      <td>117</td>\n",
              "      <td>120</td>\n",
              "      <td>123</td>\n",
              "      <td>124</td>\n",
              "      <td>125</td>\n",
              "      <td>126</td>\n",
              "      <td>127</td>\n",
              "      <td>128</td>\n",
              "      <td>130</td>\n",
              "      <td>130</td>\n",
              "      <td>130</td>\n",
              "      <td>132</td>\n",
              "      <td>132</td>\n",
              "      <td>134</td>\n",
              "      <td>134</td>\n",
              "      <td>136</td>\n",
              "      <td>136</td>\n",
              "      <td>137</td>\n",
              "      <td>137</td>\n",
              "      <td>138</td>\n",
              "      <td>139</td>\n",
              "      <td>139</td>\n",
              "      <td>139</td>\n",
              "      <td>142</td>\n",
              "      <td>142</td>\n",
              "      <td>143</td>\n",
              "      <td>144</td>\n",
              "      <td>144</td>\n",
              "      <td>145</td>\n",
              "      <td>145</td>\n",
              "      <td>148</td>\n",
              "      <td>149</td>\n",
              "      <td>149</td>\n",
              "      <td>149</td>\n",
              "      <td>149</td>\n",
              "    </tr>\n",
              "    <tr>\n",
              "      <th>16</th>\n",
              "      <td>Navarra</td>\n",
              "      <td>0</td>\n",
              "      <td>0</td>\n",
              "      <td>0</td>\n",
              "      <td>0</td>\n",
              "      <td>0</td>\n",
              "      <td>0</td>\n",
              "      <td>0</td>\n",
              "      <td>0</td>\n",
              "      <td>0</td>\n",
              "      <td>0</td>\n",
              "      <td>0</td>\n",
              "      <td>0</td>\n",
              "      <td>1</td>\n",
              "      <td>2</td>\n",
              "      <td>3</td>\n",
              "      <td>4</td>\n",
              "      <td>5</td>\n",
              "      <td>9</td>\n",
              "      <td>14</td>\n",
              "      <td>24</td>\n",
              "      <td>31</td>\n",
              "      <td>33</td>\n",
              "      <td>49</td>\n",
              "      <td>58</td>\n",
              "      <td>70</td>\n",
              "      <td>84</td>\n",
              "      <td>102</td>\n",
              "      <td>113</td>\n",
              "      <td>130</td>\n",
              "      <td>141</td>\n",
              "      <td>151</td>\n",
              "      <td>171</td>\n",
              "      <td>178</td>\n",
              "      <td>187</td>\n",
              "      <td>202</td>\n",
              "      <td>206</td>\n",
              "      <td>214</td>\n",
              "      <td>218</td>\n",
              "      <td>227</td>\n",
              "      <td>...</td>\n",
              "      <td>252</td>\n",
              "      <td>261</td>\n",
              "      <td>338</td>\n",
              "      <td>354</td>\n",
              "      <td>369</td>\n",
              "      <td>385</td>\n",
              "      <td>397</td>\n",
              "      <td>401</td>\n",
              "      <td>409</td>\n",
              "      <td>417</td>\n",
              "      <td>429</td>\n",
              "      <td>431</td>\n",
              "      <td>432</td>\n",
              "      <td>432</td>\n",
              "      <td>448</td>\n",
              "      <td>451</td>\n",
              "      <td>458</td>\n",
              "      <td>460</td>\n",
              "      <td>462</td>\n",
              "      <td>466</td>\n",
              "      <td>471</td>\n",
              "      <td>476</td>\n",
              "      <td>480</td>\n",
              "      <td>484</td>\n",
              "      <td>487</td>\n",
              "      <td>488</td>\n",
              "      <td>490</td>\n",
              "      <td>493</td>\n",
              "      <td>494</td>\n",
              "      <td>498</td>\n",
              "      <td>500</td>\n",
              "      <td>501</td>\n",
              "      <td>503</td>\n",
              "      <td>503</td>\n",
              "      <td>503</td>\n",
              "      <td>503</td>\n",
              "      <td>506</td>\n",
              "      <td>508</td>\n",
              "      <td>509</td>\n",
              "      <td>509</td>\n",
              "    </tr>\n",
              "    <tr>\n",
              "      <th>17</th>\n",
              "      <td>País Vasco</td>\n",
              "      <td>0</td>\n",
              "      <td>1</td>\n",
              "      <td>1</td>\n",
              "      <td>1</td>\n",
              "      <td>5</td>\n",
              "      <td>6</td>\n",
              "      <td>6</td>\n",
              "      <td>6</td>\n",
              "      <td>11</td>\n",
              "      <td>14</td>\n",
              "      <td>14</td>\n",
              "      <td>23</td>\n",
              "      <td>23</td>\n",
              "      <td>36</td>\n",
              "      <td>40</td>\n",
              "      <td>53</td>\n",
              "      <td>71</td>\n",
              "      <td>85</td>\n",
              "      <td>97</td>\n",
              "      <td>120</td>\n",
              "      <td>133</td>\n",
              "      <td>155</td>\n",
              "      <td>180</td>\n",
              "      <td>207</td>\n",
              "      <td>241</td>\n",
              "      <td>265</td>\n",
              "      <td>297</td>\n",
              "      <td>325</td>\n",
              "      <td>369</td>\n",
              "      <td>412</td>\n",
              "      <td>444</td>\n",
              "      <td>477</td>\n",
              "      <td>515</td>\n",
              "      <td>548</td>\n",
              "      <td>586</td>\n",
              "      <td>635</td>\n",
              "      <td>689</td>\n",
              "      <td>729</td>\n",
              "      <td>765</td>\n",
              "      <td>...</td>\n",
              "      <td>902</td>\n",
              "      <td>956</td>\n",
              "      <td>992</td>\n",
              "      <td>1020</td>\n",
              "      <td>1062</td>\n",
              "      <td>1081</td>\n",
              "      <td>1103</td>\n",
              "      <td>1124</td>\n",
              "      <td>1167</td>\n",
              "      <td>1193</td>\n",
              "      <td>1212</td>\n",
              "      <td>1230</td>\n",
              "      <td>1241</td>\n",
              "      <td>1255</td>\n",
              "      <td>1274</td>\n",
              "      <td>1296</td>\n",
              "      <td>1312</td>\n",
              "      <td>1321</td>\n",
              "      <td>1329</td>\n",
              "      <td>1341</td>\n",
              "      <td>1353</td>\n",
              "      <td>1364</td>\n",
              "      <td>1383</td>\n",
              "      <td>1390</td>\n",
              "      <td>1403</td>\n",
              "      <td>1418</td>\n",
              "      <td>1423</td>\n",
              "      <td>1429</td>\n",
              "      <td>1442</td>\n",
              "      <td>1454</td>\n",
              "      <td>1454</td>\n",
              "      <td>1455</td>\n",
              "      <td>1459</td>\n",
              "      <td>1466</td>\n",
              "      <td>1470</td>\n",
              "      <td>1480</td>\n",
              "      <td>1483</td>\n",
              "      <td>1487</td>\n",
              "      <td>1494</td>\n",
              "      <td>1494</td>\n",
              "    </tr>\n",
              "    <tr>\n",
              "      <th>18</th>\n",
              "      <td>La Rioja</td>\n",
              "      <td>0</td>\n",
              "      <td>0</td>\n",
              "      <td>0</td>\n",
              "      <td>0</td>\n",
              "      <td>0</td>\n",
              "      <td>0</td>\n",
              "      <td>1</td>\n",
              "      <td>2</td>\n",
              "      <td>2</td>\n",
              "      <td>3</td>\n",
              "      <td>3</td>\n",
              "      <td>3</td>\n",
              "      <td>4</td>\n",
              "      <td>5</td>\n",
              "      <td>5</td>\n",
              "      <td>5</td>\n",
              "      <td>7</td>\n",
              "      <td>15</td>\n",
              "      <td>18</td>\n",
              "      <td>22</td>\n",
              "      <td>30</td>\n",
              "      <td>37</td>\n",
              "      <td>43</td>\n",
              "      <td>55</td>\n",
              "      <td>65</td>\n",
              "      <td>68</td>\n",
              "      <td>71</td>\n",
              "      <td>85</td>\n",
              "      <td>90</td>\n",
              "      <td>101</td>\n",
              "      <td>109</td>\n",
              "      <td>128</td>\n",
              "      <td>134</td>\n",
              "      <td>141</td>\n",
              "      <td>160</td>\n",
              "      <td>177</td>\n",
              "      <td>182</td>\n",
              "      <td>196</td>\n",
              "      <td>207</td>\n",
              "      <td>...</td>\n",
              "      <td>246</td>\n",
              "      <td>257</td>\n",
              "      <td>262</td>\n",
              "      <td>272</td>\n",
              "      <td>277</td>\n",
              "      <td>285</td>\n",
              "      <td>294</td>\n",
              "      <td>298</td>\n",
              "      <td>303</td>\n",
              "      <td>307</td>\n",
              "      <td>311</td>\n",
              "      <td>315</td>\n",
              "      <td>320</td>\n",
              "      <td>326</td>\n",
              "      <td>330</td>\n",
              "      <td>332</td>\n",
              "      <td>333</td>\n",
              "      <td>334</td>\n",
              "      <td>335</td>\n",
              "      <td>335</td>\n",
              "      <td>336</td>\n",
              "      <td>337</td>\n",
              "      <td>338</td>\n",
              "      <td>342</td>\n",
              "      <td>344</td>\n",
              "      <td>346</td>\n",
              "      <td>346</td>\n",
              "      <td>347</td>\n",
              "      <td>348</td>\n",
              "      <td>348</td>\n",
              "      <td>348</td>\n",
              "      <td>348</td>\n",
              "      <td>349</td>\n",
              "      <td>351</td>\n",
              "      <td>352</td>\n",
              "      <td>353</td>\n",
              "      <td>354</td>\n",
              "      <td>356</td>\n",
              "      <td>357</td>\n",
              "      <td>358</td>\n",
              "    </tr>\n",
              "  </tbody>\n",
              "</table>\n",
              "<p>19 rows × 83 columns</p>\n",
              "</div>"
            ],
            "text/plain": [
              "                  CCAA  2020-03-04  ...  2020-05-23  2020-05-24\n",
              "0            Andalucía           0  ...        1389        1391\n",
              "1               Aragón           0  ...         858         858\n",
              "2             Asturias           0  ...         307         308\n",
              "3             Baleares           0  ...         222         222\n",
              "4             Canarias           0  ...         157         157\n",
              "5            Cantabria           0  ...         209         209\n",
              "6   Castilla La Mancha           0  ...        2934        2940\n",
              "7      Castilla y León           0  ...        1961        1961\n",
              "8             Cataluña           0  ...        6663        6701\n",
              "9                Ceuta           0  ...           4           4\n",
              "10       C. Valenciana           1  ...        1390        1393\n",
              "11         Extremadura           0  ...         507         506\n",
              "12             Galicia           0  ...         610         613\n",
              "13              Madrid           0  ...        8956        8977\n",
              "14             Melilla           0  ...           2           2\n",
              "15              Murcia           0  ...         149         149\n",
              "16             Navarra           0  ...         509         509\n",
              "17          País Vasco           0  ...        1494        1494\n",
              "18            La Rioja           0  ...         357         358\n",
              "\n",
              "[19 rows x 83 columns]"
            ]
          },
          "metadata": {
            "tags": []
          },
          "execution_count": 105
        }
      ]
    },
    {
      "cell_type": "markdown",
      "metadata": {
        "id": "dAhYWE9ShyjM"
      },
      "source": [
        "## Load built-in datasets:\n",
        "\n",
        "You can access to built-in databases included in many libraries: \n",
        "\n",
        "Let's acces, for instance, the mpg cars database included in the graphical libraries seaborn:"
      ]
    },
    {
      "cell_type": "code",
      "metadata": {
        "id": "WyBP9oRJGatq",
        "colab": {
          "base_uri": "https://localhost:8080/",
          "height": 204
        },
        "outputId": "936e4345-ca3f-4dda-c342-aaec194a3c0c"
      },
      "source": [
        "import pandas as pd \n",
        "import seaborn as sns \n",
        "mpg = sns.load_dataset(\"mpg\")\n",
        "mpg.head()"
      ],
      "execution_count": null,
      "outputs": [
        {
          "output_type": "execute_result",
          "data": {
            "text/html": [
              "<div>\n",
              "<style scoped>\n",
              "    .dataframe tbody tr th:only-of-type {\n",
              "        vertical-align: middle;\n",
              "    }\n",
              "\n",
              "    .dataframe tbody tr th {\n",
              "        vertical-align: top;\n",
              "    }\n",
              "\n",
              "    .dataframe thead th {\n",
              "        text-align: right;\n",
              "    }\n",
              "</style>\n",
              "<table border=\"1\" class=\"dataframe\">\n",
              "  <thead>\n",
              "    <tr style=\"text-align: right;\">\n",
              "      <th></th>\n",
              "      <th>mpg</th>\n",
              "      <th>cylinders</th>\n",
              "      <th>displacement</th>\n",
              "      <th>horsepower</th>\n",
              "      <th>weight</th>\n",
              "      <th>acceleration</th>\n",
              "      <th>model_year</th>\n",
              "      <th>origin</th>\n",
              "      <th>name</th>\n",
              "    </tr>\n",
              "  </thead>\n",
              "  <tbody>\n",
              "    <tr>\n",
              "      <th>0</th>\n",
              "      <td>18.0</td>\n",
              "      <td>8</td>\n",
              "      <td>307.0</td>\n",
              "      <td>130.0</td>\n",
              "      <td>3504</td>\n",
              "      <td>12.0</td>\n",
              "      <td>70</td>\n",
              "      <td>usa</td>\n",
              "      <td>chevrolet chevelle malibu</td>\n",
              "    </tr>\n",
              "    <tr>\n",
              "      <th>1</th>\n",
              "      <td>15.0</td>\n",
              "      <td>8</td>\n",
              "      <td>350.0</td>\n",
              "      <td>165.0</td>\n",
              "      <td>3693</td>\n",
              "      <td>11.5</td>\n",
              "      <td>70</td>\n",
              "      <td>usa</td>\n",
              "      <td>buick skylark 320</td>\n",
              "    </tr>\n",
              "    <tr>\n",
              "      <th>2</th>\n",
              "      <td>18.0</td>\n",
              "      <td>8</td>\n",
              "      <td>318.0</td>\n",
              "      <td>150.0</td>\n",
              "      <td>3436</td>\n",
              "      <td>11.0</td>\n",
              "      <td>70</td>\n",
              "      <td>usa</td>\n",
              "      <td>plymouth satellite</td>\n",
              "    </tr>\n",
              "    <tr>\n",
              "      <th>3</th>\n",
              "      <td>16.0</td>\n",
              "      <td>8</td>\n",
              "      <td>304.0</td>\n",
              "      <td>150.0</td>\n",
              "      <td>3433</td>\n",
              "      <td>12.0</td>\n",
              "      <td>70</td>\n",
              "      <td>usa</td>\n",
              "      <td>amc rebel sst</td>\n",
              "    </tr>\n",
              "    <tr>\n",
              "      <th>4</th>\n",
              "      <td>17.0</td>\n",
              "      <td>8</td>\n",
              "      <td>302.0</td>\n",
              "      <td>140.0</td>\n",
              "      <td>3449</td>\n",
              "      <td>10.5</td>\n",
              "      <td>70</td>\n",
              "      <td>usa</td>\n",
              "      <td>ford torino</td>\n",
              "    </tr>\n",
              "  </tbody>\n",
              "</table>\n",
              "</div>"
            ],
            "text/plain": [
              "    mpg  cylinders  displacement  ...  model_year  origin                       name\n",
              "0  18.0          8         307.0  ...          70     usa  chevrolet chevelle malibu\n",
              "1  15.0          8         350.0  ...          70     usa          buick skylark 320\n",
              "2  18.0          8         318.0  ...          70     usa         plymouth satellite\n",
              "3  16.0          8         304.0  ...          70     usa              amc rebel sst\n",
              "4  17.0          8         302.0  ...          70     usa                ford torino\n",
              "\n",
              "[5 rows x 9 columns]"
            ]
          },
          "metadata": {
            "tags": []
          },
          "execution_count": 10
        }
      ]
    },
    {
      "cell_type": "markdown",
      "metadata": {
        "id": "-0B2oP6xil8C"
      },
      "source": [
        "## Working with images:"
      ]
    },
    {
      "cell_type": "code",
      "metadata": {
        "id": "sCjsWiS6itlo",
        "colab": {
          "base_uri": "https://localhost:8080/",
          "height": 297
        },
        "outputId": "33749798-b91b-4ed8-d513-3ae82fd5b1cf"
      },
      "source": [
        "import skimage as sk # load skimage libraries\n",
        "from skimage import io\n",
        "I = sk.io.imread('/content/gdrive/My Drive/DAPR sample data/image1.tif') # read image using imread function\n",
        "sk.io.imshow(I) # visualize image using imshow function\n",
        "sk.io.show() "
      ],
      "execution_count": null,
      "outputs": [
        {
          "output_type": "display_data",
          "data": {
            "image/png": "[encoded data removed]",
            "text/plain": [
              "<Figure size 432x288 with 1 Axes>"
            ]
          },
          "metadata": {
            "tags": [],
            "needs_background": "light"
          }
        }
      ]
    },
    {
      "cell_type": "markdown",
      "metadata": {
        "id": "SLUhzwEZdl4i"
      },
      "source": [
        "## Advanced Python\n",
        "\n",
        "### Functional Programming\n",
        "\n",
        "* lambda\n",
        "\n",
        "* map\n",
        "\n",
        "* filter"
      ]
    },
    {
      "cell_type": "markdown",
      "metadata": {
        "id": "kJiOjgwLdl4j"
      },
      "source": [
        "#### Lambda\n",
        "\n",
        "Function without a name. Useful when you want to declare a function online, usally for using it as a parameter for another function."
      ]
    },
    {
      "cell_type": "code",
      "metadata": {
        "ExecuteTime": {
          "end_time": "2020-02-20T13:59:58.890755Z",
          "start_time": "2020-02-20T13:59:58.884284Z"
        },
        "id": "_VzJLXTPdl4j",
        "colab": {
          "base_uri": "https://localhost:8080/",
          "height": 34
        },
        "outputId": "10282b60-aeb1-4870-986b-f1ddd01ce70e"
      },
      "source": [
        "def old_add (a,b):\n",
        "    return a+b\n",
        "\n",
        "new_add = lambda a, b: a + b\n",
        "\n",
        "new_add(4,5) == 4 + 5  and new_add(4,5) == old_add(4,5)\n"
      ],
      "execution_count": null,
      "outputs": [
        {
          "output_type": "execute_result",
          "data": {
            "text/plain": [
              "True"
            ]
          },
          "metadata": {
            "tags": []
          },
          "execution_count": 16
        }
      ]
    },
    {
      "cell_type": "code",
      "metadata": {
        "ExecuteTime": {
          "end_time": "2020-02-20T14:00:00.112537Z",
          "start_time": "2020-02-20T14:00:00.097795Z"
        },
        "id": "VG1Fjc2bdl4n"
      },
      "source": [
        "? sorted"
      ],
      "execution_count": null,
      "outputs": []
    },
    {
      "cell_type": "code",
      "metadata": {
        "ExecuteTime": {
          "end_time": "2020-02-20T14:00:29.622494Z",
          "start_time": "2020-02-20T14:00:29.619753Z"
        },
        "id": "1ww0OBkSdl4q",
        "colab": {
          "base_uri": "https://localhost:8080/",
          "height": 51
        },
        "outputId": "8e0d21f4-8bc7-4094-da6d-1f020b847819"
      },
      "source": [
        "unsorted = [('b', 6), ('a', 10), ('d', 0), ('c', 4)]\n",
        "print(sorted(unsorted))\n",
        "print(sorted(unsorted, key=lambda x: x[1]))"
      ],
      "execution_count": null,
      "outputs": [
        {
          "output_type": "stream",
          "text": [
            "[('a', 10), ('b', 6), ('c', 4), ('d', 0)]\n",
            "[('d', 0), ('c', 4), ('b', 6), ('a', 10)]\n"
          ],
          "name": "stdout"
        }
      ]
    },
    {
      "cell_type": "markdown",
      "metadata": {
        "id": "sVYRWAVRdl4w"
      },
      "source": [
        "#### Map\n",
        "\n",
        "Takes a function and a collection of values as a parameters. Exectutes the function in each element of the list. Useful when you want to use the functional pattern: map-reduce, normally when you wnat to process collections of data."
      ]
    },
    {
      "cell_type": "code",
      "metadata": {
        "ExecuteTime": {
          "end_time": "2020-02-20T14:00:49.419820Z",
          "start_time": "2020-02-20T14:00:49.416898Z"
        },
        "id": "UU8T5SeQdl4w",
        "colab": {
          "base_uri": "https://localhost:8080/",
          "height": 51
        },
        "outputId": "f0a474d1-e956-48b4-d649-207cc73d7809"
      },
      "source": [
        "values = [1, 2, 3, 4, 5]\n",
        "# Note: We convert the returned map object to\n",
        "# a list data structure.\n",
        "\n",
        "add_10 = list(map(lambda x: x + 10, values))\n",
        "add_20 = list(map(lambda x: x + 20, values))\n",
        "print(add_10)\n",
        "print (add_20)\n"
      ],
      "execution_count": null,
      "outputs": [
        {
          "output_type": "stream",
          "text": [
            "[11, 12, 13, 14, 15]\n",
            "[21, 22, 23, 24, 25]\n"
          ],
          "name": "stdout"
        }
      ]
    },
    {
      "cell_type": "code",
      "metadata": {
        "id": "aMhngr_bdl42",
        "colab": {
          "base_uri": "https://localhost:8080/",
          "height": 34
        },
        "outputId": "8ed3d35b-6235-4976-a56e-fa4af501d7c6"
      },
      "source": [
        "import math\n",
        "list(map(math.sqrt,values))"
      ],
      "execution_count": null,
      "outputs": [
        {
          "output_type": "execute_result",
          "data": {
            "text/plain": [
              "[1.0, 1.4142135623730951, 1.7320508075688772, 2.0, 2.23606797749979]"
            ]
          },
          "metadata": {
            "tags": []
          },
          "execution_count": 20
        }
      ]
    },
    {
      "cell_type": "markdown",
      "metadata": {
        "id": "BuvBXnP9dl44"
      },
      "source": [
        "#### Filter\n",
        "Takes a boolen function and a collection of values as a parameters. Executes the boolean function to each value in the collection and return those of them that result is true. Useful for keep values that checks a certain test.\n"
      ]
    },
    {
      "cell_type": "code",
      "metadata": {
        "id": "bCoK0JkFdl44",
        "colab": {
          "base_uri": "https://localhost:8080/",
          "height": 51
        },
        "outputId": "ce6f8d43-a1c7-4c5e-ddfe-8728a2d77237"
      },
      "source": [
        "values = [1, 2, 3, 4, 5, 6, 7, 8, 9, 10]\n",
        "\n",
        "# Note: We convert the returned filter object to\n",
        "# a list data structure.\n",
        "even = list(filter(lambda x: x % 2 == 0, values))\n",
        "odd = list(filter(lambda x: x % 2 == 1, values))\n",
        "\n",
        "print(even)\n",
        "\n",
        "print(odd)"
      ],
      "execution_count": null,
      "outputs": [
        {
          "output_type": "stream",
          "text": [
            "[2, 4, 6, 8, 10]\n",
            "[1, 3, 5, 7, 9]\n"
          ],
          "name": "stdout"
        }
      ]
    }
  ]
}