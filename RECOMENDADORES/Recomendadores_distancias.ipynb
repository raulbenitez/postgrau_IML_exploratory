{
  "nbformat": 4,
  "nbformat_minor": 0,
  "metadata": {
    "colab": {
      "name": "Recomendadores_distancias.ipynb",
      "provenance": [],
      "toc_visible": true,
      "authorship_tag": "ABX9TyPYMO3ayR4427ViEWwP7kv/",
      "include_colab_link": true
    },
    "kernelspec": {
      "name": "python3",
      "display_name": "Python 3"
    },
    "language_info": {
      "name": "python"
    }
  },
  "cells": [
    {
      "cell_type": "markdown",
      "metadata": {
        "id": "view-in-github",
        "colab_type": "text"
      },
      "source": [
        "<a href=\"https://colab.research.google.com/github/raulbenitez/postgrau_IML_exploratory/blob/master/RECOMENDADORES/Recomendadores_distancias.ipynb\" target=\"_parent\"><img src=\"https://colab.research.google.com/assets/colab-badge.svg\" alt=\"Open In Colab\"/></a>"
      ]
    },
    {
      "cell_type": "markdown",
      "metadata": {
        "id": "RpJJbo4yv2Eu"
      },
      "source": [
        "# Distancias entre usuarios: "
      ]
    },
    {
      "cell_type": "markdown",
      "metadata": {
        "id": "hw4IW5VRM3cM"
      },
      "source": [
        "Let's use the same example than the chapter recommendation systems in the subject materials (-1 indicates no valoration):"
      ]
    },
    {
      "cell_type": "code",
      "metadata": {
        "id": "UiPdfoJeM3cM"
      },
      "source": [
        "user_1 = [-1, 3, 1, -1, 4, 3, 5, -1]\n",
        "user_2 = [4, 1, 3, -1, 5, -1, -1, 2]\n",
        "user_3 = [2, 1, -1, 5, -1, -1, -1, 1]\n",
        "user_4 = [3, -1, 2, -1, -1, 5, -1, 4]"
      ],
      "execution_count": 2,
      "outputs": []
    },
    {
      "cell_type": "markdown",
      "metadata": {
        "id": "5TKbcwGLM3cN"
      },
      "source": [
        "## Pearson distance"
      ]
    },
    {
      "cell_type": "markdown",
      "metadata": {
        "id": "S7ncN76FM3cN"
      },
      "source": [
        "Notice that we need to compute the distance only with the valorations common between users (we have to ignore the values when either of the two users has a -1)"
      ]
    },
    {
      "cell_type": "code",
      "metadata": {
        "id": "FbotWwYqM3cN"
      },
      "source": [
        "user_1_common_with_2 = [3, 1, 4]\n",
        "user_2_common_with_1 = [1, 3, 5]\n"
      ],
      "execution_count": 3,
      "outputs": []
    },
    {
      "cell_type": "markdown",
      "metadata": {
        "id": "EGdl1gwQM3cN"
      },
      "source": [
        "We will use the pearsonr function from scipy.stats that computes the pearson distance between vectors: <br>\n",
        "From: https://www.geeksforgeeks.org/python-pearson-correlation-test-between-two-variables/"
      ]
    },
    {
      "cell_type": "code",
      "metadata": {
        "colab": {
          "base_uri": "https://localhost:8080/"
        },
        "id": "zyXmOjiwM3cO",
        "outputId": "c41a8c7c-bdcd-4773-c1eb-830a6d2a99c6"
      },
      "source": [
        "from scipy.stats import pearsonr \n",
        "\n",
        "corr, _ = pearsonr(user_1_common_with_2, user_2_common_with_1) \n",
        "print('Pearsons correlation: %.2f' % corr) \n",
        "\n"
      ],
      "execution_count": 4,
      "outputs": [
        {
          "output_type": "stream",
          "text": [
            "Pearsons correlation: 0.33\n"
          ],
          "name": "stdout"
        }
      ]
    },
    {
      "cell_type": "markdown",
      "metadata": {
        "id": "4VrgRxCrM3cP"
      },
      "source": [
        "The pearsons correlation measure is symmetric:\n"
      ]
    },
    {
      "cell_type": "code",
      "metadata": {
        "colab": {
          "base_uri": "https://localhost:8080/"
        },
        "id": "PR_cnik0M3cP",
        "outputId": "1fd7319f-a6e0-4be8-99b0-82f733156f1a"
      },
      "source": [
        "from scipy.stats import pearsonr \n",
        "\n",
        "corr, _ = pearsonr(user_2_common_with_1, user_1_common_with_2) \n",
        "print('Pearsons correlation: %.2f' % corr) \n"
      ],
      "execution_count": 5,
      "outputs": [
        {
          "output_type": "stream",
          "text": [
            "Pearsons correlation: 0.33\n"
          ],
          "name": "stdout"
        }
      ]
    },
    {
      "cell_type": "markdown",
      "metadata": {
        "id": "NRrtQO1OM3cP"
      },
      "source": [
        "User 1 and User 3 only have 1 value in common:"
      ]
    },
    {
      "cell_type": "code",
      "metadata": {
        "id": "tYZzsdsJM3cP"
      },
      "source": [
        "user_1_common_with_3 = [3]\n",
        "user_3_common_with_1 = [1]"
      ],
      "execution_count": 6,
      "outputs": []
    },
    {
      "cell_type": "code",
      "metadata": {
        "colab": {
          "base_uri": "https://localhost:8080/",
          "height": 297
        },
        "id": "NXHYHxkaM3cQ",
        "outputId": "47c35ee5-3117-4181-cbdb-e71f7029554a"
      },
      "source": [
        "corr, _ = pearsonr(user_1_common_with_3, user_3_common_with_1) \n",
        "print('Pearsons correlation: %.3f' % corr) "
      ],
      "execution_count": 7,
      "outputs": [
        {
          "output_type": "error",
          "ename": "ValueError",
          "evalue": "ignored",
          "traceback": [
            "\u001b[0;31m---------------------------------------------------------------------------\u001b[0m",
            "\u001b[0;31mValueError\u001b[0m                                Traceback (most recent call last)",
            "\u001b[0;32m<ipython-input-7-1a39e54eb3a2>\u001b[0m in \u001b[0;36m<module>\u001b[0;34m()\u001b[0m\n\u001b[0;32m----> 1\u001b[0;31m \u001b[0mcorr\u001b[0m\u001b[0;34m,\u001b[0m \u001b[0m_\u001b[0m \u001b[0;34m=\u001b[0m \u001b[0mpearsonr\u001b[0m\u001b[0;34m(\u001b[0m\u001b[0muser_1_common_with_3\u001b[0m\u001b[0;34m,\u001b[0m \u001b[0muser_3_common_with_1\u001b[0m\u001b[0;34m)\u001b[0m\u001b[0;34m\u001b[0m\u001b[0;34m\u001b[0m\u001b[0m\n\u001b[0m\u001b[1;32m      2\u001b[0m \u001b[0mprint\u001b[0m\u001b[0;34m(\u001b[0m\u001b[0;34m'Pearsons correlation: %.3f'\u001b[0m \u001b[0;34m%\u001b[0m \u001b[0mcorr\u001b[0m\u001b[0;34m)\u001b[0m\u001b[0;34m\u001b[0m\u001b[0;34m\u001b[0m\u001b[0m\n",
            "\u001b[0;32m/usr/local/lib/python3.7/dist-packages/scipy/stats/stats.py\u001b[0m in \u001b[0;36mpearsonr\u001b[0;34m(x, y)\u001b[0m\n\u001b[1;32m   3499\u001b[0m \u001b[0;34m\u001b[0m\u001b[0m\n\u001b[1;32m   3500\u001b[0m     \u001b[0;32mif\u001b[0m \u001b[0mn\u001b[0m \u001b[0;34m<\u001b[0m \u001b[0;36m2\u001b[0m\u001b[0;34m:\u001b[0m\u001b[0;34m\u001b[0m\u001b[0;34m\u001b[0m\u001b[0m\n\u001b[0;32m-> 3501\u001b[0;31m         \u001b[0;32mraise\u001b[0m \u001b[0mValueError\u001b[0m\u001b[0;34m(\u001b[0m\u001b[0;34m'x and y must have length at least 2.'\u001b[0m\u001b[0;34m)\u001b[0m\u001b[0;34m\u001b[0m\u001b[0;34m\u001b[0m\u001b[0m\n\u001b[0m\u001b[1;32m   3502\u001b[0m \u001b[0;34m\u001b[0m\u001b[0m\n\u001b[1;32m   3503\u001b[0m     \u001b[0mx\u001b[0m \u001b[0;34m=\u001b[0m \u001b[0mnp\u001b[0m\u001b[0;34m.\u001b[0m\u001b[0masarray\u001b[0m\u001b[0;34m(\u001b[0m\u001b[0mx\u001b[0m\u001b[0;34m)\u001b[0m\u001b[0;34m\u001b[0m\u001b[0;34m\u001b[0m\u001b[0m\n",
            "\u001b[0;31mValueError\u001b[0m: x and y must have length at least 2."
          ]
        }
      ]
    },
    {
      "cell_type": "markdown",
      "metadata": {
        "id": "RXsjhQNxM3cQ"
      },
      "source": [
        "As they only have 1 value in common we can't compute the pearsons similarity! As we only have one common valoration, the fit line cannot be defined."
      ]
    },
    {
      "cell_type": "code",
      "metadata": {
        "id": "BTkVM07QM3cQ"
      },
      "source": [
        "user_1_common_with_4 = [1, 3]\n",
        "user_4_common_with_1 = [2, 5]"
      ],
      "execution_count": 8,
      "outputs": []
    },
    {
      "cell_type": "code",
      "metadata": {
        "colab": {
          "base_uri": "https://localhost:8080/"
        },
        "id": "gELHaqpeM3cQ",
        "outputId": "af87bf60-4ccd-4b3e-9dc0-1cc95658a68d"
      },
      "source": [
        "corr, _ = pearsonr(user_1_common_with_4, user_4_common_with_1) \n",
        "print('Pearsons correlation: %.3f' % corr) "
      ],
      "execution_count": 9,
      "outputs": [
        {
          "output_type": "stream",
          "text": [
            "Pearsons correlation: 1.000\n"
          ],
          "name": "stdout"
        }
      ]
    },
    {
      "cell_type": "markdown",
      "metadata": {
        "id": "D8cdVvorM3cR"
      },
      "source": [
        "Users 1 and 4 have a correlation of 1.0; this is because, regardless of scale factors, their tendency to rate films is the same."
      ]
    },
    {
      "cell_type": "markdown",
      "metadata": {
        "id": "qgl-5kaVM3cR"
      },
      "source": [
        "On the other hand, if we take users 3 and 4:"
      ]
    },
    {
      "cell_type": "code",
      "metadata": {
        "id": "3YWCAxPkM3cR"
      },
      "source": [
        "user_3_common_with_4 = [2, 1]\n",
        "user_4_common_with_3 = [3, 4]"
      ],
      "execution_count": 10,
      "outputs": []
    },
    {
      "cell_type": "code",
      "metadata": {
        "colab": {
          "base_uri": "https://localhost:8080/"
        },
        "id": "z6ym1v7WM3cR",
        "outputId": "4175aafe-ec87-4c34-cd42-8f69275b0bd2"
      },
      "source": [
        "corr, _ = pearsonr(user_3_common_with_4, user_4_common_with_3) \n",
        "print('Pearsons correlation: %.3f' % corr) "
      ],
      "execution_count": 11,
      "outputs": [
        {
          "output_type": "stream",
          "text": [
            "Pearsons correlation: -1.000\n"
          ],
          "name": "stdout"
        }
      ]
    },
    {
      "cell_type": "markdown",
      "metadata": {
        "id": "M8srQwfpM3cR"
      },
      "source": [
        "Users 3 and 4 make opposite assessments, so their coefficient is -1.0. However, more data should be available for more reliable measurements."
      ]
    },
    {
      "cell_type": "markdown",
      "metadata": {
        "id": "A0rhNhkWM3cS"
      },
      "source": [
        "### Prediction"
      ]
    },
    {
      "cell_type": "markdown",
      "metadata": {
        "id": "TCNF7P5mM3cS"
      },
      "source": [
        "Once we have the pearson similarities we can use the most similar users to predict elements"
      ]
    },
    {
      "cell_type": "markdown",
      "metadata": {
        "id": "WyEpzMsSM3cS"
      },
      "source": [
        "We can use the formula from the book:"
      ]
    },
    {
      "cell_type": "markdown",
      "metadata": {
        "id": "B8pW5yIoM3cS"
      },
      "source": [
        "![image.png](attachment:image.png)"
      ]
    },
    {
      "cell_type": "markdown",
      "metadata": {
        "id": "yuxtWFsoM3cS"
      },
      "source": [
        "For example, if we want to compute the prediction for the user 1 in the last item from the list (item 8):"
      ]
    },
    {
      "cell_type": "markdown",
      "metadata": {
        "id": "Pf9LSCOGM3cS"
      },
      "source": [
        "First we compute the mean of the user 1 valorations (only for the items that has valoration):"
      ]
    },
    {
      "cell_type": "code",
      "metadata": {
        "id": "1Wt2wPisM3cT",
        "colab": {
          "base_uri": "https://localhost:8080/"
        },
        "outputId": "2c8bb911-61e9-4452-a9e7-e6b6f312b41a"
      },
      "source": [
        "# user_1 = [-1, 3, 1, -1, 4, 3, 5, -1]\n",
        "user_1_valorations = [3, 1, 4, 3, 5]\n",
        "user_1_mean = sum(user_1_valorations) / len(user_1_valorations) \n",
        "print(user_1_mean)\n"
      ],
      "execution_count": 12,
      "outputs": [
        {
          "output_type": "stream",
          "text": [
            "3.2\n"
          ],
          "name": "stdout"
        }
      ]
    },
    {
      "cell_type": "markdown",
      "metadata": {
        "id": "YvGxN7snM3cT"
      },
      "source": [
        "If we take the two users more similar to user 1: <br>\n",
        "user 2 (pearson correlation = 0.33) <br>\n",
        "user 4 (pearson correlation = 1.00)"
      ]
    },
    {
      "cell_type": "code",
      "metadata": {
        "id": "NM47B1RiM3cT"
      },
      "source": [
        "sim_1_to_2 = 0.33\n",
        "sim_1_to_4 = 1.0"
      ],
      "execution_count": 13,
      "outputs": []
    },
    {
      "cell_type": "markdown",
      "metadata": {
        "id": "Z-if0r9mM3cT"
      },
      "source": [
        "We need also to have the mean from users 2 and 4:"
      ]
    },
    {
      "cell_type": "code",
      "metadata": {
        "id": "V8GqHlaRM3cT"
      },
      "source": [
        "#user_2 = [4, 1, 3, -1, 5, -1, -1, 2]\n",
        "user_2_valorations = [4, 1, 3, 5, 2]\n",
        "user_2_mean = sum(user_2_valorations) / len(user_2_valorations) \n",
        "\n",
        "#user_4 = [3, -1, 2, -1, -1, 5, -1, 4]\n",
        "user_4_valorations = [3, 2, 5, 4]\n",
        "user_4_mean = sum(user_4_valorations) / len(user_4_valorations) "
      ],
      "execution_count": 14,
      "outputs": []
    },
    {
      "cell_type": "markdown",
      "metadata": {
        "id": "5-5oXMQAM3cT"
      },
      "source": [
        "And the valorations for the desired item (item 8)"
      ]
    },
    {
      "cell_type": "code",
      "metadata": {
        "id": "CUex_hVaM3cU"
      },
      "source": [
        "user_2_val_8 = 2\n",
        "user_4_val_8 = 4"
      ],
      "execution_count": 15,
      "outputs": []
    },
    {
      "cell_type": "code",
      "metadata": {
        "id": "VP9GFqlHM3cU",
        "colab": {
          "base_uri": "https://localhost:8080/"
        },
        "outputId": "8cc65205-c18c-4343-f73a-1ff2d160e444"
      },
      "source": [
        "pred_user1_item8 = user_1_mean + (sim_1_to_2*(user_2_val_8-user_2_mean)+sim_1_to_4*(user_4_val_8-user_4_mean))/(sim_1_to_2+sim_1_to_4)\n",
        "print('Prediction item 8 for user 1: %.2f' % pred_user1_item8) "
      ],
      "execution_count": 16,
      "outputs": [
        {
          "output_type": "stream",
          "text": [
            "Prediction item 8 for user 1: 3.33\n"
          ],
          "name": "stdout"
        }
      ]
    },
    {
      "cell_type": "markdown",
      "metadata": {
        "id": "LNqcZzmtwN_P"
      },
      "source": [
        "## Euclidean similarity\n"
      ]
    },
    {
      "cell_type": "code",
      "metadata": {
        "id": "jkkGoWRSdp60",
        "colab": {
          "base_uri": "https://localhost:8080/"
        },
        "outputId": "564ba6a9-d961-4014-c405-303a5a17f869"
      },
      "source": [
        "import numpy as np\n",
        "from scipy.spatial.distance import euclidean\n",
        "\n",
        "dist = euclidean(user_1_common_with_2, user_2_common_with_1)\n",
        "print('distancia {}'.format(dist))\n",
        "\n",
        "simil = 1/(1+dist)\n",
        "print('similitud {}'.format(simil))\n",
        "\n",
        "\n",
        "\n"
      ],
      "execution_count": 18,
      "outputs": [
        {
          "output_type": "stream",
          "text": [
            "distancia 3.0\n",
            "similitud 0.25\n"
          ],
          "name": "stdout"
        }
      ]
    }
  ]
}