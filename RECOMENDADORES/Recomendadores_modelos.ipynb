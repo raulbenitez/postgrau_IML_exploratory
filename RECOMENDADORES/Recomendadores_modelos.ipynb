{
  "nbformat": 4,
  "nbformat_minor": 0,
  "metadata": {
    "colab": {
      "name": "Recomendadores_modelos.ipynb",
      "provenance": [],
      "authorship_tag": "ABX9TyMW47RX8riZEMJkLzsktiv7",
      "include_colab_link": true
    },
    "kernelspec": {
      "name": "python3",
      "display_name": "Python 3"
    },
    "language_info": {
      "name": "python"
    }
  },
  "cells": [
    {
      "cell_type": "markdown",
      "metadata": {
        "id": "view-in-github",
        "colab_type": "text"
      },
      "source": [
        "<a href=\"https://colab.research.google.com/github/raulbenitez/postgrau_IML_exploratory/blob/master/RECOMENDADORES/Recomendadores_modelos.ipynb\" target=\"_parent\"><img src=\"https://colab.research.google.com/assets/colab-badge.svg\" alt=\"Open In Colab\"/></a>"
      ]
    },
    {
      "cell_type": "markdown",
      "metadata": {
        "id": "Hp6mGoOqa8IB"
      },
      "source": [
        "## Install surpise libraries:\n",
        "\n",
        "http://surpriselib.com/"
      ]
    },
    {
      "cell_type": "code",
      "metadata": {
        "colab": {
          "base_uri": "https://localhost:8080/"
        },
        "id": "chYt2RSOD72a",
        "outputId": "fa0d3581-be28-4924-9b5f-0243bae0eedc"
      },
      "source": [
        "!pip install scikit-surprise"
      ],
      "execution_count": 1,
      "outputs": [
        {
          "output_type": "stream",
          "text": [
            "Collecting scikit-surprise\n",
            "\u001b[?25l  Downloading https://files.pythonhosted.org/packages/97/37/5d334adaf5ddd65da99fc65f6507e0e4599d092ba048f4302fe8775619e8/scikit-surprise-1.1.1.tar.gz (11.8MB)\n",
            "\u001b[K     |████████████████████████████████| 11.8MB 5.2MB/s \n",
            "\u001b[?25hRequirement already satisfied: joblib>=0.11 in /usr/local/lib/python3.7/dist-packages (from scikit-surprise) (1.0.1)\n",
            "Requirement already satisfied: numpy>=1.11.2 in /usr/local/lib/python3.7/dist-packages (from scikit-surprise) (1.19.5)\n",
            "Requirement already satisfied: scipy>=1.0.0 in /usr/local/lib/python3.7/dist-packages (from scikit-surprise) (1.4.1)\n",
            "Requirement already satisfied: six>=1.10.0 in /usr/local/lib/python3.7/dist-packages (from scikit-surprise) (1.15.0)\n",
            "Building wheels for collected packages: scikit-surprise\n",
            "  Building wheel for scikit-surprise (setup.py) ... \u001b[?25l\u001b[?25hdone\n",
            "  Created wheel for scikit-surprise: filename=scikit_surprise-1.1.1-cp37-cp37m-linux_x86_64.whl size=1617573 sha256=af3f828517f4081162424874cecf5a36c923d48d665248201ef9e15d263adc9c\n",
            "  Stored in directory: /root/.cache/pip/wheels/78/9c/3d/41b419c9d2aff5b6e2b4c0fc8d25c538202834058f9ed110d0\n",
            "Successfully built scikit-surprise\n",
            "Installing collected packages: scikit-surprise\n",
            "Successfully installed scikit-surprise-1.1.1\n"
          ],
          "name": "stdout"
        }
      ]
    },
    {
      "cell_type": "markdown",
      "metadata": {
        "id": "DHrQ2_LW8zS3"
      },
      "source": [
        "# Exercise 1: Data manipulation using surprise and Pandas"
      ]
    },
    {
      "cell_type": "markdown",
      "metadata": {
        "id": "Wqu7JWVgbBPI"
      },
      "source": [
        "## Load jester database\n",
        "\n",
        "And some exploration of the data\n",
        "\n",
        "https://www.kaggle.com/raidevesh05/movie-ratings-dataset?select=movie_ratings.csv"
      ]
    },
    {
      "cell_type": "code",
      "metadata": {
        "colab": {
          "base_uri": "https://localhost:8080/"
        },
        "id": "VH13EiCywxIt",
        "outputId": "3f4ede63-e4d0-4de7-ed71-56937cab5e72"
      },
      "source": [
        "from surprise import SVD\n",
        "from surprise import Dataset\n",
        "from surprise.model_selection import cross_validate\n",
        "\n",
        "data = Dataset.load_builtin('jester')"
      ],
      "execution_count": 2,
      "outputs": [
        {
          "output_type": "stream",
          "text": [
            "Dataset jester could not be found. Do you want to download it? [Y/n] Y\n",
            "Trying to download dataset from http://eigentaste.berkeley.edu/dataset/archive/jester_dataset_2.zip...\n",
            "Done! Dataset jester has been saved to /root/.surprise_data/jester\n"
          ],
          "name": "stdout"
        }
      ]
    },
    {
      "cell_type": "markdown",
      "metadata": {
        "id": "sUXtW3I97RwZ"
      },
      "source": [
        "Access the ratings from the raw data:"
      ]
    },
    {
      "cell_type": "code",
      "metadata": {
        "id": "X-6y0_5KWcem",
        "colab": {
          "base_uri": "https://localhost:8080/"
        },
        "outputId": "d370ecdf-909a-49ce-ca8a-c367265714bf"
      },
      "source": [
        "raw_data = data.raw_ratings\n",
        "print(\"Each entry has the columns: user_id, item_id,  rating and timestamp\")\n",
        "print(raw_data[0])\n",
        "print(raw_data[1])\n",
        "print(raw_data[2])\n",
        "print(\"\\n\")"
      ],
      "execution_count": 19,
      "outputs": [
        {
          "output_type": "stream",
          "text": [
            "Each entry has the columns: user_id, item_id,  rating and timestamp\n",
            "('1', '5', 0.219, None)\n",
            "('1', '7', -9.281, None)\n",
            "('1', '8', -9.281, None)\n",
            "\n",
            "\n"
          ],
          "name": "stdout"
        }
      ]
    },
    {
      "cell_type": "markdown",
      "metadata": {
        "id": "HcpKK4obFjuj"
      },
      "source": [
        "Mean rating of a user and mean rating of an item\n",
        "\n"
      ]
    },
    {
      "cell_type": "markdown",
      "metadata": {
        "id": "FAEs7rvhbgsv"
      },
      "source": [
        "Load as a pandas dataframe for convenience to manipulate data:"
      ]
    },
    {
      "cell_type": "code",
      "metadata": {
        "id": "22xd2-iGDzES",
        "colab": {
          "base_uri": "https://localhost:8080/",
          "height": 343
        },
        "outputId": "598c4a6e-bd4d-4c85-e7d2-82abb3d16bf7"
      },
      "source": [
        "import pandas as pd\n",
        "df = pd.DataFrame(data.__dict__['raw_ratings'], columns=['user_id', 'item_id', 'rating', 'timestamp'])\n",
        "df.head(10)"
      ],
      "execution_count": 20,
      "outputs": [
        {
          "output_type": "execute_result",
          "data": {
            "text/html": [
              "<div>\n",
              "<style scoped>\n",
              "    .dataframe tbody tr th:only-of-type {\n",
              "        vertical-align: middle;\n",
              "    }\n",
              "\n",
              "    .dataframe tbody tr th {\n",
              "        vertical-align: top;\n",
              "    }\n",
              "\n",
              "    .dataframe thead th {\n",
              "        text-align: right;\n",
              "    }\n",
              "</style>\n",
              "<table border=\"1\" class=\"dataframe\">\n",
              "  <thead>\n",
              "    <tr style=\"text-align: right;\">\n",
              "      <th></th>\n",
              "      <th>user_id</th>\n",
              "      <th>item_id</th>\n",
              "      <th>rating</th>\n",
              "      <th>timestamp</th>\n",
              "    </tr>\n",
              "  </thead>\n",
              "  <tbody>\n",
              "    <tr>\n",
              "      <th>0</th>\n",
              "      <td>1</td>\n",
              "      <td>5</td>\n",
              "      <td>0.219</td>\n",
              "      <td>None</td>\n",
              "    </tr>\n",
              "    <tr>\n",
              "      <th>1</th>\n",
              "      <td>1</td>\n",
              "      <td>7</td>\n",
              "      <td>-9.281</td>\n",
              "      <td>None</td>\n",
              "    </tr>\n",
              "    <tr>\n",
              "      <th>2</th>\n",
              "      <td>1</td>\n",
              "      <td>8</td>\n",
              "      <td>-9.281</td>\n",
              "      <td>None</td>\n",
              "    </tr>\n",
              "    <tr>\n",
              "      <th>3</th>\n",
              "      <td>1</td>\n",
              "      <td>13</td>\n",
              "      <td>-6.781</td>\n",
              "      <td>None</td>\n",
              "    </tr>\n",
              "    <tr>\n",
              "      <th>4</th>\n",
              "      <td>1</td>\n",
              "      <td>15</td>\n",
              "      <td>0.875</td>\n",
              "      <td>None</td>\n",
              "    </tr>\n",
              "    <tr>\n",
              "      <th>5</th>\n",
              "      <td>1</td>\n",
              "      <td>16</td>\n",
              "      <td>-9.656</td>\n",
              "      <td>None</td>\n",
              "    </tr>\n",
              "    <tr>\n",
              "      <th>6</th>\n",
              "      <td>1</td>\n",
              "      <td>17</td>\n",
              "      <td>-9.031</td>\n",
              "      <td>None</td>\n",
              "    </tr>\n",
              "    <tr>\n",
              "      <th>7</th>\n",
              "      <td>1</td>\n",
              "      <td>18</td>\n",
              "      <td>-7.469</td>\n",
              "      <td>None</td>\n",
              "    </tr>\n",
              "    <tr>\n",
              "      <th>8</th>\n",
              "      <td>1</td>\n",
              "      <td>19</td>\n",
              "      <td>-8.719</td>\n",
              "      <td>None</td>\n",
              "    </tr>\n",
              "    <tr>\n",
              "      <th>9</th>\n",
              "      <td>1</td>\n",
              "      <td>20</td>\n",
              "      <td>-9.156</td>\n",
              "      <td>None</td>\n",
              "    </tr>\n",
              "  </tbody>\n",
              "</table>\n",
              "</div>"
            ],
            "text/plain": [
              "  user_id item_id  rating timestamp\n",
              "0       1       5   0.219      None\n",
              "1       1       7  -9.281      None\n",
              "2       1       8  -9.281      None\n",
              "3       1      13  -6.781      None\n",
              "4       1      15   0.875      None\n",
              "5       1      16  -9.656      None\n",
              "6       1      17  -9.031      None\n",
              "7       1      18  -7.469      None\n",
              "8       1      19  -8.719      None\n",
              "9       1      20  -9.156      None"
            ]
          },
          "metadata": {
            "tags": []
          },
          "execution_count": 20
        }
      ]
    },
    {
      "cell_type": "markdown",
      "metadata": {
        "id": "awECRWC1eKW_"
      },
      "source": [
        "*Dimension* of the dataframe"
      ]
    },
    {
      "cell_type": "code",
      "metadata": {
        "id": "5RDSLgfxUTvR",
        "colab": {
          "base_uri": "https://localhost:8080/"
        },
        "outputId": "d71fab6a-edc1-4e50-8232-cde3111b9fc6"
      },
      "source": [
        "df.shape"
      ],
      "execution_count": 21,
      "outputs": [
        {
          "output_type": "execute_result",
          "data": {
            "text/plain": [
              "(1761439, 4)"
            ]
          },
          "metadata": {
            "tags": []
          },
          "execution_count": 21
        }
      ]
    },
    {
      "cell_type": "markdown",
      "metadata": {
        "id": "YX-Qd1wLUVIe"
      },
      "source": [
        "What is the rating of the user with user_id = 1 of the joke with item_id = 5?"
      ]
    },
    {
      "cell_type": "code",
      "metadata": {
        "id": "3Ye85gtLNQpE",
        "colab": {
          "base_uri": "https://localhost:8080/",
          "height": 77
        },
        "outputId": "c3fc93bf-c3c0-4a15-f205-573e77738c51"
      },
      "source": [
        "df.loc[(df[\"user_id\"]=='1') & (df[\"item_id\"]=='5')]"
      ],
      "execution_count": 22,
      "outputs": [
        {
          "output_type": "execute_result",
          "data": {
            "text/html": [
              "<div>\n",
              "<style scoped>\n",
              "    .dataframe tbody tr th:only-of-type {\n",
              "        vertical-align: middle;\n",
              "    }\n",
              "\n",
              "    .dataframe tbody tr th {\n",
              "        vertical-align: top;\n",
              "    }\n",
              "\n",
              "    .dataframe thead th {\n",
              "        text-align: right;\n",
              "    }\n",
              "</style>\n",
              "<table border=\"1\" class=\"dataframe\">\n",
              "  <thead>\n",
              "    <tr style=\"text-align: right;\">\n",
              "      <th></th>\n",
              "      <th>user_id</th>\n",
              "      <th>item_id</th>\n",
              "      <th>rating</th>\n",
              "      <th>timestamp</th>\n",
              "    </tr>\n",
              "  </thead>\n",
              "  <tbody>\n",
              "    <tr>\n",
              "      <th>0</th>\n",
              "      <td>1</td>\n",
              "      <td>5</td>\n",
              "      <td>0.219</td>\n",
              "      <td>None</td>\n",
              "    </tr>\n",
              "  </tbody>\n",
              "</table>\n",
              "</div>"
            ],
            "text/plain": [
              "  user_id item_id  rating timestamp\n",
              "0       1       5   0.219      None"
            ]
          },
          "metadata": {
            "tags": []
          },
          "execution_count": 22
        }
      ]
    },
    {
      "cell_type": "code",
      "metadata": {
        "id": "QLrPB1IzDFU-",
        "colab": {
          "base_uri": "https://localhost:8080/"
        },
        "outputId": "b1ce8f54-78f5-4a5d-8f50-9c1794921a5e"
      },
      "source": [
        "print(\"Number of users in the database = \" + str(df[\"user_id\"].nunique()))\n",
        "print(\"Number of items in the database = \" + str(df[\"item_id\"].nunique()))"
      ],
      "execution_count": 23,
      "outputs": [
        {
          "output_type": "stream",
          "text": [
            "Number of users in the database = 59132\n",
            "Number of items in the database = 140\n"
          ],
          "name": "stdout"
        }
      ]
    },
    {
      "cell_type": "markdown",
      "metadata": {
        "id": "qJxfV9P1UnOI"
      },
      "source": [
        "Number of jokes rated by user with user_id = 10:"
      ]
    },
    {
      "cell_type": "code",
      "metadata": {
        "id": "0QCL0xUXUsMr",
        "colab": {
          "base_uri": "https://localhost:8080/"
        },
        "outputId": "9369bb36-a388-4ecc-877c-48e043418029"
      },
      "source": [
        "df.loc[(df[\"user_id\"]=='10')].shape[0]"
      ],
      "execution_count": 24,
      "outputs": [
        {
          "output_type": "execute_result",
          "data": {
            "text/plain": [
              "104"
            ]
          },
          "metadata": {
            "tags": []
          },
          "execution_count": 24
        }
      ]
    },
    {
      "cell_type": "markdown",
      "metadata": {
        "id": "sOcNa1Ff7aT-"
      },
      "source": [
        "Check the average rating score"
      ]
    },
    {
      "cell_type": "code",
      "metadata": {
        "id": "5cHm6bjA7dBV",
        "colab": {
          "base_uri": "https://localhost:8080/"
        },
        "outputId": "c6ee395f-431b-4100-a2da-f36fa9967aad"
      },
      "source": [
        "print(\"Mean value of the rating column: \" + str(df[\"rating\"].mean())) "
      ],
      "execution_count": 25,
      "outputs": [
        {
          "output_type": "stream",
          "text": [
            "Mean value of the rating column: 1.6186024017864769\n"
          ],
          "name": "stdout"
        }
      ]
    },
    {
      "cell_type": "markdown",
      "metadata": {
        "id": "FHdpaHYJ8WDx"
      },
      "source": [
        "Check which is the joke with larger average rating from the users:"
      ]
    },
    {
      "cell_type": "code",
      "metadata": {
        "id": "zz4FRSzB8asq",
        "colab": {
          "base_uri": "https://localhost:8080/",
          "height": 431
        },
        "outputId": "33e507e8-4680-4b77-8034-4cf62f058511"
      },
      "source": [
        "dfmean = df.groupby(['item_id']).mean()\n",
        "dfmean.sort_values(by=['rating'],ascending=False)"
      ],
      "execution_count": 26,
      "outputs": [
        {
          "output_type": "execute_result",
          "data": {
            "text/html": [
              "<div>\n",
              "<style scoped>\n",
              "    .dataframe tbody tr th:only-of-type {\n",
              "        vertical-align: middle;\n",
              "    }\n",
              "\n",
              "    .dataframe tbody tr th {\n",
              "        vertical-align: top;\n",
              "    }\n",
              "\n",
              "    .dataframe thead th {\n",
              "        text-align: right;\n",
              "    }\n",
              "</style>\n",
              "<table border=\"1\" class=\"dataframe\">\n",
              "  <thead>\n",
              "    <tr style=\"text-align: right;\">\n",
              "      <th></th>\n",
              "      <th>rating</th>\n",
              "    </tr>\n",
              "    <tr>\n",
              "      <th>item_id</th>\n",
              "      <th></th>\n",
              "    </tr>\n",
              "  </thead>\n",
              "  <tbody>\n",
              "    <tr>\n",
              "      <th>53</th>\n",
              "      <td>3.714381</td>\n",
              "    </tr>\n",
              "    <tr>\n",
              "      <th>105</th>\n",
              "      <td>3.711223</td>\n",
              "    </tr>\n",
              "    <tr>\n",
              "      <th>89</th>\n",
              "      <td>3.606506</td>\n",
              "    </tr>\n",
              "    <tr>\n",
              "      <th>129</th>\n",
              "      <td>3.583496</td>\n",
              "    </tr>\n",
              "    <tr>\n",
              "      <th>35</th>\n",
              "      <td>3.560305</td>\n",
              "    </tr>\n",
              "    <tr>\n",
              "      <th>...</th>\n",
              "      <td>...</td>\n",
              "    </tr>\n",
              "    <tr>\n",
              "      <th>16</th>\n",
              "      <td>-1.587044</td>\n",
              "    </tr>\n",
              "    <tr>\n",
              "      <th>5</th>\n",
              "      <td>-1.756331</td>\n",
              "    </tr>\n",
              "    <tr>\n",
              "      <th>7</th>\n",
              "      <td>-1.809230</td>\n",
              "    </tr>\n",
              "    <tr>\n",
              "      <th>124</th>\n",
              "      <td>-2.163482</td>\n",
              "    </tr>\n",
              "    <tr>\n",
              "      <th>141</th>\n",
              "      <td>-2.749574</td>\n",
              "    </tr>\n",
              "  </tbody>\n",
              "</table>\n",
              "<p>140 rows × 1 columns</p>\n",
              "</div>"
            ],
            "text/plain": [
              "           rating\n",
              "item_id          \n",
              "53       3.714381\n",
              "105      3.711223\n",
              "89       3.606506\n",
              "129      3.583496\n",
              "35       3.560305\n",
              "...           ...\n",
              "16      -1.587044\n",
              "5       -1.756331\n",
              "7       -1.809230\n",
              "124     -2.163482\n",
              "141     -2.749574\n",
              "\n",
              "[140 rows x 1 columns]"
            ]
          },
          "metadata": {
            "tags": []
          },
          "execution_count": 26
        }
      ]
    },
    {
      "cell_type": "markdown",
      "metadata": {
        "id": "K4Aho3Lj1n29"
      },
      "source": [
        "Remove items with less than 200 ratings and users that have rated less than 130 times:\n"
      ]
    },
    {
      "cell_type": "code",
      "metadata": {
        "id": "sZgWMzLU1wl9",
        "colab": {
          "base_uri": "https://localhost:8080/"
        },
        "outputId": "63631348-4b83-43d4-971c-57937670496d"
      },
      "source": [
        "min_item_ratings = 200\n",
        "filter_items = df['item_id'].value_counts() > min_item_ratings\n",
        "filter_items = filter_items[filter_items].index.tolist()\n",
        "\n",
        "min_user_ratings = 130\n",
        "filter_users = df['user_id'].value_counts() > min_user_ratings\n",
        "filter_users = filter_users[filter_users].index.tolist()\n",
        "\n",
        "df_small = df[(df['item_id'].isin(filter_items)) & (df['user_id'].isin(filter_users))]\n",
        "print('The original data frame shape:\\t{}'.format(df.shape))\n",
        "print('The new data frame shape:\\t{}'.format(df_small.shape))"
      ],
      "execution_count": 27,
      "outputs": [
        {
          "output_type": "stream",
          "text": [
            "The original data frame shape:\t(1761439, 4)\n",
            "The new data frame shape:\t(1325, 4)\n"
          ],
          "name": "stdout"
        }
      ]
    },
    {
      "cell_type": "markdown",
      "metadata": {
        "id": "wfRlILwzbP8r"
      },
      "source": [
        "Check how many users and and items are there in the dataset:"
      ]
    },
    {
      "cell_type": "code",
      "metadata": {
        "id": "gQEV-g5NZeq0",
        "colab": {
          "base_uri": "https://localhost:8080/"
        },
        "outputId": "fc801d85-9bcc-4ba7-8f96-b42081ba8bf4"
      },
      "source": [
        "print(\"Number of users in the reduced database = \" + str(df_small[\"user_id\"].nunique()))\n",
        "print(\"Number of items in the reduced database = \" + str(df_small[\"item_id\"].nunique()))"
      ],
      "execution_count": 28,
      "outputs": [
        {
          "output_type": "stream",
          "text": [
            "Number of users in the reduced database = 10\n",
            "Number of items in the reduced database = 133\n"
          ],
          "name": "stdout"
        }
      ]
    },
    {
      "cell_type": "code",
      "metadata": {
        "id": "7d3nNPDu20cA",
        "colab": {
          "base_uri": "https://localhost:8080/",
          "height": 195
        },
        "outputId": "f5de0062-d244-43c9-eb09-6653dfa150a0"
      },
      "source": [
        "df_small.head()"
      ],
      "execution_count": 29,
      "outputs": [
        {
          "output_type": "execute_result",
          "data": {
            "text/html": [
              "<div>\n",
              "<style scoped>\n",
              "    .dataframe tbody tr th:only-of-type {\n",
              "        vertical-align: middle;\n",
              "    }\n",
              "\n",
              "    .dataframe tbody tr th {\n",
              "        vertical-align: top;\n",
              "    }\n",
              "\n",
              "    .dataframe thead th {\n",
              "        text-align: right;\n",
              "    }\n",
              "</style>\n",
              "<table border=\"1\" class=\"dataframe\">\n",
              "  <thead>\n",
              "    <tr style=\"text-align: right;\">\n",
              "      <th></th>\n",
              "      <th>user_id</th>\n",
              "      <th>item_id</th>\n",
              "      <th>rating</th>\n",
              "      <th>timestamp</th>\n",
              "    </tr>\n",
              "  </thead>\n",
              "  <tbody>\n",
              "    <tr>\n",
              "      <th>1568</th>\n",
              "      <td>46</td>\n",
              "      <td>5</td>\n",
              "      <td>6.469</td>\n",
              "      <td>None</td>\n",
              "    </tr>\n",
              "    <tr>\n",
              "      <th>1569</th>\n",
              "      <td>46</td>\n",
              "      <td>7</td>\n",
              "      <td>-6.781</td>\n",
              "      <td>None</td>\n",
              "    </tr>\n",
              "    <tr>\n",
              "      <th>1570</th>\n",
              "      <td>46</td>\n",
              "      <td>8</td>\n",
              "      <td>8.625</td>\n",
              "      <td>None</td>\n",
              "    </tr>\n",
              "    <tr>\n",
              "      <th>1571</th>\n",
              "      <td>46</td>\n",
              "      <td>13</td>\n",
              "      <td>-8.062</td>\n",
              "      <td>None</td>\n",
              "    </tr>\n",
              "    <tr>\n",
              "      <th>1572</th>\n",
              "      <td>46</td>\n",
              "      <td>15</td>\n",
              "      <td>-4.156</td>\n",
              "      <td>None</td>\n",
              "    </tr>\n",
              "  </tbody>\n",
              "</table>\n",
              "</div>"
            ],
            "text/plain": [
              "     user_id item_id  rating timestamp\n",
              "1568      46       5   6.469      None\n",
              "1569      46       7  -6.781      None\n",
              "1570      46       8   8.625      None\n",
              "1571      46      13  -8.062      None\n",
              "1572      46      15  -4.156      None"
            ]
          },
          "metadata": {
            "tags": []
          },
          "execution_count": 29
        }
      ]
    },
    {
      "cell_type": "markdown",
      "metadata": {
        "id": "9IdzsL8ydlwm"
      },
      "source": [
        "Represent the distribution of number of users with a certain number of ratings:"
      ]
    },
    {
      "cell_type": "code",
      "metadata": {
        "id": "EUVqegRRd2Se",
        "colab": {
          "base_uri": "https://localhost:8080/",
          "height": 592
        },
        "outputId": "5779eb7e-b4cf-47db-fbc6-d38397572475"
      },
      "source": [
        "import matplotlib.pyplot as plt\n",
        "\n",
        "v = df['user_id'].value_counts()\n",
        "\n",
        "fig = plt.figure(figsize=(14,10))\n",
        "plt.hist(v,20)\n",
        "plt.show()"
      ],
      "execution_count": 30,
      "outputs": [
        {
          "output_type": "display_data",
          "data": {
            "image/png": "[encoded data removed]",
            "text/plain": [
              "<Figure size 1008x720 with 1 Axes>"
            ]
          },
          "metadata": {
            "tags": [],
            "needs_background": "light"
          }
        }
      ]
    },
    {
      "cell_type": "markdown",
      "metadata": {
        "id": "rOq0biXmged6"
      },
      "source": [
        "Identify a joke with a rating of 10"
      ]
    },
    {
      "cell_type": "code",
      "metadata": {
        "id": "fR6PMvWmgieS",
        "colab": {
          "base_uri": "https://localhost:8080/",
          "height": 195
        },
        "outputId": "f36eee19-ee73-4bc6-e740-ae2bac5e50c2"
      },
      "source": [
        "df_best = df.loc[df[\"rating\"]==10]\n",
        "df_best.head()"
      ],
      "execution_count": 31,
      "outputs": [
        {
          "output_type": "execute_result",
          "data": {
            "text/html": [
              "<div>\n",
              "<style scoped>\n",
              "    .dataframe tbody tr th:only-of-type {\n",
              "        vertical-align: middle;\n",
              "    }\n",
              "\n",
              "    .dataframe tbody tr th {\n",
              "        vertical-align: top;\n",
              "    }\n",
              "\n",
              "    .dataframe thead th {\n",
              "        text-align: right;\n",
              "    }\n",
              "</style>\n",
              "<table border=\"1\" class=\"dataframe\">\n",
              "  <thead>\n",
              "    <tr style=\"text-align: right;\">\n",
              "      <th></th>\n",
              "      <th>user_id</th>\n",
              "      <th>item_id</th>\n",
              "      <th>rating</th>\n",
              "      <th>timestamp</th>\n",
              "    </tr>\n",
              "  </thead>\n",
              "  <tbody>\n",
              "    <tr>\n",
              "      <th>755</th>\n",
              "      <td>17</td>\n",
              "      <td>17</td>\n",
              "      <td>10.0</td>\n",
              "      <td>None</td>\n",
              "    </tr>\n",
              "    <tr>\n",
              "      <th>758</th>\n",
              "      <td>17</td>\n",
              "      <td>20</td>\n",
              "      <td>10.0</td>\n",
              "      <td>None</td>\n",
              "    </tr>\n",
              "    <tr>\n",
              "      <th>766</th>\n",
              "      <td>17</td>\n",
              "      <td>35</td>\n",
              "      <td>10.0</td>\n",
              "      <td>None</td>\n",
              "    </tr>\n",
              "    <tr>\n",
              "      <th>771</th>\n",
              "      <td>17</td>\n",
              "      <td>49</td>\n",
              "      <td>10.0</td>\n",
              "      <td>None</td>\n",
              "    </tr>\n",
              "    <tr>\n",
              "      <th>2571</th>\n",
              "      <td>65</td>\n",
              "      <td>8</td>\n",
              "      <td>10.0</td>\n",
              "      <td>None</td>\n",
              "    </tr>\n",
              "  </tbody>\n",
              "</table>\n",
              "</div>"
            ],
            "text/plain": [
              "     user_id item_id  rating timestamp\n",
              "755       17      17    10.0      None\n",
              "758       17      20    10.0      None\n",
              "766       17      35    10.0      None\n",
              "771       17      49    10.0      None\n",
              "2571      65       8    10.0      None"
            ]
          },
          "metadata": {
            "tags": []
          },
          "execution_count": 31
        }
      ]
    },
    {
      "cell_type": "code",
      "metadata": {
        "id": "ZeR8b6SMiCDz",
        "colab": {
          "base_uri": "https://localhost:8080/",
          "height": 195
        },
        "outputId": "884bc3c6-752f-4fc9-fcf4-b19d23435408"
      },
      "source": [
        "df_worst = df.loc[df[\"rating\"]==-10]\n",
        "df_best.head()"
      ],
      "execution_count": 32,
      "outputs": [
        {
          "output_type": "execute_result",
          "data": {
            "text/html": [
              "<div>\n",
              "<style scoped>\n",
              "    .dataframe tbody tr th:only-of-type {\n",
              "        vertical-align: middle;\n",
              "    }\n",
              "\n",
              "    .dataframe tbody tr th {\n",
              "        vertical-align: top;\n",
              "    }\n",
              "\n",
              "    .dataframe thead th {\n",
              "        text-align: right;\n",
              "    }\n",
              "</style>\n",
              "<table border=\"1\" class=\"dataframe\">\n",
              "  <thead>\n",
              "    <tr style=\"text-align: right;\">\n",
              "      <th></th>\n",
              "      <th>user_id</th>\n",
              "      <th>item_id</th>\n",
              "      <th>rating</th>\n",
              "      <th>timestamp</th>\n",
              "    </tr>\n",
              "  </thead>\n",
              "  <tbody>\n",
              "    <tr>\n",
              "      <th>755</th>\n",
              "      <td>17</td>\n",
              "      <td>17</td>\n",
              "      <td>10.0</td>\n",
              "      <td>None</td>\n",
              "    </tr>\n",
              "    <tr>\n",
              "      <th>758</th>\n",
              "      <td>17</td>\n",
              "      <td>20</td>\n",
              "      <td>10.0</td>\n",
              "      <td>None</td>\n",
              "    </tr>\n",
              "    <tr>\n",
              "      <th>766</th>\n",
              "      <td>17</td>\n",
              "      <td>35</td>\n",
              "      <td>10.0</td>\n",
              "      <td>None</td>\n",
              "    </tr>\n",
              "    <tr>\n",
              "      <th>771</th>\n",
              "      <td>17</td>\n",
              "      <td>49</td>\n",
              "      <td>10.0</td>\n",
              "      <td>None</td>\n",
              "    </tr>\n",
              "    <tr>\n",
              "      <th>2571</th>\n",
              "      <td>65</td>\n",
              "      <td>8</td>\n",
              "      <td>10.0</td>\n",
              "      <td>None</td>\n",
              "    </tr>\n",
              "  </tbody>\n",
              "</table>\n",
              "</div>"
            ],
            "text/plain": [
              "     user_id item_id  rating timestamp\n",
              "755       17      17    10.0      None\n",
              "758       17      20    10.0      None\n",
              "766       17      35    10.0      None\n",
              "771       17      49    10.0      None\n",
              "2571      65       8    10.0      None"
            ]
          },
          "metadata": {
            "tags": []
          },
          "execution_count": 32
        }
      ]
    },
    {
      "cell_type": "code",
      "metadata": {
        "id": "IleHxi-hhZOj",
        "colab": {
          "base_uri": "https://localhost:8080/"
        },
        "outputId": "eae127e0-321f-4246-e059-e99a2d27017d"
      },
      "source": [
        "df_best['item_id'].unique().shape[0]"
      ],
      "execution_count": 33,
      "outputs": [
        {
          "output_type": "execute_result",
          "data": {
            "text/plain": [
              "133"
            ]
          },
          "metadata": {
            "tags": []
          },
          "execution_count": 33
        }
      ]
    },
    {
      "cell_type": "code",
      "metadata": {
        "id": "ZZX0F_27h_AZ",
        "colab": {
          "base_uri": "https://localhost:8080/"
        },
        "outputId": "b362ca15-5577-4536-add1-6d24ad2da571"
      },
      "source": [
        "df['item_id'].unique().shape[0]"
      ],
      "execution_count": 34,
      "outputs": [
        {
          "output_type": "execute_result",
          "data": {
            "text/plain": [
              "140"
            ]
          },
          "metadata": {
            "tags": []
          },
          "execution_count": 34
        }
      ]
    },
    {
      "cell_type": "markdown",
      "metadata": {
        "id": "JihO3wGq3cAx"
      },
      "source": [
        "## Load data again from the reduced dataframe:"
      ]
    },
    {
      "cell_type": "code",
      "metadata": {
        "id": "LGfRkoZK3fdf"
      },
      "source": [
        "from surprise import Reader \n",
        "reader = Reader(rating_scale=(-10, 10))\n",
        "data_small = Dataset.load_from_df(df_small[['user_id', 'item_id', 'rating']], reader)"
      ],
      "execution_count": 35,
      "outputs": []
    },
    {
      "cell_type": "markdown",
      "metadata": {
        "id": "fhP69M4tbn4s"
      },
      "source": [
        "# Exercise 2: Different ways to fit a recommender systems:\n",
        "\n",
        "---\n",
        "\n",
        "\n",
        "\n",
        "---\n",
        "\n",
        "\n",
        "\n",
        "## a) Training with the whole reduced dataset\n",
        "\n",
        "First, create a trainable set using the build_full_trainset() method from surpise libraries:\n",
        "\n",
        "https://surprise.readthedocs.io/en/stable/dataset.html#surprise.dataset.DatasetAutoFolds.build_full_trainset\n",
        "\n"
      ]
    },
    {
      "cell_type": "code",
      "metadata": {
        "id": "RsKG-WXCW4vN"
      },
      "source": [
        "trainset = data_small.build_full_trainset()"
      ],
      "execution_count": 37,
      "outputs": []
    },
    {
      "cell_type": "markdown",
      "metadata": {
        "id": "xusfnM1McS8I"
      },
      "source": [
        "Now fit a SVD model-based recommender algorithm:\n",
        "\n"
      ]
    },
    {
      "cell_type": "code",
      "metadata": {
        "id": "CBpdZqzycMWC",
        "colab": {
          "base_uri": "https://localhost:8080/"
        },
        "outputId": "544dd0ce-023b-43b6-e075-1fd0fcaff847"
      },
      "source": [
        "from surprise import KNNBasic\n",
        "\n",
        "rec_knn = KNNBasic()\n",
        "rec_knn.fit(trainset)"
      ],
      "execution_count": 42,
      "outputs": [
        {
          "output_type": "stream",
          "text": [
            "Computing the msd similarity matrix...\n",
            "Done computing similarity matrix.\n"
          ],
          "name": "stdout"
        },
        {
          "output_type": "execute_result",
          "data": {
            "text/plain": [
              "<surprise.prediction_algorithms.knns.KNNBasic at 0x7f423f1f9f10>"
            ]
          },
          "metadata": {
            "tags": []
          },
          "execution_count": 42
        }
      ]
    },
    {
      "cell_type": "markdown",
      "metadata": {
        "id": "Ux5UVg-WcqlO"
      },
      "source": [
        "Predict the ranking of a certain item item_id from a certain user user_id"
      ]
    },
    {
      "cell_type": "code",
      "metadata": {
        "id": "8iT-r9Rt-6s8",
        "colab": {
          "base_uri": "https://localhost:8080/"
        },
        "outputId": "45c3d70c-cfef-459c-8416-b79aff13632b"
      },
      "source": [
        "raw_data = data_small.raw_ratings\n",
        "print(raw_data[10])"
      ],
      "execution_count": 43,
      "outputs": [
        {
          "output_type": "stream",
          "text": [
            "('46', '44', 6.75, None)\n"
          ],
          "name": "stdout"
        }
      ]
    },
    {
      "cell_type": "code",
      "metadata": {
        "id": "1TUKc3xpcZ2t",
        "colab": {
          "base_uri": "https://localhost:8080/"
        },
        "outputId": "0a6bd018-42a7-4a23-bf44-c6df360697ab"
      },
      "source": [
        "user_id = str(46)  # raw user id (as in the ratings file). They are **strings**!\n",
        "item_id = str(44)  # raw item id (as in the ratings file). They are **strings**!\n",
        "true_ranking = 6.75\n",
        "\n",
        "pred_svd = rec_knn.predict(user_id, item_id,r_ui=true_ranking,verbose=True)\n"
      ],
      "execution_count": 44,
      "outputs": [
        {
          "output_type": "stream",
          "text": [
            "user: 46         item: 44         r_ui = 6.75   est = 5.71   {'actual_k': 10, 'was_impossible': False}\n"
          ],
          "name": "stdout"
        }
      ]
    },
    {
      "cell_type": "markdown",
      "metadata": {
        "id": "QOOCYMT8lgkx"
      },
      "source": [
        "Evaluate performance using training set:"
      ]
    },
    {
      "cell_type": "code",
      "metadata": {
        "id": "tODPjyrulszt",
        "colab": {
          "base_uri": "https://localhost:8080/"
        },
        "outputId": "e3fdd760-238a-4a24-c40c-82fa7fbaf32e"
      },
      "source": [
        "from surprise import accuracy\n",
        "\n",
        "testset = trainset.build_testset()\n",
        "train_pred = rec_knn.test(testset)\n",
        "accuracy.rmse(train_pred)\n",
        "accuracy.mae(train_pred)\n",
        "accuracy.mse(train_pred)"
      ],
      "execution_count": 45,
      "outputs": [
        {
          "output_type": "stream",
          "text": [
            "RMSE: 0.8176\n",
            "MAE:  0.6716\n",
            "MSE: 0.6684\n"
          ],
          "name": "stdout"
        },
        {
          "output_type": "execute_result",
          "data": {
            "text/plain": [
              "0.6683908853855879"
            ]
          },
          "metadata": {
            "tags": []
          },
          "execution_count": 45
        }
      ]
    },
    {
      "cell_type": "markdown",
      "metadata": {
        "id": "wzGfLHiHndVk"
      },
      "source": [
        "If we evaluate the performance with the training set we get a very low prediction error since the observations user to construct the model are also used to test it. This is not the normal procedure in machine learning. Instead, \n",
        "we split the dataset in training and test subsets. Let's see what happens when applying different propostions for the training and test subsets. \n"
      ]
    },
    {
      "cell_type": "markdown",
      "metadata": {
        "id": "V-qeR-brljvQ"
      },
      "source": [
        "## b) Split training and test with different proportions:"
      ]
    },
    {
      "cell_type": "code",
      "metadata": {
        "id": "0Ydg9c6jc8fY",
        "colab": {
          "base_uri": "https://localhost:8080/"
        },
        "outputId": "e7a5c6a3-88b1-42c9-fd0e-2c4c26254838"
      },
      "source": [
        "from surprise.model_selection import train_test_split\n",
        "\n",
        "print('90% training 10% test:')\n",
        "trainset, testset = train_test_split(data_small, test_size=.1)\n",
        "rec_knn.fit(trainset)\n",
        "train_pred = rec_knn.test(testset)\n",
        "accuracy.rmse(train_pred)\n",
        "accuracy.mae(train_pred)\n",
        "accuracy.mse(train_pred)\n"
      ],
      "execution_count": 46,
      "outputs": [
        {
          "output_type": "stream",
          "text": [
            "90% training 10% test:\n",
            "Computing the msd similarity matrix...\n",
            "Done computing similarity matrix.\n",
            "RMSE: 4.9395\n",
            "MAE:  3.8972\n",
            "MSE: 24.3984\n"
          ],
          "name": "stdout"
        },
        {
          "output_type": "execute_result",
          "data": {
            "text/plain": [
              "24.398386893526943"
            ]
          },
          "metadata": {
            "tags": []
          },
          "execution_count": 46
        }
      ]
    },
    {
      "cell_type": "markdown",
      "metadata": {
        "id": "ycBwuHqNoNxp"
      },
      "source": [
        "## c) Cross-validation:\n",
        "\n",
        "Let's evaluate the performance using a 5-fold cross-validation (cv=5) procedure:\n"
      ]
    },
    {
      "cell_type": "code",
      "metadata": {
        "id": "8zP9d2yrmW1X",
        "colab": {
          "base_uri": "https://localhost:8080/"
        },
        "outputId": "bb59ff49-ba0f-4558-c9cb-51e62feab13f"
      },
      "source": [
        "cross_validate(rec_knn, data_small, measures=['RMSE', 'MAE','MSE'], cv=5, verbose=True)"
      ],
      "execution_count": 47,
      "outputs": [
        {
          "output_type": "stream",
          "text": [
            "Computing the msd similarity matrix...\n",
            "Done computing similarity matrix.\n",
            "Computing the msd similarity matrix...\n",
            "Done computing similarity matrix.\n",
            "Computing the msd similarity matrix...\n",
            "Done computing similarity matrix.\n",
            "Computing the msd similarity matrix...\n",
            "Done computing similarity matrix.\n",
            "Computing the msd similarity matrix...\n",
            "Done computing similarity matrix.\n",
            "Evaluating RMSE, MAE, MSE of algorithm KNNBasic on 5 split(s).\n",
            "\n",
            "                  Fold 1  Fold 2  Fold 3  Fold 4  Fold 5  Mean    Std     \n",
            "RMSE (testset)    4.8372  4.8729  4.8704  5.0282  5.1498  4.9517  0.1192  \n",
            "MAE (testset)     3.9624  3.9885  3.8417  4.1421  4.1310  4.0131  0.1123  \n",
            "MSE (testset)     23.3987 23.7452 23.7208 25.2829 26.5207 24.5337 1.1899  \n",
            "Fit time          0.01    0.00    0.00    0.00    0.00    0.00    0.00    \n",
            "Test time         0.01    0.00    0.00    0.00    0.00    0.01    0.00    \n"
          ],
          "name": "stdout"
        },
        {
          "output_type": "execute_result",
          "data": {
            "text/plain": [
              "{'fit_time': (0.005127429962158203,\n",
              "  0.0011548995971679688,\n",
              "  0.0005578994750976562,\n",
              "  0.0004975795745849609,\n",
              "  0.00046515464782714844),\n",
              " 'test_mae': array([3.96242351, 3.98845601, 3.84166482, 4.14206843, 4.13098249]),\n",
              " 'test_mse': array([23.39874638, 23.74520891, 23.72081062, 25.28288482, 26.52065607]),\n",
              " 'test_rmse': array([4.83722507, 4.87290559, 4.87040148, 5.02820891, 5.14982097]),\n",
              " 'test_time': (0.0077397823333740234,\n",
              "  0.004480123519897461,\n",
              "  0.00438690185546875,\n",
              "  0.0043010711669921875,\n",
              "  0.004441261291503906)}"
            ]
          },
          "metadata": {
            "tags": []
          },
          "execution_count": 47
        }
      ]
    },
    {
      "cell_type": "markdown",
      "metadata": {
        "id": "a7EYEGcPprXJ"
      },
      "source": [
        "The average results of the cv procedure indicate that the performance is closer to the one obtained with a train-test split of the 75% - 25%. Note that the cross-validation procedure provides an estimate of the standard deviation of each error score. "
      ]
    }
  ]
}