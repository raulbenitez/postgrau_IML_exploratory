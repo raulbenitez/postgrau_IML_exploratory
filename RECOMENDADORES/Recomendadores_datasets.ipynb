{
  "nbformat": 4,
  "nbformat_minor": 0,
  "metadata": {
    "colab": {
      "name": "Recomendadores_datasets.ipynb",
      "provenance": [],
      "authorship_tag": "ABX9TyPJSjDzbpslP6cpmjKUyBsv",
      "include_colab_link": true
    },
    "kernelspec": {
      "name": "python3",
      "display_name": "Python 3"
    },
    "language_info": {
      "name": "python"
    }
  },
  "cells": [
    {
      "cell_type": "markdown",
      "metadata": {
        "id": "view-in-github",
        "colab_type": "text"
      },
      "source": [
        "<a href=\"https://colab.research.google.com/github/raulbenitez/postgrau_IML_exploratory/blob/master/RECOMENDADORES/Recomendadores_datasets.ipynb\" target=\"_parent\"><img src=\"https://colab.research.google.com/assets/colab-badge.svg\" alt=\"Open In Colab\"/></a>"
      ]
    },
    {
      "cell_type": "code",
      "metadata": {
        "id": "6U3uucQwaRi8"
      },
      "source": [
        ""
      ],
      "execution_count": null,
      "outputs": []
    },
    {
      "cell_type": "markdown",
      "metadata": {
        "id": "dkVBeFDxAWwz"
      },
      "source": [
        "This module describes how we can define a dataset in surprise, (down)load it and explore their data\n"
      ]
    },
    {
      "cell_type": "markdown",
      "metadata": {
        "id": "FpNBuQ_qAWwz"
      },
      "source": [
        "As with any python library we will start with the imports, in this case we only need the dataset module: <br>\n",
        "https://surprise.readthedocs.io/en/stable/dataset.html"
      ]
    },
    {
      "cell_type": "code",
      "metadata": {
        "colab": {
          "base_uri": "https://localhost:8080/"
        },
        "id": "yhjkweQQA0wG",
        "outputId": "8304851e-8f75-4301-e584-5a5d37b2b873"
      },
      "source": [
        "!pip install scikit-surprise"
      ],
      "execution_count": null,
      "outputs": [
        {
          "output_type": "stream",
          "text": [
            "Collecting scikit-surprise\n",
            "\u001b[?25l  Downloading https://files.pythonhosted.org/packages/97/37/5d334adaf5ddd65da99fc65f6507e0e4599d092ba048f4302fe8775619e8/scikit-surprise-1.1.1.tar.gz (11.8MB)\n",
            "\u001b[K     |████████████████████████████████| 11.8MB 3.3MB/s \n",
            "\u001b[?25hRequirement already satisfied: joblib>=0.11 in /usr/local/lib/python3.6/dist-packages (from scikit-surprise) (1.0.0)\n",
            "Requirement already satisfied: numpy>=1.11.2 in /usr/local/lib/python3.6/dist-packages (from scikit-surprise) (1.19.5)\n",
            "Requirement already satisfied: scipy>=1.0.0 in /usr/local/lib/python3.6/dist-packages (from scikit-surprise) (1.4.1)\n",
            "Requirement already satisfied: six>=1.10.0 in /usr/local/lib/python3.6/dist-packages (from scikit-surprise) (1.15.0)\n",
            "Building wheels for collected packages: scikit-surprise\n",
            "  Building wheel for scikit-surprise (setup.py) ... \u001b[?25l\u001b[?25hdone\n",
            "  Created wheel for scikit-surprise: filename=scikit_surprise-1.1.1-cp36-cp36m-linux_x86_64.whl size=1618278 sha256=822533c3aff376e4e4ba270d97117ee293e3b1cdaab0c782530738b5c697b879\n",
            "  Stored in directory: /root/.cache/pip/wheels/78/9c/3d/41b419c9d2aff5b6e2b4c0fc8d25c538202834058f9ed110d0\n",
            "Successfully built scikit-surprise\n",
            "Installing collected packages: scikit-surprise\n",
            "Successfully installed scikit-surprise-1.1.1\n"
          ],
          "name": "stdout"
        }
      ]
    },
    {
      "cell_type": "code",
      "metadata": {
        "id": "m9JhPiZ5AWw0"
      },
      "source": [
        "from surprise import Dataset"
      ],
      "execution_count": null,
      "outputs": []
    },
    {
      "cell_type": "markdown",
      "metadata": {
        "id": "dHbZ6Y_AAWw0"
      },
      "source": [
        "The first step to train a model is obtain the data needed for the experiment <br>\n",
        "in surprise there are two options (more information in: https://surprise.readthedocs.io/en/stable/dataset.html):\n",
        "* define your dataset (user-defined dataset)\n",
        "* use a predefined ones (built-in) <br>\n",
        "\n"
      ]
    },
    {
      "cell_type": "markdown",
      "metadata": {
        "id": "3OV5qiaXAWw1"
      },
      "source": [
        "## Load a predefined dataset\n",
        "In this course we will work with the dataset structure and the built-in datasets defined with surprise that makes the data handling really easy, <br> \n",
        "Right now, three built-in datasets are available: ml-100k, ml-1m, jester. <br>\n",
        "*  ml-100k: MovieLens 100K movie ratings. 100,000 ratings from 1000 users on 1700 movies <br>\n",
        "*  ml-1m: MovieLens 1M movie ratings. 1 million ratings from 6000 users on 4000 movies <br>\n",
        "*  jester: Jester dataset 2 joke dataset. over 115,000 new ratings from 82,366 total users <br>\n",
        "\n",
        "In this first notebook we will explore MovieLens dataset that we will use over the course: ml-100k."
      ]
    },
    {
      "cell_type": "code",
      "metadata": {
        "id": "Rw8fiR9KAWw1"
      },
      "source": [
        "# valid options: ml-100k, ml-1m, jester.\n",
        "dataset_experiment = \"ml-100k\"  \n"
      ],
      "execution_count": null,
      "outputs": []
    },
    {
      "cell_type": "markdown",
      "metadata": {
        "id": "D2l-VCWOAWw1"
      },
      "source": [
        "Load the movielens-100k dataset <br>\n",
        "It will be automatically downloaded the first time\n"
      ]
    },
    {
      "cell_type": "code",
      "metadata": {
        "colab": {
          "base_uri": "https://localhost:8080/"
        },
        "id": "8Iz8TOMmAWw2",
        "outputId": "d6f7899c-5e37-4eec-8b13-0c136f199749"
      },
      "source": [
        "data = Dataset.load_builtin(dataset_experiment)"
      ],
      "execution_count": null,
      "outputs": [
        {
          "output_type": "stream",
          "text": [
            "Dataset ml-100k could not be found. Do you want to download it? [Y/n] Y\n",
            "Trying to download dataset from http://files.grouplens.org/datasets/movielens/ml-100k.zip...\n",
            "Done! Dataset ml-100k has been saved to /root/.surprise_data/ml-100k\n"
          ],
          "name": "stdout"
        }
      ]
    },
    {
      "cell_type": "markdown",
      "metadata": {
        "id": "_9vkoEMeAWw2"
      },
      "source": [
        "Surprise allows extract the raw contents of a dataset with the raw_ratings instruction:\n"
      ]
    },
    {
      "cell_type": "code",
      "metadata": {
        "id": "6Wump420AWw2"
      },
      "source": [
        "raw_data = data.raw_ratings"
      ],
      "execution_count": null,
      "outputs": []
    },
    {
      "cell_type": "markdown",
      "metadata": {
        "id": "BRezbaLgAWw2"
      },
      "source": [
        "Lets print the first 3 values of the raw_data:"
      ]
    },
    {
      "cell_type": "code",
      "metadata": {
        "colab": {
          "base_uri": "https://localhost:8080/"
        },
        "id": "ef5ZatL-AWw3",
        "outputId": "44914046-73f9-488b-a3e1-964c49077623"
      },
      "source": [
        "print(\"Each entry has the columns: user_id, item_id,  rating and timestamp\")\n",
        "print(raw_data[0])\n",
        "print(raw_data[1])\n",
        "print(raw_data[2])\n",
        "print(\"\\n\")"
      ],
      "execution_count": null,
      "outputs": [
        {
          "output_type": "stream",
          "text": [
            "Each entry has the columns: user_id, item_id,  rating and timestamp\n",
            "('196', '242', 3.0, '881250949')\n",
            "('186', '302', 3.0, '891717742')\n",
            "('22', '377', 1.0, '878887116')\n",
            "\n",
            "\n"
          ],
          "name": "stdout"
        }
      ]
    },
    {
      "cell_type": "markdown",
      "metadata": {
        "id": "b5Z-b5c2AWw4"
      },
      "source": [
        "## Pandas"
      ]
    },
    {
      "cell_type": "markdown",
      "metadata": {
        "id": "O19ofvGyAWw4"
      },
      "source": [
        "To further explore the dataset we will use the pandas module which allows the handling of data organized in rows <br>\n",
        "**Pandas is outside the scope of the course**, but it helps to view the contents of the dataset ( https://github.com/NicolasHug/Surprise/issues/254 )"
      ]
    },
    {
      "cell_type": "code",
      "metadata": {
        "id": "p-8kRunFAWw4"
      },
      "source": [
        "import pandas as pd\n",
        "data = Dataset.load_builtin('ml-100k')\n",
        "dataframe = pd.DataFrame(data.__dict__['raw_ratings'], columns=['user_id', 'item_id', 'rating', 'timestamp'])"
      ],
      "execution_count": null,
      "outputs": []
    },
    {
      "cell_type": "markdown",
      "metadata": {
        "id": "o_HO2HSXAWw4"
      },
      "source": [
        "Lets print all the information in the dataset:"
      ]
    },
    {
      "cell_type": "code",
      "metadata": {
        "colab": {
          "base_uri": "https://localhost:8080/"
        },
        "id": "f3YG1jJsAWw4",
        "outputId": "827c2b10-158f-4910-98d6-ad3e56aa38d4"
      },
      "source": [
        "print(\"Dataframe contents:\")\n",
        "print(dataframe)\n",
        "print(\"\\n\")"
      ],
      "execution_count": null,
      "outputs": [
        {
          "output_type": "stream",
          "text": [
            "Dataframe contents:\n",
            "      user_id item_id  rating  timestamp\n",
            "0         196     242     3.0  881250949\n",
            "1         186     302     3.0  891717742\n",
            "2          22     377     1.0  878887116\n",
            "3         244      51     2.0  880606923\n",
            "4         166     346     1.0  886397596\n",
            "...       ...     ...     ...        ...\n",
            "99995     880     476     3.0  880175444\n",
            "99996     716     204     5.0  879795543\n",
            "99997     276    1090     1.0  874795795\n",
            "99998      13     225     2.0  882399156\n",
            "99999      12     203     3.0  879959583\n",
            "\n",
            "[100000 rows x 4 columns]\n",
            "\n",
            "\n"
          ],
          "name": "stdout"
        }
      ]
    },
    {
      "cell_type": "markdown",
      "metadata": {
        "id": "1t9BsH48AWw5"
      },
      "source": [
        "Lets access a particular row in the dataset:"
      ]
    },
    {
      "cell_type": "code",
      "metadata": {
        "colab": {
          "base_uri": "https://localhost:8080/"
        },
        "id": "-8U1aaiUAWw5",
        "outputId": "99228890-299d-402a-8997-ed99cafdaf07"
      },
      "source": [
        "print(\"Sample row in the dataset:\")\n",
        "print(dataframe.loc[0])\n",
        "print(\"\\n\")"
      ],
      "execution_count": null,
      "outputs": [
        {
          "output_type": "stream",
          "text": [
            "Sample row in the dataset:\n",
            "user_id            196\n",
            "item_id            242\n",
            "rating               3\n",
            "timestamp    881250949\n",
            "Name: 0, dtype: object\n",
            "\n",
            "\n"
          ],
          "name": "stdout"
        }
      ]
    },
    {
      "cell_type": "markdown",
      "metadata": {
        "id": "CJDUP5UOAWw5"
      },
      "source": [
        "Lets access a particular column in the dataset:"
      ]
    },
    {
      "cell_type": "code",
      "metadata": {
        "colab": {
          "base_uri": "https://localhost:8080/"
        },
        "id": "5RYI5VvmAWw5",
        "outputId": "580aeb52-579f-4b72-a2ce-6228ead4f6b3"
      },
      "source": [
        "print(\"Sample column (item_id) in the dataset (first 10 values):\")\n",
        "print(dataframe[\"item_id\"].head(10))\n",
        "print(\"\\n\")"
      ],
      "execution_count": null,
      "outputs": [
        {
          "output_type": "stream",
          "text": [
            "Sample column (item_id) in the dataset (first 10 values):\n",
            "0    242\n",
            "1    302\n",
            "2    377\n",
            "3     51\n",
            "4    346\n",
            "5    474\n",
            "6    265\n",
            "7    465\n",
            "8    451\n",
            "9     86\n",
            "Name: item_id, dtype: object\n",
            "\n",
            "\n"
          ],
          "name": "stdout"
        }
      ]
    },
    {
      "cell_type": "markdown",
      "metadata": {
        "id": "V9osMyk3AWw6"
      },
      "source": [
        "### Lets check some things on the dataset:\n",
        "\n",
        "(you can change the numbers to obtain different items)"
      ]
    },
    {
      "cell_type": "markdown",
      "metadata": {
        "id": "3P96d0EXAWw6"
      },
      "source": [
        "How many users have evaluated item \"51\"? "
      ]
    },
    {
      "cell_type": "code",
      "metadata": {
        "colab": {
          "base_uri": "https://localhost:8080/"
        },
        "id": "06FKuToxAWw6",
        "outputId": "25c8b80b-f43e-4de4-af02-9743a68be0dd"
      },
      "source": [
        "print(\"Number of ratings for item 51 in the database:\")\n",
        "print(dataframe.loc[dataframe['item_id'] == \"51\"])  # [81 rows x 4 columns]\n"
      ],
      "execution_count": null,
      "outputs": [
        {
          "output_type": "stream",
          "text": [
            "Number of ratings for item 51 in the database:\n",
            "      user_id item_id  rating  timestamp\n",
            "3         244      51     2.0  880606923\n",
            "780        85      51     2.0  879454782\n",
            "1614      201      51     2.0  884140751\n",
            "4469      198      51     3.0  884208455\n",
            "5158      330      51     5.0  876546753\n",
            "...       ...     ...     ...        ...\n",
            "94280     551      51     5.0  892784780\n",
            "96205     632      51     4.0  879459166\n",
            "96650     846      51     4.0  883949121\n",
            "97126     711      51     4.0  879994778\n",
            "98569     878      51     4.0  880869239\n",
            "\n",
            "[81 rows x 4 columns]\n"
          ],
          "name": "stdout"
        }
      ]
    },
    {
      "cell_type": "markdown",
      "metadata": {
        "id": "wo0OJ75SAWw6"
      },
      "source": [
        "How many evaluations have the user \"780\"?"
      ]
    },
    {
      "cell_type": "code",
      "metadata": {
        "colab": {
          "base_uri": "https://localhost:8080/"
        },
        "id": "6x4M3PNTAWw6",
        "outputId": "a9cb70ce-33ee-448b-86eb-11250c3e9d52"
      },
      "source": [
        "print(\"Number of ratings provided by user 780:\")\n",
        "print(len(dataframe.loc[dataframe['user_id'] == \"780\"]))  # 55 films evaluated"
      ],
      "execution_count": null,
      "outputs": [
        {
          "output_type": "stream",
          "text": [
            "Number of ratings provided by user 780:\n",
            "55\n"
          ],
          "name": "stdout"
        }
      ]
    },
    {
      "cell_type": "markdown",
      "metadata": {
        "id": "rbTV1v0iAWw7"
      },
      "source": [
        "## Stats"
      ]
    },
    {
      "cell_type": "markdown",
      "metadata": {
        "id": "jAVSL5OiAWw7"
      },
      "source": [
        "Lets check some values for the rating column:\n"
      ]
    },
    {
      "cell_type": "code",
      "metadata": {
        "colab": {
          "base_uri": "https://localhost:8080/"
        },
        "id": "LONeRBFeAWw7",
        "outputId": "5605acc2-f28b-4a53-aaf6-4fce175b9abe"
      },
      "source": [
        "print(\"Mean value of the rating column: \" + str(dataframe[\"rating\"].mean()))  # 3.52986\n",
        "print(\"Max value of the rating column: \" + str(dataframe[\"rating\"].max()))\n",
        "print(\"Min value of the rating column: \" + str(dataframe[\"rating\"].min())+\"\\n\")\n",
        "print(\"Number of diferent values in the rating column = \" + str(dataframe[\"rating\"].nunique()))"
      ],
      "execution_count": null,
      "outputs": [
        {
          "output_type": "stream",
          "text": [
            "Mean value of the rating column: 3.52986\n",
            "Max value of the rating column: 5.0\n",
            "Min value of the rating column: 1.0\n",
            "\n",
            "Number of diferent values in the rating column = 5\n"
          ],
          "name": "stdout"
        }
      ]
    },
    {
      "cell_type": "markdown",
      "metadata": {
        "id": "qnI0O991AWw7"
      },
      "source": [
        "And check the number of users and items in the database:\n"
      ]
    },
    {
      "cell_type": "code",
      "metadata": {
        "colab": {
          "base_uri": "https://localhost:8080/"
        },
        "id": "jpj2SNNjAWw7",
        "outputId": "6b73c15f-2153-4465-b105-7e7877212dae"
      },
      "source": [
        "print(\"Number of users in the database = \" + str(dataframe[\"user_id\"].nunique()))\n",
        "print(\"Number of items in the database = \" + str(dataframe[\"item_id\"].nunique()))"
      ],
      "execution_count": null,
      "outputs": [
        {
          "output_type": "stream",
          "text": [
            "Number of users in the database = 943\n",
            "Number of items in the database = 1682\n"
          ],
          "name": "stdout"
        }
      ]
    },
    {
      "cell_type": "code",
      "metadata": {
        "id": "6v-W1oIoAWw8"
      },
      "source": [
        ""
      ],
      "execution_count": null,
      "outputs": []
    },
    {
      "cell_type": "code",
      "metadata": {
        "id": "JFe0Ag-tAWw8"
      },
      "source": [
        ""
      ],
      "execution_count": null,
      "outputs": []
    }
  ]
}