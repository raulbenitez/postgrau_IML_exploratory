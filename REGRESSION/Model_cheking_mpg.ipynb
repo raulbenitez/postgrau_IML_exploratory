{
  "nbformat": 4,
  "nbformat_minor": 0,
  "metadata": {
    "colab": {
      "name": "Model_cheking_mpg.ipynb",
      "provenance": [],
      "authorship_tag": "ABX9TyM8nC9G0o1xeEx62VEG5ASW",
      "include_colab_link": true
    },
    "kernelspec": {
      "name": "python3",
      "display_name": "Python 3"
    },
    "language_info": {
      "name": "python"
    }
  },
  "cells": [
    {
      "cell_type": "markdown",
      "metadata": {
        "id": "view-in-github",
        "colab_type": "text"
      },
      "source": [
        "<a href=\"https://colab.research.google.com/github/raulbenitez/postgrau_IML_exploratory/blob/master/REGRESSION/Model_cheking_mpg.ipynb\" target=\"_parent\"><img src=\"https://colab.research.google.com/assets/colab-badge.svg\" alt=\"Open In Colab\"/></a>"
      ]
    },
    {
      "cell_type": "markdown",
      "source": [
        "Cargar datos y ajustar modelo regresión lineal"
      ],
      "metadata": {
        "id": "zKh3BLspaNK7"
      }
    },
    {
      "cell_type": "code",
      "execution_count": 11,
      "metadata": {
        "colab": {
          "base_uri": "https://localhost:8080/"
        },
        "id": "JQ-0b6DwZgx9",
        "outputId": "e51da0ad-010f-4826-cfd3-843f6ac239ff"
      },
      "outputs": [
        {
          "output_type": "stream",
          "name": "stderr",
          "text": [
            "/usr/local/lib/python3.7/dist-packages/statsmodels/tsa/tsatools.py:117: FutureWarning: In a future version of pandas all arguments of concat except for the argument 'objs' will be keyword-only\n",
            "  x = pd.concat(x[::order], 1)\n"
          ]
        }
      ],
      "source": [
        "import pandas as pd \n",
        "import seaborn as sns \n",
        "import statsmodels.api as sm\n",
        "import matplotlib.pyplot as plt\n",
        "\n",
        "mpg = sns.load_dataset(\"mpg\")\n",
        "\n",
        "x = mpg['mpg']\n",
        "y = mpg['weight']\n",
        "X = sm.add_constant(x) # adds a first column to add an intercept (beta_0) to our model\n",
        "\n",
        "# Modelo 1 (Lineal): y = a*x + b\n",
        "model = sm.OLS(y, X)\n",
        "results = model.fit()"
      ]
    },
    {
      "cell_type": "markdown",
      "source": [
        "Visualizar los residuos"
      ],
      "metadata": {
        "id": "iSmr6onWaQF6"
      }
    },
    {
      "cell_type": "code",
      "source": [
        "fig = plt.figure(figsize=(10,6))\n",
        "plt.scatter(results.resid,results.fittedvalues)\n",
        "plt.title('Residuals vs Fitted values',fontsize=16)\n",
        "plt.ylabel('fitted values',fontsize=16)\n",
        "plt.xlabel('residuals',fontsize=16)\n",
        "plt.show()"
      ],
      "metadata": {
        "colab": {
          "base_uri": "https://localhost:8080/",
          "height": 411
        },
        "id": "tONDEfp4ZvSF",
        "outputId": "feaff496-eb34-4c3e-8ac0-c83906eafc0d"
      },
      "execution_count": 12,
      "outputs": [
        {
          "output_type": "display_data",
          "data": {
            "text/plain": [
              "<Figure size 720x432 with 1 Axes>"
            ],
            "image/png": "[encoded data removed]"
          },
          "metadata": {
            "needs_background": "light"
          }
        }
      ]
    },
    {
      "cell_type": "markdown",
      "source": [
        "Test de Homoscetasticidad "
      ],
      "metadata": {
        "id": "9JiuZ1UZaS6o"
      }
    },
    {
      "cell_type": "code",
      "source": [
        "lm,lmp,f,fp = sm.stats.diagnostic.het_breuschpagan(results.resid,model.exog)\n",
        "print('Lagrange multiplier p-value = {}'.format(lmp))\n",
        "print('F-score p-value = {}'.format(fp))"
      ],
      "metadata": {
        "colab": {
          "base_uri": "https://localhost:8080/"
        },
        "id": "a-2P3oVBaHiM",
        "outputId": "af8e163b-a13c-45ae-d015-5532c5247736"
      },
      "execution_count": 13,
      "outputs": [
        {
          "output_type": "stream",
          "name": "stdout",
          "text": [
            "Lagrange multiplier p-value = 0.8979088388121204\n",
            "F-score p-value = 0.898227144600199\n"
          ]
        }
      ]
    },
    {
      "cell_type": "markdown",
      "source": [
        "Seleccion de modelos con AIC"
      ],
      "metadata": {
        "id": "TMLw6JavhB1G"
      }
    },
    {
      "cell_type": "code",
      "source": [
        "import numpy as np\n",
        "import statsmodels.formula.api as smf\n",
        "\n",
        "degree = 3\n",
        "weights = np.polyfit(x, y, degree)\n",
        "model = np.poly1d(weights)\n",
        "results = smf.ols(formula='y ~ model(x)', data=mpg).fit()\n",
        "results.summary()"
      ],
      "metadata": {
        "colab": {
          "base_uri": "https://localhost:8080/",
          "height": 486
        },
        "id": "uPx2cKRnaY0k",
        "outputId": "3b6b7939-40a6-4e02-c750-db3d139a8604"
      },
      "execution_count": 17,
      "outputs": [
        {
          "output_type": "execute_result",
          "data": {
            "text/plain": [
              "<class 'statsmodels.iolib.summary.Summary'>\n",
              "\"\"\"\n",
              "                            OLS Regression Results                            \n",
              "==============================================================================\n",
              "Dep. Variable:                      y   R-squared:                       0.800\n",
              "Model:                            OLS   Adj. R-squared:                  0.799\n",
              "Method:                 Least Squares   F-statistic:                     1581.\n",
              "Date:                Fri, 29 Apr 2022   Prob (F-statistic):          2.47e-140\n",
              "Time:                        18:11:43   Log-Likelihood:                -2927.4\n",
              "No. Observations:                 398   AIC:                             5859.\n",
              "Df Residuals:                     396   BIC:                             5867.\n",
              "Df Model:                           1                                         \n",
              "Covariance Type:            nonrobust                                         \n",
              "==============================================================================\n",
              "                 coef    std err          t      P>|t|      [0.025      0.975]\n",
              "------------------------------------------------------------------------------\n",
              "Intercept   6.267e-12     77.093   8.13e-14      1.000    -151.563     151.563\n",
              "model(x)       1.0000      0.025     39.760      0.000       0.951       1.049\n",
              "==============================================================================\n",
              "Omnibus:                        5.066   Durbin-Watson:                   0.965\n",
              "Prob(Omnibus):                  0.079   Jarque-Bera (JB):                5.934\n",
              "Skew:                           0.128   Prob(JB):                       0.0515\n",
              "Kurtosis:                       3.540   Cond. No.                     1.24e+04\n",
              "==============================================================================\n",
              "\n",
              "Warnings:\n",
              "[1] Standard Errors assume that the covariance matrix of the errors is correctly specified.\n",
              "[2] The condition number is large, 1.24e+04. This might indicate that there are\n",
              "strong multicollinearity or other numerical problems.\n",
              "\"\"\""
            ],
            "text/html": [
              "<table class=\"simpletable\">\n",
              "<caption>OLS Regression Results</caption>\n",
              "<tr>\n",
              "  <th>Dep. Variable:</th>            <td>y</td>        <th>  R-squared:         </th> <td>   0.800</td> \n",
              "</tr>\n",
              "<tr>\n",
              "  <th>Model:</th>                   <td>OLS</td>       <th>  Adj. R-squared:    </th> <td>   0.799</td> \n",
              "</tr>\n",
              "<tr>\n",
              "  <th>Method:</th>             <td>Least Squares</td>  <th>  F-statistic:       </th> <td>   1581.</td> \n",
              "</tr>\n",
              "<tr>\n",
              "  <th>Date:</th>             <td>Fri, 29 Apr 2022</td> <th>  Prob (F-statistic):</th> <td>2.47e-140</td>\n",
              "</tr>\n",
              "<tr>\n",
              "  <th>Time:</th>                 <td>18:11:43</td>     <th>  Log-Likelihood:    </th> <td> -2927.4</td> \n",
              "</tr>\n",
              "<tr>\n",
              "  <th>No. Observations:</th>      <td>   398</td>      <th>  AIC:               </th> <td>   5859.</td> \n",
              "</tr>\n",
              "<tr>\n",
              "  <th>Df Residuals:</th>          <td>   396</td>      <th>  BIC:               </th> <td>   5867.</td> \n",
              "</tr>\n",
              "<tr>\n",
              "  <th>Df Model:</th>              <td>     1</td>      <th>                     </th>     <td> </td>    \n",
              "</tr>\n",
              "<tr>\n",
              "  <th>Covariance Type:</th>      <td>nonrobust</td>    <th>                     </th>     <td> </td>    \n",
              "</tr>\n",
              "</table>\n",
              "<table class=\"simpletable\">\n",
              "<tr>\n",
              "      <td></td>         <th>coef</th>     <th>std err</th>      <th>t</th>      <th>P>|t|</th>  <th>[0.025</th>    <th>0.975]</th>  \n",
              "</tr>\n",
              "<tr>\n",
              "  <th>Intercept</th> <td> 6.267e-12</td> <td>   77.093</td> <td> 8.13e-14</td> <td> 1.000</td> <td> -151.563</td> <td>  151.563</td>\n",
              "</tr>\n",
              "<tr>\n",
              "  <th>model(x)</th>  <td>    1.0000</td> <td>    0.025</td> <td>   39.760</td> <td> 0.000</td> <td>    0.951</td> <td>    1.049</td>\n",
              "</tr>\n",
              "</table>\n",
              "<table class=\"simpletable\">\n",
              "<tr>\n",
              "  <th>Omnibus:</th>       <td> 5.066</td> <th>  Durbin-Watson:     </th> <td>   0.965</td>\n",
              "</tr>\n",
              "<tr>\n",
              "  <th>Prob(Omnibus):</th> <td> 0.079</td> <th>  Jarque-Bera (JB):  </th> <td>   5.934</td>\n",
              "</tr>\n",
              "<tr>\n",
              "  <th>Skew:</th>          <td> 0.128</td> <th>  Prob(JB):          </th> <td>  0.0515</td>\n",
              "</tr>\n",
              "<tr>\n",
              "  <th>Kurtosis:</th>      <td> 3.540</td> <th>  Cond. No.          </th> <td>1.24e+04</td>\n",
              "</tr>\n",
              "</table><br/><br/>Warnings:<br/>[1] Standard Errors assume that the covariance matrix of the errors is correctly specified.<br/>[2] The condition number is large, 1.24e+04. This might indicate that there are<br/>strong multicollinearity or other numerical problems."
            ]
          },
          "metadata": {},
          "execution_count": 17
        }
      ]
    },
    {
      "cell_type": "code",
      "source": [
        "print(results.aic)"
      ],
      "metadata": {
        "colab": {
          "base_uri": "https://localhost:8080/"
        },
        "id": "97TrdyYJhci_",
        "outputId": "13cddfd4-d29e-4291-e4bf-7c652302122c"
      },
      "execution_count": 18,
      "outputs": [
        {
          "output_type": "stream",
          "name": "stdout",
          "text": [
            "5858.801044946064\n"
          ]
        }
      ]
    },
    {
      "cell_type": "code",
      "source": [
        "MAX_DEGREE = 15\n",
        "\n",
        "AIC = []\n",
        "for dg in range(MAX_DEGREE):\n",
        "  weights = np.polyfit(x, y, dg)\n",
        "  model = np.poly1d(weights)\n",
        "  results = smf.ols(formula='y ~ model(x)', data=mpg).fit()\n",
        "  AIC.append(results.aic)\n",
        "  print('Model order {}, AIC = {}'.format(dg+1,results.aic))\n"
      ],
      "metadata": {
        "colab": {
          "base_uri": "https://localhost:8080/"
        },
        "id": "oWw4ZxZRhQCx",
        "outputId": "24300278-681d-4d3e-84ff-78ea247bdb9b"
      },
      "execution_count": 27,
      "outputs": [
        {
          "output_type": "stream",
          "name": "stdout",
          "text": [
            "Model order 1, AIC = 6496.7188544643295\n",
            "Model order 2, AIC = 6030.279390002793\n",
            "Model order 3, AIC = 5862.3075106088945\n",
            "Model order 4, AIC = 5858.801044946064\n",
            "Model order 5, AIC = 5854.042049599036\n",
            "Model order 6, AIC = 5848.5475658857895\n",
            "Model order 7, AIC = 5847.269703015238\n",
            "Model order 8, AIC = 5847.264090588203\n",
            "Model order 9, AIC = 5846.480851886774\n",
            "Model order 10, AIC = 5846.306958285515\n",
            "Model order 11, AIC = 5846.06986389552\n",
            "Model order 12, AIC = 5845.801349838069\n",
            "Model order 13, AIC = 5845.262017241633\n",
            "Model order 14, AIC = 5845.131211926962\n",
            "Model order 15, AIC = 5842.200218433838\n"
          ]
        }
      ]
    },
    {
      "cell_type": "code",
      "source": [
        "fig = plt.figure(figsize=(5,5))\n",
        "plt.plot(AIC,'bo-')\n",
        "plt.show()"
      ],
      "metadata": {
        "colab": {
          "base_uri": "https://localhost:8080/",
          "height": 320
        },
        "id": "IZtzJ1o2iNZ1",
        "outputId": "92854574-bd70-4e85-8113-2de98116721b"
      },
      "execution_count": 26,
      "outputs": [
        {
          "output_type": "display_data",
          "data": {
            "text/plain": [
              "<Figure size 360x360 with 1 Axes>"
            ],
            "image/png": "[encoded data removed]"
          },
          "metadata": {
            "needs_background": "light"
          }
        }
      ]
    },
    {
      "cell_type": "code",
      "source": [
        ""
      ],
      "metadata": {
        "id": "2ny4Wg3-iuXl"
      },
      "execution_count": null,
      "outputs": []
    }
  ]
}