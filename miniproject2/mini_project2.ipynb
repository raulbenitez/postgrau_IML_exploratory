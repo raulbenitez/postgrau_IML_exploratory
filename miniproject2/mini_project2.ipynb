{
  "nbformat": 4,
  "nbformat_minor": 0,
  "metadata": {
    "colab": {
      "name": "mini-project2.ipynb",
      "provenance": [],
      "authorship_tag": "ABX9TyMF8PFTNK/FijTh8g7madJU",
      "include_colab_link": true
    },
    "kernelspec": {
      "name": "python3",
      "display_name": "Python 3"
    }
  },
  "cells": [
    {
      "cell_type": "markdown",
      "metadata": {
        "id": "view-in-github",
        "colab_type": "text"
      },
      "source": [
        "<a href=\"https://colab.research.google.com/github/raulbenitez/postgrau_IML_exploratory/blob/master/miniproject2/mini_project2.ipynb\" target=\"_parent\"><img src=\"https://colab.research.google.com/assets/colab-badge.svg\" alt=\"Open In Colab\"/></a>"
      ]
    },
    {
      "cell_type": "markdown",
      "metadata": {
        "id": "7W6j6oNvfhCV",
        "colab_type": "text"
      },
      "source": [
        "#Mini-proyecto 2: \n",
        "\n",
        "Aplicar un análisis de reducción de dimensionalidad con PCA y una selección de atributos relevantes utilzando la técnica Recursive Feature Elimination (RFE):\n",
        "\n",
        "Se pueden utilizar las BBDD siguientes u otras que encontréis en Kaggle o UCI datasets:\n",
        "\n",
        "Hotels bookings: Datos sobre reservas en hoteles, con datos de duración de la reserva, cancelaciones, etc. https://www.kaggle.com/jessemostipak/hotel-booking-demand\n",
        "\n",
        "Iris flowers dataset: Medidas de pétalos y sépalos de flores para clasificarlas según diferentes tipos de especies botánicas https://www.kaggle.com/uciml/iris\n",
        "\n",
        "Wine properties and quality: Datos sobre características químicas de vinos y un indicador de calidad: https://www.kaggle.com/uciml/red-wine-quality-cortez-et-al-2009\n",
        "\n",
        "Netflix movies: Datos sobre películas de netflix con fecha 2019, incluye datos del casting y valoración de los usuarios https://www.kaggle.com/shivamb/netflix-shows\n",
        "\n",
        "US COVID-19 dataset: Datos sobre contaje de casos en condados de Estados Unidos: https://www.kaggle.com/fireballbyedimyrnmom/us-counties-covid-19-dataset\n",
        "\n",
        "US crash accidents: Datos sonbre accidentes de tráfico en Estados Unidos https://www.kaggle.com/sobhanmoosavi/us-accidents\n",
        "\n",
        "Suicide Rates: Datos sobre suicidios https://www.kaggle.com/kralmachine/data-visualization-of-suicide-rates\n",
        "\n",
        "Barcelona data: Estadísticas sobre población, economía, negocios, etc. https://www.kaggle.com/xvivancos/barcelona-data-sets"
      ]
    },
    {
      "cell_type": "code",
      "metadata": {
        "id": "z2zkyCo_fkrt",
        "colab_type": "code",
        "colab": {}
      },
      "source": [
        ""
      ],
      "execution_count": 0,
      "outputs": []
    }
  ]
}