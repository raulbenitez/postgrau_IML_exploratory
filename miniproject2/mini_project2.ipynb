{
  "nbformat": 4,
  "nbformat_minor": 0,
  "metadata": {
    "colab": {
      "name": "mini-project2.ipynb",
      "provenance": [],
      "authorship_tag": "ABX9TyOsjHf2AFR3m4yo5RRn3QYl",
      "include_colab_link": true
    },
    "kernelspec": {
      "name": "python3",
      "display_name": "Python 3"
    },
    "accelerator": "GPU"
  },
  "cells": [
    {
      "cell_type": "markdown",
      "metadata": {
        "id": "view-in-github",
        "colab_type": "text"
      },
      "source": [
        "<a href=\"https://colab.research.google.com/github/raulbenitez/postgrau_IML_exploratory/blob/master/miniproject2/mini_project2.ipynb\" target=\"_parent\"><img src=\"https://colab.research.google.com/assets/colab-badge.svg\" alt=\"Open In Colab\"/></a>"
      ]
    },
    {
      "cell_type": "markdown",
      "metadata": {
        "id": "7W6j6oNvfhCV",
        "colab_type": "text"
      },
      "source": [
        "#Mini-proyecto 2: \n",
        "\n",
        "Aplicar un análisis de reducción de dimensionalidad con PCA y una selección de atributos relevantes utilzando la técnica Recursive Feature Elimination (RFE):\n",
        "\n",
        "Se pueden utilizar las BBDD siguientes u otras que encontréis en Kaggle o UCI datasets:\n",
        "\n",
        "Hotels bookings: Datos sobre reservas en hoteles, con datos de duración de la reserva, cancelaciones, etc. https://www.kaggle.com/jessemostipak/hotel-booking-demand\n",
        "\n",
        "Iris flowers dataset: Medidas de pétalos y sépalos de flores para clasificarlas según diferentes tipos de especies botánicas https://www.kaggle.com/uciml/iris\n",
        "\n",
        "Wine properties and quality: Datos sobre características químicas de vinos y un indicador de calidad: https://www.kaggle.com/uciml/red-wine-quality-cortez-et-al-2009\n",
        "\n",
        "Netflix movies: Datos sobre películas de netflix con fecha 2019, incluye datos del casting y valoración de los usuarios https://www.kaggle.com/shivamb/netflix-shows\n",
        "\n",
        "US COVID-19 dataset: Datos sobre contaje de casos en condados de Estados Unidos: https://www.kaggle.com/fireballbyedimyrnmom/us-counties-covid-19-dataset\n",
        "\n",
        "US crash accidents: Datos sonbre accidentes de tráfico en Estados Unidos https://www.kaggle.com/sobhanmoosavi/us-accidents\n",
        "\n",
        "Suicide Rates: Datos sobre suicidios https://www.kaggle.com/kralmachine/data-visualization-of-suicide-rates\n",
        "\n",
        "Barcelona data: Estadísticas sobre población, economía, negocios, etc. https://www.kaggle.com/xvivancos/barcelona-data-sets"
      ]
    },
    {
      "cell_type": "markdown",
      "metadata": {
        "id": "mWE2StYoiIbf",
        "colab_type": "text"
      },
      "source": [
        "Por ejemplo:\n",
        "\n",
        "Datos sobre evolución del coronavirus extraídos del repositorio https://github.com/datadista/datasets.git"
      ]
    },
    {
      "cell_type": "code",
      "metadata": {
        "id": "z2zkyCo_fkrt",
        "colab_type": "code",
        "colab": {
          "base_uri": "https://localhost:8080/",
          "height": 204
        },
        "outputId": "21c3bcf0-4187-4d15-8c06-92ee21e3e15d"
      },
      "source": [
        "!wget -O ccaa_covid19_fallecidos.csv 'https://raw.githubusercontent.com/datadista/datasets/master/COVID%2019/ccaa_covid19_fallecidos.csv'"
      ],
      "execution_count": 1,
      "outputs": [
        {
          "output_type": "stream",
          "text": [
            "--2020-04-20 17:01:57--  https://raw.githubusercontent.com/datadista/datasets/master/COVID%2019/ccaa_covid19_fallecidos.csv\n",
            "Resolving raw.githubusercontent.com (raw.githubusercontent.com)... 151.101.0.133, 151.101.64.133, 151.101.128.133, ...\n",
            "Connecting to raw.githubusercontent.com (raw.githubusercontent.com)|151.101.0.133|:443... connected.\n",
            "HTTP request sent, awaiting response... 200 OK\n",
            "Length: 3922 (3.8K) [text/plain]\n",
            "Saving to: ‘ccaa_covid19_fallecidos.csv’\n",
            "\n",
            "\r          ccaa_covi   0%[                    ]       0  --.-KB/s               \rccaa_covid19_fallec 100%[===================>]   3.83K  --.-KB/s    in 0s      \n",
            "\n",
            "2020-04-20 17:01:57 (63.7 MB/s) - ‘ccaa_covid19_fallecidos.csv’ saved [3922/3922]\n",
            "\n"
          ],
          "name": "stdout"
        }
      ]
    },
    {
      "cell_type": "code",
      "metadata": {
        "id": "PXwQ-1tmideG",
        "colab_type": "code",
        "colab": {}
      },
      "source": [
        ""
      ],
      "execution_count": 0,
      "outputs": []
    }
  ]
}